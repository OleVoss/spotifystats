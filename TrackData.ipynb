{
 "cells": [
  {
   "cell_type": "code",
   "execution_count": 2,
   "id": "e8618ddb-0974-45f2-88c8-bc72d33d3fc8",
   "metadata": {},
   "outputs": [],
   "source": [
    "import os\n",
    "from dotenv import load_dotenv\n",
    "\n",
    "import spotipy\n",
    "from spotipy.oauth2 import SpotifyClientCredentials\n",
    "\n",
    "import pandas as pd\n",
    "import numpy as np\n",
    "import math\n",
    "from tqdm import tqdm"
   ]
  },
  {
   "cell_type": "code",
   "execution_count": 13,
   "id": "f28f9fd6-5da6-4081-8d6d-ffe187305b67",
   "metadata": {},
   "outputs": [
    {
     "name": "stdout",
     "output_type": "stream",
     "text": [
      "18439 artists\n"
     ]
    }
   ],
   "source": [
    "artist = pd.read_csv(\"./processed/selina/artists.csv\").drop([\"genres\"], axis=1)[\"artist_uri\"].to_frame()\n",
    "print(len(artist), \"artists\")"
   ]
  },
  {
   "cell_type": "code",
   "execution_count": 14,
   "id": "88240abd-accb-4188-a9ca-d102654de6f0",
   "metadata": {},
   "outputs": [
    {
     "name": "stdout",
     "output_type": "stream",
     "text": [
      "32644 tracks\n"
     ]
    }
   ],
   "source": [
    "tracks = pd.read_csv(\"./processed/selina/tracks_features.csv\")[\"spotify_track_uri\"].to_frame()\n",
    "print(len(tracks), \"tracks\")"
   ]
  },
  {
   "cell_type": "code",
   "execution_count": 15,
   "id": "38babf89-3193-4459-a444-c722233d9c2a",
   "metadata": {},
   "outputs": [
    {
     "name": "stdout",
     "output_type": "stream",
     "text": [
      "53086 artist_track entries\n"
     ]
    }
   ],
   "source": [
    "artist_track = pd.read_csv(\"./processed/selina/artist_track.csv\")\n",
    "print(len(artist_track), \"artist_track entries\")"
   ]
  },
  {
   "cell_type": "code",
   "execution_count": 85,
   "id": "f75b2325-5619-4027-b56d-906c712fbb9b",
   "metadata": {},
   "outputs": [
    {
     "data": {
      "text/plain": [
       "4406"
      ]
     },
     "execution_count": 85,
     "metadata": {},
     "output_type": "execute_result"
    }
   ],
   "source": [
    "missing_tracks = pd.DataFrame(artist_track[~artist_track[\"track_uri\"].isin(all_uris)][\"track_uri\"].unique(), columns=[\"track_uri\"])\n",
    "len(missing_tracks)"
   ]
  },
  {
   "cell_type": "markdown",
   "id": "4bf0e1c5-3461-4532-9dde-01ef18f04eac",
   "metadata": {
    "editable": true,
    "slideshow": {
     "slide_type": ""
    },
    "tags": []
   },
   "source": [
    "Looks like 4406 track_uris, that are present in the artist_track dataframe, do not exist in the track dataframe.\n",
    "This is most likely caused by assigning a random uri from all uris, that point to the same track."
   ]
  },
  {
   "cell_type": "code",
   "execution_count": 74,
   "id": "309c9d4f-c45c-4f5f-bc65-426609fafd22",
   "metadata": {
    "editable": true,
    "slideshow": {
     "slide_type": ""
    },
    "tags": []
   },
   "outputs": [
    {
     "data": {
      "text/html": [
       "<div>\n",
       "<style scoped>\n",
       "    .dataframe tbody tr th:only-of-type {\n",
       "        vertical-align: middle;\n",
       "    }\n",
       "\n",
       "    .dataframe tbody tr th {\n",
       "        vertical-align: top;\n",
       "    }\n",
       "\n",
       "    .dataframe thead th {\n",
       "        text-align: right;\n",
       "    }\n",
       "</style>\n",
       "<table border=\"1\" class=\"dataframe\">\n",
       "  <thead>\n",
       "    <tr style=\"text-align: right;\">\n",
       "      <th></th>\n",
       "      <th>master_metadata_track_name</th>\n",
       "      <th>master_metadata_album_album_name</th>\n",
       "      <th>spotify_track_uri</th>\n",
       "      <th>master_metadata_album_artist_name</th>\n",
       "    </tr>\n",
       "  </thead>\n",
       "  <tbody>\n",
       "    <tr>\n",
       "      <th>0</th>\n",
       "      <td>Womanizer</td>\n",
       "      <td>Circus (Deluxe Version)</td>\n",
       "      <td>['spotify:track:4fixebDZAVToLbUCuEloa2']</td>\n",
       "      <td>Britney Spears</td>\n",
       "    </tr>\n",
       "    <tr>\n",
       "      <th>1</th>\n",
       "      <td>Boom Boom Pow</td>\n",
       "      <td>THE E.N.D. (THE ENERGY NEVER DIES)</td>\n",
       "      <td>['spotify:track:3oDFtOhcN08qeDPAK6MEQG', 'spot...</td>\n",
       "      <td>Black Eyed Peas</td>\n",
       "    </tr>\n",
       "    <tr>\n",
       "      <th>2</th>\n",
       "      <td>Shut Up And Drive</td>\n",
       "      <td>Good Girl Gone Bad: Reloaded</td>\n",
       "      <td>['spotify:track:4Tn2llBm1g0UlWctmgPL8Z']</td>\n",
       "      <td>Rihanna</td>\n",
       "    </tr>\n",
       "  </tbody>\n",
       "</table>\n",
       "</div>"
      ],
      "text/plain": [
       "  master_metadata_track_name    master_metadata_album_album_name  \\\n",
       "0                  Womanizer             Circus (Deluxe Version)   \n",
       "1              Boom Boom Pow  THE E.N.D. (THE ENERGY NEVER DIES)   \n",
       "2          Shut Up And Drive        Good Girl Gone Bad: Reloaded   \n",
       "\n",
       "                                   spotify_track_uri  \\\n",
       "0           ['spotify:track:4fixebDZAVToLbUCuEloa2']   \n",
       "1  ['spotify:track:3oDFtOhcN08qeDPAK6MEQG', 'spot...   \n",
       "2           ['spotify:track:4Tn2llBm1g0UlWctmgPL8Z']   \n",
       "\n",
       "  master_metadata_album_artist_name  \n",
       "0                    Britney Spears  \n",
       "1                   Black Eyed Peas  \n",
       "2                           Rihanna  "
      ]
     },
     "execution_count": 74,
     "metadata": {},
     "output_type": "execute_result"
    }
   ],
   "source": [
    "tracks_all_uris = pd.read_csv(\"./processed/selina/tracks_all_uris.csv\")\n",
    "tracks_all_uris.head(3)"
   ]
  },
  {
   "cell_type": "code",
   "execution_count": 75,
   "id": "98682c46-349a-409d-b3e6-a27ac2c86589",
   "metadata": {
    "editable": true,
    "slideshow": {
     "slide_type": ""
    },
    "tags": []
   },
   "outputs": [],
   "source": [
    "tracks_all_uris[\"spotify_track_uri\"] = tracks_all_uris[\"spotify_track_uri\"].replace(\"\\[|\\]|\\'\", \"\", regex=True).str.split(\",\")"
   ]
  },
  {
   "cell_type": "code",
   "execution_count": 81,
   "id": "3fe4f553-15d7-4632-9ae4-71e1523e5ad4",
   "metadata": {},
   "outputs": [],
   "source": [
    "all_uris = sum(tracks_all_uris[\"spotify_track_uri\"].tolist(), [])"
   ]
  },
  {
   "cell_type": "code",
   "execution_count": null,
   "id": "127ef824-9245-47ee-a7f8-2131237c2f24",
   "metadata": {},
   "outputs": [],
   "source": [
    "all_uris"
   ]
  },
  {
   "cell_type": "code",
   "execution_count": null,
   "id": "7d2c05ec-c006-48a7-a454-2c9dc8f5e261",
   "metadata": {},
   "outputs": [],
   "source": []
  }
 ],
 "metadata": {
  "kernelspec": {
   "display_name": "Python 3 (ipykernel)",
   "language": "python",
   "name": "python3"
  },
  "language_info": {
   "codemirror_mode": {
    "name": "ipython",
    "version": 3
   },
   "file_extension": ".py",
   "mimetype": "text/x-python",
   "name": "python",
   "nbconvert_exporter": "python",
   "pygments_lexer": "ipython3",
   "version": "3.10.11"
  }
 },
 "nbformat": 4,
 "nbformat_minor": 5
}
