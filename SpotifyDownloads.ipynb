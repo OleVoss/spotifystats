{
 "cells": [
  {
   "cell_type": "code",
   "execution_count": 1,
   "id": "1998b8e3-75cd-4af3-bd0a-5cc8b3b482b4",
   "metadata": {
    "editable": true,
    "slideshow": {
     "slide_type": ""
    },
    "tags": []
   },
   "outputs": [],
   "source": [
    "import pandas as pd\n",
    "import os\n",
    "from pathlib import Path\n",
    "from dotenv import load_dotenv\n",
    "import spotipy\n",
    "from tqdm import tqdm\n",
    "import numpy as np\n",
    "from spotipy.oauth2 import SpotifyClientCredentials\n",
    "import time\n",
    "\n",
    "tqdm.pandas()"
   ]
  },
  {
   "cell_type": "code",
   "execution_count": 92,
   "id": "2939ae9d-2e9b-4c0d-afb1-7a0f3e9af6c0",
   "metadata": {
    "editable": true,
    "slideshow": {
     "slide_type": ""
    },
    "tags": []
   },
   "outputs": [],
   "source": [
    "request_timer = 0.15\n",
    "person = \"rob\"\n",
    "data_source = \"./data/\" + person"
   ]
  },
  {
   "cell_type": "code",
   "execution_count": 93,
   "id": "b569ca3f-6b99-4735-bafe-ab11cbc9768b",
   "metadata": {
    "editable": true,
    "slideshow": {
     "slide_type": ""
    },
    "tags": []
   },
   "outputs": [],
   "source": [
    "load_dotenv()\n",
    "ID = os.getenv(\"ID_B\")\n",
    "SECRET = os.getenv(\"SECRET_B\")\n",
    "\n",
    "sp = spotipy.Spotify(auth_manager=SpotifyClientCredentials(client_id=ID, client_secret=SECRET))"
   ]
  },
  {
   "cell_type": "markdown",
   "id": "21c86299-86f1-46b4-80da-67aba1e70f79",
   "metadata": {},
   "source": [
    "### 1. History cleaning\n",
    "- load all .json files containing the extended history\n",
    "- drop unwanted columns\n",
    "- rename columns"
   ]
  },
  {
   "cell_type": "code",
   "execution_count": 94,
   "id": "df126a66-be2d-48c5-ac81-77d33e1808d1",
   "metadata": {},
   "outputs": [
    {
     "name": "stdout",
     "output_type": "stream",
     "text": [
      "<class 'pandas.core.frame.DataFrame'>\n",
      "RangeIndex: 125013 entries, 0 to 125012\n",
      "Data columns (total 13 columns):\n",
      " #   Column             Non-Null Count   Dtype  \n",
      "---  ------             --------------   -----  \n",
      " 0   ts                 125013 non-null  object \n",
      " 1   username           125013 non-null  object \n",
      " 2   platform           125013 non-null  object \n",
      " 3   ms_played          125013 non-null  int64  \n",
      " 4   conn_country       125013 non-null  object \n",
      " 5   track_name         125013 non-null  object \n",
      " 6   album_name         125013 non-null  object \n",
      " 7   track_uri          125013 non-null  object \n",
      " 8   reason_start       125013 non-null  object \n",
      " 9   reason_end         118138 non-null  object \n",
      " 10  shuffle            125013 non-null  bool   \n",
      " 11  skipped            17002 non-null   object \n",
      " 12  offline_timestamp  125013 non-null  float64\n",
      "dtypes: bool(1), float64(1), int64(1), object(10)\n",
      "memory usage: 11.6+ MB\n"
     ]
    }
   ],
   "source": [
    "paths = Path(data_source).glob(\"Streaming*.json\")\n",
    "df = pd.concat(map(pd.read_json, paths))\n",
    "df = df.drop([\"ip_addr_decrypted\", \"user_agent_decrypted\", \"episode_name\", \"episode_show_name\", \"spotify_episode_uri\", \"offline\", \"incognito_mode\", \"master_metadata_album_artist_name\"], axis=1)\n",
    "df = df.rename({\"master_metadata_track_name\":\"track_name\", \"master_metadata_album_album_name\": \"album_name\", \"spotify_track_uri\":\"track_uri\"}, axis=1)\n",
    "df = df.dropna(subset=\"track_uri\").reset_index(drop=True)\n",
    "df.info()"
   ]
  },
  {
   "cell_type": "markdown",
   "id": "113104d7-0eb2-40b6-8020-cdbce3bd4145",
   "metadata": {},
   "source": [
    "### 2. Unique track uris\n",
    "> **Some uris point to the same track!** \\\n",
    "> E.g. track with two artists, both realease it under different titles, still same track. **But** the isrc code is still the same. This can be used to combine the data.\n",
    "- extract unique track uris\n",
    "- download data for every uri\n",
    "    - build tracks dataframe\n",
    "    - build artists dataframe\n",
    "    - build build tracks - artists dataframe; join on isrc\n",
    "\n",
    "`TRACK <-isrc-> TRACK_ARTIST <-artist_uri-> ARTIST`"
   ]
  },
  {
   "cell_type": "code",
   "execution_count": 95,
   "id": "295ed455-7f3c-409d-92de-0504febe6cd7",
   "metadata": {},
   "outputs": [
    {
     "data": {
      "text/plain": [
       "12893"
      ]
     },
     "execution_count": 95,
     "metadata": {},
     "output_type": "execute_result"
    }
   ],
   "source": [
    "unique_uris = df[\"track_uri\"].unique()\n",
    "len(unique_uris)"
   ]
  },
  {
   "cell_type": "code",
   "execution_count": 96,
   "id": "7f74cf6f-e25c-47e9-a29c-7362308d5a25",
   "metadata": {},
   "outputs": [
    {
     "name": "stderr",
     "output_type": "stream",
     "text": [
      "100%|█████████████████████████████████████████| 286/286 [01:31<00:00,  3.12it/s]\n"
     ]
    }
   ],
   "source": [
    "process = True\n",
    "if process:\n",
    "    artist_data = []\n",
    "    artist_track_data = []\n",
    "    tracks_data = []\n",
    "    for chunk in tqdm(np.array_split(unique_uris, len(unique_uris)/45)):\n",
    "        try:\n",
    "            result = sp.tracks(chunk, market=\"DE\")[\"tracks\"]\n",
    "            time.sleep(request_timer)\n",
    "            result_nonull = []\n",
    "            for i, track in enumerate(result):\n",
    "                if track != None:\n",
    "                    track[\"orig_uri\"] = chunk[i]\n",
    "                    tracks_data.append(track)\n",
    "                    for artist in track[\"artists\"]:\n",
    "                        artist_data.append([artist[\"name\"], artist[\"uri\"]])\n",
    "                        artist_track_data.append([artist[\"uri\"], track[\"external_ids\"].get(\"isrc\", None)])\n",
    "                    \n",
    "        except Exception as e:\n",
    "            print(e)\n",
    "            break\n",
    "\n",
    "    artists_tracks = pd.DataFrame(artist_track_data, columns=[\"artist_uri\", \"isrc\"]).dropna()\n",
    "    artists_tracks.to_csv(\"./spotify_downloads/\" + person + \"/artist_track.csv\", index=False)"
   ]
  },
  {
   "cell_type": "code",
   "execution_count": 97,
   "id": "d7ac3a28-012a-42f0-9ed8-2011f2387062",
   "metadata": {},
   "outputs": [
    {
     "name": "stdout",
     "output_type": "stream",
     "text": [
      "6740 unique artists\n"
     ]
    },
    {
     "data": {
      "text/html": [
       "<div>\n",
       "<style scoped>\n",
       "    .dataframe tbody tr th:only-of-type {\n",
       "        vertical-align: middle;\n",
       "    }\n",
       "\n",
       "    .dataframe tbody tr th {\n",
       "        vertical-align: top;\n",
       "    }\n",
       "\n",
       "    .dataframe thead th {\n",
       "        text-align: right;\n",
       "    }\n",
       "</style>\n",
       "<table border=\"1\" class=\"dataframe\">\n",
       "  <thead>\n",
       "    <tr style=\"text-align: right;\">\n",
       "      <th></th>\n",
       "      <th>id</th>\n",
       "      <th>name</th>\n",
       "      <th>uri</th>\n",
       "    </tr>\n",
       "  </thead>\n",
       "  <tbody>\n",
       "    <tr>\n",
       "      <th>0</th>\n",
       "      <td>7dGJo4pcD2V6oG8kP0tJRR</td>\n",
       "      <td>Eminem</td>\n",
       "      <td>spotify:artist:7dGJo4pcD2V6oG8kP0tJRR</td>\n",
       "    </tr>\n",
       "    <tr>\n",
       "      <th>1</th>\n",
       "      <td>5pKCCKE2ajJHZ9KAiaK11H</td>\n",
       "      <td>Rihanna</td>\n",
       "      <td>spotify:artist:5pKCCKE2ajJHZ9KAiaK11H</td>\n",
       "    </tr>\n",
       "    <tr>\n",
       "      <th>2</th>\n",
       "      <td>3hImYGOkGn8Rsh9Vygcds2</td>\n",
       "      <td>Maps</td>\n",
       "      <td>spotify:artist:3hImYGOkGn8Rsh9Vygcds2</td>\n",
       "    </tr>\n",
       "  </tbody>\n",
       "</table>\n",
       "</div>"
      ],
      "text/plain": [
       "                       id     name                                    uri\n",
       "0  7dGJo4pcD2V6oG8kP0tJRR   Eminem  spotify:artist:7dGJo4pcD2V6oG8kP0tJRR\n",
       "1  5pKCCKE2ajJHZ9KAiaK11H  Rihanna  spotify:artist:5pKCCKE2ajJHZ9KAiaK11H\n",
       "2  3hImYGOkGn8Rsh9Vygcds2     Maps  spotify:artist:3hImYGOkGn8Rsh9Vygcds2"
      ]
     },
     "execution_count": 97,
     "metadata": {},
     "output_type": "execute_result"
    }
   ],
   "source": [
    "df_artists = pd.DataFrame(sum(pd.DataFrame(tracks_data)[\"artists\"], [])).drop([\"external_urls\", \"href\", \"type\"], axis=1).drop_duplicates().reset_index(drop=True)\n",
    "df_artists.to_csv(\"./spotify_downloads/\" + person + \"/artists.csv\", index=False)\n",
    "print(len(df_artists), \"unique artists\")\n",
    "df_artists.head(3)"
   ]
  },
  {
   "cell_type": "code",
   "execution_count": 98,
   "id": "09dae821-66ad-434d-8058-78e04d0c50f5",
   "metadata": {},
   "outputs": [
    {
     "data": {
      "text/html": [
       "<div>\n",
       "<style scoped>\n",
       "    .dataframe tbody tr th:only-of-type {\n",
       "        vertical-align: middle;\n",
       "    }\n",
       "\n",
       "    .dataframe tbody tr th {\n",
       "        vertical-align: top;\n",
       "    }\n",
       "\n",
       "    .dataframe thead th {\n",
       "        text-align: right;\n",
       "    }\n",
       "</style>\n",
       "<table border=\"1\" class=\"dataframe\">\n",
       "  <thead>\n",
       "    <tr style=\"text-align: right;\">\n",
       "      <th></th>\n",
       "      <th>duration_ms</th>\n",
       "      <th>explicit</th>\n",
       "      <th>name</th>\n",
       "      <th>popularity</th>\n",
       "      <th>uri</th>\n",
       "      <th>orig_uri</th>\n",
       "      <th>isrc</th>\n",
       "    </tr>\n",
       "  </thead>\n",
       "  <tbody>\n",
       "    <tr>\n",
       "      <th>0</th>\n",
       "      <td>250760</td>\n",
       "      <td>True</td>\n",
       "      <td>Mockingbird</td>\n",
       "      <td>86</td>\n",
       "      <td>spotify:track:561jH07mF1jHuk7KlaeF0s</td>\n",
       "      <td>spotify:track:17baAghWcrewNOcc9dCewx</td>\n",
       "      <td>USIR10400813</td>\n",
       "    </tr>\n",
       "    <tr>\n",
       "      <th>1</th>\n",
       "      <td>250188</td>\n",
       "      <td>True</td>\n",
       "      <td>The Monster</td>\n",
       "      <td>78</td>\n",
       "      <td>spotify:track:48RrDBpOSSl1aLVCalGl5C</td>\n",
       "      <td>spotify:track:5U8hKxSaDXB8cVeLFQjvwx</td>\n",
       "      <td>USUM71314082</td>\n",
       "    </tr>\n",
       "    <tr>\n",
       "      <th>2</th>\n",
       "      <td>272417</td>\n",
       "      <td>True</td>\n",
       "      <td>Survival</td>\n",
       "      <td>60</td>\n",
       "      <td>spotify:track:3stOygN0I7CIvkEB2LJGbv</td>\n",
       "      <td>spotify:track:29Key5Lj0YlIMH8JzRDy6U</td>\n",
       "      <td>USUM71312879</td>\n",
       "    </tr>\n",
       "  </tbody>\n",
       "</table>\n",
       "</div>"
      ],
      "text/plain": [
       "   duration_ms  explicit         name  popularity  \\\n",
       "0       250760      True  Mockingbird          86   \n",
       "1       250188      True  The Monster          78   \n",
       "2       272417      True     Survival          60   \n",
       "\n",
       "                                    uri                              orig_uri  \\\n",
       "0  spotify:track:561jH07mF1jHuk7KlaeF0s  spotify:track:17baAghWcrewNOcc9dCewx   \n",
       "1  spotify:track:48RrDBpOSSl1aLVCalGl5C  spotify:track:5U8hKxSaDXB8cVeLFQjvwx   \n",
       "2  spotify:track:3stOygN0I7CIvkEB2LJGbv  spotify:track:29Key5Lj0YlIMH8JzRDy6U   \n",
       "\n",
       "           isrc  \n",
       "0  USIR10400813  \n",
       "1  USUM71314082  \n",
       "2  USUM71312879  "
      ]
     },
     "execution_count": 98,
     "metadata": {},
     "output_type": "execute_result"
    }
   ],
   "source": [
    "df_tracks = pd.DataFrame(tracks_data).drop([\"album\", \"artists\", \"disc_number\", \"is_playable\", \"is_local\", \"preview_url\", \"href\", \"id\", \"track_number\", \"type\", \"linked_from\", \"restrictions\"], axis=1)\n",
    "df_tracks = df_tracks.join(pd.DataFrame(df_tracks[\"external_ids\"].values.tolist())).drop([\"external_ids\", \"external_urls\"], axis=1).dropna().reset_index(drop=True)\n",
    "df_tracks.to_csv(\"./spotify_downloads/\" + person + \"/tracks_unified_isrc.csv\", index=False)\n",
    "df_tracks.head(3)"
   ]
  },
  {
   "cell_type": "code",
   "execution_count": 99,
   "id": "3a99885d-3424-4fbe-8ac6-8cd1b31cdf97",
   "metadata": {},
   "outputs": [
    {
     "name": "stderr",
     "output_type": "stream",
     "text": [
      "100%|█████████████████████████████████████| 12891/12891 [02:30<00:00, 85.75it/s]\n"
     ]
    },
    {
     "data": {
      "text/plain": [
       "560"
      ]
     },
     "execution_count": 99,
     "metadata": {},
     "output_type": "execute_result"
    }
   ],
   "source": [
    "df_tracks.loc[df_tracks.uri != df_tracks.orig_uri]\n",
    "\n",
    "df_test = df_tracks.copy()\n",
    "df_test[\"orig_track_name\"] = df_test.orig_uri.progress_map(lambda r: df.loc[df.track_uri == r].head(1).track_name.values[0])\n",
    "df_test.loc[(df_test.name != df_test.orig_track_name) & (df_test.uri != df_test.orig_uri)].orig_track_name.isna().count()"
   ]
  },
  {
   "cell_type": "code",
   "execution_count": 100,
   "id": "2e0ae0bc-baca-4fea-a155-e83991d95680",
   "metadata": {},
   "outputs": [],
   "source": [
    "df_test.to_csv(\"./spotify_downloads/\" + person + \"/tracks\")"
   ]
  },
  {
   "cell_type": "code",
   "execution_count": 101,
   "id": "10911ba2-1586-4726-a6fd-9af3164421fe",
   "metadata": {},
   "outputs": [
    {
     "name": "stdout",
     "output_type": "stream",
     "text": [
      "Unique ISRCs: 11551\n",
      "Unique URIs : 11859\n"
     ]
    }
   ],
   "source": [
    "print(\"Unique ISRCs:\", len(df_tracks.isrc.unique()))\n",
    "print(\"Unique URIs :\", len(df_tracks.uri.unique()))"
   ]
  },
  {
   "cell_type": "markdown",
   "id": "fbf03a74-f886-4a79-9f1d-e7c1a28796cc",
   "metadata": {},
   "source": [
    "To correctly associate an individual play with the corresponding song, the history must be extended with the tracks isrc. \\\n",
    "**First check:** how many track_uris are missing in the tracks dataframe."
   ]
  },
  {
   "cell_type": "code",
   "execution_count": 102,
   "id": "c16832e9-c9ca-42fd-9cd8-1ca7129d30ed",
   "metadata": {},
   "outputs": [
    {
     "name": "stdout",
     "output_type": "stream",
     "text": [
      "Plays overall:     125013\n",
      "Plays with isrc:   87482\n",
      "Plays without isrc: 37531\n"
     ]
    }
   ],
   "source": [
    "print(\"Plays overall:    \", len(df))\n",
    "print(\"Plays with isrc:  \", len(df.loc[df.track_uri.isin(df_tracks.uri)]))\n",
    "print(\"Plays without isrc:\", len(df.loc[~df.track_uri.isin(df_tracks.uri)]))"
   ]
  },
  {
   "cell_type": "code",
   "execution_count": 103,
   "id": "561c220f-0086-45da-8c78-22f99ff9866a",
   "metadata": {},
   "outputs": [
    {
     "name": "stdout",
     "output_type": "stream",
     "text": [
      "Plays with chunks: 12893\n",
      "Plays without chunks: 12893\n"
     ]
    }
   ],
   "source": [
    "uris_fix = []\n",
    "for chunk in np.array_split(unique_uris, len(unique_uris)/45):\n",
    "    uris_fix = [*uris_fix, *chunk]\n",
    "\n",
    "print(\"Plays with chunks:\", len(uris_fix))\n",
    "print(\"Plays without chunks:\", len(df.track_uri.unique()))"
   ]
  },
  {
   "cell_type": "markdown",
   "id": "36e9c0b2-1ab8-4ddb-81c9-7b71c713e388",
   "metadata": {},
   "source": [
    "### 3. Add ISRC to history"
   ]
  },
  {
   "cell_type": "code",
   "execution_count": 104,
   "id": "8b8e7095-c39e-4756-9da1-cb0ad2ca96de",
   "metadata": {},
   "outputs": [
    {
     "name": "stdout",
     "output_type": "stream",
     "text": [
      "12891\n"
     ]
    },
    {
     "data": {
      "text/html": [
       "<div>\n",
       "<style scoped>\n",
       "    .dataframe tbody tr th:only-of-type {\n",
       "        vertical-align: middle;\n",
       "    }\n",
       "\n",
       "    .dataframe tbody tr th {\n",
       "        vertical-align: top;\n",
       "    }\n",
       "\n",
       "    .dataframe thead th {\n",
       "        text-align: right;\n",
       "    }\n",
       "</style>\n",
       "<table border=\"1\" class=\"dataframe\">\n",
       "  <thead>\n",
       "    <tr style=\"text-align: right;\">\n",
       "      <th></th>\n",
       "      <th>duration_ms</th>\n",
       "      <th>explicit</th>\n",
       "      <th>name</th>\n",
       "      <th>popularity</th>\n",
       "      <th>uri</th>\n",
       "      <th>orig_uri</th>\n",
       "      <th>isrc</th>\n",
       "    </tr>\n",
       "  </thead>\n",
       "  <tbody>\n",
       "    <tr>\n",
       "      <th>0</th>\n",
       "      <td>250760</td>\n",
       "      <td>True</td>\n",
       "      <td>Mockingbird</td>\n",
       "      <td>86</td>\n",
       "      <td>spotify:track:561jH07mF1jHuk7KlaeF0s</td>\n",
       "      <td>spotify:track:17baAghWcrewNOcc9dCewx</td>\n",
       "      <td>USIR10400813</td>\n",
       "    </tr>\n",
       "    <tr>\n",
       "      <th>1</th>\n",
       "      <td>250188</td>\n",
       "      <td>True</td>\n",
       "      <td>The Monster</td>\n",
       "      <td>78</td>\n",
       "      <td>spotify:track:48RrDBpOSSl1aLVCalGl5C</td>\n",
       "      <td>spotify:track:5U8hKxSaDXB8cVeLFQjvwx</td>\n",
       "      <td>USUM71314082</td>\n",
       "    </tr>\n",
       "    <tr>\n",
       "      <th>2</th>\n",
       "      <td>272417</td>\n",
       "      <td>True</td>\n",
       "      <td>Survival</td>\n",
       "      <td>60</td>\n",
       "      <td>spotify:track:3stOygN0I7CIvkEB2LJGbv</td>\n",
       "      <td>spotify:track:29Key5Lj0YlIMH8JzRDy6U</td>\n",
       "      <td>USUM71312879</td>\n",
       "    </tr>\n",
       "  </tbody>\n",
       "</table>\n",
       "</div>"
      ],
      "text/plain": [
       "   duration_ms  explicit         name  popularity  \\\n",
       "0       250760      True  Mockingbird          86   \n",
       "1       250188      True  The Monster          78   \n",
       "2       272417      True     Survival          60   \n",
       "\n",
       "                                    uri                              orig_uri  \\\n",
       "0  spotify:track:561jH07mF1jHuk7KlaeF0s  spotify:track:17baAghWcrewNOcc9dCewx   \n",
       "1  spotify:track:48RrDBpOSSl1aLVCalGl5C  spotify:track:5U8hKxSaDXB8cVeLFQjvwx   \n",
       "2  spotify:track:3stOygN0I7CIvkEB2LJGbv  spotify:track:29Key5Lj0YlIMH8JzRDy6U   \n",
       "\n",
       "           isrc  \n",
       "0  USIR10400813  \n",
       "1  USUM71314082  \n",
       "2  USUM71312879  "
      ]
     },
     "execution_count": 104,
     "metadata": {},
     "output_type": "execute_result"
    }
   ],
   "source": [
    "tracks_isrc = pd.read_csv(\"./spotify_downloads/\" + person + \"/tracks_unified_isrc.csv\")\n",
    "print(len(tracks_isrc))\n",
    "tracks_isrc.head(3)"
   ]
  },
  {
   "cell_type": "code",
   "execution_count": 105,
   "id": "d63bc67e-9261-482d-b94d-c6b625940e51",
   "metadata": {},
   "outputs": [
    {
     "name": "stdout",
     "output_type": "stream",
     "text": [
      "11859\n"
     ]
    },
    {
     "data": {
      "text/html": [
       "<div>\n",
       "<style scoped>\n",
       "    .dataframe tbody tr th:only-of-type {\n",
       "        vertical-align: middle;\n",
       "    }\n",
       "\n",
       "    .dataframe tbody tr th {\n",
       "        vertical-align: top;\n",
       "    }\n",
       "\n",
       "    .dataframe thead th {\n",
       "        text-align: right;\n",
       "    }\n",
       "</style>\n",
       "<table border=\"1\" class=\"dataframe\">\n",
       "  <thead>\n",
       "    <tr style=\"text-align: right;\">\n",
       "      <th></th>\n",
       "      <th>duration_ms</th>\n",
       "      <th>explicit</th>\n",
       "      <th>name</th>\n",
       "      <th>popularity</th>\n",
       "      <th>uri</th>\n",
       "      <th>orig_uri</th>\n",
       "      <th>isrc</th>\n",
       "    </tr>\n",
       "  </thead>\n",
       "  <tbody>\n",
       "    <tr>\n",
       "      <th>0</th>\n",
       "      <td>250760</td>\n",
       "      <td>True</td>\n",
       "      <td>Mockingbird</td>\n",
       "      <td>86</td>\n",
       "      <td>spotify:track:561jH07mF1jHuk7KlaeF0s</td>\n",
       "      <td>spotify:track:17baAghWcrewNOcc9dCewx</td>\n",
       "      <td>USIR10400813</td>\n",
       "    </tr>\n",
       "    <tr>\n",
       "      <th>1</th>\n",
       "      <td>250188</td>\n",
       "      <td>True</td>\n",
       "      <td>The Monster</td>\n",
       "      <td>78</td>\n",
       "      <td>spotify:track:48RrDBpOSSl1aLVCalGl5C</td>\n",
       "      <td>spotify:track:5U8hKxSaDXB8cVeLFQjvwx</td>\n",
       "      <td>USUM71314082</td>\n",
       "    </tr>\n",
       "    <tr>\n",
       "      <th>2</th>\n",
       "      <td>272417</td>\n",
       "      <td>True</td>\n",
       "      <td>Survival</td>\n",
       "      <td>60</td>\n",
       "      <td>spotify:track:3stOygN0I7CIvkEB2LJGbv</td>\n",
       "      <td>spotify:track:29Key5Lj0YlIMH8JzRDy6U</td>\n",
       "      <td>USUM71312879</td>\n",
       "    </tr>\n",
       "  </tbody>\n",
       "</table>\n",
       "</div>"
      ],
      "text/plain": [
       "   duration_ms  explicit         name  popularity  \\\n",
       "0       250760      True  Mockingbird          86   \n",
       "1       250188      True  The Monster          78   \n",
       "2       272417      True     Survival          60   \n",
       "\n",
       "                                    uri                              orig_uri  \\\n",
       "0  spotify:track:561jH07mF1jHuk7KlaeF0s  spotify:track:17baAghWcrewNOcc9dCewx   \n",
       "1  spotify:track:48RrDBpOSSl1aLVCalGl5C  spotify:track:5U8hKxSaDXB8cVeLFQjvwx   \n",
       "2  spotify:track:3stOygN0I7CIvkEB2LJGbv  spotify:track:29Key5Lj0YlIMH8JzRDy6U   \n",
       "\n",
       "           isrc  \n",
       "0  USIR10400813  \n",
       "1  USUM71314082  \n",
       "2  USUM71312879  "
      ]
     },
     "execution_count": 105,
     "metadata": {},
     "output_type": "execute_result"
    }
   ],
   "source": [
    "tracks_isrc_unique = tracks_isrc.drop_duplicates(\"uri\")\n",
    "print(len(tracks_isrc_unique))\n",
    "tracks_isrc_unique.to_csv(\"./spotify_downloads/\" + person + \"/tracks_isrc_unique.csv\", index=False)\n",
    "tracks_isrc_unique.head(3)"
   ]
  },
  {
   "cell_type": "code",
   "execution_count": 106,
   "id": "78074ccd-86f1-4743-917c-a131b90fe7eb",
   "metadata": {},
   "outputs": [
    {
     "name": "stderr",
     "output_type": "stream",
     "text": [
      "100%|██████████████████████████████████| 125013/125013 [03:59<00:00, 522.91it/s]\n"
     ]
    }
   ],
   "source": [
    "tqdm.pandas()\n",
    "def try_get(array):\n",
    "    try:\n",
    "        return array[0]\n",
    "    except:\n",
    "        return None\n",
    "#df[\"isrc\"] = df.track_uri.progress_apply(lambda r: df_tracks[(df_tracks.orig_uri == r) | (df_tracks.uri == r)].isrc.iloc[0])\n",
    "df[\"isrc\"] = df.track_uri.progress_apply(lambda r: try_get(df_tracks[(df_tracks.orig_uri == r) | (df_tracks.uri == r)].isrc.values))"
   ]
  },
  {
   "cell_type": "code",
   "execution_count": 91,
   "id": "b17ef99c-b510-44d6-a03a-8193911e05b3",
   "metadata": {},
   "outputs": [
    {
     "data": {
      "text/plain": [
       "0         QMUY41500182\n",
       "1         QMUY41500182\n",
       "2         GBARL1501358\n",
       "3         GB28K1500110\n",
       "4         USRC11600042\n",
       "              ...     \n",
       "112616    QM24S2400597\n",
       "112617    QM24S2403030\n",
       "112618    QZK6H2208200\n",
       "112619    QZK6H2208200\n",
       "112620    USUM72401994\n",
       "Name: isrc, Length: 112621, dtype: object"
      ]
     },
     "execution_count": 91,
     "metadata": {},
     "output_type": "execute_result"
    }
   ],
   "source": [
    "df.isrc"
   ]
  },
  {
   "cell_type": "code",
   "execution_count": null,
   "id": "751e2f9d-1a97-4d97-8060-e74d99df242a",
   "metadata": {},
   "outputs": [],
   "source": [
    "df[df.track_name == \"Can't Feel My Face\"].track_uri.unique()"
   ]
  },
  {
   "cell_type": "code",
   "execution_count": null,
   "id": "c5ce928c-9725-41bf-b17d-4730af706958",
   "metadata": {},
   "outputs": [],
   "source": [
    "df[df.track_name == \"Can't Feel My Face\"].apply(lambda r: tracks_isrc[(tracks_isrc.name == r.track_name) & (tracks_isrc.duration_ms == r.duration_ms)].isrc, axis=1)"
   ]
  },
  {
   "cell_type": "code",
   "execution_count": null,
   "id": "dc3aaac0-de79-40ff-b4ef-9b525e67eebe",
   "metadata": {},
   "outputs": [],
   "source": [
    "df[df.track_name == \"Can't Feel My Face\"].apply(lambda r: tracks_isrc[tracks_isrc.uri == r.uri].isrc, axis=1)"
   ]
  },
  {
   "cell_type": "code",
   "execution_count": 107,
   "id": "a3a4e7e3-1256-41c2-96bf-b93ac4ad52f6",
   "metadata": {},
   "outputs": [],
   "source": [
    "df.to_csv(\"./spotify_downloads/\" + person + \"/history_isrc.csv\", index=False)"
   ]
  },
  {
   "cell_type": "markdown",
   "id": "c0f8755f-6664-46e7-a992-2edf54764088",
   "metadata": {},
   "source": [
    "### 4. Track features"
   ]
  },
  {
   "cell_type": "code",
   "execution_count": 19,
   "id": "eb60a839-276f-44d6-9256-672c02c52699",
   "metadata": {},
   "outputs": [],
   "source": [
    "audio_features = pd.DataFrame(columns=[\n",
    "    \"uri\",\n",
    "    \"acousticness\",\n",
    "    \"danceability\",\n",
    "    \"duration_ms\",\n",
    "    \"energy\",\n",
    "    \"instrumentalness\",\n",
    "    \"key\",\n",
    "    \"liveness\",\n",
    "    \"loudness\",\n",
    "    \"mode\",\n",
    "    \"speechiness\",\n",
    "    \"tempo\",\n",
    "    \"time_signature\",\n",
    "    \"valence\",\n",
    "])"
   ]
  },
  {
   "cell_type": "code",
   "execution_count": 20,
   "id": "5bfaf767-5e17-41c2-bcf8-65a41ec35b72",
   "metadata": {},
   "outputs": [
    {
     "data": {
      "text/html": [
       "<div>\n",
       "<style scoped>\n",
       "    .dataframe tbody tr th:only-of-type {\n",
       "        vertical-align: middle;\n",
       "    }\n",
       "\n",
       "    .dataframe tbody tr th {\n",
       "        vertical-align: top;\n",
       "    }\n",
       "\n",
       "    .dataframe thead th {\n",
       "        text-align: right;\n",
       "    }\n",
       "</style>\n",
       "<table border=\"1\" class=\"dataframe\">\n",
       "  <thead>\n",
       "    <tr style=\"text-align: right;\">\n",
       "      <th></th>\n",
       "      <th>duration_ms</th>\n",
       "      <th>explicit</th>\n",
       "      <th>name</th>\n",
       "      <th>popularity</th>\n",
       "      <th>uri</th>\n",
       "      <th>orig_uri</th>\n",
       "      <th>isrc</th>\n",
       "    </tr>\n",
       "  </thead>\n",
       "  <tbody>\n",
       "    <tr>\n",
       "      <th>0</th>\n",
       "      <td>166138</td>\n",
       "      <td>False</td>\n",
       "      <td>Light It Up (feat. Nyla &amp; Fuse ODG) [Remix]</td>\n",
       "      <td>77</td>\n",
       "      <td>spotify:track:1pjvlYOMIg1NhGQbM6iwrY</td>\n",
       "      <td>spotify:track:6lDo13SSgTv0WbyUQKgnjk</td>\n",
       "      <td>QMUY41500182</td>\n",
       "    </tr>\n",
       "    <tr>\n",
       "      <th>1</th>\n",
       "      <td>180066</td>\n",
       "      <td>False</td>\n",
       "      <td>White Tiger - Single Version</td>\n",
       "      <td>54</td>\n",
       "      <td>spotify:track:64I0PKLFEKlcvc7fEVUGq0</td>\n",
       "      <td>spotify:track:64I0PKLFEKlcvc7fEVUGq0</td>\n",
       "      <td>GBARL1501358</td>\n",
       "    </tr>\n",
       "    <tr>\n",
       "      <th>2</th>\n",
       "      <td>193333</td>\n",
       "      <td>False</td>\n",
       "      <td>Bang My Head (feat. Sia &amp; Fetty Wap)</td>\n",
       "      <td>56</td>\n",
       "      <td>spotify:track:53Y0kdCa1CZ9gRqEuknfwy</td>\n",
       "      <td>spotify:track:53Y0kdCa1CZ9gRqEuknfwy</td>\n",
       "      <td>GB28K1500110</td>\n",
       "    </tr>\n",
       "  </tbody>\n",
       "</table>\n",
       "</div>"
      ],
      "text/plain": [
       "   duration_ms  explicit                                         name  \\\n",
       "0       166138     False  Light It Up (feat. Nyla & Fuse ODG) [Remix]   \n",
       "1       180066     False                 White Tiger - Single Version   \n",
       "2       193333     False         Bang My Head (feat. Sia & Fetty Wap)   \n",
       "\n",
       "   popularity                                   uri  \\\n",
       "0          77  spotify:track:1pjvlYOMIg1NhGQbM6iwrY   \n",
       "1          54  spotify:track:64I0PKLFEKlcvc7fEVUGq0   \n",
       "2          56  spotify:track:53Y0kdCa1CZ9gRqEuknfwy   \n",
       "\n",
       "                               orig_uri          isrc  \n",
       "0  spotify:track:6lDo13SSgTv0WbyUQKgnjk  QMUY41500182  \n",
       "1  spotify:track:64I0PKLFEKlcvc7fEVUGq0  GBARL1501358  \n",
       "2  spotify:track:53Y0kdCa1CZ9gRqEuknfwy  GB28K1500110  "
      ]
     },
     "execution_count": 20,
     "metadata": {},
     "output_type": "execute_result"
    }
   ],
   "source": [
    "tracks_isrc_unique = pd.read_csv(\"./spotify_downloads/\" + person + \"/tracks_isrc_unique.csv\")\n",
    "tracks_isrc_unique.head(3)"
   ]
  },
  {
   "cell_type": "code",
   "execution_count": 22,
   "id": "c0076473-93e8-40b5-873d-e225e32154bd",
   "metadata": {},
   "outputs": [
    {
     "name": "stderr",
     "output_type": "stream",
     "text": [
      "100%|████████████████████████████████████████████████████████████████████████████████| 148/148 [00:47<00:00,  3.09it/s]\n"
     ]
    }
   ],
   "source": [
    "process = True\n",
    "if process:\n",
    "    for chunk in tqdm(np.array_split(tracks_isrc_unique, len(tracks_isrc_unique)/90)):\n",
    "        try:\n",
    "            time.sleep(request_timer)\n",
    "            uris = chunk[\"uri\"].to_numpy()\n",
    "            result = sp.audio_features(uris)\n",
    "            result_nonull = []\n",
    "            for obj in result:\n",
    "                if obj != None:\n",
    "                    result_nonull.append(obj)\n",
    "            chunk_df = pd.DataFrame(result_nonull)\n",
    "            audio_features = pd.concat([audio_features, chunk_df], join=\"inner\")\n",
    "        except Exception as e:\n",
    "            print(e)\n",
    "            break\n",
    "    audio_features.to_csv(\"./spotify_downloads/\" + person + \"/audio_features.csv\", index=False)"
   ]
  },
  {
   "cell_type": "code",
   "execution_count": 23,
   "id": "cae3ec31-02d6-4934-aeb1-4ac7dee4e593",
   "metadata": {},
   "outputs": [],
   "source": [
    "audio_features_dropped = audio_features.drop_duplicates(subset=\"uri\")\n",
    "audio_features_dropped.to_csv(\"./spotify_downloads/\" + person + \"/audio_features.csv\", index=False)"
   ]
  },
  {
   "cell_type": "code",
   "execution_count": 24,
   "id": "235a98e4-6b7e-45ea-9da7-f35bb85c0718",
   "metadata": {},
   "outputs": [
    {
     "name": "stdout",
     "output_type": "stream",
     "text": [
      "8 tracks missing\n"
     ]
    }
   ],
   "source": [
    "missed = len(tracks_isrc_unique) - len(audio_features_dropped)\n",
    "print(missed, \"tracks missing\")"
   ]
  },
  {
   "cell_type": "code",
   "execution_count": 25,
   "id": "5a9e4e60-1324-4391-9a5d-79669becaf2b",
   "metadata": {},
   "outputs": [],
   "source": [
    "tracks_isrc_unique = pd.read_csv(\"./spotify_downloads/\" + person + \"/tracks_isrc_unique.csv\")"
   ]
  },
  {
   "cell_type": "code",
   "execution_count": 26,
   "id": "157ee457-26ed-41bc-b571-7dacb40b5c10",
   "metadata": {},
   "outputs": [],
   "source": [
    "tracks_with_features = tracks_isrc_unique.merge(audio_features_dropped, how=\"outer\", on=\"uri\")\n",
    "tracks_with_features.to_csv(\"./spotify_downloads/\" + person + \"/tracks_with_features.csv\")"
   ]
  },
  {
   "cell_type": "markdown",
   "id": "c006f4ad-0cd9-43d4-aaa9-e6370b5b6a07",
   "metadata": {},
   "source": [
    "### 5. Genres"
   ]
  },
  {
   "cell_type": "code",
   "execution_count": 108,
   "id": "fbd89ed1-f3b8-4c97-9151-b159d57ec0b0",
   "metadata": {},
   "outputs": [
    {
     "data": {
      "text/html": [
       "<div>\n",
       "<style scoped>\n",
       "    .dataframe tbody tr th:only-of-type {\n",
       "        vertical-align: middle;\n",
       "    }\n",
       "\n",
       "    .dataframe tbody tr th {\n",
       "        vertical-align: top;\n",
       "    }\n",
       "\n",
       "    .dataframe thead th {\n",
       "        text-align: right;\n",
       "    }\n",
       "</style>\n",
       "<table border=\"1\" class=\"dataframe\">\n",
       "  <thead>\n",
       "    <tr style=\"text-align: right;\">\n",
       "      <th></th>\n",
       "      <th>id</th>\n",
       "      <th>name</th>\n",
       "      <th>uri</th>\n",
       "    </tr>\n",
       "  </thead>\n",
       "  <tbody>\n",
       "    <tr>\n",
       "      <th>0</th>\n",
       "      <td>7dGJo4pcD2V6oG8kP0tJRR</td>\n",
       "      <td>Eminem</td>\n",
       "      <td>spotify:artist:7dGJo4pcD2V6oG8kP0tJRR</td>\n",
       "    </tr>\n",
       "    <tr>\n",
       "      <th>1</th>\n",
       "      <td>5pKCCKE2ajJHZ9KAiaK11H</td>\n",
       "      <td>Rihanna</td>\n",
       "      <td>spotify:artist:5pKCCKE2ajJHZ9KAiaK11H</td>\n",
       "    </tr>\n",
       "    <tr>\n",
       "      <th>2</th>\n",
       "      <td>3hImYGOkGn8Rsh9Vygcds2</td>\n",
       "      <td>Maps</td>\n",
       "      <td>spotify:artist:3hImYGOkGn8Rsh9Vygcds2</td>\n",
       "    </tr>\n",
       "  </tbody>\n",
       "</table>\n",
       "</div>"
      ],
      "text/plain": [
       "                       id     name                                    uri\n",
       "0  7dGJo4pcD2V6oG8kP0tJRR   Eminem  spotify:artist:7dGJo4pcD2V6oG8kP0tJRR\n",
       "1  5pKCCKE2ajJHZ9KAiaK11H  Rihanna  spotify:artist:5pKCCKE2ajJHZ9KAiaK11H\n",
       "2  3hImYGOkGn8Rsh9Vygcds2     Maps  spotify:artist:3hImYGOkGn8Rsh9Vygcds2"
      ]
     },
     "execution_count": 108,
     "metadata": {},
     "output_type": "execute_result"
    }
   ],
   "source": [
    "artists = pd.read_csv(\"./spotify_downloads/\" + person + \"/artists.csv\")\n",
    "artists.head(3)"
   ]
  },
  {
   "cell_type": "code",
   "execution_count": 109,
   "id": "0df77f70-3594-4a47-977b-0f35ee560e3e",
   "metadata": {},
   "outputs": [
    {
     "name": "stderr",
     "output_type": "stream",
     "text": [
      "100%|█████████████████████████████████████████| 149/149 [00:53<00:00,  2.77it/s]\n"
     ]
    }
   ],
   "source": [
    "request = True\n",
    "if request:\n",
    "    artist_genres = []\n",
    "    for chunk in tqdm(np.array_split(artists[\"uri\"], len(artists)/45)):\n",
    "        try:\n",
    "            uris = chunk.to_numpy()\n",
    "            result = sp.artists(uris)[\"artists\"]\n",
    "            time.sleep(request_timer)\n",
    "            for artist in result:\n",
    "                artist_genres.append([artist[\"uri\"], artist[\"genres\"]])\n",
    "                \n",
    "        except Exception as e:\n",
    "            print(e)\n",
    "            break"
   ]
  },
  {
   "cell_type": "code",
   "execution_count": 110,
   "id": "674b8e2f-400c-4692-8478-3d01e34fe8ac",
   "metadata": {},
   "outputs": [
    {
     "data": {
      "text/html": [
       "<div>\n",
       "<style scoped>\n",
       "    .dataframe tbody tr th:only-of-type {\n",
       "        vertical-align: middle;\n",
       "    }\n",
       "\n",
       "    .dataframe tbody tr th {\n",
       "        vertical-align: top;\n",
       "    }\n",
       "\n",
       "    .dataframe thead th {\n",
       "        text-align: right;\n",
       "    }\n",
       "</style>\n",
       "<table border=\"1\" class=\"dataframe\">\n",
       "  <thead>\n",
       "    <tr style=\"text-align: right;\">\n",
       "      <th></th>\n",
       "      <th>uri</th>\n",
       "      <th>genres</th>\n",
       "    </tr>\n",
       "  </thead>\n",
       "  <tbody>\n",
       "    <tr>\n",
       "      <th>0</th>\n",
       "      <td>spotify:artist:7dGJo4pcD2V6oG8kP0tJRR</td>\n",
       "      <td>[detroit hip hop, hip hop, rap]</td>\n",
       "    </tr>\n",
       "    <tr>\n",
       "      <th>1</th>\n",
       "      <td>spotify:artist:5pKCCKE2ajJHZ9KAiaK11H</td>\n",
       "      <td>[barbadian pop, pop, urban contemporary]</td>\n",
       "    </tr>\n",
       "    <tr>\n",
       "      <th>2</th>\n",
       "      <td>spotify:artist:3hImYGOkGn8Rsh9Vygcds2</td>\n",
       "      <td>[northamptonshire indie, nu gaze, shoegaze]</td>\n",
       "    </tr>\n",
       "  </tbody>\n",
       "</table>\n",
       "</div>"
      ],
      "text/plain": [
       "                                     uri  \\\n",
       "0  spotify:artist:7dGJo4pcD2V6oG8kP0tJRR   \n",
       "1  spotify:artist:5pKCCKE2ajJHZ9KAiaK11H   \n",
       "2  spotify:artist:3hImYGOkGn8Rsh9Vygcds2   \n",
       "\n",
       "                                        genres  \n",
       "0              [detroit hip hop, hip hop, rap]  \n",
       "1     [barbadian pop, pop, urban contemporary]  \n",
       "2  [northamptonshire indie, nu gaze, shoegaze]  "
      ]
     },
     "execution_count": 110,
     "metadata": {},
     "output_type": "execute_result"
    }
   ],
   "source": [
    "artist_genres_arrays = pd.DataFrame(artist_genres, columns=[\"uri\", \"genres\"])\n",
    "artist_genres_arrays.head(3)"
   ]
  },
  {
   "cell_type": "code",
   "execution_count": 111,
   "id": "f0549069-6a7d-4c99-b08b-33c12087e897",
   "metadata": {},
   "outputs": [],
   "source": [
    "genres = pd.DataFrame(sum(artist_genres_arrays[\"genres\"].tolist(), []), columns=[\"genre\"]).drop_duplicates()\n",
    "\n",
    "genre_artist_data = []\n",
    "for i, artist in artist_genres_arrays.iterrows():\n",
    "    artist_genres = artist[\"genres\"]\n",
    "    for genre_id in genres[genres[\"genre\"].isin(artist_genres)].to_numpy():\n",
    "        genre_artist_data.append([artist[\"uri\"], genre_id[0]])\n",
    "\n",
    "artist_to_genre = pd.DataFrame(genre_artist_data, columns=[\"uri\", \"genre\"])\n",
    "artist_to_genre.to_csv(\"./spotify_downloads/\" + person + \"/artist_genre.csv\", index=False)"
   ]
  },
  {
   "cell_type": "code",
   "execution_count": 112,
   "id": "3ec5d3e6-cd63-46a1-b588-3770d2498d17",
   "metadata": {},
   "outputs": [
    {
     "data": {
      "text/html": [
       "<div>\n",
       "<style scoped>\n",
       "    .dataframe tbody tr th:only-of-type {\n",
       "        vertical-align: middle;\n",
       "    }\n",
       "\n",
       "    .dataframe tbody tr th {\n",
       "        vertical-align: top;\n",
       "    }\n",
       "\n",
       "    .dataframe thead th {\n",
       "        text-align: right;\n",
       "    }\n",
       "</style>\n",
       "<table border=\"1\" class=\"dataframe\">\n",
       "  <thead>\n",
       "    <tr style=\"text-align: right;\">\n",
       "      <th></th>\n",
       "      <th>uri</th>\n",
       "      <th>genre</th>\n",
       "    </tr>\n",
       "  </thead>\n",
       "  <tbody>\n",
       "    <tr>\n",
       "      <th>0</th>\n",
       "      <td>spotify:artist:7dGJo4pcD2V6oG8kP0tJRR</td>\n",
       "      <td>detroit hip hop</td>\n",
       "    </tr>\n",
       "    <tr>\n",
       "      <th>1</th>\n",
       "      <td>spotify:artist:7dGJo4pcD2V6oG8kP0tJRR</td>\n",
       "      <td>hip hop</td>\n",
       "    </tr>\n",
       "    <tr>\n",
       "      <th>2</th>\n",
       "      <td>spotify:artist:7dGJo4pcD2V6oG8kP0tJRR</td>\n",
       "      <td>rap</td>\n",
       "    </tr>\n",
       "  </tbody>\n",
       "</table>\n",
       "</div>"
      ],
      "text/plain": [
       "                                     uri            genre\n",
       "0  spotify:artist:7dGJo4pcD2V6oG8kP0tJRR  detroit hip hop\n",
       "1  spotify:artist:7dGJo4pcD2V6oG8kP0tJRR          hip hop\n",
       "2  spotify:artist:7dGJo4pcD2V6oG8kP0tJRR              rap"
      ]
     },
     "execution_count": 112,
     "metadata": {},
     "output_type": "execute_result"
    }
   ],
   "source": [
    "artist_genre = pd.read_csv(\"./spotify_downloads/\" + person + \"/artist_genre.csv\")\n",
    "artist_genre.head(3)"
   ]
  },
  {
   "cell_type": "code",
   "execution_count": 113,
   "id": "94fe2844-8c31-4c11-9b5a-ecdc338505bb",
   "metadata": {},
   "outputs": [
    {
     "data": {
      "text/html": [
       "<div>\n",
       "<style scoped>\n",
       "    .dataframe tbody tr th:only-of-type {\n",
       "        vertical-align: middle;\n",
       "    }\n",
       "\n",
       "    .dataframe tbody tr th {\n",
       "        vertical-align: top;\n",
       "    }\n",
       "\n",
       "    .dataframe thead th {\n",
       "        text-align: right;\n",
       "    }\n",
       "</style>\n",
       "<table border=\"1\" class=\"dataframe\">\n",
       "  <thead>\n",
       "    <tr style=\"text-align: right;\">\n",
       "      <th></th>\n",
       "      <th>genre</th>\n",
       "    </tr>\n",
       "  </thead>\n",
       "  <tbody>\n",
       "    <tr>\n",
       "      <th>0</th>\n",
       "      <td>detroit hip hop</td>\n",
       "    </tr>\n",
       "    <tr>\n",
       "      <th>1</th>\n",
       "      <td>hip hop</td>\n",
       "    </tr>\n",
       "    <tr>\n",
       "      <th>2</th>\n",
       "      <td>rap</td>\n",
       "    </tr>\n",
       "  </tbody>\n",
       "</table>\n",
       "</div>"
      ],
      "text/plain": [
       "             genre\n",
       "0  detroit hip hop\n",
       "1          hip hop\n",
       "2              rap"
      ]
     },
     "execution_count": 113,
     "metadata": {},
     "output_type": "execute_result"
    }
   ],
   "source": [
    "genres.to_csv(\"./spotify_downloads/\" + person + \"/genres.csv\", index=False)\n",
    "genres.head(3)"
   ]
  },
  {
   "cell_type": "code",
   "execution_count": null,
   "id": "007f22cc-5636-42f8-9115-adcb0f6b5c19",
   "metadata": {},
   "outputs": [],
   "source": []
  }
 ],
 "metadata": {
  "kernelspec": {
   "display_name": "Python 3 (ipykernel)",
   "language": "python",
   "name": "python3"
  },
  "language_info": {
   "codemirror_mode": {
    "name": "ipython",
    "version": 3
   },
   "file_extension": ".py",
   "mimetype": "text/x-python",
   "name": "python",
   "nbconvert_exporter": "python",
   "pygments_lexer": "ipython3",
   "version": "3.10.11"
  }
 },
 "nbformat": 4,
 "nbformat_minor": 5
}
