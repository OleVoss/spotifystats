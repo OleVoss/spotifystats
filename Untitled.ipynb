{
 "cells": [
  {
   "cell_type": "code",
   "execution_count": 12,
   "id": "a2265511-a4e1-4bb3-a490-98c64bb7dc6c",
   "metadata": {},
   "outputs": [],
   "source": [
    "import pandas as pd\n",
    "import seaborn as sns\n",
    "import glob\n",
    "import os\n",
    "import matplotlib.pyplot as plt\n",
    "import numpy as np\n",
    "from tqdm import tqdm\n",
    "from pathlib import Path\n",
    "import ipywidgets\n",
    "from IPython.display import Markdown, display\n",
    "from dotenv import load_dotenv"
   ]
  },
  {
   "cell_type": "code",
   "execution_count": 13,
   "id": "c066061f-d35d-43ef-9418-bc35440e964c",
   "metadata": {},
   "outputs": [
    {
     "data": {
      "text/html": [
       "<div>\n",
       "<style scoped>\n",
       "    .dataframe tbody tr th:only-of-type {\n",
       "        vertical-align: middle;\n",
       "    }\n",
       "\n",
       "    .dataframe tbody tr th {\n",
       "        vertical-align: top;\n",
       "    }\n",
       "\n",
       "    .dataframe thead th {\n",
       "        text-align: right;\n",
       "    }\n",
       "</style>\n",
       "<table border=\"1\" class=\"dataframe\">\n",
       "  <thead>\n",
       "    <tr style=\"text-align: right;\">\n",
       "      <th></th>\n",
       "      <th>ts</th>\n",
       "      <th>username</th>\n",
       "      <th>platform</th>\n",
       "      <th>ms_played</th>\n",
       "      <th>conn_country</th>\n",
       "      <th>ip_addr_decrypted</th>\n",
       "      <th>user_agent_decrypted</th>\n",
       "      <th>master_metadata_track_name</th>\n",
       "      <th>master_metadata_album_artist_name</th>\n",
       "      <th>master_metadata_album_album_name</th>\n",
       "      <th>...</th>\n",
       "      <th>episode_name</th>\n",
       "      <th>episode_show_name</th>\n",
       "      <th>spotify_episode_uri</th>\n",
       "      <th>reason_start</th>\n",
       "      <th>reason_end</th>\n",
       "      <th>shuffle</th>\n",
       "      <th>skipped</th>\n",
       "      <th>offline</th>\n",
       "      <th>offline_timestamp</th>\n",
       "      <th>incognito_mode</th>\n",
       "    </tr>\n",
       "  </thead>\n",
       "  <tbody>\n",
       "    <tr>\n",
       "      <th>0</th>\n",
       "      <td>2015-06-08 20:41:05+00:00</td>\n",
       "      <td>robert.w01</td>\n",
       "      <td>Android OS 4.2.2 API 17 (samsung, GT-I8200N)</td>\n",
       "      <td>12956</td>\n",
       "      <td>DE</td>\n",
       "      <td>31.17.215.13</td>\n",
       "      <td>unknown</td>\n",
       "      <td>Mockingbird</td>\n",
       "      <td>Eminem</td>\n",
       "      <td>Curtain Call</td>\n",
       "      <td>...</td>\n",
       "      <td>NaN</td>\n",
       "      <td>NaN</td>\n",
       "      <td>NaN</td>\n",
       "      <td>trackdone</td>\n",
       "      <td>fwdbtn</td>\n",
       "      <td>False</td>\n",
       "      <td>1.0</td>\n",
       "      <td>False</td>\n",
       "      <td>0.0</td>\n",
       "      <td>False</td>\n",
       "    </tr>\n",
       "    <tr>\n",
       "      <th>125141</th>\n",
       "      <td>2024-04-11 14:17:10+00:00</td>\n",
       "      <td>robert.w01</td>\n",
       "      <td>ios</td>\n",
       "      <td>650</td>\n",
       "      <td>DE</td>\n",
       "      <td>109.42.243.51</td>\n",
       "      <td>unknown</td>\n",
       "      <td>Switch Heel</td>\n",
       "      <td>makko</td>\n",
       "      <td>Switch Heel</td>\n",
       "      <td>...</td>\n",
       "      <td>NaN</td>\n",
       "      <td>NaN</td>\n",
       "      <td>NaN</td>\n",
       "      <td>unknown</td>\n",
       "      <td>endplay</td>\n",
       "      <td>False</td>\n",
       "      <td>1.0</td>\n",
       "      <td>NaN</td>\n",
       "      <td>0.0</td>\n",
       "      <td>False</td>\n",
       "    </tr>\n",
       "  </tbody>\n",
       "</table>\n",
       "<p>2 rows × 21 columns</p>\n",
       "</div>"
      ],
      "text/plain": [
       "                              ts    username  \\\n",
       "0      2015-06-08 20:41:05+00:00  robert.w01   \n",
       "125141 2024-04-11 14:17:10+00:00  robert.w01   \n",
       "\n",
       "                                            platform  ms_played conn_country  \\\n",
       "0       Android OS 4.2.2 API 17 (samsung, GT-I8200N)      12956           DE   \n",
       "125141                                           ios        650           DE   \n",
       "\n",
       "       ip_addr_decrypted user_agent_decrypted master_metadata_track_name  \\\n",
       "0           31.17.215.13              unknown                Mockingbird   \n",
       "125141     109.42.243.51              unknown                Switch Heel   \n",
       "\n",
       "       master_metadata_album_artist_name master_metadata_album_album_name  \\\n",
       "0                                 Eminem                     Curtain Call   \n",
       "125141                             makko                      Switch Heel   \n",
       "\n",
       "        ... episode_name episode_show_name spotify_episode_uri reason_start  \\\n",
       "0       ...          NaN               NaN                 NaN    trackdone   \n",
       "125141  ...          NaN               NaN                 NaN      unknown   \n",
       "\n",
       "       reason_end shuffle  skipped offline offline_timestamp  incognito_mode  \n",
       "0          fwdbtn   False      1.0   False               0.0           False  \n",
       "125141    endplay   False      1.0     NaN               0.0           False  \n",
       "\n",
       "[2 rows x 21 columns]"
      ]
     },
     "execution_count": 13,
     "metadata": {},
     "output_type": "execute_result"
    }
   ],
   "source": [
    "data_source = \"./data/rob/\"\n",
    "paths = Path(data_source).glob(\"Streaming*.json\")\n",
    "df = pd.concat(map(pd.read_json, paths))\n",
    "df[\"ts\"] = pd.to_datetime(df[\"ts\"])\n",
    "df = df.reset_index(drop=True)\n",
    "df.iloc[[0,-1]]"
   ]
  },
  {
   "cell_type": "code",
   "execution_count": 14,
   "id": "15d060e2-cf97-474c-9087-42ea5859ccff",
   "metadata": {},
   "outputs": [],
   "source": [
    "tracks = df.spotify_track_uri.astype(str).tolist()"
   ]
  },
  {
   "cell_type": "code",
   "execution_count": 15,
   "id": "afae79d1-447f-494e-a437-d2a0e90441b8",
   "metadata": {},
   "outputs": [
    {
     "data": {
      "text/plain": [
       "142"
      ]
     },
     "execution_count": 15,
     "metadata": {},
     "output_type": "execute_result"
    }
   ],
   "source": [
    "from itertools import groupby\n",
    "res = [len(list(j)) for _, j in groupby(tracks)]\n",
    "np.max(res)"
   ]
  },
  {
   "cell_type": "code",
   "execution_count": 16,
   "id": "c44775d5-77c7-420b-992e-82b1f538b848",
   "metadata": {},
   "outputs": [
    {
     "data": {
      "text/plain": [
       "0         spotify:track:17baAghWcrewNOcc9dCewx\n",
       "1         spotify:track:5U8hKxSaDXB8cVeLFQjvwx\n",
       "2         spotify:track:29Key5Lj0YlIMH8JzRDy6U\n",
       "3         spotify:track:1WGUqMaTj8MN7QYZErtsVv\n",
       "4         spotify:track:5H4nA6WBNdsqOa4gNNdDCM\n",
       "                          ...                 \n",
       "125137    spotify:track:2ZWmmrWUgDBcPSLihBMvhg\n",
       "125138                                    None\n",
       "125139    spotify:track:2H7jZg2HliuQhZjfBblLrZ\n",
       "125140    spotify:track:0nYSnbFVX5ghrERjwVZgwZ\n",
       "125141    spotify:track:0Pcv9iUz4JeLvNmagCNWvu\n",
       "Name: uri, Length: 125142, dtype: object"
      ]
     },
     "execution_count": 16,
     "metadata": {},
     "output_type": "execute_result"
    }
   ],
   "source": [
    "df_t = pd.DataFrame(tracks, columns=[\"uri\"])\n",
    "s_t = df_t.uri\n",
    "s_t"
   ]
  },
  {
   "cell_type": "code",
   "execution_count": 17,
   "id": "b3080a94-0723-4f3e-9c63-1ee2012eef6c",
   "metadata": {},
   "outputs": [],
   "source": [
    "df_t[\"cumsum\"] = s_t.groupby((s_t != s_t.shift()).cumsum()).cumcount()\n",
    "top_plays = df_t.groupby(\"uri\").max().sort_values(\"cumsum\", ascending=False).head(20)#.reset_index(drop=False)"
   ]
  },
  {
   "cell_type": "code",
   "execution_count": 18,
   "id": "32660239-0b75-4249-afff-f97abfb8c66e",
   "metadata": {},
   "outputs": [
    {
     "data": {
      "text/html": [
       "<div>\n",
       "<style scoped>\n",
       "    .dataframe tbody tr th:only-of-type {\n",
       "        vertical-align: middle;\n",
       "    }\n",
       "\n",
       "    .dataframe tbody tr th {\n",
       "        vertical-align: top;\n",
       "    }\n",
       "\n",
       "    .dataframe thead th {\n",
       "        text-align: right;\n",
       "    }\n",
       "</style>\n",
       "<table border=\"1\" class=\"dataframe\">\n",
       "  <thead>\n",
       "    <tr style=\"text-align: right;\">\n",
       "      <th></th>\n",
       "      <th>cumsum</th>\n",
       "    </tr>\n",
       "    <tr>\n",
       "      <th>uri</th>\n",
       "      <th></th>\n",
       "    </tr>\n",
       "  </thead>\n",
       "  <tbody>\n",
       "    <tr>\n",
       "      <th>spotify:track:7slpVzr6Z5XEgO0wOZlVRM</th>\n",
       "      <td>141</td>\n",
       "    </tr>\n",
       "    <tr>\n",
       "      <th>spotify:track:30bqVoKjX479ab90a8Pafp</th>\n",
       "      <td>138</td>\n",
       "    </tr>\n",
       "    <tr>\n",
       "      <th>spotify:track:3pJa2fy3VW7Uxrzzz0k1A7</th>\n",
       "      <td>133</td>\n",
       "    </tr>\n",
       "    <tr>\n",
       "      <th>spotify:track:7v8OynJxOxHoeS5C2UA9Y7</th>\n",
       "      <td>115</td>\n",
       "    </tr>\n",
       "    <tr>\n",
       "      <th>spotify:track:5DPASDOoVakOcD8EIhb46T</th>\n",
       "      <td>59</td>\n",
       "    </tr>\n",
       "    <tr>\n",
       "      <th>spotify:track:4hSJUp6k7QeHLxU32MrLIU</th>\n",
       "      <td>18</td>\n",
       "    </tr>\n",
       "    <tr>\n",
       "      <th>spotify:track:5N92YoWttffe7U5v2j2ZA6</th>\n",
       "      <td>16</td>\n",
       "    </tr>\n",
       "    <tr>\n",
       "      <th>spotify:track:75FEaRjZTKLhTrFGsfMUXR</th>\n",
       "      <td>15</td>\n",
       "    </tr>\n",
       "    <tr>\n",
       "      <th>spotify:track:3GGgcGLYrrpMENcwmsWvbM</th>\n",
       "      <td>14</td>\n",
       "    </tr>\n",
       "    <tr>\n",
       "      <th>spotify:track:2WOJ7D52Ng3myrKlEf4Azj</th>\n",
       "      <td>13</td>\n",
       "    </tr>\n",
       "    <tr>\n",
       "      <th>None</th>\n",
       "      <td>12</td>\n",
       "    </tr>\n",
       "    <tr>\n",
       "      <th>spotify:track:3qhlB30KknSejmIvZZLjOD</th>\n",
       "      <td>11</td>\n",
       "    </tr>\n",
       "    <tr>\n",
       "      <th>spotify:track:3t0h32ZYlUCXAn37IIIOaS</th>\n",
       "      <td>11</td>\n",
       "    </tr>\n",
       "    <tr>\n",
       "      <th>spotify:track:3EyKLE8YWQrAlTOXZjQ9gV</th>\n",
       "      <td>10</td>\n",
       "    </tr>\n",
       "    <tr>\n",
       "      <th>spotify:track:1HXchhExSIsJODlUyAXPlB</th>\n",
       "      <td>10</td>\n",
       "    </tr>\n",
       "    <tr>\n",
       "      <th>spotify:track:4R0o7QeWDnhJUzk5sq3CnW</th>\n",
       "      <td>10</td>\n",
       "    </tr>\n",
       "    <tr>\n",
       "      <th>spotify:track:4dE4yaT3DzLiXH1wnH1KLo</th>\n",
       "      <td>10</td>\n",
       "    </tr>\n",
       "    <tr>\n",
       "      <th>spotify:track:6M6Zzch8COuCiIjdn5EhI4</th>\n",
       "      <td>10</td>\n",
       "    </tr>\n",
       "    <tr>\n",
       "      <th>spotify:track:0QSvyXo1EpUKpwhyt5GUIt</th>\n",
       "      <td>9</td>\n",
       "    </tr>\n",
       "    <tr>\n",
       "      <th>spotify:track:329iwnkrmSIhug8bHxVU9N</th>\n",
       "      <td>9</td>\n",
       "    </tr>\n",
       "  </tbody>\n",
       "</table>\n",
       "</div>"
      ],
      "text/plain": [
       "                                      cumsum\n",
       "uri                                         \n",
       "spotify:track:7slpVzr6Z5XEgO0wOZlVRM     141\n",
       "spotify:track:30bqVoKjX479ab90a8Pafp     138\n",
       "spotify:track:3pJa2fy3VW7Uxrzzz0k1A7     133\n",
       "spotify:track:7v8OynJxOxHoeS5C2UA9Y7     115\n",
       "spotify:track:5DPASDOoVakOcD8EIhb46T      59\n",
       "spotify:track:4hSJUp6k7QeHLxU32MrLIU      18\n",
       "spotify:track:5N92YoWttffe7U5v2j2ZA6      16\n",
       "spotify:track:75FEaRjZTKLhTrFGsfMUXR      15\n",
       "spotify:track:3GGgcGLYrrpMENcwmsWvbM      14\n",
       "spotify:track:2WOJ7D52Ng3myrKlEf4Azj      13\n",
       "None                                      12\n",
       "spotify:track:3qhlB30KknSejmIvZZLjOD      11\n",
       "spotify:track:3t0h32ZYlUCXAn37IIIOaS      11\n",
       "spotify:track:3EyKLE8YWQrAlTOXZjQ9gV      10\n",
       "spotify:track:1HXchhExSIsJODlUyAXPlB      10\n",
       "spotify:track:4R0o7QeWDnhJUzk5sq3CnW      10\n",
       "spotify:track:4dE4yaT3DzLiXH1wnH1KLo      10\n",
       "spotify:track:6M6Zzch8COuCiIjdn5EhI4      10\n",
       "spotify:track:0QSvyXo1EpUKpwhyt5GUIt       9\n",
       "spotify:track:329iwnkrmSIhug8bHxVU9N       9"
      ]
     },
     "execution_count": 18,
     "metadata": {},
     "output_type": "execute_result"
    }
   ],
   "source": [
    "top_plays"
   ]
  },
  {
   "cell_type": "code",
   "execution_count": 23,
   "id": "bbbdfbf4-394d-4f21-afdd-e4c1c7fde01c",
   "metadata": {},
   "outputs": [
    {
     "data": {
      "text/html": [
       "<div>\n",
       "<style scoped>\n",
       "    .dataframe tbody tr th:only-of-type {\n",
       "        vertical-align: middle;\n",
       "    }\n",
       "\n",
       "    .dataframe tbody tr th {\n",
       "        vertical-align: top;\n",
       "    }\n",
       "\n",
       "    .dataframe thead th {\n",
       "        text-align: right;\n",
       "    }\n",
       "</style>\n",
       "<table border=\"1\" class=\"dataframe\">\n",
       "  <thead>\n",
       "    <tr style=\"text-align: right;\">\n",
       "      <th></th>\n",
       "      <th>uri</th>\n",
       "      <th>cumsum</th>\n",
       "    </tr>\n",
       "  </thead>\n",
       "  <tbody>\n",
       "    <tr>\n",
       "      <th>33026</th>\n",
       "      <td>spotify:track:7slpVzr6Z5XEgO0wOZlVRM</td>\n",
       "      <td>138</td>\n",
       "    </tr>\n",
       "    <tr>\n",
       "      <th>58771</th>\n",
       "      <td>spotify:track:30bqVoKjX479ab90a8Pafp</td>\n",
       "      <td>138</td>\n",
       "    </tr>\n",
       "  </tbody>\n",
       "</table>\n",
       "</div>"
      ],
      "text/plain": [
       "                                        uri  cumsum\n",
       "33026  spotify:track:7slpVzr6Z5XEgO0wOZlVRM     138\n",
       "58771  spotify:track:30bqVoKjX479ab90a8Pafp     138"
      ]
     },
     "execution_count": 23,
     "metadata": {},
     "output_type": "execute_result"
    }
   ],
   "source": [
    "df_t.loc[df_t[\"cumsum\"] == 138]"
   ]
  },
  {
   "cell_type": "code",
   "execution_count": 24,
   "id": "e9d499d9-a818-423b-a857-c4a0560ee3db",
   "metadata": {},
   "outputs": [
    {
     "data": {
      "text/plain": [
       "ts                                                 2019-09-17 00:05:40+00:00\n",
       "username                                                          robert.w01\n",
       "platform                             Android OS 9 API 28 (samsung, SM-G973F)\n",
       "ms_played                                                             142000\n",
       "conn_country                                                              DE\n",
       "ip_addr_decrypted                                                31.17.9.181\n",
       "user_agent_decrypted                                                 unknown\n",
       "master_metadata_track_name                                     Star Shopping\n",
       "master_metadata_album_artist_name                                   Lil Peep\n",
       "master_metadata_album_album_name                               Star Shopping\n",
       "spotify_track_uri                       spotify:track:30bqVoKjX479ab90a8Pafp\n",
       "episode_name                                                            None\n",
       "episode_show_name                                                       None\n",
       "spotify_episode_uri                                                     None\n",
       "reason_start                                                        clickrow\n",
       "reason_end                                                         trackdone\n",
       "shuffle                                                                 True\n",
       "skipped                                                                  NaN\n",
       "offline                                                                False\n",
       "offline_timestamp                                            1568678598361.0\n",
       "incognito_mode                                                         False\n",
       "Name: 58633, dtype: object"
      ]
     },
     "execution_count": 24,
     "metadata": {},
     "output_type": "execute_result"
    }
   ],
   "source": [
    "df.loc[58771-138:58771].iloc[0]#.master_metadata_track_name"
   ]
  },
  {
   "cell_type": "code",
   "execution_count": 25,
   "id": "c4e180cc-a2b7-4dcf-84eb-9222edc8e04e",
   "metadata": {},
   "outputs": [
    {
     "name": "stdout",
     "output_type": "stream",
     "text": [
      "58633               NaT\n",
      "58634   0 days 00:02:22\n",
      "58635   0 days 00:02:23\n",
      "58636   0 days 00:02:22\n",
      "58637   0 days 00:02:23\n",
      "              ...      \n",
      "58767   0 days 00:02:23\n",
      "58768   0 days 00:02:22\n",
      "58769   0 days 00:02:23\n",
      "58770   0 days 01:19:03\n",
      "58771   0 days 05:20:52\n",
      "Name: ts, Length: 139, dtype: timedelta64[ns]\n"
     ]
    }
   ],
   "source": [
    "dts = df.loc[58771-138:58771].ts\n",
    "print(dts - dts.shift())"
   ]
  },
  {
   "cell_type": "code",
   "execution_count": 26,
   "id": "ffdb39fe-6224-49da-a4d9-d63b5fe75dba",
   "metadata": {},
   "outputs": [
    {
     "data": {
      "text/plain": [
       "58633   2019-09-17 00:05:40+00:00\n",
       "58634   2019-09-17 00:08:02+00:00\n",
       "58635   2019-09-17 00:10:25+00:00\n",
       "58636   2019-09-17 00:12:47+00:00\n",
       "58637   2019-09-17 00:15:10+00:00\n",
       "                   ...           \n",
       "58767   2019-09-17 05:23:55+00:00\n",
       "58768   2019-09-17 05:26:17+00:00\n",
       "58769   2019-09-17 05:28:40+00:00\n",
       "58770   2019-09-17 06:47:43+00:00\n",
       "58771   2019-09-17 12:08:35+00:00\n",
       "Name: ts, Length: 139, dtype: datetime64[ns, UTC]"
      ]
     },
     "execution_count": 26,
     "metadata": {},
     "output_type": "execute_result"
    }
   ],
   "source": [
    "dts"
   ]
  },
  {
   "cell_type": "code",
   "execution_count": null,
   "id": "f22af694-21ec-4aeb-9e89-1952b0143463",
   "metadata": {},
   "outputs": [],
   "source": []
  }
 ],
 "metadata": {
  "kernelspec": {
   "display_name": "Python 3 (ipykernel)",
   "language": "python",
   "name": "python3"
  },
  "language_info": {
   "codemirror_mode": {
    "name": "ipython",
    "version": 3
   },
   "file_extension": ".py",
   "mimetype": "text/x-python",
   "name": "python",
   "nbconvert_exporter": "python",
   "pygments_lexer": "ipython3",
   "version": "3.10.11"
  }
 },
 "nbformat": 4,
 "nbformat_minor": 5
}
