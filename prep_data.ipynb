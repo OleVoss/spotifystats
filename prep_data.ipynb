{
 "cells": [
  {
   "cell_type": "code",
   "execution_count": 2,
   "id": "d26030be-a74e-40be-a710-894b19d6bba9",
   "metadata": {
    "editable": true,
    "slideshow": {
     "slide_type": ""
    },
    "tags": []
   },
   "outputs": [],
   "source": [
    "import pandas as pd\n",
    "import os\n",
    "from pathlib import Path\n",
    "from dotenv import load_dotenv\n",
    "import spotipy\n",
    "from tqdm import tqdm\n",
    "import numpy as np\n",
    "from spotipy.oauth2 import SpotifyClientCredentials"
   ]
  },
  {
   "cell_type": "code",
   "execution_count": 3,
   "id": "9a7b4491-751b-44db-a80d-63e7b2f3639d",
   "metadata": {
    "editable": true,
    "slideshow": {
     "slide_type": ""
    },
    "tags": []
   },
   "outputs": [
    {
     "name": "stdout",
     "output_type": "stream",
     "text": [
      "<class 'pandas.core.frame.DataFrame'>\n",
      "Index: 78786 entries, 0 to 15904\n",
      "Data columns (total 21 columns):\n",
      " #   Column                             Non-Null Count  Dtype  \n",
      "---  ------                             --------------  -----  \n",
      " 0   ts                                 78786 non-null  object \n",
      " 1   username                           78786 non-null  object \n",
      " 2   platform                           78786 non-null  object \n",
      " 3   ms_played                          78786 non-null  int64  \n",
      " 4   conn_country                       78786 non-null  object \n",
      " 5   ip_addr_decrypted                  78786 non-null  object \n",
      " 6   user_agent_decrypted               78693 non-null  object \n",
      " 7   master_metadata_track_name         78786 non-null  object \n",
      " 8   master_metadata_album_artist_name  78786 non-null  object \n",
      " 9   master_metadata_album_album_name   78786 non-null  object \n",
      " 10  spotify_track_uri                  78786 non-null  object \n",
      " 11  episode_name                       0 non-null      object \n",
      " 12  episode_show_name                  0 non-null      object \n",
      " 13  spotify_episode_uri                0 non-null      object \n",
      " 14  reason_start                       78786 non-null  object \n",
      " 15  reason_end                         78786 non-null  object \n",
      " 16  shuffle                            78786 non-null  bool   \n",
      " 17  skipped                            8651 non-null   float64\n",
      " 18  offline                            78786 non-null  bool   \n",
      " 19  offline_timestamp                  78786 non-null  int64  \n",
      " 20  incognito_mode                     78786 non-null  bool   \n",
      "dtypes: bool(3), float64(1), int64(2), object(15)\n",
      "memory usage: 11.6+ MB\n"
     ]
    }
   ],
   "source": [
    "paths = Path(\"./data\").glob(\"endsong*.json\")\n",
    "df = pd.concat(map(pd.read_json, paths))\n",
    "df = df[df[\"spotify_track_uri\"].notnull()]\n",
    "df.info()"
   ]
  },
  {
   "cell_type": "markdown",
   "id": "f4595f8a-a7f8-4f12-91db-40e28cac06e6",
   "metadata": {
    "editable": true,
    "slideshow": {
     "slide_type": ""
    },
    "tags": []
   },
   "source": [
    "![](./er.svg)"
   ]
  },
  {
   "cell_type": "markdown",
   "id": "f43215b0-eeb4-4ba5-ba73-6e62ef81501e",
   "metadata": {
    "editable": true,
    "slideshow": {
     "slide_type": ""
    },
    "tags": []
   },
   "source": [
    "## Preparation\n",
    "1. fetch Track Data from SpotifyWeb Api\n",
    "    - [ ] id\n",
    "    - [ ] duration\n",
    "    - [ ] music analysis\n",
    "    - [ ] audio features\n",
    "2. artist data"
   ]
  },
  {
   "cell_type": "code",
   "execution_count": 4,
   "id": "9a277a8f-5ff6-4866-99e3-b840ed374c12",
   "metadata": {
    "editable": true,
    "slideshow": {
     "slide_type": ""
    },
    "tags": []
   },
   "outputs": [],
   "source": [
    "load_dotenv()\n",
    "ID = os.getenv(\"ID\")\n",
    "SECRET = os.getenv(\"SECRET\")\n",
    "\n",
    "sp = spotipy.Spotify(auth_manager=SpotifyClientCredentials(client_id=ID, client_secret=SECRET))"
   ]
  },
  {
   "cell_type": "markdown",
   "id": "45c92aca-f307-4b33-bf47-0c3a8881ef90",
   "metadata": {
    "editable": true,
    "slideshow": {
     "slide_type": ""
    },
    "tags": []
   },
   "source": [
    "## 1. Tracks Data"
   ]
  },
  {
   "cell_type": "markdown",
   "id": "72fe7f85-b806-4017-b3e2-7f37e72e654f",
   "metadata": {
    "editable": true,
    "slideshow": {
     "slide_type": ""
    },
    "tags": []
   },
   "source": [
    "### 1.1 Existing data from the extended history\n",
    "\n",
    "Drop all duplicate entries in the history, therey removing multiple plays.\n",
    "However this is not sufficient to properly eliminate duplicate references to the same track, since one track can be played from different albums.\n",
    "For Example, when a song is at first released as a single, and later within an album. Individual plays appear with a different `spotify_track_uri`, altough they should be counted as one.\n",
    "\n",
    "To fix this, the online tool [Datablist](https://datablist.com) is used, to find and remove duplicates.\n",
    "An entry is considered a duplicate if the artist, album name, and track name are identical.\n",
    "Subsequently, the track uri's are merged into a comma-separated string, which is then transformed into an array for futher processing.\n",
    "Tough the column is then no longer atomic, is is now easier to assign play entries, with different uris to the same song.\n",
    "\n",
    "1. Import `unique_tracks.csv` into Datablist\n",
    "2. Find duplicates based on `artist`, `track` and `album`\n",
    "3. Merge `spotify_track_uri`, drop `album`\n",
    "\n",
    "<div class=\"alert alert-block alert-info\">\n",
    "<b>TODO:</b>    \n",
    "This should be automated, for processing new data.\n",
    "</div>"
   ]
  },
  {
   "cell_type": "code",
   "execution_count": 5,
   "id": "7554cc68-ba81-4bac-9d97-ba34284dab9e",
   "metadata": {
    "editable": true,
    "slideshow": {
     "slide_type": ""
    },
    "tags": []
   },
   "outputs": [
    {
     "name": "stdout",
     "output_type": "stream",
     "text": [
      "<class 'pandas.core.frame.DataFrame'>\n",
      "Index: 22705 entries, 0 to 15819\n",
      "Data columns (total 4 columns):\n",
      " #   Column                             Non-Null Count  Dtype \n",
      "---  ------                             --------------  ----- \n",
      " 0   master_metadata_track_name         22705 non-null  object\n",
      " 1   master_metadata_album_album_name   22705 non-null  object\n",
      " 2   spotify_track_uri                  22705 non-null  object\n",
      " 3   master_metadata_album_artist_name  22705 non-null  object\n",
      "dtypes: object(4)\n",
      "memory usage: 886.9+ KB\n"
     ]
    }
   ],
   "source": [
    "unique_tracks = df[df[\"episode_name\"].isnull()][[\"master_metadata_track_name\", \"master_metadata_album_album_name\", \"spotify_track_uri\", \"master_metadata_album_artist_name\"]].drop_duplicates()\n",
    "unique_tracks = unique_tracks.dropna()\n",
    "unique_tracks.info()\n",
    "#unique_tracks.to_csv(\"unique_tracks.csv\")"
   ]
  },
  {
   "cell_type": "code",
   "execution_count": 6,
   "id": "f56edd95-4a51-4fa8-b465-a040f4f44325",
   "metadata": {
    "editable": true,
    "slideshow": {
     "slide_type": ""
    },
    "tags": []
   },
   "outputs": [
    {
     "name": "stdout",
     "output_type": "stream",
     "text": [
      "Unique tracks after cleaning: 21206\n"
     ]
    },
    {
     "data": {
      "text/html": [
       "<div>\n",
       "<style scoped>\n",
       "    .dataframe tbody tr th:only-of-type {\n",
       "        vertical-align: middle;\n",
       "    }\n",
       "\n",
       "    .dataframe tbody tr th {\n",
       "        vertical-align: top;\n",
       "    }\n",
       "\n",
       "    .dataframe thead th {\n",
       "        text-align: right;\n",
       "    }\n",
       "</style>\n",
       "<table border=\"1\" class=\"dataframe\">\n",
       "  <thead>\n",
       "    <tr style=\"text-align: right;\">\n",
       "      <th></th>\n",
       "      <th>master_metadata_track_name</th>\n",
       "      <th>master_metadata_album_album_name</th>\n",
       "      <th>spotify_track_uri</th>\n",
       "      <th>master_metadata_album_artist_name</th>\n",
       "    </tr>\n",
       "  </thead>\n",
       "  <tbody>\n",
       "    <tr>\n",
       "      <th>0</th>\n",
       "      <td>STFU</td>\n",
       "      <td>Long Time, No See.</td>\n",
       "      <td>[spotify:track:7DOq1mhfUI49SNVAlx8E1v]</td>\n",
       "      <td>Aim Vision</td>\n",
       "    </tr>\n",
       "    <tr>\n",
       "      <th>1</th>\n",
       "      <td>Wo bist Du? (feat. Alligatoah)</td>\n",
       "      <td>Wo bist Du? (feat. Alligatoah)</td>\n",
       "      <td>[spotify:track:7Dbq3XgIm824Od54EHIhBC, spotify...</td>\n",
       "      <td>Swiss</td>\n",
       "    </tr>\n",
       "    <tr>\n",
       "      <th>2</th>\n",
       "      <td>What I Know Is All Quicksand - rookery live tapes</td>\n",
       "      <td>rookery live tapes</td>\n",
       "      <td>[spotify:track:71E4QM6O81q0DX79Cg6EGk]</td>\n",
       "      <td>Giant Rooks</td>\n",
       "    </tr>\n",
       "    <tr>\n",
       "      <th>3</th>\n",
       "      <td>Bentley Coupe</td>\n",
       "      <td>Bentley Coupe</td>\n",
       "      <td>[spotify:track:7aksJRV1H0pCds7FSiZ8ZI]</td>\n",
       "      <td>Social House</td>\n",
       "    </tr>\n",
       "    <tr>\n",
       "      <th>4</th>\n",
       "      <td>Tauchen (feat. KYMA)</td>\n",
       "      <td>Malu</td>\n",
       "      <td>[spotify:track:6yBIrzVvtYoL0meYNmDEHa]</td>\n",
       "      <td>Tom Thaler &amp; Basil</td>\n",
       "    </tr>\n",
       "  </tbody>\n",
       "</table>\n",
       "</div>"
      ],
      "text/plain": [
       "                          master_metadata_track_name  \\\n",
       "0                                               STFU   \n",
       "1                     Wo bist Du? (feat. Alligatoah)   \n",
       "2  What I Know Is All Quicksand - rookery live tapes   \n",
       "3                                      Bentley Coupe   \n",
       "4                               Tauchen (feat. KYMA)   \n",
       "\n",
       "  master_metadata_album_album_name  \\\n",
       "0               Long Time, No See.   \n",
       "1   Wo bist Du? (feat. Alligatoah)   \n",
       "2               rookery live tapes   \n",
       "3                    Bentley Coupe   \n",
       "4                             Malu   \n",
       "\n",
       "                                   spotify_track_uri  \\\n",
       "0             [spotify:track:7DOq1mhfUI49SNVAlx8E1v]   \n",
       "1  [spotify:track:7Dbq3XgIm824Od54EHIhBC, spotify...   \n",
       "2             [spotify:track:71E4QM6O81q0DX79Cg6EGk]   \n",
       "3             [spotify:track:7aksJRV1H0pCds7FSiZ8ZI]   \n",
       "4             [spotify:track:6yBIrzVvtYoL0meYNmDEHa]   \n",
       "\n",
       "  master_metadata_album_artist_name  \n",
       "0                        Aim Vision  \n",
       "1                             Swiss  \n",
       "2                       Giant Rooks  \n",
       "3                      Social House  \n",
       "4                Tom Thaler & Basil  "
      ]
     },
     "execution_count": 6,
     "metadata": {},
     "output_type": "execute_result"
    }
   ],
   "source": [
    "tracks_cleaned = pd.read_csv(\"./unique_cleaned.csv\")\n",
    "tracks_cleaned[\"spotify_track_uri\"] = tracks_cleaned[\"spotify_track_uri\"].apply(lambda r: [s for s in r.split(\",\")])\n",
    "print(\"Unique tracks after cleaning:\", len(tracks_cleaned))\n",
    "tracks_cleaned.head()"
   ]
  },
  {
   "cell_type": "markdown",
   "id": "8ae466e1-85ae-48ed-9cd5-e7eb3c840b3b",
   "metadata": {
    "editable": true,
    "slideshow": {
     "slide_type": ""
    },
    "tags": []
   },
   "source": [
    "This separation still is not enough, because having two keys for every track makes it difficult to aggregate the data.\n",
    "Therefore every uri in the `extended history`, that is related to another track, is replaced by the first uri in the `spotify_track_uri` array above.\n",
    "\n",
    "<div class=\"alert alert-block alert-warning\">\n",
    "This only has to be done once. The resulting dataframe is strored as a `.csv`. \n",
    "</div>"
   ]
  },
  {
   "cell_type": "code",
   "execution_count": 9,
   "id": "96a9ad10-22fd-45af-9e36-754237ddfdac",
   "metadata": {
    "editable": true,
    "slideshow": {
     "slide_type": ""
    },
    "tags": []
   },
   "outputs": [
    {
     "name": "stderr",
     "output_type": "stream",
     "text": [
      "100%|█████████████████████████████████████████████████████████████████████████████████████████████████████████████████████████████████████████████████████████████████████████████████████████████████████| 78786/78786 [05:36<00:00, 234.47it/s]\n"
     ]
    }
   ],
   "source": [
    "process = True\n",
    "if process:\n",
    "    lookup = tracks_cleaned[\"spotify_track_uri\"].to_frame()\n",
    "    lookup.columns = [\"from\"]\n",
    "    lookup[\"to\"] = lookup[\"from\"].map(lambda r: r[0])\n",
    "    lookup.head()\n",
    "    \n",
    "    tqdm.pandas()\n",
    "    df[\"spotify_track_uri\"] = df[\"spotify_track_uri\"].progress_map(lambda x: lookup[lookup[\"from\"].str.join(\" \").str.contains(x)][\"to\"].item())\n",
    "    df.to_csv(\"history.csv\")"
   ]
  },
  {
   "cell_type": "markdown",
   "id": "99eb0e18-e18b-4f86-a3d0-a2031fd54dc5",
   "metadata": {
    "editable": true,
    "slideshow": {
     "slide_type": ""
    },
    "tags": []
   },
   "source": [
    "---\n",
    "Once the tracks have been processed, the next stage is to prepare the relevant metrics.\n",
    "The Spotify web API provides information about every track, namely audio features and analysis.\n",
    "\n",
    "#### Audio Features\n",
    "\n",
    "This is an example response for the audio features of \"Time is Running Out\" by \"Muse\".\n",
    "```json\n",
    "\"acousticness\": 0.00242,\n",
    "\"analysis_url\": \"https://api.spotify.com/v1/audio-analysis/2takcwOaAZWiXQijPHIx7B\",\n",
    "\"danceability\": 0.585,\n",
    "\"duration_ms\": 237040,\n",
    "\"energy\": 0.842,\n",
    "\"id\": \"2takcwOaAZWiXQijPHIx7B\",\n",
    "\"instrumentalness\": 0.00686,\n",
    "\"key\": 9,\n",
    "\"liveness\": 0.0866,\n",
    "\"loudness\": -5.883,\n",
    "\"mode\": 0,\n",
    "\"speechiness\": 0.0556,\n",
    "\"tempo\": 118.211,\n",
    "\"time_signature\": 4,\n",
    "\"track_href\": \"https://api.spotify.com/v1/tracks/2takcwOaAZWiXQijPHIx7B\",\n",
    "\"type\": \"audio_features\",\n",
    "\"uri\": \"spotify:track:2takcwOaAZWiXQijPHIx7B\",\n",
    "\"valence\": 0.428\n",
    "```\n",
    "\n",
    "Since the uri's are now cleaned, we can just request the auto features via the spotify api and append them to our dataframe."
   ]
  },
  {
   "cell_type": "code",
   "execution_count": 13,
   "id": "0d738a89-e854-4d1a-9cc4-d84f097f9669",
   "metadata": {},
   "outputs": [
    {
     "data": {
      "text/html": [
       "<div>\n",
       "<style scoped>\n",
       "    .dataframe tbody tr th:only-of-type {\n",
       "        vertical-align: middle;\n",
       "    }\n",
       "\n",
       "    .dataframe tbody tr th {\n",
       "        vertical-align: top;\n",
       "    }\n",
       "\n",
       "    .dataframe thead th {\n",
       "        text-align: right;\n",
       "    }\n",
       "</style>\n",
       "<table border=\"1\" class=\"dataframe\">\n",
       "  <thead>\n",
       "    <tr style=\"text-align: right;\">\n",
       "      <th></th>\n",
       "      <th>uri</th>\n",
       "      <th>acousticness</th>\n",
       "      <th>danceability</th>\n",
       "      <th>duration_ms</th>\n",
       "      <th>energy</th>\n",
       "      <th>instrumentalness</th>\n",
       "      <th>key</th>\n",
       "      <th>liveness</th>\n",
       "      <th>loudness</th>\n",
       "      <th>mode</th>\n",
       "      <th>speechiness</th>\n",
       "      <th>tempo</th>\n",
       "      <th>time_signature</th>\n",
       "      <th>valence</th>\n",
       "    </tr>\n",
       "  </thead>\n",
       "  <tbody>\n",
       "  </tbody>\n",
       "</table>\n",
       "</div>"
      ],
      "text/plain": [
       "Empty DataFrame\n",
       "Columns: [uri, acousticness, danceability, duration_ms, energy, instrumentalness, key, liveness, loudness, mode, speechiness, tempo, time_signature, valence]\n",
       "Index: []"
      ]
     },
     "execution_count": 13,
     "metadata": {},
     "output_type": "execute_result"
    }
   ],
   "source": [
    "audio_features = pd.DataFrame(columns=[\n",
    "    \"uri\",\n",
    "    \"acousticness\",\n",
    "    \"danceability\",\n",
    "    \"duration_ms\",\n",
    "    \"energy\",\n",
    "    \"instrumentalness\",\n",
    "    \"key\",\n",
    "    \"liveness\",\n",
    "    \"loudness\",\n",
    "    \"mode\",\n",
    "    \"speechiness\",\n",
    "    \"tempo\",\n",
    "    \"time_signature\",\n",
    "    \"valence\",\n",
    "])\n",
    "audio_features.head()"
   ]
  },
  {
   "cell_type": "code",
   "execution_count": 14,
   "id": "63ffb043-7402-476b-b15f-16736dc26b32",
   "metadata": {
    "scrolled": true
   },
   "outputs": [
    {
     "name": "stderr",
     "output_type": "stream",
     "text": [
      "/home/voss/.local/lib/python3.10/site-packages/numpy/core/fromnumeric.py:59: FutureWarning: 'DataFrame.swapaxes' is deprecated and will be removed in a future version. Please use 'DataFrame.transpose' instead.\n",
      "  return bound(*args, **kwds)\n",
      "  0%|                                                                                                                                                                                                                    | 0/252 [00:00<?, ?it/s]Max Retries reached\n",
      "  0%|                                                                                                                                                                                                                    | 0/252 [00:02<?, ?it/s]"
     ]
    },
    {
     "name": "stdout",
     "output_type": "stream",
     "text": [
      "http status: 429, code:-1 - /v1/audio-features/?ids=7DOq1mhfUI49SNVAlx8E1v,7Dbq3XgIm824Od54EHIhBC,71E4QM6O81q0DX79Cg6EGk,7aksJRV1H0pCds7FSiZ8ZI,6yBIrzVvtYoL0meYNmDEHa,4nL4zTcQjOADjVziLUrKC4,3Bqa6fS5R7XDJCfVbWAq46,0ElpbbncWT9aS7mgoqEHbQ,1KTJmfwrk5pYqsi9mkY3nT,0dfmg4JoDGMeqtNRF5Gr4t,3qLZhFTjhLiPnVFzK5r8UL,6SpODwwsGQ7jqqFO10RR27,5ncFetHluI0qYiTrG1m48x,1hCVZTG44qDXaIgBSgyvpQ,2NpPNpDJG4g1Txp98TiRsx,2bEnUKx0z0RUYBmuosBRvd,4KPuDGKuBOITkxP5PrBxPU,6R3CeNRk6DOdK6tBXUaJ9X,1EXoOvL1g5UssQmQdgT4JM,6Y1xR0TDpxWQwmTYmkYZMt,1mU5tbLwcCYs64FhTTEQ4U,4rs3frrzpepBXoJOGGlzZQ,3K874ORmFuV9Ari5TmOqfY,4KFcmYICCe24YbAxAWEQAW,3M8Ee7yvy2T3AnhmmR1E0j,00RW0bhpba2Djqf8E65sXL,7qrBYrivpvfXUPBMmqh3dA,5yH8Ce7MpMwJPDSRvgIZF6,1c6xkwwhc0T5JdU2oiTFkH,20lMC6OzZLlI71WuVcVtPX,1ylphlPLI3ri4KGN6y4Dul,2yesMWYhprhtepBgexS8aN,5ThEXbatpKgKn4pOl2qexl,39FUd9QsvtOBqa49TMuY3M,62MosvjGMQY3HeGPFEsmM1,2k9N4caeCIJLOWwWwssrEM,4I3tMsc0RKjVSaOdR3a6LX,6mry9fDj4oTFudQAMRo1lV,4A7DUET5H4f7dJkUhjfVFB,4ZHGRFGwjnEIXHG2FhcDPv,2Pml521aaHZf3b0S2f4no8,3Tkb20IdBL1dYI94rcqhMS,0S0EOSonmkj7jhNKJQ82lD,1SHA4IJyiyNobDOrQzFFXy,0EYAj4bb4v3r4S3lXBJ37r,5vKwj4F0gVE8T2Zy4T7mUW,6bU3RDOTuXynFSx3xWSdKq,2kaf8mQHThgANuMMbKEqoT,4SOtTsuFYYlkOOvXMbroUv,3vUrjSGck9Sn9OpnFua8f4,0cwzlVIFlRVK6ISk6u3noR,5pDjbU8DBoNLSsTfaYC75R,32sBVB5HmrwJ6e9g0S2BRL,5wXZXabu8JyRGNHqgueUHm,56Afib9o78iCsB7c5sNOXn,0pRyOQjr12h9RBEFmhbTQc,5dvpipXxOIH96gcGEKR1Iu,6dEe0H4vjEyy2ukczkB25o,0gYNMkxqYwKvUCvYfcRWLs,19yMYXxG3gtIbKxOpQo9vL,4mkIH8ixbQ7cpOvhzEL7jc,1TFI1ltSMuCIoEc7as1Wvy,2Sh3g3NaqkD23mZ6Ugfrsq,2rPtQVGtHRQLUee3oujtRo,1I9BJwnpq5qTmgE3U2uO3J,0EdB5HMwb1KBk4NGqpP6rM,0Q1F2YDblewui4j2MoGgX5,0NzmTnOl9G3GMrUCNcmMgN,3jiEDw7G8ojPO1WSXkea2O,20UffSyFaybW0xW04IhSbL,5v4OkFH0TJ6W1hCFxyn0px,3l3nnniXzq1lBqYeYEJb1H,1JG8pJ7G8qJiy98DzCBL2E,4reUXdUEkTRDlCFJEANGQz,0kZJcDv4yOrtKe1Mdlb0tz,02N6JQNfiB1Hc4nKm2P0g4,7rPQyZgkxzLHAUQhYl29aX,3CPm8pViOWEUtCTI4qrWGu,0Gc6QNeD6gkIgIgx75C8M7,5MxUmeEt4KJMr8ag1WBP1A,6mibaVAge7lQvoH731VZJa,1CmhkiXegdbj3Ewizvdg2Q,0KTvHwi5cDdZh86cpZztfu,3pvVzmkWcggLY7m8yLos58,5R5JNgR4IG95hJFkZNg7kE,6BA2JM59JObFjHNvLK2KOg,1ADffIiBVfqDSRb8LKE3pU,2AzQHMmJ3Q9FUqUfT9KXKL,1QBqXh60CRVgY02oHJ9gYD,7GterxMQBBkkaoyJ1w9w9y,3Ojkw9bUCkW3odXjl6J1xi:\n",
      " Max Retries, reason: too many 429 error responses\n"
     ]
    },
    {
     "name": "stderr",
     "output_type": "stream",
     "text": [
      "\n"
     ]
    }
   ],
   "source": [
    "for chunk in tqdm(np.array_split(unique_tracks, len(unique_tracks)/90)):\n",
    "    try:\n",
    "        uris = chunk[\"spotify_track_uri\"].to_numpy()\n",
    "        result = sp.audio_features(uris)\n",
    "        result_nonull = []\n",
    "        for obj in result:\n",
    "            if obj != None:\n",
    "                result_nonull.append(obj)\n",
    "        chunk_df = pd.DataFrame(result_nonull)\n",
    "        audio_features = pd.concat([audio_features, chunk_df], join=\"inner\")\n",
    "    except Exception as e:\n",
    "        print(e)\n",
    "        break\n",
    "    "
   ]
  },
  {
   "cell_type": "code",
   "execution_count": 15,
   "id": "f91a9a2e-8eb5-48d4-87af-ebc6d6e54eb4",
   "metadata": {},
   "outputs": [
    {
     "data": {
      "text/html": [
       "<div>\n",
       "<style scoped>\n",
       "    .dataframe tbody tr th:only-of-type {\n",
       "        vertical-align: middle;\n",
       "    }\n",
       "\n",
       "    .dataframe tbody tr th {\n",
       "        vertical-align: top;\n",
       "    }\n",
       "\n",
       "    .dataframe thead th {\n",
       "        text-align: right;\n",
       "    }\n",
       "</style>\n",
       "<table border=\"1\" class=\"dataframe\">\n",
       "  <thead>\n",
       "    <tr style=\"text-align: right;\">\n",
       "      <th></th>\n",
       "      <th>spotify_track_uri</th>\n",
       "      <th>acousticness</th>\n",
       "      <th>danceability</th>\n",
       "      <th>duration_ms</th>\n",
       "      <th>energy</th>\n",
       "      <th>instrumentalness</th>\n",
       "      <th>key</th>\n",
       "      <th>liveness</th>\n",
       "      <th>loudness</th>\n",
       "      <th>mode</th>\n",
       "      <th>speechiness</th>\n",
       "      <th>tempo</th>\n",
       "      <th>time_signature</th>\n",
       "      <th>valence</th>\n",
       "    </tr>\n",
       "  </thead>\n",
       "  <tbody>\n",
       "  </tbody>\n",
       "</table>\n",
       "</div>"
      ],
      "text/plain": [
       "Empty DataFrame\n",
       "Columns: [spotify_track_uri, acousticness, danceability, duration_ms, energy, instrumentalness, key, liveness, loudness, mode, speechiness, tempo, time_signature, valence]\n",
       "Index: []"
      ]
     },
     "execution_count": 15,
     "metadata": {},
     "output_type": "execute_result"
    }
   ],
   "source": [
    "audio_features.rename({\"uri\": \"spotify_track_uri\"}, inplace=True, axis=1)\n",
    "audio_features"
   ]
  },
  {
   "cell_type": "code",
   "execution_count": 16,
   "id": "aa85fded-932c-4fa4-a90c-4855ee55f39d",
   "metadata": {},
   "outputs": [],
   "source": [
    "history_cleaned = pd.read_csv(\"history.csv\")"
   ]
  },
  {
   "cell_type": "code",
   "execution_count": 17,
   "id": "57ee86a6-e0df-4464-ad06-761c11c60987",
   "metadata": {},
   "outputs": [
    {
     "ename": "ValueError",
     "evalue": "columns overlap but no suffix specified: Index(['spotify_track_uri'], dtype='object')",
     "output_type": "error",
     "traceback": [
      "\u001b[0;31m---------------------------------------------------------------------------\u001b[0m",
      "\u001b[0;31mValueError\u001b[0m                                Traceback (most recent call last)",
      "Cell \u001b[0;32mIn[17], line 1\u001b[0m\n\u001b[0;32m----> 1\u001b[0m tacks_features \u001b[38;5;241m=\u001b[39m \u001b[43mhistory_cleaned\u001b[49m\u001b[38;5;241;43m.\u001b[39;49m\u001b[43mjoin\u001b[49m\u001b[43m(\u001b[49m\u001b[43maudio_features\u001b[49m\u001b[43m,\u001b[49m\u001b[43m \u001b[49m\u001b[43mon\u001b[49m\u001b[38;5;241;43m=\u001b[39;49m\u001b[38;5;124;43m\"\u001b[39;49m\u001b[38;5;124;43mspotify_track_uri\u001b[39;49m\u001b[38;5;124;43m\"\u001b[39;49m\u001b[43m)\u001b[49m\n",
      "File \u001b[0;32m~/.local/lib/python3.10/site-packages/pandas/core/frame.py:10757\u001b[0m, in \u001b[0;36mDataFrame.join\u001b[0;34m(self, other, on, how, lsuffix, rsuffix, sort, validate)\u001b[0m\n\u001b[1;32m  10747\u001b[0m     \u001b[38;5;28;01mif\u001b[39;00m how \u001b[38;5;241m==\u001b[39m \u001b[38;5;124m\"\u001b[39m\u001b[38;5;124mcross\u001b[39m\u001b[38;5;124m\"\u001b[39m:\n\u001b[1;32m  10748\u001b[0m         \u001b[38;5;28;01mreturn\u001b[39;00m merge(\n\u001b[1;32m  10749\u001b[0m             \u001b[38;5;28mself\u001b[39m,\n\u001b[1;32m  10750\u001b[0m             other,\n\u001b[0;32m   (...)\u001b[0m\n\u001b[1;32m  10755\u001b[0m             validate\u001b[38;5;241m=\u001b[39mvalidate,\n\u001b[1;32m  10756\u001b[0m         )\n\u001b[0;32m> 10757\u001b[0m     \u001b[38;5;28;01mreturn\u001b[39;00m \u001b[43mmerge\u001b[49m\u001b[43m(\u001b[49m\n\u001b[1;32m  10758\u001b[0m \u001b[43m        \u001b[49m\u001b[38;5;28;43mself\u001b[39;49m\u001b[43m,\u001b[49m\n\u001b[1;32m  10759\u001b[0m \u001b[43m        \u001b[49m\u001b[43mother\u001b[49m\u001b[43m,\u001b[49m\n\u001b[1;32m  10760\u001b[0m \u001b[43m        \u001b[49m\u001b[43mleft_on\u001b[49m\u001b[38;5;241;43m=\u001b[39;49m\u001b[43mon\u001b[49m\u001b[43m,\u001b[49m\n\u001b[1;32m  10761\u001b[0m \u001b[43m        \u001b[49m\u001b[43mhow\u001b[49m\u001b[38;5;241;43m=\u001b[39;49m\u001b[43mhow\u001b[49m\u001b[43m,\u001b[49m\n\u001b[1;32m  10762\u001b[0m \u001b[43m        \u001b[49m\u001b[43mleft_index\u001b[49m\u001b[38;5;241;43m=\u001b[39;49m\u001b[43mon\u001b[49m\u001b[43m \u001b[49m\u001b[38;5;129;43;01mis\u001b[39;49;00m\u001b[43m \u001b[49m\u001b[38;5;28;43;01mNone\u001b[39;49;00m\u001b[43m,\u001b[49m\n\u001b[1;32m  10763\u001b[0m \u001b[43m        \u001b[49m\u001b[43mright_index\u001b[49m\u001b[38;5;241;43m=\u001b[39;49m\u001b[38;5;28;43;01mTrue\u001b[39;49;00m\u001b[43m,\u001b[49m\n\u001b[1;32m  10764\u001b[0m \u001b[43m        \u001b[49m\u001b[43msuffixes\u001b[49m\u001b[38;5;241;43m=\u001b[39;49m\u001b[43m(\u001b[49m\u001b[43mlsuffix\u001b[49m\u001b[43m,\u001b[49m\u001b[43m \u001b[49m\u001b[43mrsuffix\u001b[49m\u001b[43m)\u001b[49m\u001b[43m,\u001b[49m\n\u001b[1;32m  10765\u001b[0m \u001b[43m        \u001b[49m\u001b[43msort\u001b[49m\u001b[38;5;241;43m=\u001b[39;49m\u001b[43msort\u001b[49m\u001b[43m,\u001b[49m\n\u001b[1;32m  10766\u001b[0m \u001b[43m        \u001b[49m\u001b[43mvalidate\u001b[49m\u001b[38;5;241;43m=\u001b[39;49m\u001b[43mvalidate\u001b[49m\u001b[43m,\u001b[49m\n\u001b[1;32m  10767\u001b[0m \u001b[43m    \u001b[49m\u001b[43m)\u001b[49m\n\u001b[1;32m  10768\u001b[0m \u001b[38;5;28;01melse\u001b[39;00m:\n\u001b[1;32m  10769\u001b[0m     \u001b[38;5;28;01mif\u001b[39;00m on \u001b[38;5;129;01mis\u001b[39;00m \u001b[38;5;129;01mnot\u001b[39;00m \u001b[38;5;28;01mNone\u001b[39;00m:\n",
      "File \u001b[0;32m~/.local/lib/python3.10/site-packages/pandas/core/reshape/merge.py:184\u001b[0m, in \u001b[0;36mmerge\u001b[0;34m(left, right, how, on, left_on, right_on, left_index, right_index, sort, suffixes, copy, indicator, validate)\u001b[0m\n\u001b[1;32m    169\u001b[0m \u001b[38;5;28;01melse\u001b[39;00m:\n\u001b[1;32m    170\u001b[0m     op \u001b[38;5;241m=\u001b[39m _MergeOperation(\n\u001b[1;32m    171\u001b[0m         left_df,\n\u001b[1;32m    172\u001b[0m         right_df,\n\u001b[0;32m   (...)\u001b[0m\n\u001b[1;32m    182\u001b[0m         validate\u001b[38;5;241m=\u001b[39mvalidate,\n\u001b[1;32m    183\u001b[0m     )\n\u001b[0;32m--> 184\u001b[0m     \u001b[38;5;28;01mreturn\u001b[39;00m \u001b[43mop\u001b[49m\u001b[38;5;241;43m.\u001b[39;49m\u001b[43mget_result\u001b[49m\u001b[43m(\u001b[49m\u001b[43mcopy\u001b[49m\u001b[38;5;241;43m=\u001b[39;49m\u001b[43mcopy\u001b[49m\u001b[43m)\u001b[49m\n",
      "File \u001b[0;32m~/.local/lib/python3.10/site-packages/pandas/core/reshape/merge.py:888\u001b[0m, in \u001b[0;36m_MergeOperation.get_result\u001b[0;34m(self, copy)\u001b[0m\n\u001b[1;32m    884\u001b[0m     \u001b[38;5;28mself\u001b[39m\u001b[38;5;241m.\u001b[39mleft, \u001b[38;5;28mself\u001b[39m\u001b[38;5;241m.\u001b[39mright \u001b[38;5;241m=\u001b[39m \u001b[38;5;28mself\u001b[39m\u001b[38;5;241m.\u001b[39m_indicator_pre_merge(\u001b[38;5;28mself\u001b[39m\u001b[38;5;241m.\u001b[39mleft, \u001b[38;5;28mself\u001b[39m\u001b[38;5;241m.\u001b[39mright)\n\u001b[1;32m    886\u001b[0m join_index, left_indexer, right_indexer \u001b[38;5;241m=\u001b[39m \u001b[38;5;28mself\u001b[39m\u001b[38;5;241m.\u001b[39m_get_join_info()\n\u001b[0;32m--> 888\u001b[0m result \u001b[38;5;241m=\u001b[39m \u001b[38;5;28;43mself\u001b[39;49m\u001b[38;5;241;43m.\u001b[39;49m\u001b[43m_reindex_and_concat\u001b[49m\u001b[43m(\u001b[49m\n\u001b[1;32m    889\u001b[0m \u001b[43m    \u001b[49m\u001b[43mjoin_index\u001b[49m\u001b[43m,\u001b[49m\u001b[43m \u001b[49m\u001b[43mleft_indexer\u001b[49m\u001b[43m,\u001b[49m\u001b[43m \u001b[49m\u001b[43mright_indexer\u001b[49m\u001b[43m,\u001b[49m\u001b[43m \u001b[49m\u001b[43mcopy\u001b[49m\u001b[38;5;241;43m=\u001b[39;49m\u001b[43mcopy\u001b[49m\n\u001b[1;32m    890\u001b[0m \u001b[43m\u001b[49m\u001b[43m)\u001b[49m\n\u001b[1;32m    891\u001b[0m result \u001b[38;5;241m=\u001b[39m result\u001b[38;5;241m.\u001b[39m__finalize__(\u001b[38;5;28mself\u001b[39m, method\u001b[38;5;241m=\u001b[39m\u001b[38;5;28mself\u001b[39m\u001b[38;5;241m.\u001b[39m_merge_type)\n\u001b[1;32m    893\u001b[0m \u001b[38;5;28;01mif\u001b[39;00m \u001b[38;5;28mself\u001b[39m\u001b[38;5;241m.\u001b[39mindicator:\n",
      "File \u001b[0;32m~/.local/lib/python3.10/site-packages/pandas/core/reshape/merge.py:840\u001b[0m, in \u001b[0;36m_MergeOperation._reindex_and_concat\u001b[0;34m(self, join_index, left_indexer, right_indexer, copy)\u001b[0m\n\u001b[1;32m    837\u001b[0m left \u001b[38;5;241m=\u001b[39m \u001b[38;5;28mself\u001b[39m\u001b[38;5;241m.\u001b[39mleft[:]\n\u001b[1;32m    838\u001b[0m right \u001b[38;5;241m=\u001b[39m \u001b[38;5;28mself\u001b[39m\u001b[38;5;241m.\u001b[39mright[:]\n\u001b[0;32m--> 840\u001b[0m llabels, rlabels \u001b[38;5;241m=\u001b[39m \u001b[43m_items_overlap_with_suffix\u001b[49m\u001b[43m(\u001b[49m\n\u001b[1;32m    841\u001b[0m \u001b[43m    \u001b[49m\u001b[38;5;28;43mself\u001b[39;49m\u001b[38;5;241;43m.\u001b[39;49m\u001b[43mleft\u001b[49m\u001b[38;5;241;43m.\u001b[39;49m\u001b[43m_info_axis\u001b[49m\u001b[43m,\u001b[49m\u001b[43m \u001b[49m\u001b[38;5;28;43mself\u001b[39;49m\u001b[38;5;241;43m.\u001b[39;49m\u001b[43mright\u001b[49m\u001b[38;5;241;43m.\u001b[39;49m\u001b[43m_info_axis\u001b[49m\u001b[43m,\u001b[49m\u001b[43m \u001b[49m\u001b[38;5;28;43mself\u001b[39;49m\u001b[38;5;241;43m.\u001b[39;49m\u001b[43msuffixes\u001b[49m\n\u001b[1;32m    842\u001b[0m \u001b[43m\u001b[49m\u001b[43m)\u001b[49m\n\u001b[1;32m    844\u001b[0m \u001b[38;5;28;01mif\u001b[39;00m left_indexer \u001b[38;5;129;01mis\u001b[39;00m \u001b[38;5;129;01mnot\u001b[39;00m \u001b[38;5;28;01mNone\u001b[39;00m \u001b[38;5;129;01mand\u001b[39;00m \u001b[38;5;129;01mnot\u001b[39;00m is_range_indexer(left_indexer, \u001b[38;5;28mlen\u001b[39m(left)):\n\u001b[1;32m    845\u001b[0m     \u001b[38;5;66;03m# Pinning the index here (and in the right code just below) is not\u001b[39;00m\n\u001b[1;32m    846\u001b[0m     \u001b[38;5;66;03m#  necessary, but makes the `.take` more performant if we have e.g.\u001b[39;00m\n\u001b[1;32m    847\u001b[0m     \u001b[38;5;66;03m#  a MultiIndex for left.index.\u001b[39;00m\n\u001b[1;32m    848\u001b[0m     lmgr \u001b[38;5;241m=\u001b[39m left\u001b[38;5;241m.\u001b[39m_mgr\u001b[38;5;241m.\u001b[39mreindex_indexer(\n\u001b[1;32m    849\u001b[0m         join_index,\n\u001b[1;32m    850\u001b[0m         left_indexer,\n\u001b[0;32m   (...)\u001b[0m\n\u001b[1;32m    855\u001b[0m         use_na_proxy\u001b[38;5;241m=\u001b[39m\u001b[38;5;28;01mTrue\u001b[39;00m,\n\u001b[1;32m    856\u001b[0m     )\n",
      "File \u001b[0;32m~/.local/lib/python3.10/site-packages/pandas/core/reshape/merge.py:2721\u001b[0m, in \u001b[0;36m_items_overlap_with_suffix\u001b[0;34m(left, right, suffixes)\u001b[0m\n\u001b[1;32m   2718\u001b[0m lsuffix, rsuffix \u001b[38;5;241m=\u001b[39m suffixes\n\u001b[1;32m   2720\u001b[0m \u001b[38;5;28;01mif\u001b[39;00m \u001b[38;5;129;01mnot\u001b[39;00m lsuffix \u001b[38;5;129;01mand\u001b[39;00m \u001b[38;5;129;01mnot\u001b[39;00m rsuffix:\n\u001b[0;32m-> 2721\u001b[0m     \u001b[38;5;28;01mraise\u001b[39;00m \u001b[38;5;167;01mValueError\u001b[39;00m(\u001b[38;5;124mf\u001b[39m\u001b[38;5;124m\"\u001b[39m\u001b[38;5;124mcolumns overlap but no suffix specified: \u001b[39m\u001b[38;5;132;01m{\u001b[39;00mto_rename\u001b[38;5;132;01m}\u001b[39;00m\u001b[38;5;124m\"\u001b[39m)\n\u001b[1;32m   2723\u001b[0m \u001b[38;5;28;01mdef\u001b[39;00m \u001b[38;5;21mrenamer\u001b[39m(x, suffix: \u001b[38;5;28mstr\u001b[39m \u001b[38;5;241m|\u001b[39m \u001b[38;5;28;01mNone\u001b[39;00m):\n\u001b[1;32m   2724\u001b[0m \u001b[38;5;250m    \u001b[39m\u001b[38;5;124;03m\"\"\"\u001b[39;00m\n\u001b[1;32m   2725\u001b[0m \u001b[38;5;124;03m    Rename the left and right indices.\u001b[39;00m\n\u001b[1;32m   2726\u001b[0m \n\u001b[0;32m   (...)\u001b[0m\n\u001b[1;32m   2737\u001b[0m \u001b[38;5;124;03m    x : renamed column name\u001b[39;00m\n\u001b[1;32m   2738\u001b[0m \u001b[38;5;124;03m    \"\"\"\u001b[39;00m\n",
      "\u001b[0;31mValueError\u001b[0m: columns overlap but no suffix specified: Index(['spotify_track_uri'], dtype='object')"
     ]
    }
   ],
   "source": [
    "tacks_features = history_cleaned.join(audio_features, on=\"spotify_track_uri\")"
   ]
  },
  {
   "cell_type": "code",
   "execution_count": null,
   "id": "8032d89e-c8d0-4ab9-a550-fa5d303ecf59",
   "metadata": {},
   "outputs": [],
   "source": []
  }
 ],
 "metadata": {
  "kernelspec": {
   "display_name": "Python 3 (ipykernel)",
   "language": "python",
   "name": "python3"
  },
  "language_info": {
   "codemirror_mode": {
    "name": "ipython",
    "version": 3
   },
   "file_extension": ".py",
   "mimetype": "text/x-python",
   "name": "python",
   "nbconvert_exporter": "python",
   "pygments_lexer": "ipython3",
   "version": "3.10.12"
  }
 },
 "nbformat": 4,
 "nbformat_minor": 5
}
