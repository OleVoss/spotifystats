{
 "cells": [
  {
   "cell_type": "code",
   "execution_count": 36,
   "id": "d26030be-a74e-40be-a710-894b19d6bba9",
   "metadata": {
    "editable": true,
    "slideshow": {
     "slide_type": ""
    },
    "tags": []
   },
   "outputs": [],
   "source": [
    "import pandas as pd\n",
    "import os\n",
    "from pathlib import Path\n",
    "from dotenv import load_dotenv\n",
    "import spotipy\n",
    "from tqdm import tqdm\n",
    "import numpy as np\n",
    "from spotipy.oauth2 import SpotifyClientCredentials\n",
    "import time"
   ]
  },
  {
   "cell_type": "code",
   "execution_count": 37,
   "id": "2454c6a7-53bd-4e43-84d5-23fd40ea19e1",
   "metadata": {},
   "outputs": [],
   "source": [
    "request_timer = 1"
   ]
  },
  {
   "cell_type": "code",
   "execution_count": 2,
   "id": "9a7b4491-751b-44db-a80d-63e7b2f3639d",
   "metadata": {
    "editable": true,
    "slideshow": {
     "slide_type": ""
    },
    "tags": []
   },
   "outputs": [
    {
     "name": "stdout",
     "output_type": "stream",
     "text": [
      "<class 'pandas.core.frame.DataFrame'>\n",
      "Index: 78786 entries, 0 to 15904\n",
      "Data columns (total 21 columns):\n",
      " #   Column                             Non-Null Count  Dtype  \n",
      "---  ------                             --------------  -----  \n",
      " 0   ts                                 78786 non-null  object \n",
      " 1   username                           78786 non-null  object \n",
      " 2   platform                           78786 non-null  object \n",
      " 3   ms_played                          78786 non-null  int64  \n",
      " 4   conn_country                       78786 non-null  object \n",
      " 5   ip_addr_decrypted                  78786 non-null  object \n",
      " 6   user_agent_decrypted               78693 non-null  object \n",
      " 7   master_metadata_track_name         78786 non-null  object \n",
      " 8   master_metadata_album_artist_name  78786 non-null  object \n",
      " 9   master_metadata_album_album_name   78786 non-null  object \n",
      " 10  spotify_track_uri                  78786 non-null  object \n",
      " 11  episode_name                       0 non-null      object \n",
      " 12  episode_show_name                  0 non-null      object \n",
      " 13  spotify_episode_uri                0 non-null      object \n",
      " 14  reason_start                       78786 non-null  object \n",
      " 15  reason_end                         78786 non-null  object \n",
      " 16  shuffle                            78786 non-null  bool   \n",
      " 17  skipped                            8651 non-null   float64\n",
      " 18  offline                            78786 non-null  bool   \n",
      " 19  offline_timestamp                  78786 non-null  int64  \n",
      " 20  incognito_mode                     78786 non-null  bool   \n",
      "dtypes: bool(3), float64(1), int64(2), object(15)\n",
      "memory usage: 11.6+ MB\n"
     ]
    }
   ],
   "source": [
    "paths = Path(\"./data/ole\").glob(\"endsong*.json\")\n",
    "df = pd.concat(map(pd.read_json, paths))\n",
    "df = df[df[\"spotify_track_uri\"].notnull()]\n",
    "df.info()"
   ]
  },
  {
   "cell_type": "markdown",
   "id": "f4595f8a-a7f8-4f12-91db-40e28cac06e6",
   "metadata": {
    "editable": true,
    "slideshow": {
     "slide_type": ""
    },
    "tags": []
   },
   "source": [
    "![](./docs/er.svg)"
   ]
  },
  {
   "cell_type": "markdown",
   "id": "f43215b0-eeb4-4ba5-ba73-6e62ef81501e",
   "metadata": {
    "editable": true,
    "slideshow": {
     "slide_type": ""
    },
    "tags": []
   },
   "source": [
    "## Preparation\n",
    "1. fetch Track Data from SpotifyWeb Api\n",
    "    - [ ] id\n",
    "    - [ ] duration\n",
    "    - [ ] music analysis\n",
    "    - [ ] audio features\n",
    "2. artist data"
   ]
  },
  {
   "cell_type": "code",
   "execution_count": 44,
   "id": "9a277a8f-5ff6-4866-99e3-b840ed374c12",
   "metadata": {
    "editable": true,
    "slideshow": {
     "slide_type": ""
    },
    "tags": []
   },
   "outputs": [],
   "source": [
    "load_dotenv()\n",
    "ID = os.getenv(\"ID_B\")\n",
    "SECRET = os.getenv(\"SECRET_B\")\n",
    "\n",
    "sp = spotipy.Spotify(auth_manager=SpotifyClientCredentials(client_id=ID, client_secret=SECRET))"
   ]
  },
  {
   "cell_type": "markdown",
   "id": "45c92aca-f307-4b33-bf47-0c3a8881ef90",
   "metadata": {
    "editable": true,
    "slideshow": {
     "slide_type": ""
    },
    "tags": []
   },
   "source": [
    "## 1. Tracks Data"
   ]
  },
  {
   "cell_type": "markdown",
   "id": "72fe7f85-b806-4017-b3e2-7f37e72e654f",
   "metadata": {
    "editable": true,
    "slideshow": {
     "slide_type": ""
    },
    "tags": []
   },
   "source": [
    "### 1.1 Existing data from the extended history\n",
    "\n",
    "Drop all duplicate entries in the history, therey removing multiple plays.\n",
    "However this is not sufficient to properly eliminate duplicate references to the same track, since one track can be played from different albums.\n",
    "For Example, when a song is at first released as a single, and later within an album. Individual plays appear with a different `spotify_track_uri`, altough they should be counted as one.\n",
    "\n",
    "To fix this, the online tool [Datablist](https://datablist.com) is used, to find and remove duplicates.\n",
    "An entry is considered a duplicate if the artist, album name, and track name are identical.\n",
    "Subsequently, the track uri's are merged into a comma-separated string, which is then transformed into an array for futher processing.\n",
    "Tough the column is then no longer atomic, is is now easier to assign play entries, with different uris to the same song.\n",
    "\n",
    "1. Import `unique_tracks.csv` into Datablist\n",
    "2. Find duplicates based on `artist`, `track` and `album`\n",
    "3. Merge `spotify_track_uri`, drop `album`\n",
    "\n",
    "<div class=\"alert alert-block alert-info\">\n",
    "<b>TODO:</b>    \n",
    "This should be automated, for processing new data.\n",
    "</div>"
   ]
  },
  {
   "cell_type": "code",
   "execution_count": 4,
   "id": "7554cc68-ba81-4bac-9d97-ba34284dab9e",
   "metadata": {
    "editable": true,
    "slideshow": {
     "slide_type": ""
    },
    "tags": []
   },
   "outputs": [
    {
     "name": "stdout",
     "output_type": "stream",
     "text": [
      "<class 'pandas.core.frame.DataFrame'>\n",
      "Index: 22705 entries, 0 to 15819\n",
      "Data columns (total 4 columns):\n",
      " #   Column                             Non-Null Count  Dtype \n",
      "---  ------                             --------------  ----- \n",
      " 0   master_metadata_track_name         22705 non-null  object\n",
      " 1   master_metadata_album_album_name   22705 non-null  object\n",
      " 2   spotify_track_uri                  22705 non-null  object\n",
      " 3   master_metadata_album_artist_name  22705 non-null  object\n",
      "dtypes: object(4)\n",
      "memory usage: 886.9+ KB\n"
     ]
    }
   ],
   "source": [
    "unique_tracks = df[df[\"episode_name\"].isnull()][[\"master_metadata_track_name\", \"master_metadata_album_album_name\", \"spotify_track_uri\", \"master_metadata_album_artist_name\"]].drop_duplicates()\n",
    "unique_tracks = unique_tracks.dropna()\n",
    "unique_tracks.info()\n",
    "#unique_tracks.to_csv(\"unique_tracks.csv\")"
   ]
  },
  {
   "cell_type": "code",
   "execution_count": 6,
   "id": "f56edd95-4a51-4fa8-b465-a040f4f44325",
   "metadata": {
    "editable": true,
    "slideshow": {
     "slide_type": ""
    },
    "tags": []
   },
   "outputs": [
    {
     "name": "stdout",
     "output_type": "stream",
     "text": [
      "Unique tracks after cleaning: 21206\n"
     ]
    },
    {
     "data": {
      "text/html": [
       "<div>\n",
       "<style scoped>\n",
       "    .dataframe tbody tr th:only-of-type {\n",
       "        vertical-align: middle;\n",
       "    }\n",
       "\n",
       "    .dataframe tbody tr th {\n",
       "        vertical-align: top;\n",
       "    }\n",
       "\n",
       "    .dataframe thead th {\n",
       "        text-align: right;\n",
       "    }\n",
       "</style>\n",
       "<table border=\"1\" class=\"dataframe\">\n",
       "  <thead>\n",
       "    <tr style=\"text-align: right;\">\n",
       "      <th></th>\n",
       "      <th>master_metadata_track_name</th>\n",
       "      <th>master_metadata_album_album_name</th>\n",
       "      <th>spotify_track_uri</th>\n",
       "      <th>master_metadata_album_artist_name</th>\n",
       "    </tr>\n",
       "  </thead>\n",
       "  <tbody>\n",
       "    <tr>\n",
       "      <th>0</th>\n",
       "      <td>STFU</td>\n",
       "      <td>Long Time, No See.</td>\n",
       "      <td>[spotify:track:7DOq1mhfUI49SNVAlx8E1v]</td>\n",
       "      <td>Aim Vision</td>\n",
       "    </tr>\n",
       "    <tr>\n",
       "      <th>1</th>\n",
       "      <td>Wo bist Du? (feat. Alligatoah)</td>\n",
       "      <td>Wo bist Du? (feat. Alligatoah)</td>\n",
       "      <td>[spotify:track:7Dbq3XgIm824Od54EHIhBC, spotify...</td>\n",
       "      <td>Swiss</td>\n",
       "    </tr>\n",
       "    <tr>\n",
       "      <th>2</th>\n",
       "      <td>What I Know Is All Quicksand - rookery live tapes</td>\n",
       "      <td>rookery live tapes</td>\n",
       "      <td>[spotify:track:71E4QM6O81q0DX79Cg6EGk]</td>\n",
       "      <td>Giant Rooks</td>\n",
       "    </tr>\n",
       "    <tr>\n",
       "      <th>3</th>\n",
       "      <td>Bentley Coupe</td>\n",
       "      <td>Bentley Coupe</td>\n",
       "      <td>[spotify:track:7aksJRV1H0pCds7FSiZ8ZI]</td>\n",
       "      <td>Social House</td>\n",
       "    </tr>\n",
       "    <tr>\n",
       "      <th>4</th>\n",
       "      <td>Tauchen (feat. KYMA)</td>\n",
       "      <td>Malu</td>\n",
       "      <td>[spotify:track:6yBIrzVvtYoL0meYNmDEHa]</td>\n",
       "      <td>Tom Thaler &amp; Basil</td>\n",
       "    </tr>\n",
       "  </tbody>\n",
       "</table>\n",
       "</div>"
      ],
      "text/plain": [
       "                          master_metadata_track_name  \\\n",
       "0                                               STFU   \n",
       "1                     Wo bist Du? (feat. Alligatoah)   \n",
       "2  What I Know Is All Quicksand - rookery live tapes   \n",
       "3                                      Bentley Coupe   \n",
       "4                               Tauchen (feat. KYMA)   \n",
       "\n",
       "  master_metadata_album_album_name  \\\n",
       "0               Long Time, No See.   \n",
       "1   Wo bist Du? (feat. Alligatoah)   \n",
       "2               rookery live tapes   \n",
       "3                    Bentley Coupe   \n",
       "4                             Malu   \n",
       "\n",
       "                                   spotify_track_uri  \\\n",
       "0             [spotify:track:7DOq1mhfUI49SNVAlx8E1v]   \n",
       "1  [spotify:track:7Dbq3XgIm824Od54EHIhBC, spotify...   \n",
       "2             [spotify:track:71E4QM6O81q0DX79Cg6EGk]   \n",
       "3             [spotify:track:7aksJRV1H0pCds7FSiZ8ZI]   \n",
       "4             [spotify:track:6yBIrzVvtYoL0meYNmDEHa]   \n",
       "\n",
       "  master_metadata_album_artist_name  \n",
       "0                        Aim Vision  \n",
       "1                             Swiss  \n",
       "2                       Giant Rooks  \n",
       "3                      Social House  \n",
       "4                Tom Thaler & Basil  "
      ]
     },
     "execution_count": 6,
     "metadata": {},
     "output_type": "execute_result"
    }
   ],
   "source": [
    "tracks_cleaned = pd.read_csv(\"./processed/ole/unique_cleaned.csv\")\n",
    "tracks_cleaned[\"spotify_track_uri\"] = tracks_cleaned[\"spotify_track_uri\"].apply(lambda r: [s for s in r.split(\",\")])\n",
    "print(\"Unique tracks after cleaning:\", len(tracks_cleaned))\n",
    "tracks_cleaned.head()"
   ]
  },
  {
   "cell_type": "markdown",
   "id": "8ae466e1-85ae-48ed-9cd5-e7eb3c840b3b",
   "metadata": {
    "editable": true,
    "slideshow": {
     "slide_type": ""
    },
    "tags": []
   },
   "source": [
    "This separation still is not enough, because having two keys for every track makes it difficult to aggregate the data.\n",
    "Therefore every uri in the `extended history`, that is related to another track, is replaced by the first uri in the `spotify_track_uri` array above.\n",
    "\n",
    "<div class=\"alert alert-block alert-warning\">\n",
    "This only has to be done once. The resulting dataframe is strored as a `.csv`. \n",
    "</div>"
   ]
  },
  {
   "cell_type": "code",
   "execution_count": 8,
   "id": "96a9ad10-22fd-45af-9e36-754237ddfdac",
   "metadata": {
    "editable": true,
    "slideshow": {
     "slide_type": ""
    },
    "tags": []
   },
   "outputs": [],
   "source": [
    "process = False\n",
    "if process:\n",
    "    lookup = tracks_cleaned[\"spotify_track_uri\"].to_frame()\n",
    "    lookup.columns = [\"from\"]\n",
    "    lookup[\"to\"] = lookup[\"from\"].map(lambda r: r[0])\n",
    "    lookup.head()\n",
    "    \n",
    "    tqdm.pandas()\n",
    "    df[\"spotify_track_uri\"] = df[\"spotify_track_uri\"].progress_map(lambda x: lookup[lookup[\"from\"].str.join(\" \").str.contains(x)][\"to\"].item())\n",
    "    df.to_csv(\"./processed/ole/history.csv\")"
   ]
  },
  {
   "cell_type": "markdown",
   "id": "99eb0e18-e18b-4f86-a3d0-a2031fd54dc5",
   "metadata": {
    "editable": true,
    "slideshow": {
     "slide_type": ""
    },
    "tags": []
   },
   "source": [
    "---\n",
    "Once the tracks have been processed, the next stage is to prepare the relevant metrics.\n",
    "The Spotify web API provides information about every track, namely audio features and analysis.\n",
    "\n",
    "### 1.2 Audio Features\n",
    "\n",
    "This is an example response for the audio features of \"Time is Running Out\" by \"Muse\".\n",
    "```json\n",
    "\"acousticness\": 0.00242,\n",
    "\"analysis_url\": \"https://api.spotify.com/v1/audio-analysis/2takcwOaAZWiXQijPHIx7B\",\n",
    "\"danceability\": 0.585,\n",
    "\"duration_ms\": 237040,\n",
    "\"energy\": 0.842,\n",
    "\"id\": \"2takcwOaAZWiXQijPHIx7B\",\n",
    "\"instrumentalness\": 0.00686,\n",
    "\"key\": 9,\n",
    "\"liveness\": 0.0866,\n",
    "\"loudness\": -5.883,\n",
    "\"mode\": 0,\n",
    "\"speechiness\": 0.0556,\n",
    "\"tempo\": 118.211,\n",
    "\"time_signature\": 4,\n",
    "\"track_href\": \"https://api.spotify.com/v1/tracks/2takcwOaAZWiXQijPHIx7B\",\n",
    "\"type\": \"audio_features\",\n",
    "\"uri\": \"spotify:track:2takcwOaAZWiXQijPHIx7B\",\n",
    "\"valence\": 0.428\n",
    "```\n",
    "\n",
    "Since the uri's are now cleaned, we can just request the auto features via the spotify api and append them to our dataframe."
   ]
  },
  {
   "cell_type": "code",
   "execution_count": 39,
   "id": "0d738a89-e854-4d1a-9cc4-d84f097f9669",
   "metadata": {},
   "outputs": [
    {
     "data": {
      "text/html": [
       "<div>\n",
       "<style scoped>\n",
       "    .dataframe tbody tr th:only-of-type {\n",
       "        vertical-align: middle;\n",
       "    }\n",
       "\n",
       "    .dataframe tbody tr th {\n",
       "        vertical-align: top;\n",
       "    }\n",
       "\n",
       "    .dataframe thead th {\n",
       "        text-align: right;\n",
       "    }\n",
       "</style>\n",
       "<table border=\"1\" class=\"dataframe\">\n",
       "  <thead>\n",
       "    <tr style=\"text-align: right;\">\n",
       "      <th></th>\n",
       "      <th>uri</th>\n",
       "      <th>acousticness</th>\n",
       "      <th>danceability</th>\n",
       "      <th>duration_ms</th>\n",
       "      <th>energy</th>\n",
       "      <th>instrumentalness</th>\n",
       "      <th>key</th>\n",
       "      <th>liveness</th>\n",
       "      <th>loudness</th>\n",
       "      <th>mode</th>\n",
       "      <th>speechiness</th>\n",
       "      <th>tempo</th>\n",
       "      <th>time_signature</th>\n",
       "      <th>valence</th>\n",
       "    </tr>\n",
       "  </thead>\n",
       "  <tbody>\n",
       "  </tbody>\n",
       "</table>\n",
       "</div>"
      ],
      "text/plain": [
       "Empty DataFrame\n",
       "Columns: [uri, acousticness, danceability, duration_ms, energy, instrumentalness, key, liveness, loudness, mode, speechiness, tempo, time_signature, valence]\n",
       "Index: []"
      ]
     },
     "execution_count": 39,
     "metadata": {},
     "output_type": "execute_result"
    }
   ],
   "source": [
    "audio_features = pd.DataFrame(columns=[\n",
    "    \"uri\",\n",
    "    \"acousticness\",\n",
    "    \"danceability\",\n",
    "    \"duration_ms\",\n",
    "    \"energy\",\n",
    "    \"instrumentalness\",\n",
    "    \"key\",\n",
    "    \"liveness\",\n",
    "    \"loudness\",\n",
    "    \"mode\",\n",
    "    \"speechiness\",\n",
    "    \"tempo\",\n",
    "    \"time_signature\",\n",
    "    \"valence\",\n",
    "])\n",
    "audio_features.head()"
   ]
  },
  {
   "cell_type": "markdown",
   "id": "0b24fa37-530c-45cd-bc3e-331b39fd290f",
   "metadata": {},
   "source": [
    "<div class=\"alert alert-block alert-warning\">\n",
    "Use with caution! The spotify rate limit currently block any api call. (At least to the audio-features endpoint)\n",
    "</div>"
   ]
  },
  {
   "cell_type": "code",
   "execution_count": 38,
   "id": "63ffb043-7402-476b-b15f-16736dc26b32",
   "metadata": {
    "scrolled": true
   },
   "outputs": [
    {
     "ename": "NameError",
     "evalue": "name 'unique_tracks' is not defined",
     "output_type": "error",
     "traceback": [
      "\u001b[0;31m---------------------------------------------------------------------------\u001b[0m",
      "\u001b[0;31mNameError\u001b[0m                                 Traceback (most recent call last)",
      "Cell \u001b[0;32mIn[38], line 2\u001b[0m\n\u001b[1;32m      1\u001b[0m \u001b[38;5;28;01mimport\u001b[39;00m \u001b[38;5;21;01mtime\u001b[39;00m\n\u001b[0;32m----> 2\u001b[0m \u001b[38;5;28;01mfor\u001b[39;00m chunk \u001b[38;5;129;01min\u001b[39;00m tqdm(np\u001b[38;5;241m.\u001b[39marray_split(\u001b[43munique_tracks\u001b[49m, \u001b[38;5;28mlen\u001b[39m(unique_tracks)\u001b[38;5;241m/\u001b[39m\u001b[38;5;241m90\u001b[39m)):\n\u001b[1;32m      3\u001b[0m     \u001b[38;5;28;01mtry\u001b[39;00m:\n\u001b[1;32m      4\u001b[0m         time\u001b[38;5;241m.\u001b[39msleep(request_timer)\n",
      "\u001b[0;31mNameError\u001b[0m: name 'unique_tracks' is not defined"
     ]
    }
   ],
   "source": [
    "import time\n",
    "for chunk in tqdm(np.array_split(unique_tracks, len(unique_tracks)/90)):\n",
    "    try:\n",
    "        time.sleep(request_timer)\n",
    "        uris = chunk[\"spotify_track_uri\"].to_numpy()\n",
    "        result = sp.audio_features(uris)\n",
    "        result_nonull = []\n",
    "        for obj in result:\n",
    "            if obj != None:\n",
    "                result_nonull.append(obj)\n",
    "        chunk_df = pd.DataFrame(result_nonull)\n",
    "        audio_features = pd.concat([audio_features, chunk_df], join=\"inner\")\n",
    "    except Exception as e:\n",
    "        print(e)\n",
    "        break\n",
    "    "
   ]
  },
  {
   "cell_type": "code",
   "execution_count": 27,
   "id": "f91a9a2e-8eb5-48d4-87af-ebc6d6e54eb4",
   "metadata": {},
   "outputs": [
    {
     "data": {
      "text/html": [
       "<div>\n",
       "<style scoped>\n",
       "    .dataframe tbody tr th:only-of-type {\n",
       "        vertical-align: middle;\n",
       "    }\n",
       "\n",
       "    .dataframe tbody tr th {\n",
       "        vertical-align: top;\n",
       "    }\n",
       "\n",
       "    .dataframe thead th {\n",
       "        text-align: right;\n",
       "    }\n",
       "</style>\n",
       "<table border=\"1\" class=\"dataframe\">\n",
       "  <thead>\n",
       "    <tr style=\"text-align: right;\">\n",
       "      <th></th>\n",
       "      <th>spotify_track_uri</th>\n",
       "      <th>acousticness</th>\n",
       "      <th>danceability</th>\n",
       "      <th>duration_ms</th>\n",
       "      <th>energy</th>\n",
       "      <th>instrumentalness</th>\n",
       "      <th>key</th>\n",
       "      <th>liveness</th>\n",
       "      <th>loudness</th>\n",
       "      <th>mode</th>\n",
       "      <th>speechiness</th>\n",
       "      <th>tempo</th>\n",
       "      <th>time_signature</th>\n",
       "      <th>valence</th>\n",
       "    </tr>\n",
       "  </thead>\n",
       "  <tbody>\n",
       "    <tr>\n",
       "      <th>0</th>\n",
       "      <td>spotify:track:7DOq1mhfUI49SNVAlx8E1v</td>\n",
       "      <td>0.0699</td>\n",
       "      <td>0.817</td>\n",
       "      <td>147252</td>\n",
       "      <td>0.674</td>\n",
       "      <td>0.00639</td>\n",
       "      <td>3</td>\n",
       "      <td>0.12</td>\n",
       "      <td>-7.787</td>\n",
       "      <td>0</td>\n",
       "      <td>0.0476</td>\n",
       "      <td>119.999</td>\n",
       "      <td>4</td>\n",
       "      <td>0.79</td>\n",
       "    </tr>\n",
       "  </tbody>\n",
       "</table>\n",
       "</div>"
      ],
      "text/plain": [
       "                      spotify_track_uri  acousticness  danceability  \\\n",
       "0  spotify:track:7DOq1mhfUI49SNVAlx8E1v        0.0699         0.817   \n",
       "\n",
       "  duration_ms  energy  instrumentalness key  liveness  loudness mode  \\\n",
       "0      147252   0.674           0.00639   3      0.12    -7.787    0   \n",
       "\n",
       "   speechiness    tempo time_signature  valence  \n",
       "0       0.0476  119.999              4     0.79  "
      ]
     },
     "execution_count": 27,
     "metadata": {},
     "output_type": "execute_result"
    }
   ],
   "source": [
    "audio_features.rename({\"uri\": \"spotify_track_uri\"}, inplace=True, axis=1)\n",
    "audio_features"
   ]
  },
  {
   "cell_type": "code",
   "execution_count": 28,
   "id": "aa85fded-932c-4fa4-a90c-4855ee55f39d",
   "metadata": {},
   "outputs": [],
   "source": [
    "unique_cleaned = pd.read_csv(\"./processed/ole/unique_cleaned.csv\")"
   ]
  },
  {
   "cell_type": "code",
   "execution_count": 29,
   "id": "57ee86a6-e0df-4464-ad06-761c11c60987",
   "metadata": {},
   "outputs": [
    {
     "data": {
      "text/html": [
       "<div>\n",
       "<style scoped>\n",
       "    .dataframe tbody tr th:only-of-type {\n",
       "        vertical-align: middle;\n",
       "    }\n",
       "\n",
       "    .dataframe tbody tr th {\n",
       "        vertical-align: top;\n",
       "    }\n",
       "\n",
       "    .dataframe thead th {\n",
       "        text-align: right;\n",
       "    }\n",
       "</style>\n",
       "<table border=\"1\" class=\"dataframe\">\n",
       "  <thead>\n",
       "    <tr style=\"text-align: right;\">\n",
       "      <th></th>\n",
       "      <th>master_metadata_track_name</th>\n",
       "      <th>master_metadata_album_album_name</th>\n",
       "      <th>spotify_track_uri</th>\n",
       "      <th>master_metadata_album_artist_name</th>\n",
       "      <th>acousticness</th>\n",
       "      <th>danceability</th>\n",
       "      <th>duration_ms</th>\n",
       "      <th>energy</th>\n",
       "      <th>instrumentalness</th>\n",
       "      <th>key</th>\n",
       "      <th>liveness</th>\n",
       "      <th>loudness</th>\n",
       "      <th>mode</th>\n",
       "      <th>speechiness</th>\n",
       "      <th>tempo</th>\n",
       "      <th>time_signature</th>\n",
       "      <th>valence</th>\n",
       "    </tr>\n",
       "  </thead>\n",
       "  <tbody>\n",
       "    <tr>\n",
       "      <th>19648</th>\n",
       "      <td>STFU</td>\n",
       "      <td>Long Time, No See.</td>\n",
       "      <td>spotify:track:7DOq1mhfUI49SNVAlx8E1v</td>\n",
       "      <td>Aim Vision</td>\n",
       "      <td>0.0699</td>\n",
       "      <td>0.817</td>\n",
       "      <td>147252</td>\n",
       "      <td>0.674</td>\n",
       "      <td>0.00639</td>\n",
       "      <td>3</td>\n",
       "      <td>0.12</td>\n",
       "      <td>-7.787</td>\n",
       "      <td>0</td>\n",
       "      <td>0.0476</td>\n",
       "      <td>119.999</td>\n",
       "      <td>4</td>\n",
       "      <td>0.79</td>\n",
       "    </tr>\n",
       "  </tbody>\n",
       "</table>\n",
       "</div>"
      ],
      "text/plain": [
       "      master_metadata_track_name master_metadata_album_album_name  \\\n",
       "19648                       STFU               Long Time, No See.   \n",
       "\n",
       "                          spotify_track_uri master_metadata_album_artist_name  \\\n",
       "19648  spotify:track:7DOq1mhfUI49SNVAlx8E1v                        Aim Vision   \n",
       "\n",
       "       acousticness  danceability duration_ms  energy  instrumentalness key  \\\n",
       "19648        0.0699         0.817      147252   0.674           0.00639   3   \n",
       "\n",
       "       liveness  loudness mode  speechiness    tempo time_signature  valence  \n",
       "19648      0.12    -7.787    0       0.0476  119.999              4     0.79  "
      ]
     },
     "execution_count": 29,
     "metadata": {},
     "output_type": "execute_result"
    }
   ],
   "source": [
    "tracks_features = unique_cleaned.merge(audio_features, how=\"outer\", on=\"spotify_track_uri\")\n",
    "tracks_features[tracks_features[\"energy\"].notnull()]"
   ]
  },
  {
   "cell_type": "markdown",
   "id": "4e2ea2a2-aa80-44ef-9c8a-6b13375b640a",
   "metadata": {},
   "source": [
    "## 2. Artists and Genres\n",
    "\n",
    "In order to gain insight into the different genres listened to, the artist data must be queried.\n",
    "Due to the nature of an n to n relationship, the artist and genre data is modelled as shown in the ER diagram above.\n",
    "\n",
    "The problem is that only the main artist is given in the extended history, not the features. Also, the artist is only referenced by name and a spotify_id is required to request further data.\n",
    "However, the tracks api also contains all information about the artist that contributed to the track. So in order to get the artist ids, we have to querry all tracks."
   ]
  },
  {
   "cell_type": "code",
   "execution_count": 37,
   "id": "164f7466-36d5-49e9-87a2-09b98f3705e9",
   "metadata": {},
   "outputs": [
    {
     "data": {
      "text/html": [
       "<div>\n",
       "<style scoped>\n",
       "    .dataframe tbody tr th:only-of-type {\n",
       "        vertical-align: middle;\n",
       "    }\n",
       "\n",
       "    .dataframe tbody tr th {\n",
       "        vertical-align: top;\n",
       "    }\n",
       "\n",
       "    .dataframe thead th {\n",
       "        text-align: right;\n",
       "    }\n",
       "</style>\n",
       "<table border=\"1\" class=\"dataframe\">\n",
       "  <thead>\n",
       "    <tr style=\"text-align: right;\">\n",
       "      <th></th>\n",
       "      <th>master_metadata_track_name</th>\n",
       "      <th>master_metadata_album_album_name</th>\n",
       "      <th>spotify_track_uri</th>\n",
       "      <th>master_metadata_album_artist_name</th>\n",
       "    </tr>\n",
       "  </thead>\n",
       "  <tbody>\n",
       "    <tr>\n",
       "      <th>0</th>\n",
       "      <td>STFU</td>\n",
       "      <td>Long Time, No See.</td>\n",
       "      <td>spotify:track:7DOq1mhfUI49SNVAlx8E1v</td>\n",
       "      <td>Aim Vision</td>\n",
       "    </tr>\n",
       "    <tr>\n",
       "      <th>1</th>\n",
       "      <td>Wo bist Du? (feat. Alligatoah)</td>\n",
       "      <td>Wo bist Du? (feat. Alligatoah)</td>\n",
       "      <td>spotify:track:7Dbq3XgIm824Od54EHIhBC,spotify:t...</td>\n",
       "      <td>Swiss</td>\n",
       "    </tr>\n",
       "    <tr>\n",
       "      <th>2</th>\n",
       "      <td>What I Know Is All Quicksand - rookery live tapes</td>\n",
       "      <td>rookery live tapes</td>\n",
       "      <td>spotify:track:71E4QM6O81q0DX79Cg6EGk</td>\n",
       "      <td>Giant Rooks</td>\n",
       "    </tr>\n",
       "    <tr>\n",
       "      <th>3</th>\n",
       "      <td>Bentley Coupe</td>\n",
       "      <td>Bentley Coupe</td>\n",
       "      <td>spotify:track:7aksJRV1H0pCds7FSiZ8ZI</td>\n",
       "      <td>Social House</td>\n",
       "    </tr>\n",
       "    <tr>\n",
       "      <th>4</th>\n",
       "      <td>Tauchen (feat. KYMA)</td>\n",
       "      <td>Malu</td>\n",
       "      <td>spotify:track:6yBIrzVvtYoL0meYNmDEHa</td>\n",
       "      <td>Tom Thaler &amp; Basil</td>\n",
       "    </tr>\n",
       "  </tbody>\n",
       "</table>\n",
       "</div>"
      ],
      "text/plain": [
       "                          master_metadata_track_name  \\\n",
       "0                                               STFU   \n",
       "1                     Wo bist Du? (feat. Alligatoah)   \n",
       "2  What I Know Is All Quicksand - rookery live tapes   \n",
       "3                                      Bentley Coupe   \n",
       "4                               Tauchen (feat. KYMA)   \n",
       "\n",
       "  master_metadata_album_album_name  \\\n",
       "0               Long Time, No See.   \n",
       "1   Wo bist Du? (feat. Alligatoah)   \n",
       "2               rookery live tapes   \n",
       "3                    Bentley Coupe   \n",
       "4                             Malu   \n",
       "\n",
       "                                   spotify_track_uri  \\\n",
       "0               spotify:track:7DOq1mhfUI49SNVAlx8E1v   \n",
       "1  spotify:track:7Dbq3XgIm824Od54EHIhBC,spotify:t...   \n",
       "2               spotify:track:71E4QM6O81q0DX79Cg6EGk   \n",
       "3               spotify:track:7aksJRV1H0pCds7FSiZ8ZI   \n",
       "4               spotify:track:6yBIrzVvtYoL0meYNmDEHa   \n",
       "\n",
       "  master_metadata_album_artist_name  \n",
       "0                        Aim Vision  \n",
       "1                             Swiss  \n",
       "2                       Giant Rooks  \n",
       "3                      Social House  \n",
       "4                Tom Thaler & Basil  "
      ]
     },
     "execution_count": 37,
     "metadata": {},
     "output_type": "execute_result"
    }
   ],
   "source": [
    "unique_cleaned.head()"
   ]
  },
  {
   "cell_type": "code",
   "execution_count": 93,
   "id": "212ff3f8-aa59-4323-8659-25f3232ece2c",
   "metadata": {},
   "outputs": [],
   "source": [
    "df_artist = pd.DataFrame(columns=[\"artist_name\", \"artist_uri\", \"genres\"])\n",
    "df_artist_track = pd.DataFrame(columns=[\"artist_uri\", \"track_uri\"])"
   ]
  },
  {
   "cell_type": "code",
   "execution_count": 94,
   "id": "5f87e8ae-628f-4dc3-ae5c-379cdcea3950",
   "metadata": {},
   "outputs": [
    {
     "name": "stderr",
     "output_type": "stream",
     "text": [
      "/home/voss/.local/lib/python3.10/site-packages/numpy/core/fromnumeric.py:59: FutureWarning: 'DataFrame.swapaxes' is deprecated and will be removed in a future version. Please use 'DataFrame.transpose' instead.\n",
      "  return bound(*args, **kwds)\n",
      "100%|████████████████████████████████████████████████████████████████████████████████████████████████████████| 471/471 [09:33<00:00,  1.22s/it]\n"
     ]
    }
   ],
   "source": [
    "request = False\n",
    "if request:\n",
    "    artist_data = []\n",
    "    artist_track_data = []\n",
    "    for chunk in tqdm(np.array_split(unique_cleaned, len(unique_cleaned)/45)):\n",
    "        try:\n",
    "            uris = chunk[\"spotify_track_uri\"].map(lambda x: x.split(\",\")[0]).to_numpy()\n",
    "            result = sp.tracks(uris, market=\"DE\")[\"tracks\"]\n",
    "            time.sleep(request_timer)\n",
    "            result_nonull = []\n",
    "            for track in result:\n",
    "                if track != None:\n",
    "                    for artist in track[\"artists\"]:\n",
    "                        artist_data.append([artist[\"name\"], artist[\"uri\"], artist.get(\"genres\", None)])\n",
    "                        artist_track_data.append([artist[\"uri\"], track[\"uri\"]])\n",
    "                \n",
    "        except Exception as e:\n",
    "            print(e)\n",
    "            break"
   ]
  },
  {
   "cell_type": "code",
   "execution_count": 24,
   "id": "e64583cb-39a3-4086-9ea5-7715955eacd8",
   "metadata": {},
   "outputs": [],
   "source": [
    "load_from_file = True\n",
    "\n",
    "if load_from_file:\n",
    "    df_artist = pd.read_csv(\"./processed/ole/artist.csv\")\n",
    "    df_artist_track = pd.read_csv(\"./processed/ole/artist_track.csv\")\n",
    "else:    \n",
    "    df_artist_track = pd.DataFrame(artist_track_data, columns=[\"artist_uri\", \"track_uri\"])\n",
    "    df_artist_track.to_csv(\"./processed/ole/artist_track.csv\")\n",
    "    df_artist_track.info()\n",
    "    \n",
    "    df_artist = pd.DataFrame(artist_data, columns=[\"artist_name\", \"artist_uri\", \"genres\"]).drop_duplicates()\n",
    "    df_artist.to_csv(\"./processed/ole/artist.csv\")\n",
    "    df_artist.head()"
   ]
  },
  {
   "cell_type": "code",
   "execution_count": 27,
   "id": "ba754702-18d0-4a7c-8768-af1a58a0acde",
   "metadata": {},
   "outputs": [
    {
     "data": {
      "text/html": [
       "<div>\n",
       "<style scoped>\n",
       "    .dataframe tbody tr th:only-of-type {\n",
       "        vertical-align: middle;\n",
       "    }\n",
       "\n",
       "    .dataframe tbody tr th {\n",
       "        vertical-align: top;\n",
       "    }\n",
       "\n",
       "    .dataframe thead th {\n",
       "        text-align: right;\n",
       "    }\n",
       "</style>\n",
       "<table border=\"1\" class=\"dataframe\">\n",
       "  <thead>\n",
       "    <tr style=\"text-align: right;\">\n",
       "      <th></th>\n",
       "      <th>artist_name</th>\n",
       "      <th>artist_uri</th>\n",
       "    </tr>\n",
       "  </thead>\n",
       "  <tbody>\n",
       "    <tr>\n",
       "      <th>0</th>\n",
       "      <td>Aim Vision</td>\n",
       "      <td>spotify:artist:2sis3xwzmvAPHBEOrztf0B</td>\n",
       "    </tr>\n",
       "    <tr>\n",
       "      <th>1</th>\n",
       "      <td>Swiss</td>\n",
       "      <td>spotify:artist:702Fgj9mIQ9bzfp9i9Dg7B</td>\n",
       "    </tr>\n",
       "    <tr>\n",
       "      <th>2</th>\n",
       "      <td>Swiss &amp; Die Andern</td>\n",
       "      <td>spotify:artist:3d8f0YBZivistZ4Ohauncb</td>\n",
       "    </tr>\n",
       "    <tr>\n",
       "      <th>3</th>\n",
       "      <td>Alligatoah</td>\n",
       "      <td>spotify:artist:0r0R5nIjDY04TfxRM10Bcb</td>\n",
       "    </tr>\n",
       "    <tr>\n",
       "      <th>4</th>\n",
       "      <td>Giant Rooks</td>\n",
       "      <td>spotify:artist:5wD0owYApRtYmjPWavWKvb</td>\n",
       "    </tr>\n",
       "    <tr>\n",
       "      <th>...</th>\n",
       "      <td>...</td>\n",
       "      <td>...</td>\n",
       "    </tr>\n",
       "    <tr>\n",
       "      <th>11458</th>\n",
       "      <td>Remoe</td>\n",
       "      <td>spotify:artist:2Q570lQPWiuP2dCOP69jO3</td>\n",
       "    </tr>\n",
       "    <tr>\n",
       "      <th>11459</th>\n",
       "      <td>Kidaf</td>\n",
       "      <td>spotify:artist:5JBZrdeCKdPc2ScgCceX1s</td>\n",
       "    </tr>\n",
       "    <tr>\n",
       "      <th>11460</th>\n",
       "      <td>Reggie ‘N’ Bollie</td>\n",
       "      <td>spotify:artist:3qCIifFHqOTzTAC1Sww8ms</td>\n",
       "    </tr>\n",
       "    <tr>\n",
       "      <th>11461</th>\n",
       "      <td>ICEDEALER</td>\n",
       "      <td>spotify:artist:1jY586SXHigiZ1m3wJpjdh</td>\n",
       "    </tr>\n",
       "    <tr>\n",
       "      <th>11462</th>\n",
       "      <td>Famous Dex</td>\n",
       "      <td>spotify:artist:0WOxhx4hikIsyF3CRPLC8W</td>\n",
       "    </tr>\n",
       "  </tbody>\n",
       "</table>\n",
       "<p>11462 rows × 2 columns</p>\n",
       "</div>"
      ],
      "text/plain": [
       "              artist_name                             artist_uri\n",
       "0              Aim Vision  spotify:artist:2sis3xwzmvAPHBEOrztf0B\n",
       "1                   Swiss  spotify:artist:702Fgj9mIQ9bzfp9i9Dg7B\n",
       "2      Swiss & Die Andern  spotify:artist:3d8f0YBZivistZ4Ohauncb\n",
       "3              Alligatoah  spotify:artist:0r0R5nIjDY04TfxRM10Bcb\n",
       "4             Giant Rooks  spotify:artist:5wD0owYApRtYmjPWavWKvb\n",
       "...                   ...                                    ...\n",
       "11458               Remoe  spotify:artist:2Q570lQPWiuP2dCOP69jO3\n",
       "11459               Kidaf  spotify:artist:5JBZrdeCKdPc2ScgCceX1s\n",
       "11460   Reggie ‘N’ Bollie  spotify:artist:3qCIifFHqOTzTAC1Sww8ms\n",
       "11461           ICEDEALER  spotify:artist:1jY586SXHigiZ1m3wJpjdh\n",
       "11462          Famous Dex  spotify:artist:0WOxhx4hikIsyF3CRPLC8W\n",
       "\n",
       "[11462 rows x 2 columns]"
      ]
     },
     "execution_count": 27,
     "metadata": {},
     "output_type": "execute_result"
    }
   ],
   "source": [
    "df_artist = df_artist[[\"artist_name\", \"artist_uri\"]]\n",
    "df_artist = df_artist.drop_duplicates(\"artist_uri\")\n",
    "df_artist"
   ]
  },
  {
   "cell_type": "markdown",
   "id": "af8de771-fa78-47fc-9171-9fc82e5d2ef0",
   "metadata": {},
   "source": [
    "Now that each artist has its URI, it is possible to request more specific data about them."
   ]
  },
  {
   "cell_type": "code",
   "execution_count": 49,
   "id": "30591bc4-98d4-4284-9cbd-cae802616208",
   "metadata": {},
   "outputs": [
    {
     "name": "stderr",
     "output_type": "stream",
     "text": [
      "100%|█████████████████████████████████████████| 254/254 [05:14<00:00,  1.24s/it]\n"
     ]
    }
   ],
   "source": [
    "request = True\n",
    "if request:\n",
    "    artist_genres = []\n",
    "    for chunk in tqdm(np.array_split(df_artist, len(df_artist)/45)):\n",
    "        try:\n",
    "            uris = chunk[\"artist_uri\"]\n",
    "            result = sp.artists(uris)[\"artists\"]\n",
    "            time.sleep(request_timer)\n",
    "            for artist in result:\n",
    "                artist_genres.append([artist[\"uri\"], artist[\"genres\"]])\n",
    "                \n",
    "        except Exception as e:\n",
    "            print(e)\n",
    "            break"
   ]
  },
  {
   "cell_type": "code",
   "execution_count": 51,
   "id": "9f822740-95d3-4d8e-9fcb-658d37e6186b",
   "metadata": {},
   "outputs": [
    {
     "data": {
      "text/html": [
       "<div>\n",
       "<style scoped>\n",
       "    .dataframe tbody tr th:only-of-type {\n",
       "        vertical-align: middle;\n",
       "    }\n",
       "\n",
       "    .dataframe tbody tr th {\n",
       "        vertical-align: top;\n",
       "    }\n",
       "\n",
       "    .dataframe thead th {\n",
       "        text-align: right;\n",
       "    }\n",
       "</style>\n",
       "<table border=\"1\" class=\"dataframe\">\n",
       "  <thead>\n",
       "    <tr style=\"text-align: right;\">\n",
       "      <th></th>\n",
       "      <th>artist_uri</th>\n",
       "      <th>genres</th>\n",
       "    </tr>\n",
       "  </thead>\n",
       "  <tbody>\n",
       "    <tr>\n",
       "      <th>0</th>\n",
       "      <td>spotify:artist:2sis3xwzmvAPHBEOrztf0B</td>\n",
       "      <td>[]</td>\n",
       "    </tr>\n",
       "    <tr>\n",
       "      <th>1</th>\n",
       "      <td>spotify:artist:702Fgj9mIQ9bzfp9i9Dg7B</td>\n",
       "      <td>[]</td>\n",
       "    </tr>\n",
       "    <tr>\n",
       "      <th>2</th>\n",
       "      <td>spotify:artist:3d8f0YBZivistZ4Ohauncb</td>\n",
       "      <td>[antideutsche, german alternative rap]</td>\n",
       "    </tr>\n",
       "    <tr>\n",
       "      <th>3</th>\n",
       "      <td>spotify:artist:0r0R5nIjDY04TfxRM10Bcb</td>\n",
       "      <td>[german pop]</td>\n",
       "    </tr>\n",
       "    <tr>\n",
       "      <th>4</th>\n",
       "      <td>spotify:artist:5wD0owYApRtYmjPWavWKvb</td>\n",
       "      <td>[]</td>\n",
       "    </tr>\n",
       "  </tbody>\n",
       "</table>\n",
       "</div>"
      ],
      "text/plain": [
       "                              artist_uri  \\\n",
       "0  spotify:artist:2sis3xwzmvAPHBEOrztf0B   \n",
       "1  spotify:artist:702Fgj9mIQ9bzfp9i9Dg7B   \n",
       "2  spotify:artist:3d8f0YBZivistZ4Ohauncb   \n",
       "3  spotify:artist:0r0R5nIjDY04TfxRM10Bcb   \n",
       "4  spotify:artist:5wD0owYApRtYmjPWavWKvb   \n",
       "\n",
       "                                   genres  \n",
       "0                                      []  \n",
       "1                                      []  \n",
       "2  [antideutsche, german alternative rap]  \n",
       "3                            [german pop]  \n",
       "4                                      []  "
      ]
     },
     "execution_count": 51,
     "metadata": {},
     "output_type": "execute_result"
    }
   ],
   "source": [
    "df_genres_a = pd.DataFrame(artist_genres, columns=[\"artist_uri\", \"genres\"])\n",
    "df_genres_a.head()"
   ]
  },
  {
   "cell_type": "code",
   "execution_count": 61,
   "id": "a4bc19e0-82d5-4e03-9c51-a37537d69ec0",
   "metadata": {},
   "outputs": [
    {
     "data": {
      "text/html": [
       "<div>\n",
       "<style scoped>\n",
       "    .dataframe tbody tr th:only-of-type {\n",
       "        vertical-align: middle;\n",
       "    }\n",
       "\n",
       "    .dataframe tbody tr th {\n",
       "        vertical-align: top;\n",
       "    }\n",
       "\n",
       "    .dataframe thead th {\n",
       "        text-align: right;\n",
       "    }\n",
       "</style>\n",
       "<table border=\"1\" class=\"dataframe\">\n",
       "  <thead>\n",
       "    <tr style=\"text-align: right;\">\n",
       "      <th></th>\n",
       "      <th>genre</th>\n",
       "    </tr>\n",
       "  </thead>\n",
       "  <tbody>\n",
       "    <tr>\n",
       "      <th>0</th>\n",
       "      <td>antideutsche</td>\n",
       "    </tr>\n",
       "    <tr>\n",
       "      <th>1</th>\n",
       "      <td>german alternative rap</td>\n",
       "    </tr>\n",
       "    <tr>\n",
       "      <th>2</th>\n",
       "      <td>german pop</td>\n",
       "    </tr>\n",
       "    <tr>\n",
       "      <th>3</th>\n",
       "      <td>rap calme</td>\n",
       "    </tr>\n",
       "    <tr>\n",
       "      <th>6</th>\n",
       "      <td>modern indie pop</td>\n",
       "    </tr>\n",
       "    <tr>\n",
       "      <th>...</th>\n",
       "      <td>...</td>\n",
       "    </tr>\n",
       "    <tr>\n",
       "      <th>18821</th>\n",
       "      <td>turkish jazz</td>\n",
       "    </tr>\n",
       "    <tr>\n",
       "      <th>18824</th>\n",
       "      <td>koto</td>\n",
       "    </tr>\n",
       "    <tr>\n",
       "      <th>18826</th>\n",
       "      <td>harp</td>\n",
       "    </tr>\n",
       "    <tr>\n",
       "      <th>18828</th>\n",
       "      <td>electroacoustic composition</td>\n",
       "    </tr>\n",
       "    <tr>\n",
       "      <th>18835</th>\n",
       "      <td>tape music</td>\n",
       "    </tr>\n",
       "  </tbody>\n",
       "</table>\n",
       "<p>2405 rows × 1 columns</p>\n",
       "</div>"
      ],
      "text/plain": [
       "                             genre\n",
       "0                     antideutsche\n",
       "1           german alternative rap\n",
       "2                       german pop\n",
       "3                        rap calme\n",
       "6                 modern indie pop\n",
       "...                            ...\n",
       "18821                 turkish jazz\n",
       "18824                         koto\n",
       "18826                         harp\n",
       "18828  electroacoustic composition\n",
       "18835                   tape music\n",
       "\n",
       "[2405 rows x 1 columns]"
      ]
     },
     "execution_count": 61,
     "metadata": {},
     "output_type": "execute_result"
    }
   ],
   "source": [
    "df_genres = pd.DataFrame(sum(df_genres_a[\"genres\"].tolist(), []), columns=[\"genre\"]).drop_duplicates()\n",
    "df_genres"
   ]
  },
  {
   "cell_type": "code",
   "execution_count": 81,
   "id": "28675c5a-ef92-4747-b0c5-1f3d7b3a5e4c",
   "metadata": {},
   "outputs": [],
   "source": [
    "genre_artist = []\n",
    "for i, artist in df_genres_a.iterrows():\n",
    "    artist_genres = artist[\"genres\"]\n",
    "    for genre_id in df_genres[df_genres[\"genre\"].isin(artist_genres)].to_numpy():\n",
    "        genre_artist.append([artist[\"artist_uri\"], genre_id[0]])"
   ]
  },
  {
   "cell_type": "code",
   "execution_count": 82,
   "id": "28500f35-ed18-4fc6-ac63-5d70ca9f96f0",
   "metadata": {},
   "outputs": [
    {
     "data": {
      "text/html": [
       "<div>\n",
       "<style scoped>\n",
       "    .dataframe tbody tr th:only-of-type {\n",
       "        vertical-align: middle;\n",
       "    }\n",
       "\n",
       "    .dataframe tbody tr th {\n",
       "        vertical-align: top;\n",
       "    }\n",
       "\n",
       "    .dataframe thead th {\n",
       "        text-align: right;\n",
       "    }\n",
       "</style>\n",
       "<table border=\"1\" class=\"dataframe\">\n",
       "  <thead>\n",
       "    <tr style=\"text-align: right;\">\n",
       "      <th></th>\n",
       "      <th>artist_uri</th>\n",
       "      <th>genre_id</th>\n",
       "    </tr>\n",
       "  </thead>\n",
       "  <tbody>\n",
       "    <tr>\n",
       "      <th>0</th>\n",
       "      <td>spotify:artist:3d8f0YBZivistZ4Ohauncb</td>\n",
       "      <td>antideutsche</td>\n",
       "    </tr>\n",
       "    <tr>\n",
       "      <th>1</th>\n",
       "      <td>spotify:artist:3d8f0YBZivistZ4Ohauncb</td>\n",
       "      <td>german alternative rap</td>\n",
       "    </tr>\n",
       "    <tr>\n",
       "      <th>2</th>\n",
       "      <td>spotify:artist:0r0R5nIjDY04TfxRM10Bcb</td>\n",
       "      <td>german pop</td>\n",
       "    </tr>\n",
       "    <tr>\n",
       "      <th>3</th>\n",
       "      <td>spotify:artist:46OlTXwi8hanoxXHTE7E5z</td>\n",
       "      <td>rap calme</td>\n",
       "    </tr>\n",
       "    <tr>\n",
       "      <th>4</th>\n",
       "      <td>spotify:artist:1b6KZ6XeJLiFJkFghmkbe8</td>\n",
       "      <td>antideutsche</td>\n",
       "    </tr>\n",
       "    <tr>\n",
       "      <th>...</th>\n",
       "      <td>...</td>\n",
       "      <td>...</td>\n",
       "    </tr>\n",
       "    <tr>\n",
       "      <th>18859</th>\n",
       "      <td>spotify:artist:3qCIifFHqOTzTAC1Sww8ms</td>\n",
       "      <td>uk dancehall</td>\n",
       "    </tr>\n",
       "    <tr>\n",
       "      <th>18860</th>\n",
       "      <td>spotify:artist:0WOxhx4hikIsyF3CRPLC8W</td>\n",
       "      <td>chicago rap</td>\n",
       "    </tr>\n",
       "    <tr>\n",
       "      <th>18861</th>\n",
       "      <td>spotify:artist:0WOxhx4hikIsyF3CRPLC8W</td>\n",
       "      <td>rap</td>\n",
       "    </tr>\n",
       "    <tr>\n",
       "      <th>18862</th>\n",
       "      <td>spotify:artist:0WOxhx4hikIsyF3CRPLC8W</td>\n",
       "      <td>trap</td>\n",
       "    </tr>\n",
       "    <tr>\n",
       "      <th>18863</th>\n",
       "      <td>spotify:artist:0WOxhx4hikIsyF3CRPLC8W</td>\n",
       "      <td>drill</td>\n",
       "    </tr>\n",
       "  </tbody>\n",
       "</table>\n",
       "<p>18864 rows × 2 columns</p>\n",
       "</div>"
      ],
      "text/plain": [
       "                                  artist_uri                genre_id\n",
       "0      spotify:artist:3d8f0YBZivistZ4Ohauncb            antideutsche\n",
       "1      spotify:artist:3d8f0YBZivistZ4Ohauncb  german alternative rap\n",
       "2      spotify:artist:0r0R5nIjDY04TfxRM10Bcb              german pop\n",
       "3      spotify:artist:46OlTXwi8hanoxXHTE7E5z               rap calme\n",
       "4      spotify:artist:1b6KZ6XeJLiFJkFghmkbe8            antideutsche\n",
       "...                                      ...                     ...\n",
       "18859  spotify:artist:3qCIifFHqOTzTAC1Sww8ms            uk dancehall\n",
       "18860  spotify:artist:0WOxhx4hikIsyF3CRPLC8W             chicago rap\n",
       "18861  spotify:artist:0WOxhx4hikIsyF3CRPLC8W                     rap\n",
       "18862  spotify:artist:0WOxhx4hikIsyF3CRPLC8W                    trap\n",
       "18863  spotify:artist:0WOxhx4hikIsyF3CRPLC8W                   drill\n",
       "\n",
       "[18864 rows x 2 columns]"
      ]
     },
     "execution_count": 82,
     "metadata": {},
     "output_type": "execute_result"
    }
   ],
   "source": [
    "df_genre_artist = pd.DataFrame(genre_artist, columns=[\"artist_uri\", \"genre_id\"])\n",
    "df_genre_artist"
   ]
  },
  {
   "cell_type": "code",
   "execution_count": 95,
   "id": "d515bb30-2a8d-40ea-9d8b-3b34886b1f7f",
   "metadata": {},
   "outputs": [
    {
     "data": {
      "text/html": [
       "<div>\n",
       "<style scoped>\n",
       "    .dataframe tbody tr th:only-of-type {\n",
       "        vertical-align: middle;\n",
       "    }\n",
       "\n",
       "    .dataframe tbody tr th {\n",
       "        vertical-align: top;\n",
       "    }\n",
       "\n",
       "    .dataframe thead th {\n",
       "        text-align: right;\n",
       "    }\n",
       "</style>\n",
       "<table border=\"1\" class=\"dataframe\">\n",
       "  <thead>\n",
       "    <tr style=\"text-align: right;\">\n",
       "      <th></th>\n",
       "      <th>ts</th>\n",
       "      <th>ms_played</th>\n",
       "      <th>conn_country</th>\n",
       "      <th>master_metadata_track_name</th>\n",
       "      <th>spotify_track_uri</th>\n",
       "      <th>reason_start</th>\n",
       "      <th>reason_end</th>\n",
       "      <th>shuffle</th>\n",
       "      <th>skipped</th>\n",
       "    </tr>\n",
       "  </thead>\n",
       "  <tbody>\n",
       "    <tr>\n",
       "      <th>0</th>\n",
       "      <td>2022-09-30T07:27:34Z</td>\n",
       "      <td>147252</td>\n",
       "      <td>DE</td>\n",
       "      <td>STFU</td>\n",
       "      <td>spotify:track:7DOq1mhfUI49SNVAlx8E1v</td>\n",
       "      <td>trackdone</td>\n",
       "      <td>trackdone</td>\n",
       "      <td>True</td>\n",
       "      <td>NaN</td>\n",
       "    </tr>\n",
       "    <tr>\n",
       "      <th>1</th>\n",
       "      <td>2022-09-30T07:31:17Z</td>\n",
       "      <td>223778</td>\n",
       "      <td>DE</td>\n",
       "      <td>Wo bist Du? (feat. Alligatoah)</td>\n",
       "      <td>spotify:track:7Dbq3XgIm824Od54EHIhBC</td>\n",
       "      <td>trackdone</td>\n",
       "      <td>trackdone</td>\n",
       "      <td>True</td>\n",
       "      <td>NaN</td>\n",
       "    </tr>\n",
       "    <tr>\n",
       "      <th>2</th>\n",
       "      <td>2022-09-30T07:38:50Z</td>\n",
       "      <td>412963</td>\n",
       "      <td>DE</td>\n",
       "      <td>What I Know Is All Quicksand - rookery live tapes</td>\n",
       "      <td>spotify:track:71E4QM6O81q0DX79Cg6EGk</td>\n",
       "      <td>trackdone</td>\n",
       "      <td>trackdone</td>\n",
       "      <td>True</td>\n",
       "      <td>NaN</td>\n",
       "    </tr>\n",
       "    <tr>\n",
       "      <th>3</th>\n",
       "      <td>2022-09-30T07:41:43Z</td>\n",
       "      <td>174397</td>\n",
       "      <td>DE</td>\n",
       "      <td>Bentley Coupe</td>\n",
       "      <td>spotify:track:7aksJRV1H0pCds7FSiZ8ZI</td>\n",
       "      <td>trackdone</td>\n",
       "      <td>trackdone</td>\n",
       "      <td>True</td>\n",
       "      <td>NaN</td>\n",
       "    </tr>\n",
       "    <tr>\n",
       "      <th>4</th>\n",
       "      <td>2022-09-30T07:45:21Z</td>\n",
       "      <td>219893</td>\n",
       "      <td>DE</td>\n",
       "      <td>Tauchen (feat. KYMA)</td>\n",
       "      <td>spotify:track:6yBIrzVvtYoL0meYNmDEHa</td>\n",
       "      <td>trackdone</td>\n",
       "      <td>trackdone</td>\n",
       "      <td>True</td>\n",
       "      <td>NaN</td>\n",
       "    </tr>\n",
       "  </tbody>\n",
       "</table>\n",
       "</div>"
      ],
      "text/plain": [
       "                     ts  ms_played conn_country  \\\n",
       "0  2022-09-30T07:27:34Z     147252           DE   \n",
       "1  2022-09-30T07:31:17Z     223778           DE   \n",
       "2  2022-09-30T07:38:50Z     412963           DE   \n",
       "3  2022-09-30T07:41:43Z     174397           DE   \n",
       "4  2022-09-30T07:45:21Z     219893           DE   \n",
       "\n",
       "                          master_metadata_track_name  \\\n",
       "0                                               STFU   \n",
       "1                     Wo bist Du? (feat. Alligatoah)   \n",
       "2  What I Know Is All Quicksand - rookery live tapes   \n",
       "3                                      Bentley Coupe   \n",
       "4                               Tauchen (feat. KYMA)   \n",
       "\n",
       "                      spotify_track_uri reason_start reason_end  shuffle  \\\n",
       "0  spotify:track:7DOq1mhfUI49SNVAlx8E1v    trackdone  trackdone     True   \n",
       "1  spotify:track:7Dbq3XgIm824Od54EHIhBC    trackdone  trackdone     True   \n",
       "2  spotify:track:71E4QM6O81q0DX79Cg6EGk    trackdone  trackdone     True   \n",
       "3  spotify:track:7aksJRV1H0pCds7FSiZ8ZI    trackdone  trackdone     True   \n",
       "4  spotify:track:6yBIrzVvtYoL0meYNmDEHa    trackdone  trackdone     True   \n",
       "\n",
       "   skipped  \n",
       "0      NaN  \n",
       "1      NaN  \n",
       "2      NaN  \n",
       "3      NaN  \n",
       "4      NaN  "
      ]
     },
     "execution_count": 95,
     "metadata": {},
     "output_type": "execute_result"
    }
   ],
   "source": [
    "df_history = pd.read_csv(\"./processed/ole/history.csv\").drop([\"Unnamed: 0\", \"username\", \"platform\", \"ip_addr_decrypted\", \"user_agent_decrypted\", \"master_metadata_album_artist_name\", \"master_metadata_album_album_name\", \"episode_name\", \"episode_show_name\", \"spotify_episode_uri\", \"offline\", \"offline_timestamp\", \"incognito_mode\"], axis=1)\n",
    "df_history.head()"
   ]
  },
  {
   "cell_type": "code",
   "execution_count": null,
   "id": "b85fa124-1aa7-436f-982f-2a6f58c85fd0",
   "metadata": {},
   "outputs": [],
   "source": []
  }
 ],
 "metadata": {
  "kernelspec": {
   "display_name": "Python 3 (ipykernel)",
   "language": "python",
   "name": "python3"
  },
  "language_info": {
   "codemirror_mode": {
    "name": "ipython",
    "version": 3
   },
   "file_extension": ".py",
   "mimetype": "text/x-python",
   "name": "python",
   "nbconvert_exporter": "python",
   "pygments_lexer": "ipython3",
   "version": "3.10.12"
  }
 },
 "nbformat": 4,
 "nbformat_minor": 5
}
