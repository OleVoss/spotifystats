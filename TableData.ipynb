{
 "cells": [
  {
   "cell_type": "code",
   "execution_count": 28,
   "id": "7737ae45-2ce8-4e64-bb04-15d9dc5c2145",
   "metadata": {},
   "outputs": [],
   "source": [
    "import pandas as pd\n",
    "import os\n",
    "from pathlib import Path\n",
    "from dotenv import load_dotenv\n",
    "import spotipy\n",
    "from tqdm import tqdm\n",
    "import numpy as np\n",
    "from spotipy.oauth2 import SpotifyClientCredentials\n",
    "import time"
   ]
  },
  {
   "cell_type": "code",
   "execution_count": 39,
   "id": "f97c6a6e-7576-400b-b990-7c6480bf89b9",
   "metadata": {},
   "outputs": [],
   "source": [
    "request_timer = 0.33\n",
    "person = \"selina\"\n",
    "data_source = \"./data/\" + person\n",
    "\n",
    "load_dotenv()\n",
    "ID = os.getenv(\"ID_B\")\n",
    "SECRET = os.getenv(\"SECRET_B\")\n",
    "\n",
    "sp = spotipy.Spotify(auth_manager=SpotifyClientCredentials(client_id=ID, client_secret=SECRET))"
   ]
  },
  {
   "cell_type": "code",
   "execution_count": 33,
   "id": "0df2f6bf-1110-42ac-99ab-f565a8b8a905",
   "metadata": {},
   "outputs": [
    {
     "name": "stdout",
     "output_type": "stream",
     "text": [
      "<class 'pandas.core.frame.DataFrame'>\n",
      "Index: 233983 entries, 0 to 4730\n",
      "Data columns (total 21 columns):\n",
      " #   Column                             Non-Null Count   Dtype  \n",
      "---  ------                             --------------   -----  \n",
      " 0   ts                                 233983 non-null  object \n",
      " 1   username                           233983 non-null  object \n",
      " 2   platform                           233983 non-null  object \n",
      " 3   ms_played                          233983 non-null  int64  \n",
      " 4   conn_country                       233983 non-null  object \n",
      " 5   ip_addr_decrypted                  229740 non-null  object \n",
      " 6   user_agent_decrypted               229312 non-null  object \n",
      " 7   master_metadata_track_name         233983 non-null  object \n",
      " 8   master_metadata_album_artist_name  233983 non-null  object \n",
      " 9   master_metadata_album_album_name   233983 non-null  object \n",
      " 10  spotify_track_uri                  233983 non-null  object \n",
      " 11  episode_name                       0 non-null       object \n",
      " 12  episode_show_name                  0 non-null       object \n",
      " 13  spotify_episode_uri                0 non-null       object \n",
      " 14  reason_start                       233983 non-null  object \n",
      " 15  reason_end                         229740 non-null  object \n",
      " 16  shuffle                            233983 non-null  bool   \n",
      " 17  skipped                            103627 non-null  object \n",
      " 18  offline                            233960 non-null  object \n",
      " 19  offline_timestamp                  233983 non-null  float64\n",
      " 20  incognito_mode                     233983 non-null  bool   \n",
      "dtypes: bool(2), float64(1), int64(1), object(17)\n",
      "memory usage: 36.1+ MB\n"
     ]
    }
   ],
   "source": [
    "paths = Path(data_source).glob(\"Streaming*.json\")\n",
    "df = pd.concat(map(pd.read_json, paths))\n",
    "df = df[df[\"spotify_track_uri\"].notnull()]\n",
    "df.info()"
   ]
  },
  {
   "cell_type": "markdown",
   "id": "f72a54e7-a537-46c0-b6d6-d6b6e8b7489b",
   "metadata": {},
   "source": [
    "# 1. Preparation"
   ]
  },
  {
   "cell_type": "markdown",
   "id": "9666cee5-c1b7-4686-b41f-33c1ac204ae7",
   "metadata": {
    "jp-MarkdownHeadingCollapsed": true
   },
   "source": [
    "## 1.1 Unique Tracks with every \"spotify_track_uri\""
   ]
  },
  {
   "cell_type": "code",
   "execution_count": 34,
   "id": "ff293f5c-4cb1-4270-ab86-49d4d4e08755",
   "metadata": {},
   "outputs": [],
   "source": [
    "tracks_album = df[df[\"episode_name\"].isnull()][[\"master_metadata_track_name\", \"master_metadata_album_album_name\", \"spotify_track_uri\", \"master_metadata_album_artist_name\"]].drop_duplicates()\n",
    "tracks_album = tracks_album.dropna()\n",
    "tracks_album.to_csv(\"./processed/\" + person + \"/tracks_album.csv\", index=False)"
   ]
  },
  {
   "cell_type": "markdown",
   "id": "e2679e48-7e15-4949-9495-3b83a77361a9",
   "metadata": {},
   "source": [
    "Drop all duplicate entries in the history, therey removing multiple plays.\n",
    "However this is not sufficient to properly eliminate duplicate references to the same track, since one track can be played from different albums.\n",
    "For Example, when a song is at first released as a single, and later within an album. Individual plays appear with a different `spotify_track_uri`, altough they should be counted as one.\n",
    "\n",
    "To fix this, the online tool [Datablist](https://datablist.com) is used, to find and remove duplicates.\n",
    "An entry is considered a duplicate if the artist, album name, and track name are identical.\n",
    "Subsequently, the track uri's are merged into a comma-separated string, which is then transformed into an array for futher processing.\n",
    "Tough the column is then no longer atomic, is is now easier to assign play entries, with different uris to the same song.\n",
    "\n",
    "1. Import `tracks_album.csv` into Datablist\n",
    "2. Find duplicates based on `artist`, `track` and `album`\n",
    "3. Merge `spotify_track_uri`, drop `album`\n",
    "4. Save as `tracks_all_uris.csv`\n",
    "\n",
    "<div class=\"alert alert-block alert-info\">\n",
    "<b>TODO:</b>    \n",
    "This should be automated, for processing new data.\n",
    "</div>"
   ]
  },
  {
   "cell_type": "code",
   "execution_count": 36,
   "id": "1fcdb85f-a9ce-4eaa-8aaa-dfc402175643",
   "metadata": {},
   "outputs": [
    {
     "name": "stdout",
     "output_type": "stream",
     "text": [
      "Unique tracks after cleaning: 32644\n"
     ]
    }
   ],
   "source": [
    "tracks_all_uris = pd.read_csv(\"./processed/\" + person + \"/datablist_export.csv\")\n",
    "tracks_all_uris[\"spotify_track_uri\"] = tracks_all_uris[\"spotify_track_uri\"].apply(lambda r: [s for s in r.split(\",\")])\n",
    "print(\"Unique tracks after cleaning:\", len(tracks_all_uris))\n",
    "tracks_all_uris.to_csv(\"./processed/\" + person + \"/tracks_all_uris.csv\", index=False)"
   ]
  },
  {
   "cell_type": "markdown",
   "id": "c743cdc8-20da-4b24-b32a-876f816a9adf",
   "metadata": {},
   "source": [
    "The redundant uris are no longer needed and can now be excluded."
   ]
  },
  {
   "cell_type": "code",
   "execution_count": 112,
   "id": "9fd46733-5e27-4487-8291-aebe40bca9b1",
   "metadata": {},
   "outputs": [],
   "source": [
    "tracks_all_uris[\"spotify_track_uri\"] = tracks_all_uris[\"spotify_track_uri\"].str.replace(\"\\[|\\]|\\'\", \"\", regex=True).str.split(\",\").map(lambda r:r[0])\n",
    "tracks_all_uris.to_csv(\"./processed/\" + person + \"/tracks_unique.csv\", index=False)"
   ]
  },
  {
   "cell_type": "markdown",
   "id": "e2ddb337-44b1-49b4-b64c-4f12248d0215",
   "metadata": {},
   "source": [
    "## 1.2 History fix"
   ]
  },
  {
   "cell_type": "markdown",
   "id": "b9ce78c6-b120-47d1-aa06-d96cca306f63",
   "metadata": {},
   "source": [
    "This separation still is not enough, because having two keys for every track makes it difficult to aggregate the data. Therefore every uri in the extended history, that is related to another track, is replaced by the first uri in the spotify_track_uri array above."
   ]
  },
  {
   "cell_type": "code",
   "execution_count": 177,
   "id": "10116d2d-e69c-4b45-86d6-d450cfe90e17",
   "metadata": {},
   "outputs": [],
   "source": [
    "process = False\n",
    "if process:\n",
    "    tracks_all_uris = pd.read_csv(\"./processed/\" + person + \"/tracks_all_uris.csv\")\n",
    "    lookup = tracks_all_uris[\"spotify_track_uri\"].to_frame()\n",
    "    lookup.columns = [\"from\"]\n",
    "    lookup[\"to\"] = lookup[\"from\"].map(lambda r: r[0])\n",
    "    lookup.head()\n",
    "    \n",
    "    tqdm.pandas()\n",
    "    df[\"spotify_track_uri\"] = df[\"spotify_track_uri\"].progress_map(lambda x: lookup[lookup[\"from\"].str.join(\" \").str.contains(x)][\"to\"].item())\n",
    "    df.drop([\"Unnamed: 0\", \"username\", \"platform\", \"ip_addr_decrypted\", \"user_agent_decrypted\", \"master_metadata_album_artist_name\", \"master_metadata_album_album_name\", \"episode_name\", \"episode_show_name\", \"spotify_episode_uri\", \"offline\", \"offline_timestamp\", \"incognito_mode\"], axis=1).to_csv(\"./processed/\" + person + \"/history_cleaned.csv\", index=False)"
   ]
  },
  {
   "cell_type": "markdown",
   "id": "8c6f9ba5-85af-4c1e-b4c3-c017e8e08d62",
   "metadata": {},
   "source": [
    "## 1.3 Audio Features\n",
    "\n",
    "Once the tracks have been processed, the next stage is to prepare the relevant metrics.\n",
    "The Spotify web API provides information about every track, namely audio features and analysis.\n",
    "\n",
    "This is an example response for the audio features of \"Time is Running Out\" by \"Muse\".\n",
    "```json\n",
    "\"acousticness\": 0.00242,\n",
    "\"analysis_url\": \"https://api.spotify.com/v1/audio-analysis/2takcwOaAZWiXQijPHIx7B\",\n",
    "\"danceability\": 0.585,\n",
    "\"duration_ms\": 237040,\n",
    "\"energy\": 0.842,\n",
    "\"id\": \"2takcwOaAZWiXQijPHIx7B\",\n",
    "\"instrumentalness\": 0.00686,\n",
    "\"key\": 9,\n",
    "\"liveness\": 0.0866,\n",
    "\"loudness\": -5.883,\n",
    "\"mode\": 0,\n",
    "\"speechiness\": 0.0556,\n",
    "\"tempo\": 118.211,\n",
    "\"time_signature\": 4,\n",
    "\"track_href\": \"https://api.spotify.com/v1/tracks/2takcwOaAZWiXQijPHIx7B\",\n",
    "\"type\": \"audio_features\",\n",
    "\"uri\": \"spotify:track:2takcwOaAZWiXQijPHIx7B\",\n",
    "\"valence\": 0.428\n",
    "```\n",
    "\n",
    "Since the uri's are now cleaned, we can just request the auto features via the spotify api and append them to our dataframe."
   ]
  },
  {
   "cell_type": "code",
   "execution_count": 38,
   "id": "39faf29e-c558-4ee0-a937-7ed5f4b8e353",
   "metadata": {},
   "outputs": [],
   "source": [
    "audio_features = pd.DataFrame(columns=[\n",
    "    \"spotify_track_uri\",\n",
    "    \"acousticness\",\n",
    "    \"danceability\",\n",
    "    \"duration_ms\",\n",
    "    \"energy\",\n",
    "    \"instrumentalness\",\n",
    "    \"key\",\n",
    "    \"liveness\",\n",
    "    \"loudness\",\n",
    "    \"mode\",\n",
    "    \"speechiness\",\n",
    "    \"tempo\",\n",
    "    \"time_signature\",\n",
    "    \"valence\",\n",
    "])"
   ]
  },
  {
   "cell_type": "code",
   "execution_count": 113,
   "id": "bbfe2e4f-66f0-494e-8b91-493998673007",
   "metadata": {},
   "outputs": [],
   "source": [
    "tracks_unique = pd.read_csv(\"./processed/\" + person + \"/tracks_unique.csv\")"
   ]
  },
  {
   "cell_type": "code",
   "execution_count": 114,
   "id": "b1c4a9bb-6f30-4a6d-900b-81b5596e2019",
   "metadata": {},
   "outputs": [],
   "source": [
    "process = False\n",
    "if process:\n",
    "    for chunk in tqdm(np.array_split(tracks_unique, len(tracks_unique)/90)):\n",
    "        try:\n",
    "            time.sleep(request_timer)\n",
    "            uris = chunk[\"spotify_track_uri\"].to_numpy()\n",
    "            result = sp.audio_features(uris)\n",
    "            result_nonull = []\n",
    "            for obj in result:\n",
    "                if obj != None:\n",
    "                    result_nonull.append(obj)\n",
    "            chunk_df = pd.DataFrame(result_nonull)\n",
    "            audio_features = pd.concat([audio_features, chunk_df], join=\"inner\")\n",
    "        except Exception as e:\n",
    "            print(e)\n",
    "            break\n",
    "    audio_features.to_csv(\"./processed/\" + person + \"/audio_features.csv\", index=False)\n",
    "    missed = len(tracks_all_uris) - len(audio_features)\n",
    "    print(missed, \"tracks missing\")\n",
    "    tracks_unique[~tracks_unique[\"spotify_track_uri\"].isin(audio_features[\"uri\"])]"
   ]
  },
  {
   "cell_type": "markdown",
   "id": "3fd8a6d8-f6e3-4b32-9a07-2d5e8517eb35",
   "metadata": {},
   "source": [
    "The subsequent stage is to merge the audio feature into the dataframe with the unique tracks."
   ]
  },
  {
   "cell_type": "code",
   "execution_count": 123,
   "id": "0fa5f93b-807b-458d-868a-21cfc3c9d063",
   "metadata": {},
   "outputs": [
    {
     "data": {
      "text/html": [
       "<div>\n",
       "<style scoped>\n",
       "    .dataframe tbody tr th:only-of-type {\n",
       "        vertical-align: middle;\n",
       "    }\n",
       "\n",
       "    .dataframe tbody tr th {\n",
       "        vertical-align: top;\n",
       "    }\n",
       "\n",
       "    .dataframe thead th {\n",
       "        text-align: right;\n",
       "    }\n",
       "</style>\n",
       "<table border=\"1\" class=\"dataframe\">\n",
       "  <thead>\n",
       "    <tr style=\"text-align: right;\">\n",
       "      <th></th>\n",
       "      <th>master_metadata_track_name</th>\n",
       "      <th>master_metadata_album_album_name</th>\n",
       "      <th>spotify_track_uri</th>\n",
       "      <th>master_metadata_album_artist_name</th>\n",
       "      <th>acousticness</th>\n",
       "      <th>danceability</th>\n",
       "      <th>duration_ms</th>\n",
       "      <th>energy</th>\n",
       "      <th>instrumentalness</th>\n",
       "      <th>key</th>\n",
       "      <th>liveness</th>\n",
       "      <th>loudness</th>\n",
       "      <th>mode</th>\n",
       "      <th>speechiness</th>\n",
       "      <th>tempo</th>\n",
       "      <th>time_signature</th>\n",
       "      <th>valence</th>\n",
       "    </tr>\n",
       "  </thead>\n",
       "  <tbody>\n",
       "    <tr>\n",
       "      <th>0</th>\n",
       "      <td>Still Got Time (feat. PARTYNEXTDOOR)</td>\n",
       "      <td>Still Got Time (feat. PARTYNEXTDOOR)</td>\n",
       "      <td>spotify:track:000xQL6tZNLJzIrtIgxqSl</td>\n",
       "      <td>ZAYN</td>\n",
       "      <td>0.13100</td>\n",
       "      <td>0.748</td>\n",
       "      <td>188491</td>\n",
       "      <td>0.627</td>\n",
       "      <td>0.000</td>\n",
       "      <td>7</td>\n",
       "      <td>0.0852</td>\n",
       "      <td>-6.029</td>\n",
       "      <td>1</td>\n",
       "      <td>0.0639</td>\n",
       "      <td>120.963</td>\n",
       "      <td>4</td>\n",
       "      <td>0.524</td>\n",
       "    </tr>\n",
       "    <tr>\n",
       "      <th>1</th>\n",
       "      <td>Be Alright (feat. EMEL)</td>\n",
       "      <td>Be Alright (feat. EMEL)</td>\n",
       "      <td>spotify:track:003U4oQXv82GYo1tNquN2F</td>\n",
       "      <td>Stonebank</td>\n",
       "      <td>0.00216</td>\n",
       "      <td>0.538</td>\n",
       "      <td>299294</td>\n",
       "      <td>0.770</td>\n",
       "      <td>0.165</td>\n",
       "      <td>7</td>\n",
       "      <td>0.3550</td>\n",
       "      <td>-3.924</td>\n",
       "      <td>0</td>\n",
       "      <td>0.1030</td>\n",
       "      <td>170.035</td>\n",
       "      <td>4</td>\n",
       "      <td>0.235</td>\n",
       "    </tr>\n",
       "    <tr>\n",
       "      <th>2</th>\n",
       "      <td>Mr. Brightside</td>\n",
       "      <td>Hot Fuss</td>\n",
       "      <td>spotify:track:003vvx7Niy0yvhvHt4a68B</td>\n",
       "      <td>The Killers</td>\n",
       "      <td>0.00121</td>\n",
       "      <td>0.352</td>\n",
       "      <td>222973</td>\n",
       "      <td>0.911</td>\n",
       "      <td>0.000</td>\n",
       "      <td>1</td>\n",
       "      <td>0.0995</td>\n",
       "      <td>-5.230</td>\n",
       "      <td>1</td>\n",
       "      <td>0.0747</td>\n",
       "      <td>148.033</td>\n",
       "      <td>4</td>\n",
       "      <td>0.236</td>\n",
       "    </tr>\n",
       "  </tbody>\n",
       "</table>\n",
       "</div>"
      ],
      "text/plain": [
       "             master_metadata_track_name      master_metadata_album_album_name  \\\n",
       "0  Still Got Time (feat. PARTYNEXTDOOR)  Still Got Time (feat. PARTYNEXTDOOR)   \n",
       "1               Be Alright (feat. EMEL)               Be Alright (feat. EMEL)   \n",
       "2                        Mr. Brightside                              Hot Fuss   \n",
       "\n",
       "                      spotify_track_uri master_metadata_album_artist_name  \\\n",
       "0  spotify:track:000xQL6tZNLJzIrtIgxqSl                              ZAYN   \n",
       "1  spotify:track:003U4oQXv82GYo1tNquN2F                         Stonebank   \n",
       "2  spotify:track:003vvx7Niy0yvhvHt4a68B                       The Killers   \n",
       "\n",
       "   acousticness  danceability duration_ms  energy  instrumentalness key  \\\n",
       "0       0.13100         0.748      188491   0.627             0.000   7   \n",
       "1       0.00216         0.538      299294   0.770             0.165   7   \n",
       "2       0.00121         0.352      222973   0.911             0.000   1   \n",
       "\n",
       "   liveness  loudness mode  speechiness    tempo time_signature  valence  \n",
       "0    0.0852    -6.029    1       0.0639  120.963              4    0.524  \n",
       "1    0.3550    -3.924    0       0.1030  170.035              4    0.235  \n",
       "2    0.0995    -5.230    1       0.0747  148.033              4    0.236  "
      ]
     },
     "execution_count": 123,
     "metadata": {},
     "output_type": "execute_result"
    }
   ],
   "source": [
    "tracks_features = tracks_unique.merge(audio_features, how=\"outer\", on=\"spotify_track_uri\")\n",
    "tracks_features[tracks_features[\"energy\"].notnull()]\n",
    "tracks_features.to_csv(\"./processed/\" + person + \"/tracks_features.csv\", index=False)\n",
    "tracks_features.head(3)"
   ]
  },
  {
   "cell_type": "markdown",
   "id": "53e60112-6a7a-4cda-aa5c-698dcb88655f",
   "metadata": {},
   "source": [
    "# 2. Artists and Genres\n",
    "\n",
    "In order to gain insight into the different genres listened to, the artist data must be queried. Due to the nature of an n to n relationship, the artist and genre data is modelled as shown in the ER diagram above.\n",
    "\n",
    "The problem is that only the main artist is given in the extended history, not the features. Also, the artist is only referenced by name and a spotify_id is required to request further data. However, the tracks api also contains all information about the artist that contributed to the track. So in order to get the artist ids, we have to querry all tracks."
   ]
  },
  {
   "cell_type": "markdown",
   "id": "fb124ee8-ed51-439b-8e6e-a5f03b820ed0",
   "metadata": {},
   "source": [
    "## 2.1 Artists"
   ]
  },
  {
   "cell_type": "code",
   "execution_count": 124,
   "id": "5fcb3dd8-1f87-43bb-8de5-f1f63c311fc6",
   "metadata": {},
   "outputs": [
    {
     "data": {
      "text/html": [
       "<div>\n",
       "<style scoped>\n",
       "    .dataframe tbody tr th:only-of-type {\n",
       "        vertical-align: middle;\n",
       "    }\n",
       "\n",
       "    .dataframe tbody tr th {\n",
       "        vertical-align: top;\n",
       "    }\n",
       "\n",
       "    .dataframe thead th {\n",
       "        text-align: right;\n",
       "    }\n",
       "</style>\n",
       "<table border=\"1\" class=\"dataframe\">\n",
       "  <thead>\n",
       "    <tr style=\"text-align: right;\">\n",
       "      <th></th>\n",
       "      <th>master_metadata_track_name</th>\n",
       "      <th>master_metadata_album_album_name</th>\n",
       "      <th>spotify_track_uri</th>\n",
       "      <th>master_metadata_album_artist_name</th>\n",
       "    </tr>\n",
       "  </thead>\n",
       "  <tbody>\n",
       "    <tr>\n",
       "      <th>0</th>\n",
       "      <td>Womanizer</td>\n",
       "      <td>Circus (Deluxe Version)</td>\n",
       "      <td>spotify:track:4fixebDZAVToLbUCuEloa2</td>\n",
       "      <td>Britney Spears</td>\n",
       "    </tr>\n",
       "    <tr>\n",
       "      <th>1</th>\n",
       "      <td>Boom Boom Pow</td>\n",
       "      <td>THE E.N.D. (THE ENERGY NEVER DIES)</td>\n",
       "      <td>spotify:track:3oDFtOhcN08qeDPAK6MEQG</td>\n",
       "      <td>Black Eyed Peas</td>\n",
       "    </tr>\n",
       "    <tr>\n",
       "      <th>2</th>\n",
       "      <td>Shut Up And Drive</td>\n",
       "      <td>Good Girl Gone Bad: Reloaded</td>\n",
       "      <td>spotify:track:4Tn2llBm1g0UlWctmgPL8Z</td>\n",
       "      <td>Rihanna</td>\n",
       "    </tr>\n",
       "  </tbody>\n",
       "</table>\n",
       "</div>"
      ],
      "text/plain": [
       "  master_metadata_track_name    master_metadata_album_album_name  \\\n",
       "0                  Womanizer             Circus (Deluxe Version)   \n",
       "1              Boom Boom Pow  THE E.N.D. (THE ENERGY NEVER DIES)   \n",
       "2          Shut Up And Drive        Good Girl Gone Bad: Reloaded   \n",
       "\n",
       "                      spotify_track_uri master_metadata_album_artist_name  \n",
       "0  spotify:track:4fixebDZAVToLbUCuEloa2                    Britney Spears  \n",
       "1  spotify:track:3oDFtOhcN08qeDPAK6MEQG                   Black Eyed Peas  \n",
       "2  spotify:track:4Tn2llBm1g0UlWctmgPL8Z                           Rihanna  "
      ]
     },
     "execution_count": 124,
     "metadata": {},
     "output_type": "execute_result"
    }
   ],
   "source": [
    "tracks_unique = pd.read_csv(\"./processed/\" + person + \"/tracks_unique.csv\")\n",
    "tracks_unique.head(3)"
   ]
  },
  {
   "cell_type": "code",
   "execution_count": 157,
   "id": "fd3ad35c-e140-478c-9200-87ee042f875d",
   "metadata": {},
   "outputs": [
    {
     "name": "stderr",
     "output_type": "stream",
     "text": [
      "/home/voss/.local/lib/python3.10/site-packages/numpy/core/fromnumeric.py:59: FutureWarning: 'Series.swapaxes' is deprecated and will be removed in a future version. Please use 'Series.transpose' instead.\n",
      "  return bound(*args, **kwds)\n",
      "100%|██████████████████████████████████████████████████████| 725/725 [06:37<00:00,  1.83it/s]\n"
     ]
    }
   ],
   "source": [
    "process = True\n",
    "if process:\n",
    "    artist_data = []\n",
    "    artist_track_data = []\n",
    "    for chunk in tqdm(np.array_split(tracks_unique[\"spotify_track_uri\"], len(tracks_unique)/45)):\n",
    "        try:\n",
    "            uris = chunk.to_numpy()\n",
    "            result = sp.tracks(uris, market=\"DE\")[\"tracks\"]\n",
    "            time.sleep(request_timer)\n",
    "            result_nonull = []\n",
    "            for track in result:\n",
    "                if track != None:\n",
    "                    for artist in track[\"artists\"]:\n",
    "                        artist_data.append([artist[\"name\"], artist[\"uri\"], artist.get(\"genres\", None)])\n",
    "                        artist_track_data.append([artist[\"uri\"], track[\"uri\"]])\n",
    "                    \n",
    "        except Exception as e:\n",
    "            print(e)\n",
    "            break\n",
    "\n",
    "    artists_tracks = pd.DataFrame(artist_track_data, columns=[\"artist_uri\", \"track_uri\"])\n",
    "    artists_tracks.to_csv(\"./processed/\" + person + \"/artist_track.csv\", index=False)\n",
    "    \n",
    "    artists = pd.DataFrame(artist_data, columns=[\"artist_name\", \"artist_uri\", \"genres\"]).drop_duplicates()\n",
    "    artists.to_csv(\"./processed/\" + person + \"/artists.csv\", index=False)"
   ]
  },
  {
   "cell_type": "markdown",
   "id": "d489b104-dc23-4d2a-88c6-0a4e9e9e3652",
   "metadata": {},
   "source": [
    "## 2.2 Genres"
   ]
  },
  {
   "cell_type": "code",
   "execution_count": 158,
   "id": "eccc0475-9d4d-4096-8c19-2a04dd4d4aa8",
   "metadata": {},
   "outputs": [
    {
     "data": {
      "text/html": [
       "<div>\n",
       "<style scoped>\n",
       "    .dataframe tbody tr th:only-of-type {\n",
       "        vertical-align: middle;\n",
       "    }\n",
       "\n",
       "    .dataframe tbody tr th {\n",
       "        vertical-align: top;\n",
       "    }\n",
       "\n",
       "    .dataframe thead th {\n",
       "        text-align: right;\n",
       "    }\n",
       "</style>\n",
       "<table border=\"1\" class=\"dataframe\">\n",
       "  <thead>\n",
       "    <tr style=\"text-align: right;\">\n",
       "      <th></th>\n",
       "      <th>artist_name</th>\n",
       "      <th>artist_uri</th>\n",
       "      <th>genres</th>\n",
       "    </tr>\n",
       "  </thead>\n",
       "  <tbody>\n",
       "    <tr>\n",
       "      <th>0</th>\n",
       "      <td>Britney Spears</td>\n",
       "      <td>spotify:artist:26dSoYclwsYLMAKD3tpOr4</td>\n",
       "      <td>NaN</td>\n",
       "    </tr>\n",
       "    <tr>\n",
       "      <th>1</th>\n",
       "      <td>Black Eyed Peas</td>\n",
       "      <td>spotify:artist:1yxSLGMDHlW21z4YXirZDS</td>\n",
       "      <td>NaN</td>\n",
       "    </tr>\n",
       "    <tr>\n",
       "      <th>2</th>\n",
       "      <td>Rihanna</td>\n",
       "      <td>spotify:artist:5pKCCKE2ajJHZ9KAiaK11H</td>\n",
       "      <td>NaN</td>\n",
       "    </tr>\n",
       "  </tbody>\n",
       "</table>\n",
       "</div>"
      ],
      "text/plain": [
       "       artist_name                             artist_uri  genres\n",
       "0   Britney Spears  spotify:artist:26dSoYclwsYLMAKD3tpOr4     NaN\n",
       "1  Black Eyed Peas  spotify:artist:1yxSLGMDHlW21z4YXirZDS     NaN\n",
       "2          Rihanna  spotify:artist:5pKCCKE2ajJHZ9KAiaK11H     NaN"
      ]
     },
     "execution_count": 158,
     "metadata": {},
     "output_type": "execute_result"
    }
   ],
   "source": [
    "artists = pd.read_csv(\"./processed/\" + person + \"/artists.csv\")\n",
    "artists.head(3)"
   ]
  },
  {
   "cell_type": "code",
   "execution_count": 162,
   "id": "0a4b1aef-2073-4e77-82ab-045c7176912a",
   "metadata": {},
   "outputs": [
    {
     "name": "stderr",
     "output_type": "stream",
     "text": [
      "100%|██████████████████████████████████████████████████████| 409/409 [03:38<00:00,  1.87it/s]\n"
     ]
    }
   ],
   "source": [
    "request = True\n",
    "if request:\n",
    "    artist_genres = []\n",
    "    for chunk in tqdm(np.array_split(artists[\"artist_uri\"], len(artists)/45)):\n",
    "        try:\n",
    "            uris = chunk.to_numpy()\n",
    "            result = sp.artists(uris)[\"artists\"]\n",
    "            time.sleep(request_timer)\n",
    "            for artist in result:\n",
    "                artist_genres.append([artist[\"uri\"], artist[\"genres\"]])\n",
    "                \n",
    "        except Exception as e:\n",
    "            print(e)\n",
    "            break"
   ]
  },
  {
   "cell_type": "code",
   "execution_count": 166,
   "id": "1ca3f9b8-ccad-47e7-a3ec-54fd1bdb2bd8",
   "metadata": {},
   "outputs": [
    {
     "data": {
      "text/html": [
       "<div>\n",
       "<style scoped>\n",
       "    .dataframe tbody tr th:only-of-type {\n",
       "        vertical-align: middle;\n",
       "    }\n",
       "\n",
       "    .dataframe tbody tr th {\n",
       "        vertical-align: top;\n",
       "    }\n",
       "\n",
       "    .dataframe thead th {\n",
       "        text-align: right;\n",
       "    }\n",
       "</style>\n",
       "<table border=\"1\" class=\"dataframe\">\n",
       "  <thead>\n",
       "    <tr style=\"text-align: right;\">\n",
       "      <th></th>\n",
       "      <th>artist_uri</th>\n",
       "      <th>genres</th>\n",
       "    </tr>\n",
       "  </thead>\n",
       "  <tbody>\n",
       "    <tr>\n",
       "      <th>0</th>\n",
       "      <td>spotify:artist:26dSoYclwsYLMAKD3tpOr4</td>\n",
       "      <td>[dance pop, pop]</td>\n",
       "    </tr>\n",
       "    <tr>\n",
       "      <th>1</th>\n",
       "      <td>spotify:artist:1yxSLGMDHlW21z4YXirZDS</td>\n",
       "      <td>[dance pop, pop, pop rap]</td>\n",
       "    </tr>\n",
       "    <tr>\n",
       "      <th>2</th>\n",
       "      <td>spotify:artist:5pKCCKE2ajJHZ9KAiaK11H</td>\n",
       "      <td>[barbadian pop, pop, urban contemporary]</td>\n",
       "    </tr>\n",
       "  </tbody>\n",
       "</table>\n",
       "</div>"
      ],
      "text/plain": [
       "                              artist_uri  \\\n",
       "0  spotify:artist:26dSoYclwsYLMAKD3tpOr4   \n",
       "1  spotify:artist:1yxSLGMDHlW21z4YXirZDS   \n",
       "2  spotify:artist:5pKCCKE2ajJHZ9KAiaK11H   \n",
       "\n",
       "                                     genres  \n",
       "0                          [dance pop, pop]  \n",
       "1                 [dance pop, pop, pop rap]  \n",
       "2  [barbadian pop, pop, urban contemporary]  "
      ]
     },
     "execution_count": 166,
     "metadata": {},
     "output_type": "execute_result"
    }
   ],
   "source": [
    "artist_genres_arrays = pd.DataFrame(artist_genres, columns=[\"artist_uri\", \"genres\"])\n",
    "artist_genres_arrays.head(3)"
   ]
  },
  {
   "cell_type": "code",
   "execution_count": 176,
   "id": "405b2cf1-51a8-4b43-9237-f14483e8b169",
   "metadata": {},
   "outputs": [],
   "source": [
    "genres = pd.DataFrame(sum(artist_genres_arrays[\"genres\"].tolist(), []), columns=[\"genre\"]).drop_duplicates()\n",
    "genres.head(3)\n",
    "\n",
    "genre_artist_data = []\n",
    "for i, artist in artist_genres_arrays.iterrows():\n",
    "    artist_genres = artist[\"genres\"]\n",
    "    for genre_id in genres[genres[\"genre\"].isin(artist_genres)].to_numpy():\n",
    "        genre_artist_data.append([artist[\"artist_uri\"], genre_id[0]])\n",
    "\n",
    "artist_to_genre = pd.DataFrame(genre_artist_data, columns=[\"artist_uri\", \"genre_id\"])\n",
    "artist_to_genre.to_csv(\"./processed/\" + person + \"/artist_genre.csv\")"
   ]
  }
 ],
 "metadata": {
  "kernelspec": {
   "display_name": "Python 3 (ipykernel)",
   "language": "python",
   "name": "python3"
  },
  "language_info": {
   "codemirror_mode": {
    "name": "ipython",
    "version": 3
   },
   "file_extension": ".py",
   "mimetype": "text/x-python",
   "name": "python",
   "nbconvert_exporter": "python",
   "pygments_lexer": "ipython3",
   "version": "3.10.12"
  }
 },
 "nbformat": 4,
 "nbformat_minor": 5
}
