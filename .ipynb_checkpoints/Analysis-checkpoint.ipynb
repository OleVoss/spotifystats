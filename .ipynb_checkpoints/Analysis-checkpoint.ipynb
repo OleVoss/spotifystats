{
 "cells": [
  {
   "cell_type": "markdown",
   "id": "4ae8edb8-c6b5-4917-bb60-36bea10c2fc2",
   "metadata": {},
   "source": [
    "# Spotify Extended History\n",
    "\n",
    "The following notebook is an experimental exploration of Spotify's **Extended History**.\n",
    "The data is requested from Spotify and contains every individual play (by my account) from **October 2015** until **March 2023**."
   ]
  },
  {
   "cell_type": "code",
   "execution_count": 179,
   "id": "04252c9b-6f86-4247-aeea-093c5ce64ece",
   "metadata": {},
   "outputs": [],
   "source": [
    "import pandas as pd\n",
    "import seaborn as sns\n",
    "import glob\n",
    "import os\n",
    "import matplotlib.pyplot as plt\n",
    "import numpy as np\n",
    "from tqdm import tqdm_notebook\n",
    "import tqdm\n",
    "import ipywidgets"
   ]
  },
  {
   "cell_type": "code",
   "execution_count": 14,
   "id": "c95484a3-b42b-4ab2-b187-a5a10489b43f",
   "metadata": {},
   "outputs": [
    {
     "data": {
      "text/html": [
       "<div>\n",
       "<style scoped>\n",
       "    .dataframe tbody tr th:only-of-type {\n",
       "        vertical-align: middle;\n",
       "    }\n",
       "\n",
       "    .dataframe tbody tr th {\n",
       "        vertical-align: top;\n",
       "    }\n",
       "\n",
       "    .dataframe thead th {\n",
       "        text-align: right;\n",
       "    }\n",
       "</style>\n",
       "<table border=\"1\" class=\"dataframe\">\n",
       "  <thead>\n",
       "    <tr style=\"text-align: right;\">\n",
       "      <th></th>\n",
       "      <th>ts</th>\n",
       "      <th>username</th>\n",
       "      <th>platform</th>\n",
       "      <th>ms_played</th>\n",
       "      <th>conn_country</th>\n",
       "      <th>ip_addr_decrypted</th>\n",
       "      <th>user_agent_decrypted</th>\n",
       "      <th>master_metadata_track_name</th>\n",
       "      <th>master_metadata_album_artist_name</th>\n",
       "      <th>master_metadata_album_album_name</th>\n",
       "      <th>...</th>\n",
       "      <th>episode_name</th>\n",
       "      <th>episode_show_name</th>\n",
       "      <th>spotify_episode_uri</th>\n",
       "      <th>reason_start</th>\n",
       "      <th>reason_end</th>\n",
       "      <th>shuffle</th>\n",
       "      <th>skipped</th>\n",
       "      <th>offline</th>\n",
       "      <th>offline_timestamp</th>\n",
       "      <th>incognito_mode</th>\n",
       "    </tr>\n",
       "  </thead>\n",
       "  <tbody>\n",
       "    <tr>\n",
       "      <th>0</th>\n",
       "      <td>2015-10-04T17:25:52Z</td>\n",
       "      <td>thatollom</td>\n",
       "      <td>Android OS 4.4.2 API 19 (THL, thl 5000)</td>\n",
       "      <td>121393</td>\n",
       "      <td>DE</td>\n",
       "      <td>95.91.224.1</td>\n",
       "      <td>unknown</td>\n",
       "      <td>Play Hard (feat. Ne-Yo &amp; Akon)</td>\n",
       "      <td>David Guetta</td>\n",
       "      <td>Nothing but the Beat</td>\n",
       "      <td>...</td>\n",
       "      <td>NaN</td>\n",
       "      <td>NaN</td>\n",
       "      <td>NaN</td>\n",
       "      <td>clickrow</td>\n",
       "      <td>endplay</td>\n",
       "      <td>False</td>\n",
       "      <td>1.0</td>\n",
       "      <td>False</td>\n",
       "      <td>0</td>\n",
       "      <td>False</td>\n",
       "    </tr>\n",
       "    <tr>\n",
       "      <th>6038</th>\n",
       "      <td>2023-05-14T22:12:55Z</td>\n",
       "      <td>thatollom</td>\n",
       "      <td>ios</td>\n",
       "      <td>154381</td>\n",
       "      <td>DE</td>\n",
       "      <td>37.4.229.9</td>\n",
       "      <td>unknown</td>\n",
       "      <td>Dawn of the Dragonstar</td>\n",
       "      <td>Twilight Force</td>\n",
       "      <td>Dawn of the Dragonstar</td>\n",
       "      <td>...</td>\n",
       "      <td>None</td>\n",
       "      <td>None</td>\n",
       "      <td>None</td>\n",
       "      <td>trackdone</td>\n",
       "      <td>endplay</td>\n",
       "      <td>False</td>\n",
       "      <td>1.0</td>\n",
       "      <td>False</td>\n",
       "      <td>1684074699</td>\n",
       "      <td>False</td>\n",
       "    </tr>\n",
       "  </tbody>\n",
       "</table>\n",
       "<p>2 rows × 21 columns</p>\n",
       "</div>"
      ],
      "text/plain": [
       "                        ts   username  \\\n",
       "0     2015-10-04T17:25:52Z  thatollom   \n",
       "6038  2023-05-14T22:12:55Z  thatollom   \n",
       "\n",
       "                                     platform  ms_played conn_country  \\\n",
       "0     Android OS 4.4.2 API 19 (THL, thl 5000)     121393           DE   \n",
       "6038                                      ios     154381           DE   \n",
       "\n",
       "     ip_addr_decrypted user_agent_decrypted      master_metadata_track_name  \\\n",
       "0          95.91.224.1              unknown  Play Hard (feat. Ne-Yo & Akon)   \n",
       "6038        37.4.229.9              unknown          Dawn of the Dragonstar   \n",
       "\n",
       "     master_metadata_album_artist_name master_metadata_album_album_name  ...  \\\n",
       "0                         David Guetta             Nothing but the Beat  ...   \n",
       "6038                    Twilight Force           Dawn of the Dragonstar  ...   \n",
       "\n",
       "     episode_name episode_show_name spotify_episode_uri reason_start  \\\n",
       "0             NaN               NaN                 NaN     clickrow   \n",
       "6038         None              None                None    trackdone   \n",
       "\n",
       "     reason_end shuffle  skipped  offline  offline_timestamp  incognito_mode  \n",
       "0       endplay   False      1.0    False                  0           False  \n",
       "6038    endplay   False      1.0    False         1684074699           False  \n",
       "\n",
       "[2 rows x 21 columns]"
      ]
     },
     "execution_count": 14,
     "metadata": {},
     "output_type": "execute_result"
    }
   ],
   "source": [
    "df = pd.concat(map(pd.read_json, [\"data/endsong_0.json\", \"data/endsong_1.json\", \"data/endsong_2.json\", \"data/endsong_3.json\", \"data/endsong_4.json\", \"data/endsong_5.json\"]))\n",
    "df.iloc[[0,-1]]"
   ]
  },
  {
   "cell_type": "code",
   "execution_count": 15,
   "id": "f9bd022f-47f5-4366-95a0-2e92fd5c2093",
   "metadata": {},
   "outputs": [],
   "source": [
    "df.drop(columns=[\"username\", \"ip_addr_decrypted\", \"user_agent_decrypted\", \"offline_timestamp\", \"incognito_mode\"], inplace=True)"
   ]
  },
  {
   "cell_type": "code",
   "execution_count": 16,
   "id": "a6a5b37e-5347-491e-80f8-0f564ce01260",
   "metadata": {},
   "outputs": [],
   "source": [
    "df[\"ts\"] = pd.to_datetime(df[\"ts\"])\n",
    "original_length = len(df)"
   ]
  },
  {
   "cell_type": "markdown",
   "id": "ce066b75-61df-4eac-93b1-2bb3b76351e1",
   "metadata": {},
   "source": [
    "---\n",
    "Only using songs that have been played at least **10 times**. \\\n",
    "Otherwise the data would be cluttered with insigificant entries, falsifying the sigificant hearing-bahavior.\n",
    "\n",
    "**Edit:**\n",
    "Upon further inspection, the 2015 data appear to be characterisec by irregular usage and a general lack of significance and thus will be excluded from the dataset."
   ]
  },
  {
   "cell_type": "code",
   "execution_count": 161,
   "id": "ddb25ebb-f0a6-4e03-878b-f902d558f21b",
   "metadata": {},
   "outputs": [
    {
     "name": "stdout",
     "output_type": "stream",
     "text": [
      "original length: 86032\n",
      " reduced length: 44707\n",
      "      reduction: 51.97%\n"
     ]
    }
   ],
   "source": [
    "df_top_tracks = df[\"master_metadata_track_name\"].value_counts().to_frame()\n",
    "df_top_tracks = df_top_tracks.reset_index().rename(columns={\"index\":\"name\",\"master_metadata_track_name\":\"plays\"})\n",
    "top_names = df_top_tracks[df_top_tracks[\"plays\"]>=10][\"name\"]\n",
    "df_orig = df\n",
    "df = df[df[\"master_metadata_track_name\"].isin(top_names)].reset_index(drop=True)\n",
    "# Edit:\n",
    "df = df[df[\"ts\"].dt.year != 2015]\n",
    "\n",
    "print(\"original length:\", original_length)\n",
    "print(\" reduced length:\", len(df))\n",
    "print(\"      reduction:\", str(round(len(df)/original_length*100,2))+\"%\")"
   ]
  },
  {
   "cell_type": "markdown",
   "id": "533aea92-c322-42fa-a2ba-f81a294c5fa0",
   "metadata": {},
   "source": [
    "<div class=\"alert alert-block alert-success\"> \n",
    "    It could be useful to further only include tracks,\n",
    "    that have been played at lead 30% (or 50%) of their length. <br>\n",
    "    Including skipped tracks carries the risk of further distorting the real hearing-bahavior.\n",
    "\n",
    "</div>"
   ]
  },
  {
   "cell_type": "markdown",
   "id": "52ca19ce-e712-4a38-a028-2aea75b73358",
   "metadata": {},
   "source": [
    "---\n",
    "Songs played per year.\n",
    "\n",
    "(only skipped excluded)"
   ]
  },
  {
   "cell_type": "code",
   "execution_count": 162,
   "id": "eb53f9a1-f55c-45ea-9764-b5f94c3295f7",
   "metadata": {},
   "outputs": [
    {
     "data": {
      "image/png": "[encoded data removed]",
      "text/plain": [
       "<Figure size 432x288 with 1 Axes>"
      ]
     },
     "metadata": {
      "needs_background": "light"
     },
     "output_type": "display_data"
    }
   ],
   "source": [
    "df_orig.groupby(df_orig[\"ts\"].dt.year)[\"ts\"].count().plot(kind=\"bar\")\n",
    "plt.show()"
   ]
  },
  {
   "cell_type": "markdown",
   "id": "dc4d3e87-a1a6-4833-9d42-6f8116bd4b8d",
   "metadata": {},
   "source": [
    "---\n",
    "Songs per year per quarter."
   ]
  },
  {
   "cell_type": "code",
   "execution_count": 163,
   "id": "9a45a31f-0b34-4189-9d2a-40f091642f8e",
   "metadata": {},
   "outputs": [
    {
     "data": {
      "text/plain": [
       "<AxesSubplot:xlabel='ts'>"
      ]
     },
     "execution_count": 163,
     "metadata": {},
     "output_type": "execute_result"
    },
    {
     "data": {
      "image/png": "[encoded data removed]",
      "text/plain": [
       "<Figure size 432x288 with 1 Axes>"
      ]
     },
     "metadata": {
      "needs_background": "light"
     },
     "output_type": "display_data"
    }
   ],
   "source": [
    "df_my = df_orig.groupby([df_orig[\"ts\"].dt.year, df_orig[\"ts\"].dt.quarter])[\"ts\"].agg(\"count\").to_frame()\n",
    "df_my.index.sortlevel(0, sort_remaining=True)\n",
    "df_my.unstack().plot(kind=\"bar\", stacked=False)"
   ]
  },
  {
   "cell_type": "markdown",
   "id": "f70883fd-876d-4b22-a876-0725a5c8335c",
   "metadata": {},
   "source": [
    "---\n",
    "Finding the longes heared tracks."
   ]
  },
  {
   "cell_type": "code",
   "execution_count": 164,
   "id": "7d39759c-7851-4e66-8083-00674561808b",
   "metadata": {},
   "outputs": [
    {
     "data": {
      "application/vnd.jupyter.widget-view+json": {
       "model_id": "0ac7f0f1d606451c908c0d1ecd497bde",
       "version_major": 2,
       "version_minor": 0
      },
      "text/plain": [
       "  0%|          | 0/1324 [00:00<?, ?it/s]"
      ]
     },
     "metadata": {},
     "output_type": "display_data"
    },
    {
     "data": {
      "text/html": [
       "<div>\n",
       "<style scoped>\n",
       "    .dataframe tbody tr th:only-of-type {\n",
       "        vertical-align: middle;\n",
       "    }\n",
       "\n",
       "    .dataframe tbody tr th {\n",
       "        vertical-align: top;\n",
       "    }\n",
       "\n",
       "    .dataframe thead th {\n",
       "        text-align: right;\n",
       "    }\n",
       "</style>\n",
       "<table border=\"1\" class=\"dataframe\">\n",
       "  <thead>\n",
       "    <tr style=\"text-align: right;\">\n",
       "      <th></th>\n",
       "      <th>track_name</th>\n",
       "      <th>plays</th>\n",
       "      <th>first_played</th>\n",
       "      <th>last_played</th>\n",
       "      <th>days_between</th>\n",
       "      <th>days_played</th>\n",
       "    </tr>\n",
       "  </thead>\n",
       "  <tbody>\n",
       "    <tr>\n",
       "      <th>0</th>\n",
       "      <td>T-Shirt Song</td>\n",
       "      <td>201</td>\n",
       "      <td>2018-01-14 21:02:25+00:00</td>\n",
       "      <td>2022-09-23 16:51:53+00:00</td>\n",
       "      <td>1712</td>\n",
       "      <td>92</td>\n",
       "    </tr>\n",
       "    <tr>\n",
       "      <th>1</th>\n",
       "      <td>Punk Rock Songs</td>\n",
       "      <td>195</td>\n",
       "      <td>2021-11-08 05:54:24+00:00</td>\n",
       "      <td>2023-04-24 09:46:14+00:00</td>\n",
       "      <td>532</td>\n",
       "      <td>128</td>\n",
       "    </tr>\n",
       "    <tr>\n",
       "      <th>2</th>\n",
       "      <td>Nothing</td>\n",
       "      <td>194</td>\n",
       "      <td>2021-10-13 12:28:43+00:00</td>\n",
       "      <td>2023-05-11 17:40:42+00:00</td>\n",
       "      <td>575</td>\n",
       "      <td>100</td>\n",
       "    </tr>\n",
       "    <tr>\n",
       "      <th>3</th>\n",
       "      <td>Young, Wild &amp; Free (feat. Bruno Mars)</td>\n",
       "      <td>182</td>\n",
       "      <td>2016-01-24 11:15:06+00:00</td>\n",
       "      <td>2022-02-17 15:23:58+00:00</td>\n",
       "      <td>2216</td>\n",
       "      <td>89</td>\n",
       "    </tr>\n",
       "    <tr>\n",
       "      <th>4</th>\n",
       "      <td>Young as the Morning Old as the Sea</td>\n",
       "      <td>179</td>\n",
       "      <td>2016-10-09 10:48:16+00:00</td>\n",
       "      <td>2021-11-23 14:41:52+00:00</td>\n",
       "      <td>1871</td>\n",
       "      <td>76</td>\n",
       "    </tr>\n",
       "    <tr>\n",
       "      <th>...</th>\n",
       "      <td>...</td>\n",
       "      <td>...</td>\n",
       "      <td>...</td>\n",
       "      <td>...</td>\n",
       "      <td>...</td>\n",
       "      <td>...</td>\n",
       "    </tr>\n",
       "    <tr>\n",
       "      <th>1319</th>\n",
       "      <td>Quantenphysik (Original Mix)</td>\n",
       "      <td>10</td>\n",
       "      <td>2021-12-15 14:23:26+00:00</td>\n",
       "      <td>2022-05-16 08:15:09+00:00</td>\n",
       "      <td>151</td>\n",
       "      <td>8</td>\n",
       "    </tr>\n",
       "    <tr>\n",
       "      <th>1320</th>\n",
       "      <td>Elements</td>\n",
       "      <td>10</td>\n",
       "      <td>2021-12-15 15:03:26+00:00</td>\n",
       "      <td>2022-04-18 02:43:39+00:00</td>\n",
       "      <td>123</td>\n",
       "      <td>8</td>\n",
       "    </tr>\n",
       "    <tr>\n",
       "      <th>1321</th>\n",
       "      <td>Suniai</td>\n",
       "      <td>10</td>\n",
       "      <td>2019-11-16 12:54:04+00:00</td>\n",
       "      <td>2020-07-24 10:32:25+00:00</td>\n",
       "      <td>250</td>\n",
       "      <td>5</td>\n",
       "    </tr>\n",
       "    <tr>\n",
       "      <th>1322</th>\n",
       "      <td>Takes One to Know One</td>\n",
       "      <td>10</td>\n",
       "      <td>2019-11-16 10:14:42+00:00</td>\n",
       "      <td>2020-07-24 10:35:44+00:00</td>\n",
       "      <td>251</td>\n",
       "      <td>6</td>\n",
       "    </tr>\n",
       "    <tr>\n",
       "      <th>1323</th>\n",
       "      <td>Der Bratan bleibt der gleiche</td>\n",
       "      <td>10</td>\n",
       "      <td>2020-01-15 21:49:51+00:00</td>\n",
       "      <td>2020-02-05 16:56:13+00:00</td>\n",
       "      <td>20</td>\n",
       "      <td>5</td>\n",
       "    </tr>\n",
       "  </tbody>\n",
       "</table>\n",
       "<p>1324 rows × 6 columns</p>\n",
       "</div>"
      ],
      "text/plain": [
       "                                 track_name plays               first_played  \\\n",
       "0                              T-Shirt Song   201  2018-01-14 21:02:25+00:00   \n",
       "1                           Punk Rock Songs   195  2021-11-08 05:54:24+00:00   \n",
       "2                                   Nothing   194  2021-10-13 12:28:43+00:00   \n",
       "3     Young, Wild & Free (feat. Bruno Mars)   182  2016-01-24 11:15:06+00:00   \n",
       "4       Young as the Morning Old as the Sea   179  2016-10-09 10:48:16+00:00   \n",
       "...                                     ...   ...                        ...   \n",
       "1319           Quantenphysik (Original Mix)    10  2021-12-15 14:23:26+00:00   \n",
       "1320                               Elements    10  2021-12-15 15:03:26+00:00   \n",
       "1321                                 Suniai    10  2019-11-16 12:54:04+00:00   \n",
       "1322                  Takes One to Know One    10  2019-11-16 10:14:42+00:00   \n",
       "1323          Der Bratan bleibt der gleiche    10  2020-01-15 21:49:51+00:00   \n",
       "\n",
       "                    last_played days_between days_played  \n",
       "0     2022-09-23 16:51:53+00:00         1712          92  \n",
       "1     2023-04-24 09:46:14+00:00          532         128  \n",
       "2     2023-05-11 17:40:42+00:00          575         100  \n",
       "3     2022-02-17 15:23:58+00:00         2216          89  \n",
       "4     2021-11-23 14:41:52+00:00         1871          76  \n",
       "...                         ...          ...         ...  \n",
       "1319  2022-05-16 08:15:09+00:00          151           8  \n",
       "1320  2022-04-18 02:43:39+00:00          123           8  \n",
       "1321  2020-07-24 10:32:25+00:00          250           5  \n",
       "1322  2020-07-24 10:35:44+00:00          251           6  \n",
       "1323  2020-02-05 16:56:13+00:00           20           5  \n",
       "\n",
       "[1324 rows x 6 columns]"
      ]
     },
     "execution_count": 164,
     "metadata": {},
     "output_type": "execute_result"
    }
   ],
   "source": [
    "df_playcount = df[\"master_metadata_track_name\"].value_counts().to_frame()\n",
    "df_from_to = pd.DataFrame(columns=[\"track_name\", \"plays\", \"first_played\", \"last_played\", \"days_between\", \"days_played\"])\n",
    "\n",
    "for song, plays in tqdm.notebook.tqdm(df_playcount.iterrows(), total=df_playcount.shape[0]):\n",
    "    first_ts = df[df[\"master_metadata_track_name\"] == song].iloc[0][\"ts\"]\n",
    "    last_ts = df[df[\"master_metadata_track_name\"] == song].iloc[-1][\"ts\"]\n",
    "    \n",
    "    df_ts = df.set_index(\"ts\")\n",
    "    df_ts_filtered = df_ts[df_ts[\"master_metadata_track_name\"] == song]\n",
    "    days_played = len(df_ts_filtered.groupby(df_ts_filtered.index.date).count())\n",
    "    \n",
    "    row = {\n",
    "        \"track_name\": song,\n",
    "        \"plays\": plays.values[0],\n",
    "        \"first_played\": first_ts,\n",
    "        \"last_played\": last_ts,\n",
    "        \"days_between\": (last_ts - first_ts).days,\n",
    "        \"days_played\": days_played,\n",
    "    }\n",
    "    new_df = pd.DataFrame([row])\n",
    "    df_from_to = pd.concat([df_from_to, new_df], ignore_index=True)\n",
    "\n",
    "df_from_to"
   ]
  },
  {
   "cell_type": "markdown",
   "id": "c14d79c2-ee75-4368-b0a2-eb684535c1d0",
   "metadata": {},
   "source": [
    "---\n",
    "Top five songs per year with individual plays."
   ]
  },
  {
   "cell_type": "code",
   "execution_count": 168,
   "id": "459a8b8f-bd85-4b89-9685-6920034d966b",
   "metadata": {},
   "outputs": [
    {
     "data": {
      "text/plain": [
       "ts    master_metadata_track_name                        \n",
       "2016  Rasta Got Soul                                         88\n",
       "      Young, Wild & Free (feat. Bruno Mars)                  80\n",
       "      No Money                                               60\n",
       "      Stimme                                                 58\n",
       "      So lala                                                53\n",
       "2017  Young as the Morning Old as the Sea                   119\n",
       "      Everyday (feat. Rod Stewart, Miguel & Mark Ronson)    101\n",
       "      Catch & Release (Deepend remix)                        92\n",
       "      Xenogenesis                                            87\n",
       "      Semi-Automatic                                         73\n",
       "2018  Fast Forward                                          107\n",
       "      T-Shirt Song                                          104\n",
       "      The Heart from Your Hate                               95\n",
       "      Alles probiert                                         94\n",
       "      Freeze Me                                              94\n",
       "2019  Blood // Water                                         97\n",
       "      Tripical Moon                                          72\n",
       "      T-Shirt Song                                           64\n",
       "      Bells                                                  61\n",
       "      Best Friends                                           61\n",
       "2020  Happy                                                  47\n",
       "      Afraid No More                                         45\n",
       "      Storm                                                  43\n",
       "      High Hopes                                             42\n",
       "      Rude                                                   40\n",
       "2021  Monsters (feat. blackbear)                             94\n",
       "      acting like that (feat. Machine Gun Kelly)             70\n",
       "      Some Kind of Disaster                                  66\n",
       "      Nothing                                                64\n",
       "      L.O.V.E.                                               63\n",
       "2022  Dear God                                              158\n",
       "      Punk Rock Songs                                       141\n",
       "      Memories (with WILLOW)                                138\n",
       "      Nothing                                               126\n",
       "      What You Make It                                       88\n",
       "2023  Better Than Gold                                       24\n",
       "      Cry Out For A Hero                                     20\n",
       "      To Let A Good Thing Die                                19\n",
       "      Relax, Take It Easy                                    18\n",
       "      Fear Of The Fallen                                     15\n",
       "Name: master_metadata_track_name, dtype: int64"
      ]
     },
     "execution_count": 168,
     "metadata": {},
     "output_type": "execute_result"
    }
   ],
   "source": [
    "df.groupby(df[\"ts\"].dt.year)[\"master_metadata_track_name\"].value_counts().groupby(level=0, group_keys=False).head(5)"
   ]
  },
  {
   "cell_type": "markdown",
   "id": "6217d827-c7cf-4c41-91db-af3f19954ead",
   "metadata": {},
   "source": [
    "---\n",
    "Histogram individual plays, per year."
   ]
  },
  {
   "cell_type": "code",
   "execution_count": 169,
   "id": "ebafc7d6-c010-4091-9a4e-264641aa71be",
   "metadata": {},
   "outputs": [
    {
     "data": {
      "text/html": [
       "<div>\n",
       "<style scoped>\n",
       "    .dataframe tbody tr th:only-of-type {\n",
       "        vertical-align: middle;\n",
       "    }\n",
       "\n",
       "    .dataframe tbody tr th {\n",
       "        vertical-align: top;\n",
       "    }\n",
       "\n",
       "    .dataframe thead th {\n",
       "        text-align: right;\n",
       "    }\n",
       "</style>\n",
       "<table border=\"1\" class=\"dataframe\">\n",
       "  <thead>\n",
       "    <tr style=\"text-align: right;\">\n",
       "      <th></th>\n",
       "      <th>year</th>\n",
       "      <th>track_name</th>\n",
       "      <th>individual_plays</th>\n",
       "    </tr>\n",
       "  </thead>\n",
       "  <tbody>\n",
       "    <tr>\n",
       "      <th>0</th>\n",
       "      <td>2016</td>\n",
       "      <td>Rasta Got Soul</td>\n",
       "      <td>88</td>\n",
       "    </tr>\n",
       "    <tr>\n",
       "      <th>1</th>\n",
       "      <td>2016</td>\n",
       "      <td>Young, Wild &amp; Free (feat. Bruno Mars)</td>\n",
       "      <td>80</td>\n",
       "    </tr>\n",
       "    <tr>\n",
       "      <th>2</th>\n",
       "      <td>2016</td>\n",
       "      <td>No Money</td>\n",
       "      <td>60</td>\n",
       "    </tr>\n",
       "  </tbody>\n",
       "</table>\n",
       "</div>"
      ],
      "text/plain": [
       "   year                             track_name  individual_plays\n",
       "0  2016                         Rasta Got Soul                88\n",
       "1  2016  Young, Wild & Free (feat. Bruno Mars)                80\n",
       "2  2016                               No Money                60"
      ]
     },
     "execution_count": 169,
     "metadata": {},
     "output_type": "execute_result"
    }
   ],
   "source": [
    "plays_by_year = df.groupby(df[\"ts\"].dt.year)[\"master_metadata_track_name\"].value_counts().to_frame()\n",
    "plays_by_year.index.rename([\"year\", \"track_name\"], inplace=True)\n",
    "plays_by_year = plays_by_year.reset_index()\n",
    "plays_by_year.rename({\"master_metadata_track_name\":\"individual_plays\"},axis=1, inplace=True)\n",
    "plays_by_year.head(3)"
   ]
  },
  {
   "cell_type": "code",
   "execution_count": 451,
   "id": "6ce280fa-a4da-4081-8989-c189f9ce66f7",
   "metadata": {},
   "outputs": [
    {
     "data": {
      "application/vnd.jupyter.widget-view+json": {
       "model_id": "a7828a5d425e4831b9809ba3b50c6677",
       "version_major": 2,
       "version_minor": 0
      },
      "text/plain": [
       "HBox(children=(Output(), Output()))"
      ]
     },
     "metadata": {},
     "output_type": "display_data"
    }
   ],
   "source": [
    "# pby = plays_by_year[plays_by_year[\"individual_plays\"] < 50]\n",
    "sea = sns.FacetGrid(plays_by_year[[\"year\", \"individual_plays\"]], col=\"year\", col_wrap=3)\n",
    "\n",
    "plot = sea.map_dataframe(sns.histplot, \"individual_plays\", stat=\"percent\", discrete=True)\n",
    "year_counts = plays_by_year[\"individual_plays\"].groupby(plays_by_year[\"year\"]).count().reset_index(name=\"plays\").set_index(\"year\")\n",
    "### Jupyter Setup ###\n",
    "out1 = ipywidgets.widgets.Output()\n",
    "with out1:\n",
    "    display(year_counts)\n",
    "out2 = ipywidgets.widgets.Output()\n",
    "with out2:\n",
    "    display(plot)\n",
    "    plt.show()\n",
    "two_columns = ipywidgets.widgets.HBox([out1, out2])\n",
    "display(two_columns)"
   ]
  },
  {
   "cell_type": "markdown",
   "id": "574bde85-c93a-4ce4-85ce-1e55342a8bbc",
   "metadata": {},
   "source": [
    "---\n",
    "Portion of the top **5 (10, 20)** songs of the month in total plays.\n",
    "> **TODO:** Amount of unique tracks that month"
   ]
  },
  {
   "cell_type": "code",
   "execution_count": 550,
   "id": "2e56343e-6172-477e-8e51-956b43ac3c13",
   "metadata": {},
   "outputs": [
    {
     "data": {
      "application/vnd.jupyter.widget-view+json": {
       "model_id": "4ea47bb5ad154aaf8a51feed0f0ea701",
       "version_major": 2,
       "version_minor": 0
      },
      "text/plain": [
       "  0%|          | 0/3 [00:00<?, ?it/s]"
      ]
     },
     "metadata": {},
     "output_type": "display_data"
    },
    {
     "data": {
      "application/vnd.jupyter.widget-view+json": {
       "model_id": "488b7d5e52ce45b384d825a267d470ae",
       "version_major": 2,
       "version_minor": 0
      },
      "text/plain": [
       "  0%|          | 0/86 [00:00<?, ?it/s]"
      ]
     },
     "metadata": {},
     "output_type": "display_data"
    },
    {
     "data": {
      "application/vnd.jupyter.widget-view+json": {
       "model_id": "8ef71c0a7308453888697fc078eeaff9",
       "version_major": 2,
       "version_minor": 0
      },
      "text/plain": [
       "  0%|          | 0/86 [00:00<?, ?it/s]"
      ]
     },
     "metadata": {},
     "output_type": "display_data"
    },
    {
     "data": {
      "application/vnd.jupyter.widget-view+json": {
       "model_id": "6aafef51e9444eb4a134d42093896c7e",
       "version_major": 2,
       "version_minor": 0
      },
      "text/plain": [
       "  0%|          | 0/86 [00:00<?, ?it/s]"
      ]
     },
     "metadata": {},
     "output_type": "display_data"
    }
   ],
   "source": [
    "top_n = [5, 10, 20]\n",
    "dfs = []\n",
    "dates = df_orig[\"ts\"].dt.strftime(\"%y - %m\").drop_duplicates().tolist()\n",
    "for n in top_n:\n",
    "    df_top_month = pd.DataFrame(columns=[\"plays\"], index=dates)\n",
    "    for date in tqdm.notebook.tqdm(df_top_month.index):\n",
    "        entries = df_orig[df_orig[\"ts\"].dt.strftime(\"%y - %m\") == date]\n",
    "        total_plays = len(entries)\n",
    "        s_top_n = entries[\"master_metadata_track_name\"].value_counts().head(n)\n",
    "        top_n_plays = s_top_n.sum()\n",
    "        top_n_tracks = s_top_n.index.tolist()\n",
    "        top_n_portion = round(top_n_plays / total_plays * 100, 2)\n",
    "        df_top_month.at[date] = top_n_portion\n",
    "    dfs.append(df_top_month)"
   ]
  },
  {
   "cell_type": "code",
   "execution_count": 561,
   "id": "02956670-4f3c-404f-ae87-325bc2709a25",
   "metadata": {},
   "outputs": [
    {
     "data": {
      "text/plain": [
       "<AxesSubplot:>"
      ]
     },
     "execution_count": 561,
     "metadata": {},
     "output_type": "execute_result"
    },
    {
     "data": {
      "image/png": "[encoded data removed]",
      "text/plain": [
       "<Figure size 432x288 with 1 Axes>"
      ]
     },
     "metadata": {
      "needs_background": "light"
     },
     "output_type": "display_data"
    }
   ],
   "source": [
    "fig, ax = plt.subplots()\n",
    "df_top_all_n = pd.concat(dfs, axis=1)\n",
    "df_top_all_n.index = pd.to_datetime(df_top_all_n.index, format=\"%y - %m\")\n",
    "df_top_all_n.columns = [\"plays5\",\"plays10\", \"plays20\"]\n",
    "sns.lineplot(data=df_top_all_n[[\"plays5\", \"plays10\", \"plays20\"]])"
   ]
  },
  {
   "cell_type": "markdown",
   "id": "848eb425-a4fb-4dab-bd33-530c6bd4128c",
   "metadata": {},
   "source": [
    "---\n",
    "Graphing the five most played song with their respective **plays per month**."
   ]
  },
  {
   "cell_type": "code",
   "execution_count": 448,
   "id": "cbc76ec2-ecc6-45a8-bbce-0597eaf1009c",
   "metadata": {},
   "outputs": [
    {
     "data": {
      "image/png": "[encoded data removed]",
      "text/plain": [
       "<Figure size 432x288 with 1 Axes>"
      ]
     },
     "metadata": {
      "needs_background": "light"
     },
     "output_type": "display_data"
    }
   ],
   "source": [
    "top10 = df[\"master_metadata_track_name\"].value_counts().iloc[:5].index.values\n",
    "data = df[df[\"master_metadata_track_name\"].isin(top10)]\n",
    "data = data.groupby([data[\"ts\"].dt.year, data[\"ts\"].dt.month], group_keys=False) \\\n",
    "    [\"master_metadata_track_name\"].value_counts().to_frame().rename_axis([\"year\", \"month\", \"track_name\"]).reset_index(2) \\\n",
    "    .rename({\"master_metadata_track_name\":\"plays\"}, axis=1).reset_index()\n",
    "data[\"date\"] = pd.to_datetime(data[[\"year\", \"month\"]].assign(DAY=1))\n",
    "data = data.drop([\"year\", \"month\"], axis=1)\n",
    "\n",
    "\n",
    "ax = sns.lineplot(data=data, x=\"date\", y=\"plays\", hue=\"track_name\")\n",
    "sns.move_legend(ax, \"center left\", bbox_to_anchor=(1.1,0.5))"
   ]
  },
  {
   "cell_type": "markdown",
   "id": "426b0df2-e4a2-434e-94b6-57b641565b20",
   "metadata": {},
   "source": [
    "---\n",
    "## Ideas\n",
    "- 💡 for every year, number of songs played for that amount\n",
    "- top song percentage\n",
    "- genre breaks\n",
    "- play peaks / lows\n",
    "- top genres\n",
    "- genre percentage\n",
    "- interpret percentage\n",
    "- top interpretes\n",
    "- mean playtime @(month/day/hour)\n",
    "- skipped\n",
    "    - time\n",
    "    - percentage\n",
    "    - heared again?\n",
    "    - skipped early/late -> heared again?\n",
    "    - main genre? -> skipped?\n",
    "- session recognition?\n",
    "- song cluster"
   ]
  },
  {
   "cell_type": "code",
   "execution_count": null,
   "id": "98132ae4-9f3f-4ee1-97b3-0ad8d1265d6a",
   "metadata": {},
   "outputs": [],
   "source": []
  }
 ],
 "metadata": {
  "kernelspec": {
   "display_name": "Python 3 (ipykernel)",
   "language": "python",
   "name": "python3"
  },
  "language_info": {
   "codemirror_mode": {
    "name": "ipython",
    "version": 3
   },
   "file_extension": ".py",
   "mimetype": "text/x-python",
   "name": "python",
   "nbconvert_exporter": "python",
   "pygments_lexer": "ipython3",
   "version": "3.9.12"
  }
 },
 "nbformat": 4,
 "nbformat_minor": 5
}
