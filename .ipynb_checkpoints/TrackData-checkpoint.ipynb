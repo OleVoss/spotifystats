{
 "cells": [
  {
   "cell_type": "code",
   "execution_count": 72,
   "id": "e8618ddb-0974-45f2-88c8-bc72d33d3fc8",
   "metadata": {},
   "outputs": [],
   "source": [
    "import os\n",
    "from dotenv import load_dotenv\n",
    "\n",
    "import spotipy\n",
    "from spotipy.oauth2 import SpotifyClientCredentials\n",
    "\n",
    "import pandas as pd\n",
    "import numpy as np\n",
    "import math\n",
    "from tqdm import notebook"
   ]
  },
  {
   "cell_type": "code",
   "execution_count": 7,
   "id": "5b850a40-cbff-48bb-b635-d40a2a0987a8",
   "metadata": {},
   "outputs": [],
   "source": [
    "load_dotenv()\n",
    "ID = os.getenv(\"ID\")\n",
    "SECRET = os.getenv(\"SECRET\")\n",
    "\n",
    "sp = spotipy.Spotify(auth_manager=SpotifyClientCredentials(client_id=ID, client_secret=SECRET))"
   ]
  },
  {
   "cell_type": "code",
   "execution_count": 87,
   "id": "fbeaad7a-8839-410f-909a-2bf896164bb8",
   "metadata": {},
   "outputs": [
    {
     "data": {
      "text/html": [
       "<div>\n",
       "<style scoped>\n",
       "    .dataframe tbody tr th:only-of-type {\n",
       "        vertical-align: middle;\n",
       "    }\n",
       "\n",
       "    .dataframe tbody tr th {\n",
       "        vertical-align: top;\n",
       "    }\n",
       "\n",
       "    .dataframe thead th {\n",
       "        text-align: right;\n",
       "    }\n",
       "</style>\n",
       "<table border=\"1\" class=\"dataframe\">\n",
       "  <thead>\n",
       "    <tr style=\"text-align: right;\">\n",
       "      <th></th>\n",
       "      <th>spotify_track_uri</th>\n",
       "      <th>duration_ms</th>\n",
       "    </tr>\n",
       "    <tr>\n",
       "      <th>master_metadata_track_name</th>\n",
       "      <th></th>\n",
       "      <th></th>\n",
       "    </tr>\n",
       "  </thead>\n",
       "  <tbody>\n",
       "    <tr>\n",
       "      <th>\"Best Day Ever\"</th>\n",
       "      <td>spotify:track:75uuO9osMuY3bgXgzTRagc</td>\n",
       "      <td>0</td>\n",
       "    </tr>\n",
       "    <tr>\n",
       "      <th>\"Das ist ein Freimaurer-Raum?\" fragte Sato</th>\n",
       "      <td>spotify:track:3IISUM22gI0PTJU5tpwfaZ</td>\n",
       "      <td>0</td>\n",
       "    </tr>\n",
       "    <tr>\n",
       "      <th>\"Professor Langdon?\" fragte Sato</th>\n",
       "      <td>spotify:track:00Kgmmb3sLa98LmXLx7Sae</td>\n",
       "      <td>0</td>\n",
       "    </tr>\n",
       "    <tr>\n",
       "      <th>\"The Take Over, The Breaks Over\"</th>\n",
       "      <td>spotify:track:26HZ4xullUsdyMx8QnCbmO</td>\n",
       "      <td>0</td>\n",
       "    </tr>\n",
       "    <tr>\n",
       "      <th>\"Warum antwortet Peter nicht?\"</th>\n",
       "      <td>spotify:track:1TFvampZQpx0LLxIEFDbh1</td>\n",
       "      <td>0</td>\n",
       "    </tr>\n",
       "    <tr>\n",
       "      <th>...</th>\n",
       "      <td>...</td>\n",
       "      <td>...</td>\n",
       "    </tr>\n",
       "    <tr>\n",
       "      <th>早い話</th>\n",
       "      <td>spotify:track:59VqqJdqGIP1h14I797eO0</td>\n",
       "      <td>0</td>\n",
       "    </tr>\n",
       "    <tr>\n",
       "      <th>真夜中のオーケストラ</th>\n",
       "      <td>spotify:track:4ARcfREq6OpIVfVImAPFpc</td>\n",
       "      <td>0</td>\n",
       "    </tr>\n",
       "    <tr>\n",
       "      <th>青と夏</th>\n",
       "      <td>spotify:track:5BC6kr6etk2Y9J62AyI4i3</td>\n",
       "      <td>0</td>\n",
       "    </tr>\n",
       "    <tr>\n",
       "      <th>이별을 배웠어 Always In My Heart</th>\n",
       "      <td>spotify:track:4BFv0UrrqKdvoLvhM1bJAJ</td>\n",
       "      <td>0</td>\n",
       "    </tr>\n",
       "    <tr>\n",
       "      <th>회상</th>\n",
       "      <td>spotify:track:7toDG9fohnjU2y2tbg9teG</td>\n",
       "      <td>0</td>\n",
       "    </tr>\n",
       "  </tbody>\n",
       "</table>\n",
       "<p>19681 rows × 2 columns</p>\n",
       "</div>"
      ],
      "text/plain": [
       "                                                               spotify_track_uri  \\\n",
       "master_metadata_track_name                                                         \n",
       "\"Best Day Ever\"                             spotify:track:75uuO9osMuY3bgXgzTRagc   \n",
       "\"Das ist ein Freimaurer-Raum?\" fragte Sato  spotify:track:3IISUM22gI0PTJU5tpwfaZ   \n",
       "\"Professor Langdon?\" fragte Sato            spotify:track:00Kgmmb3sLa98LmXLx7Sae   \n",
       "\"The Take Over, The Breaks Over\"            spotify:track:26HZ4xullUsdyMx8QnCbmO   \n",
       "\"Warum antwortet Peter nicht?\"              spotify:track:1TFvampZQpx0LLxIEFDbh1   \n",
       "...                                                                          ...   \n",
       "早い話                                         spotify:track:59VqqJdqGIP1h14I797eO0   \n",
       "真夜中のオーケストラ                                  spotify:track:4ARcfREq6OpIVfVImAPFpc   \n",
       "青と夏                                         spotify:track:5BC6kr6etk2Y9J62AyI4i3   \n",
       "이별을 배웠어 Always In My Heart                  spotify:track:4BFv0UrrqKdvoLvhM1bJAJ   \n",
       "회상                                          spotify:track:7toDG9fohnjU2y2tbg9teG   \n",
       "\n",
       "                                            duration_ms  \n",
       "master_metadata_track_name                               \n",
       "\"Best Day Ever\"                                       0  \n",
       "\"Das ist ein Freimaurer-Raum?\" fragte Sato            0  \n",
       "\"Professor Langdon?\" fragte Sato                      0  \n",
       "\"The Take Over, The Breaks Over\"                      0  \n",
       "\"Warum antwortet Peter nicht?\"                        0  \n",
       "...                                                 ...  \n",
       "早い話                                                   0  \n",
       "真夜中のオーケストラ                                            0  \n",
       "青と夏                                                   0  \n",
       "이별을 배웠어 Always In My Heart                            0  \n",
       "회상                                                    0  \n",
       "\n",
       "[19681 rows x 2 columns]"
      ]
     },
     "execution_count": 87,
     "metadata": {},
     "output_type": "execute_result"
    }
   ],
   "source": [
    "df = pd.read_csv(\"tracks_with_uri.csv\")\n",
    "df[\"duration_ms\"] = 0\n",
    "df.set_index(\"master_metadata_track_name\", inplace=True)\n",
    "df"
   ]
  },
  {
   "cell_type": "code",
   "execution_count": 88,
   "id": "103a32ed-b659-468b-8a74-ffe0480df78d",
   "metadata": {},
   "outputs": [
    {
     "data": {
      "text/plain": [
       "spotify_track_uri    spotify:track:75uuO9osMuY3bgXgzTRagc\n",
       "duration_ms                                             0\n",
       "Name: \"Best Day Ever\", dtype: object"
      ]
     },
     "execution_count": 88,
     "metadata": {},
     "output_type": "execute_result"
    }
   ],
   "source": [
    "test_track = df.iloc[0]\n",
    "test_track"
   ]
  },
  {
   "cell_type": "code",
   "execution_count": 93,
   "id": "955eba7a-a087-46f6-a9f3-5f9b17a8da2c",
   "metadata": {},
   "outputs": [
    {
     "data": {
      "text/plain": [
       "array([['\"Best Day Ever\"', 'spotify:track:75uuO9osMuY3bgXgzTRagc'],\n",
       "       ['\"Das ist ein Freimaurer-Raum?\" fragte Sato',\n",
       "        'spotify:track:3IISUM22gI0PTJU5tpwfaZ'],\n",
       "       ['\"Professor Langdon?\" fragte Sato',\n",
       "        'spotify:track:00Kgmmb3sLa98LmXLx7Sae'],\n",
       "       ...,\n",
       "       ['青と夏', 'spotify:track:5BC6kr6etk2Y9J62AyI4i3'],\n",
       "       ['이별을 배웠어 Always In My Heart',\n",
       "        'spotify:track:4BFv0UrrqKdvoLvhM1bJAJ'],\n",
       "       ['회상', 'spotify:track:7toDG9fohnjU2y2tbg9teG']], dtype='<U172')"
      ]
     },
     "execution_count": 93,
     "metadata": {},
     "output_type": "execute_result"
    }
   ],
   "source": [
    "uris = np.column_stack([df.index.tolist(), df[\"spotify_track_uri\"].tolist()])\n",
    "uris"
   ]
  },
  {
   "cell_type": "markdown",
   "id": "8b1b8349-6896-4d31-b087-c3b9c9de1dd8",
   "metadata": {},
   "source": [
    "<div class=\"alert alert-block alert-info\">\n",
    "    At the moment, not all result can be retraced to a specific track from the list.\n",
    "    Requesting them individually seems not possible. <br>\n",
    "    The immediate fix would be to get as many tracks done and solve the remaining by hand.\n",
    "</div>"
   ]
  },
  {
   "cell_type": "code",
   "execution_count": null,
   "id": "d9f21921-093e-41e0-8d1d-4de47cf86fb7",
   "metadata": {},
   "outputs": [
    {
     "data": {
      "application/vnd.jupyter.widget-view+json": {
       "model_id": "8ecbf5f4a65241e5af66436d4db66295",
       "version_major": 2,
       "version_minor": 0
      },
      "text/plain": [
       "  0%|          | 0/19681 [00:00<?, ?it/s]"
      ]
     },
     "metadata": {},
     "output_type": "display_data"
    }
   ],
   "source": [
    "for row in notebook.tqdm(uris):\n",
    "    result = sp.track(row[1], market=\"DE\")\n",
    "    for song_info in result:\n",
    "        try:\n",
    "            df.loc[row[0], \"duration_ms\"] = song_info[\"duration_ms\"]\n",
    "        except:\n",
    "            continue\n",
    "df"
   ]
  },
  {
   "cell_type": "code",
   "execution_count": 1,
   "id": "e57e3964-cfd2-47f0-bab7-f188e388dbc2",
   "metadata": {},
   "outputs": [
    {
     "ename": "NameError",
     "evalue": "name 'df' is not defined",
     "output_type": "error",
     "traceback": [
      "\u001b[1;31m---------------------------------------------------------------------------\u001b[0m",
      "\u001b[1;31mNameError\u001b[0m                                 Traceback (most recent call last)",
      "Input \u001b[1;32mIn [1]\u001b[0m, in \u001b[0;36m<cell line: 1>\u001b[1;34m()\u001b[0m\n\u001b[1;32m----> 1\u001b[0m \u001b[43mdf\u001b[49m\n",
      "\u001b[1;31mNameError\u001b[0m: name 'df' is not defined"
     ]
    }
   ],
   "source": [
    "df"
   ]
  },
  {
   "cell_type": "code",
   "execution_count": null,
   "id": "11c7f637-cffb-4086-96ac-1edf8995e61e",
   "metadata": {},
   "outputs": [],
   "source": []
  }
 ],
 "metadata": {
  "kernelspec": {
   "display_name": "Python 3 (ipykernel)",
   "language": "python",
   "name": "python3"
  },
  "language_info": {
   "codemirror_mode": {
    "name": "ipython",
    "version": 3
   },
   "file_extension": ".py",
   "mimetype": "text/x-python",
   "name": "python",
   "nbconvert_exporter": "python",
   "pygments_lexer": "ipython3",
   "version": "3.9.12"
  }
 },
 "nbformat": 4,
 "nbformat_minor": 5
}
