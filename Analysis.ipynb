{
 "cells": [
  {
   "cell_type": "markdown",
   "id": "4ae8edb8-c6b5-4917-bb60-36bea10c2fc2",
   "metadata": {},
   "source": [
    "# Spotify Extended History\n",
    "\n",
    "The following notebook is an experimental exploration of Spotify's **Extended History**.\n",
    "The data is requested from Spotify and contains every individual play (by my account) from **October 2015** until **March 2023**."
   ]
  },
  {
   "cell_type": "code",
   "execution_count": 22,
   "id": "04252c9b-6f86-4247-aeea-093c5ce64ece",
   "metadata": {},
   "outputs": [],
   "source": [
    "import pandas as pd\n",
    "import seaborn as sns\n",
    "import glob\n",
    "import os\n",
    "import matplotlib.pyplot as plt\n",
    "import numpy as np\n",
    "from tqdm import tqdm\n",
    "from pathlib import Path\n",
    "import ipywidgets\n",
    "from IPython.display import Markdown, display\n",
    "from dotenv import load_dotenv"
   ]
  },
  {
   "cell_type": "code",
   "execution_count": 6,
   "id": "c95484a3-b42b-4ab2-b187-a5a10489b43f",
   "metadata": {},
   "outputs": [
    {
     "data": {
      "text/html": [
       "<div>\n",
       "<style scoped>\n",
       "    .dataframe tbody tr th:only-of-type {\n",
       "        vertical-align: middle;\n",
       "    }\n",
       "\n",
       "    .dataframe tbody tr th {\n",
       "        vertical-align: top;\n",
       "    }\n",
       "\n",
       "    .dataframe thead th {\n",
       "        text-align: right;\n",
       "    }\n",
       "</style>\n",
       "<table border=\"1\" class=\"dataframe\">\n",
       "  <thead>\n",
       "    <tr style=\"text-align: right;\">\n",
       "      <th></th>\n",
       "      <th>ts</th>\n",
       "      <th>username</th>\n",
       "      <th>platform</th>\n",
       "      <th>ms_played</th>\n",
       "      <th>conn_country</th>\n",
       "      <th>ip_addr_decrypted</th>\n",
       "      <th>user_agent_decrypted</th>\n",
       "      <th>master_metadata_track_name</th>\n",
       "      <th>master_metadata_album_artist_name</th>\n",
       "      <th>master_metadata_album_album_name</th>\n",
       "      <th>...</th>\n",
       "      <th>episode_name</th>\n",
       "      <th>episode_show_name</th>\n",
       "      <th>spotify_episode_uri</th>\n",
       "      <th>reason_start</th>\n",
       "      <th>reason_end</th>\n",
       "      <th>shuffle</th>\n",
       "      <th>skipped</th>\n",
       "      <th>offline</th>\n",
       "      <th>offline_timestamp</th>\n",
       "      <th>incognito_mode</th>\n",
       "    </tr>\n",
       "  </thead>\n",
       "  <tbody>\n",
       "    <tr>\n",
       "      <th>0</th>\n",
       "      <td>2023-05-29T18:08:46Z</td>\n",
       "      <td>niklas8351</td>\n",
       "      <td>android</td>\n",
       "      <td>202986</td>\n",
       "      <td>DE</td>\n",
       "      <td>109.40.241.142</td>\n",
       "      <td>unknown</td>\n",
       "      <td>I Just Can't Wait to Be King</td>\n",
       "      <td>JD McCrary</td>\n",
       "      <td>The Lion King</td>\n",
       "      <td>...</td>\n",
       "      <td>None</td>\n",
       "      <td>None</td>\n",
       "      <td>None</td>\n",
       "      <td>trackdone</td>\n",
       "      <td>trackdone</td>\n",
       "      <td>False</td>\n",
       "      <td>False</td>\n",
       "      <td>False</td>\n",
       "      <td>1685383522</td>\n",
       "      <td>False</td>\n",
       "    </tr>\n",
       "    <tr>\n",
       "      <th>16686</th>\n",
       "      <td>2017-04-17T17:06:23Z</td>\n",
       "      <td>niklas8351</td>\n",
       "      <td>Partner android_tv Amazon;AFTM;;</td>\n",
       "      <td>1260</td>\n",
       "      <td>DE</td>\n",
       "      <td>31.19.233.119</td>\n",
       "      <td>unknown</td>\n",
       "      <td>...ins Licht (Outro)</td>\n",
       "      <td>Kontra K</td>\n",
       "      <td>Aus dem Schatten ins Licht</td>\n",
       "      <td>...</td>\n",
       "      <td>NaN</td>\n",
       "      <td>NaN</td>\n",
       "      <td>NaN</td>\n",
       "      <td>fwdbtn</td>\n",
       "      <td>fwdbtn</td>\n",
       "      <td>False</td>\n",
       "      <td>0.0</td>\n",
       "      <td>False</td>\n",
       "      <td>0</td>\n",
       "      <td>False</td>\n",
       "    </tr>\n",
       "  </tbody>\n",
       "</table>\n",
       "<p>2 rows × 21 columns</p>\n",
       "</div>"
      ],
      "text/plain": [
       "                         ts    username                          platform  \\\n",
       "0      2023-05-29T18:08:46Z  niklas8351                           android   \n",
       "16686  2017-04-17T17:06:23Z  niklas8351  Partner android_tv Amazon;AFTM;;   \n",
       "\n",
       "       ms_played conn_country ip_addr_decrypted user_agent_decrypted  \\\n",
       "0         202986           DE    109.40.241.142              unknown   \n",
       "16686       1260           DE     31.19.233.119              unknown   \n",
       "\n",
       "         master_metadata_track_name master_metadata_album_artist_name  \\\n",
       "0      I Just Can't Wait to Be King                        JD McCrary   \n",
       "16686          ...ins Licht (Outro)                          Kontra K   \n",
       "\n",
       "      master_metadata_album_album_name  ... episode_name episode_show_name  \\\n",
       "0                        The Lion King  ...         None              None   \n",
       "16686       Aus dem Schatten ins Licht  ...          NaN               NaN   \n",
       "\n",
       "      spotify_episode_uri reason_start reason_end shuffle  skipped offline  \\\n",
       "0                    None    trackdone  trackdone   False    False   False   \n",
       "16686                 NaN       fwdbtn     fwdbtn   False      0.0   False   \n",
       "\n",
       "       offline_timestamp  incognito_mode  \n",
       "0             1685383522           False  \n",
       "16686                  0           False  \n",
       "\n",
       "[2 rows x 21 columns]"
      ]
     },
     "execution_count": 6,
     "metadata": {},
     "output_type": "execute_result"
    }
   ],
   "source": [
    "data_source = \"./data/niklas/\"\n",
    "paths = Path(data_source).glob(\"Streaming*.json\")\n",
    "df = pd.concat(map(pd.read_json, paths))\n",
    "df.iloc[[0,-1]]"
   ]
  },
  {
   "cell_type": "markdown",
   "id": "9e7c647b-e805-47ab-995b-c12caf76b619",
   "metadata": {},
   "source": [
    "Remove known artists, that cannot be used in a music listening analysis. "
   ]
  },
  {
   "cell_type": "code",
   "execution_count": 7,
   "id": "f9bd022f-47f5-4366-95a0-2e92fd5c2093",
   "metadata": {},
   "outputs": [],
   "source": [
    "df.drop(columns=[\"username\", \"ip_addr_decrypted\", \"user_agent_decrypted\", \"offline_timestamp\", \"incognito_mode\"], inplace=True)\n",
    "df = df.drop(df[df[\"master_metadata_album_artist_name\"] == \"Die drei !!!\"].index)\n",
    "df = df.drop(df[df[\"master_metadata_album_artist_name\"] == \"Rick Riordan\"].index)"
   ]
  },
  {
   "cell_type": "code",
   "execution_count": 8,
   "id": "a6a5b37e-5347-491e-80f8-0f564ce01260",
   "metadata": {},
   "outputs": [],
   "source": [
    "df[\"ts\"] = pd.to_datetime(df[\"ts\"])\n",
    "original_length = len(df)"
   ]
  },
  {
   "cell_type": "code",
   "execution_count": 9,
   "id": "b7752fd2-d92b-4a79-a4ce-c9312b9e3bd0",
   "metadata": {},
   "outputs": [
    {
     "name": "stdout",
     "output_type": "stream",
     "text": [
      "10066 unique tracks have been played\n"
     ]
    }
   ],
   "source": [
    "unique_tracks = df[\"master_metadata_track_name\"].unique()\n",
    "print(len(unique_tracks), \"unique tracks have been played\")"
   ]
  },
  {
   "cell_type": "code",
   "execution_count": 11,
   "id": "da330643-b01b-4085-8743-8a4d9bf5f41e",
   "metadata": {},
   "outputs": [],
   "source": [
    "df.groupby(df[\"master_metadata_track_name\"])[\"spotify_track_uri\"].first().to_frame().to_csv(\"tracks_with_uri_niklas.csv\")"
   ]
  },
  {
   "cell_type": "markdown",
   "id": "ce066b75-61df-4eac-93b1-2bb3b76351e1",
   "metadata": {},
   "source": [
    "---\n",
    "**Data:**\n",
    "- `df` All columns; Only songs that have been played at least 10 times.\n",
    "- `df_orig` All columns.\n",
    "- `unique_tracks` Every track played.\n",
    "\n",
    "**Edit:**\n",
    "Upon further inspection, the 2015 data appear to be characterisec by irregular usage and a general lack of significance and thus will be excluded from the dataset."
   ]
  },
  {
   "cell_type": "code",
   "execution_count": 12,
   "id": "7f1792bb-1877-407d-89cf-a9ff9a3ee05f",
   "metadata": {},
   "outputs": [
    {
     "data": {
      "text/html": [
       "<div>\n",
       "<style scoped>\n",
       "    .dataframe tbody tr th:only-of-type {\n",
       "        vertical-align: middle;\n",
       "    }\n",
       "\n",
       "    .dataframe tbody tr th {\n",
       "        vertical-align: top;\n",
       "    }\n",
       "\n",
       "    .dataframe thead th {\n",
       "        text-align: right;\n",
       "    }\n",
       "</style>\n",
       "<table border=\"1\" class=\"dataframe\">\n",
       "  <thead>\n",
       "    <tr style=\"text-align: right;\">\n",
       "      <th></th>\n",
       "      <th>name</th>\n",
       "      <th>plays</th>\n",
       "    </tr>\n",
       "  </thead>\n",
       "  <tbody>\n",
       "    <tr>\n",
       "      <th>0</th>\n",
       "      <td>Intro</td>\n",
       "      <td>1006</td>\n",
       "    </tr>\n",
       "    <tr>\n",
       "      <th>1</th>\n",
       "      <td>Adrenalin</td>\n",
       "      <td>363</td>\n",
       "    </tr>\n",
       "    <tr>\n",
       "      <th>2</th>\n",
       "      <td>91's</td>\n",
       "      <td>332</td>\n",
       "    </tr>\n",
       "    <tr>\n",
       "      <th>3</th>\n",
       "      <td>Jusqu'au dernier gramme</td>\n",
       "      <td>301</td>\n",
       "    </tr>\n",
       "    <tr>\n",
       "      <th>4</th>\n",
       "      <td>Palmen aus Plastik</td>\n",
       "      <td>291</td>\n",
       "    </tr>\n",
       "  </tbody>\n",
       "</table>\n",
       "</div>"
      ],
      "text/plain": [
       "                      name  plays\n",
       "0                    Intro   1006\n",
       "1                Adrenalin    363\n",
       "2                     91's    332\n",
       "3  Jusqu'au dernier gramme    301\n",
       "4       Palmen aus Plastik    291"
      ]
     },
     "execution_count": 12,
     "metadata": {},
     "output_type": "execute_result"
    }
   ],
   "source": [
    "df_top_tracks = df[\"master_metadata_track_name\"].value_counts().to_frame()\n",
    "df_top_tracks = df_top_tracks.reset_index().rename(columns={\"master_metadata_track_name\":\"name\",\"count\":\"plays\"})\n",
    "df_top_tracks.head()"
   ]
  },
  {
   "cell_type": "code",
   "execution_count": 13,
   "id": "d10532b0-2b3f-463d-b252-c160f9d64fad",
   "metadata": {},
   "outputs": [
    {
     "name": "stdout",
     "output_type": "stream",
     "text": [
      "original length: 134592\n",
      " reduced length: 103258\n",
      "      reduction: 76.72%\n"
     ]
    }
   ],
   "source": [
    "top_names = df_top_tracks[df_top_tracks[\"plays\"]>=10][\"name\"]\n",
    "df_orig = df\n",
    "df = df[df[\"master_metadata_track_name\"].isin(top_names)].reset_index(drop=True)\n",
    "# Edit:\n",
    "df = df[df[\"ts\"].dt.year != 2015]\n",
    "\n",
    "print(\"original length:\", original_length)\n",
    "print(\" reduced length:\", len(df))\n",
    "print(\"      reduction:\", str(round(len(df)/original_length*100,2))+\"%\")"
   ]
  },
  {
   "cell_type": "markdown",
   "id": "533aea92-c322-42fa-a2ba-f81a294c5fa0",
   "metadata": {},
   "source": [
    "<div class=\"alert alert-block alert-success\"> \n",
    "    It could be useful to further only include tracks,\n",
    "    that have been played at lead 30% (or 50%) of their length. <br>\n",
    "    Including skipped tracks carries the risk of further distorting the real hearing-bahavior.\n",
    "\n",
    "</div>"
   ]
  },
  {
   "cell_type": "code",
   "execution_count": 14,
   "id": "fb4193fe-9dc9-401a-bcbb-56a286b9067c",
   "metadata": {},
   "outputs": [
    {
     "name": "stdout",
     "output_type": "stream",
     "text": [
      "10.04 % of tracks have been skipped.\n"
     ]
    }
   ],
   "source": [
    "num_skipped = len(df_orig[df_orig[\"skipped\"] == 1])\n",
    "print(round(num_skipped/len(df_orig)*100,2), \"% of tracks have been skipped.\") "
   ]
  },
  {
   "cell_type": "markdown",
   "id": "1263cb09-6b4b-4b1f-9f73-a119625a9ce4",
   "metadata": {},
   "source": [
    "Though only a small percentage of tracks have been skipped, it is unlikeley, that the remaining tracks have been played to the end.\n"
   ]
  },
  {
   "cell_type": "code",
   "execution_count": 15,
   "id": "c79777e5-f78f-44df-b718-d45b9f0b4eec",
   "metadata": {},
   "outputs": [
    {
     "data": {
      "text/html": [
       "<div>\n",
       "<style scoped>\n",
       "    .dataframe tbody tr th:only-of-type {\n",
       "        vertical-align: middle;\n",
       "    }\n",
       "\n",
       "    .dataframe tbody tr th {\n",
       "        vertical-align: top;\n",
       "    }\n",
       "\n",
       "    .dataframe thead th {\n",
       "        text-align: right;\n",
       "    }\n",
       "</style>\n",
       "<table border=\"1\" class=\"dataframe\">\n",
       "  <thead>\n",
       "    <tr style=\"text-align: right;\">\n",
       "      <th></th>\n",
       "      <th>reason_end</th>\n",
       "      <th>proportion</th>\n",
       "    </tr>\n",
       "  </thead>\n",
       "  <tbody>\n",
       "    <tr>\n",
       "      <th>0</th>\n",
       "      <td>trackdone</td>\n",
       "      <td>0.525796</td>\n",
       "    </tr>\n",
       "    <tr>\n",
       "      <th>1</th>\n",
       "      <td>fwdbtn</td>\n",
       "      <td>0.243031</td>\n",
       "    </tr>\n",
       "    <tr>\n",
       "      <th>2</th>\n",
       "      <td>endplay</td>\n",
       "      <td>0.142482</td>\n",
       "    </tr>\n",
       "    <tr>\n",
       "      <th>3</th>\n",
       "      <td>logout</td>\n",
       "      <td>0.047833</td>\n",
       "    </tr>\n",
       "    <tr>\n",
       "      <th>4</th>\n",
       "      <td>unexpected-exit-while-paused</td>\n",
       "      <td>0.020551</td>\n",
       "    </tr>\n",
       "    <tr>\n",
       "      <th>5</th>\n",
       "      <td>backbtn</td>\n",
       "      <td>0.010506</td>\n",
       "    </tr>\n",
       "    <tr>\n",
       "      <th>6</th>\n",
       "      <td>remote</td>\n",
       "      <td>0.003514</td>\n",
       "    </tr>\n",
       "    <tr>\n",
       "      <th>7</th>\n",
       "      <td>clickrow</td>\n",
       "      <td>0.002593</td>\n",
       "    </tr>\n",
       "    <tr>\n",
       "      <th>8</th>\n",
       "      <td>unexpected-exit</td>\n",
       "      <td>0.001323</td>\n",
       "    </tr>\n",
       "    <tr>\n",
       "      <th>9</th>\n",
       "      <td>unknown</td>\n",
       "      <td>0.001323</td>\n",
       "    </tr>\n",
       "    <tr>\n",
       "      <th>10</th>\n",
       "      <td>trackerror</td>\n",
       "      <td>0.001003</td>\n",
       "    </tr>\n",
       "    <tr>\n",
       "      <th>11</th>\n",
       "      <td></td>\n",
       "      <td>0.000045</td>\n",
       "    </tr>\n",
       "  </tbody>\n",
       "</table>\n",
       "</div>"
      ],
      "text/plain": [
       "                      reason_end  proportion\n",
       "0                      trackdone    0.525796\n",
       "1                         fwdbtn    0.243031\n",
       "2                        endplay    0.142482\n",
       "3                         logout    0.047833\n",
       "4   unexpected-exit-while-paused    0.020551\n",
       "5                        backbtn    0.010506\n",
       "6                         remote    0.003514\n",
       "7                       clickrow    0.002593\n",
       "8                unexpected-exit    0.001323\n",
       "9                        unknown    0.001323\n",
       "10                    trackerror    0.001003\n",
       "11                                  0.000045"
      ]
     },
     "execution_count": 15,
     "metadata": {},
     "output_type": "execute_result"
    }
   ],
   "source": [
    "reason_end_count = df_orig[\"reason_end\"].value_counts(normalize=True).to_frame().reset_index().rename({\"count\":\"reason_end\"}, axis=1)\n",
    "reason_end_count"
   ]
  },
  {
   "cell_type": "code",
   "execution_count": 16,
   "id": "f6079eed-45c1-47ea-8bb2-365c0d73c526",
   "metadata": {},
   "outputs": [
    {
     "data": {
      "text/plain": [
       "<Axes: xlabel='proportion', ylabel='reason_end'>"
      ]
     },
     "execution_count": 16,
     "metadata": {},
     "output_type": "execute_result"
    },
    {
     "data": {
      "image/png": "[encoded data removed]",
      "text/plain": [
       "<Figure size 640x480 with 1 Axes>"
      ]
     },
     "metadata": {},
     "output_type": "display_data"
    }
   ],
   "source": [
    "sns.barplot(data=reason_end_count, x=\"proportion\", y=\"reason_end\")"
   ]
  },
  {
   "cell_type": "markdown",
   "id": "52ca19ce-e712-4a38-a028-2aea75b73358",
   "metadata": {},
   "source": [
    "---\n",
    "Songs played per year.\n",
    "\n",
    "(only skipped excluded)"
   ]
  },
  {
   "cell_type": "code",
   "execution_count": 17,
   "id": "eb53f9a1-f55c-45ea-9764-b5f94c3295f7",
   "metadata": {},
   "outputs": [
    {
     "data": {
      "image/png": "[encoded data removed]",
      "text/plain": [
       "<Figure size 640x480 with 1 Axes>"
      ]
     },
     "metadata": {},
     "output_type": "display_data"
    }
   ],
   "source": [
    "df_orig.groupby(df_orig[\"ts\"].dt.year)[\"ts\"].count().plot(kind=\"bar\")\n",
    "plt.show()"
   ]
  },
  {
   "cell_type": "markdown",
   "id": "dc4d3e87-a1a6-4833-9d42-6f8116bd4b8d",
   "metadata": {},
   "source": [
    "---\n",
    "Songs per year per quarter."
   ]
  },
  {
   "cell_type": "code",
   "execution_count": 18,
   "id": "9a45a31f-0b34-4189-9d2a-40f091642f8e",
   "metadata": {},
   "outputs": [
    {
     "data": {
      "text/plain": [
       "<Axes: xlabel='ts'>"
      ]
     },
     "execution_count": 18,
     "metadata": {},
     "output_type": "execute_result"
    },
    {
     "data": {
      "image/png": "[encoded data removed]",
      "text/plain": [
       "<Figure size 640x480 with 1 Axes>"
      ]
     },
     "metadata": {},
     "output_type": "display_data"
    }
   ],
   "source": [
    "df_my = df_orig.groupby([df_orig[\"ts\"].dt.year, df_orig[\"ts\"].dt.quarter])[\"ts\"].agg(\"count\").to_frame()\n",
    "df_my.index.sortlevel(0, sort_remaining=True)\n",
    "df_my.unstack().plot(kind=\"bar\", stacked=False)"
   ]
  },
  {
   "cell_type": "markdown",
   "id": "f70883fd-876d-4b22-a876-0725a5c8335c",
   "metadata": {},
   "source": [
    "---\n",
    "Finding the longes heared tracks."
   ]
  },
  {
   "cell_type": "code",
   "execution_count": 23,
   "id": "7d39759c-7851-4e66-8083-00674561808b",
   "metadata": {},
   "outputs": [
    {
     "name": "stderr",
     "output_type": "stream",
     "text": [
      "  0%|                                                  | 0/2079 [00:00<?, ?it/s]/tmp/ipykernel_13088/188172646.py:26: FutureWarning: The behavior of DataFrame concatenation with empty or all-NA entries is deprecated. In a future version, this will no longer exclude empty or all-NA columns when determining the result dtypes. To retain the old behavior, exclude the relevant entries before the concat operation.\n",
      "  df_from_to = pd.concat([df_from_to, new_df], ignore_index=True)\n",
      "100%|███████████████████████████████████████| 2079/2079 [01:26<00:00, 24.16it/s]\n"
     ]
    },
    {
     "data": {
      "text/html": [
       "<div>\n",
       "<style scoped>\n",
       "    .dataframe tbody tr th:only-of-type {\n",
       "        vertical-align: middle;\n",
       "    }\n",
       "\n",
       "    .dataframe tbody tr th {\n",
       "        vertical-align: top;\n",
       "    }\n",
       "\n",
       "    .dataframe thead th {\n",
       "        text-align: right;\n",
       "    }\n",
       "</style>\n",
       "<table border=\"1\" class=\"dataframe\">\n",
       "  <thead>\n",
       "    <tr style=\"text-align: right;\">\n",
       "      <th></th>\n",
       "      <th>track_name</th>\n",
       "      <th>plays</th>\n",
       "      <th>first_played</th>\n",
       "      <th>last_played</th>\n",
       "      <th>days_between</th>\n",
       "      <th>days_played</th>\n",
       "    </tr>\n",
       "  </thead>\n",
       "  <tbody>\n",
       "    <tr>\n",
       "      <th>0</th>\n",
       "      <td>Intro</td>\n",
       "      <td>1006</td>\n",
       "      <td>2023-06-11 17:02:18+00:00</td>\n",
       "      <td>2017-04-17 16:20:50+00:00</td>\n",
       "      <td>-2247</td>\n",
       "      <td>521</td>\n",
       "    </tr>\n",
       "    <tr>\n",
       "      <th>1</th>\n",
       "      <td>Adrenalin</td>\n",
       "      <td>363</td>\n",
       "      <td>2017-04-17 17:59:03+00:00</td>\n",
       "      <td>2017-04-15 16:06:53+00:00</td>\n",
       "      <td>-3</td>\n",
       "      <td>246</td>\n",
       "    </tr>\n",
       "    <tr>\n",
       "      <th>2</th>\n",
       "      <td>91's</td>\n",
       "      <td>332</td>\n",
       "      <td>2023-06-03 17:06:12+00:00</td>\n",
       "      <td>2020-03-10 16:22:57+00:00</td>\n",
       "      <td>-1181</td>\n",
       "      <td>267</td>\n",
       "    </tr>\n",
       "    <tr>\n",
       "      <th>3</th>\n",
       "      <td>Jusqu'au dernier gramme</td>\n",
       "      <td>301</td>\n",
       "      <td>2023-06-18 17:54:35+00:00</td>\n",
       "      <td>2017-04-15 13:34:44+00:00</td>\n",
       "      <td>-2256</td>\n",
       "      <td>242</td>\n",
       "    </tr>\n",
       "    <tr>\n",
       "      <th>4</th>\n",
       "      <td>Palmen aus Plastik</td>\n",
       "      <td>291</td>\n",
       "      <td>2017-04-19 13:18:32+00:00</td>\n",
       "      <td>2017-04-17 15:41:11+00:00</td>\n",
       "      <td>-2</td>\n",
       "      <td>206</td>\n",
       "    </tr>\n",
       "    <tr>\n",
       "      <th>...</th>\n",
       "      <td>...</td>\n",
       "      <td>...</td>\n",
       "      <td>...</td>\n",
       "      <td>...</td>\n",
       "      <td>...</td>\n",
       "      <td>...</td>\n",
       "    </tr>\n",
       "    <tr>\n",
       "      <th>2074</th>\n",
       "      <td>Trap Queen</td>\n",
       "      <td>1</td>\n",
       "      <td>2016-01-09 21:39:05+00:00</td>\n",
       "      <td>2016-01-09 21:39:05+00:00</td>\n",
       "      <td>0</td>\n",
       "      <td>1</td>\n",
       "    </tr>\n",
       "    <tr>\n",
       "      <th>2075</th>\n",
       "      <td>All About That Bass</td>\n",
       "      <td>1</td>\n",
       "      <td>2018-07-11 17:22:45+00:00</td>\n",
       "      <td>2018-07-11 17:22:45+00:00</td>\n",
       "      <td>0</td>\n",
       "      <td>1</td>\n",
       "    </tr>\n",
       "    <tr>\n",
       "      <th>2076</th>\n",
       "      <td>Five More Hours</td>\n",
       "      <td>1</td>\n",
       "      <td>2016-06-24 20:59:37+00:00</td>\n",
       "      <td>2016-06-24 20:59:37+00:00</td>\n",
       "      <td>0</td>\n",
       "      <td>1</td>\n",
       "    </tr>\n",
       "    <tr>\n",
       "      <th>2077</th>\n",
       "      <td>I Want You To Know</td>\n",
       "      <td>1</td>\n",
       "      <td>2016-06-24 21:01:58+00:00</td>\n",
       "      <td>2016-06-24 21:01:58+00:00</td>\n",
       "      <td>0</td>\n",
       "      <td>1</td>\n",
       "    </tr>\n",
       "    <tr>\n",
       "      <th>2078</th>\n",
       "      <td>Hold Back The River</td>\n",
       "      <td>1</td>\n",
       "      <td>2023-04-13 11:25:33+00:00</td>\n",
       "      <td>2023-04-13 11:25:33+00:00</td>\n",
       "      <td>0</td>\n",
       "      <td>1</td>\n",
       "    </tr>\n",
       "  </tbody>\n",
       "</table>\n",
       "<p>2079 rows × 6 columns</p>\n",
       "</div>"
      ],
      "text/plain": [
       "                   track_name plays              first_played  \\\n",
       "0                       Intro  1006 2023-06-11 17:02:18+00:00   \n",
       "1                   Adrenalin   363 2017-04-17 17:59:03+00:00   \n",
       "2                        91's   332 2023-06-03 17:06:12+00:00   \n",
       "3     Jusqu'au dernier gramme   301 2023-06-18 17:54:35+00:00   \n",
       "4          Palmen aus Plastik   291 2017-04-19 13:18:32+00:00   \n",
       "...                       ...   ...                       ...   \n",
       "2074               Trap Queen     1 2016-01-09 21:39:05+00:00   \n",
       "2075      All About That Bass     1 2018-07-11 17:22:45+00:00   \n",
       "2076          Five More Hours     1 2016-06-24 20:59:37+00:00   \n",
       "2077       I Want You To Know     1 2016-06-24 21:01:58+00:00   \n",
       "2078      Hold Back The River     1 2023-04-13 11:25:33+00:00   \n",
       "\n",
       "                   last_played days_between days_played  \n",
       "0    2017-04-17 16:20:50+00:00        -2247         521  \n",
       "1    2017-04-15 16:06:53+00:00           -3         246  \n",
       "2    2020-03-10 16:22:57+00:00        -1181         267  \n",
       "3    2017-04-15 13:34:44+00:00        -2256         242  \n",
       "4    2017-04-17 15:41:11+00:00           -2         206  \n",
       "...                        ...          ...         ...  \n",
       "2074 2016-01-09 21:39:05+00:00            0           1  \n",
       "2075 2018-07-11 17:22:45+00:00            0           1  \n",
       "2076 2016-06-24 20:59:37+00:00            0           1  \n",
       "2077 2016-06-24 21:01:58+00:00            0           1  \n",
       "2078 2023-04-13 11:25:33+00:00            0           1  \n",
       "\n",
       "[2079 rows x 6 columns]"
      ]
     },
     "execution_count": 23,
     "metadata": {},
     "output_type": "execute_result"
    }
   ],
   "source": [
    "##### config ######\n",
    "calculate = True\n",
    "###################\n",
    "\n",
    "if calculate:\n",
    "    df_playcount = df[\"master_metadata_track_name\"].value_counts().to_frame()\n",
    "    df_from_to = pd.DataFrame(columns=[\"track_name\", \"plays\", \"first_played\", \"last_played\", \"days_between\", \"days_played\"])\n",
    "\n",
    "    for song, plays in tqdm(df_playcount.iterrows(), total=df_playcount.shape[0]):\n",
    "        first_ts = df[df[\"master_metadata_track_name\"] == song].iloc[0][\"ts\"]\n",
    "        last_ts = df[df[\"master_metadata_track_name\"] == song].iloc[-1][\"ts\"]\n",
    "\n",
    "        df_ts = df.set_index(\"ts\")\n",
    "        df_ts_filtered = df_ts[df_ts[\"master_metadata_track_name\"] == song]\n",
    "        days_played = len(df_ts_filtered.groupby(df_ts_filtered.index.date).count())\n",
    "\n",
    "        row = {\n",
    "            \"track_name\": song,\n",
    "            \"plays\": plays.values[0],\n",
    "            \"first_played\": first_ts,\n",
    "            \"last_played\": last_ts,\n",
    "            \"days_between\": (last_ts - first_ts).days,\n",
    "            \"days_played\": days_played,\n",
    "        }\n",
    "        new_df = pd.DataFrame([row])\n",
    "        df_from_to = pd.concat([df_from_to, new_df], ignore_index=True)\n",
    "\n",
    "    df_from_to.to_csv(\"df_from_to_niklas.csv\")\n",
    "else:\n",
    "    df_from_to = pd.read_csv(\"df_from_to_niklas.csv\")\n",
    "\n",
    "df_from_to"
   ]
  },
  {
   "cell_type": "markdown",
   "id": "c14d79c2-ee75-4368-b0a2-eb684535c1d0",
   "metadata": {},
   "source": [
    "---\n",
    "Top five songs per year with individual plays."
   ]
  },
  {
   "cell_type": "code",
   "execution_count": 25,
   "id": "459a8b8f-bd85-4b89-9685-6920034d966b",
   "metadata": {},
   "outputs": [
    {
     "data": {
      "text/plain": [
       "ts    master_metadata_track_name      \n",
       "2014  Pompeii                               8\n",
       "      Marteria Girl                         5\n",
       "      Bangarang (feat. Sirah)               4\n",
       "      Billie Jean                           4\n",
       "      Endboss                               4\n",
       "2016  Headlights (feat. Ilsey)            158\n",
       "      Yellow                              118\n",
       "      Wake Me Up - Radio Edit             112\n",
       "      Lean On (feat. MØ & DJ Snake)        86\n",
       "      Lush Life                            84\n",
       "2017  Intro                               602\n",
       "      Palmen aus Plastik                  219\n",
       "      Großes Kaliber                      218\n",
       "      Adrenalin                           214\n",
       "      Ohne mein Team                      201\n",
       "2018  Intro                               124\n",
       "      Erfolg                              117\n",
       "      Fame (feat. RAF Camora)              94\n",
       "      Telenovela                           89\n",
       "      Alles wird gut                       82\n",
       "2019  91's                                155\n",
       "      Au DD                               130\n",
       "      Chang                               115\n",
       "      Ticket                              107\n",
       "      Intro                               106\n",
       "2020  Onizuka                              94\n",
       "      Jusqu'au dernier gramme              88\n",
       "      Dans ta rue                          82\n",
       "      Blanka                               72\n",
       "      Mira                                 70\n",
       "2021  Durstlöscher                        114\n",
       "      Frisch                              109\n",
       "      Halligalli                           96\n",
       "      Skyr                                 95\n",
       "      Kolibri                              92\n",
       "2022  Still D.R.E.                        132\n",
       "      Shout                                98\n",
       "      400 Lux                              93\n",
       "      The Safety Dance                     93\n",
       "      Buzzcut Season                       86\n",
       "2023  Dussmann                            106\n",
       "      Viertel vor Irgendwas                97\n",
       "      Die Leute und Ich                    92\n",
       "      Under Pressure - Remastered 2011     89\n",
       "      Irrenanstalt                         80\n",
       "Name: count, dtype: int64"
      ]
     },
     "execution_count": 25,
     "metadata": {},
     "output_type": "execute_result"
    }
   ],
   "source": [
    "df.groupby(df[\"ts\"].dt.year)[\"master_metadata_track_name\"].value_counts().groupby(level=0, group_keys=False).head(5)"
   ]
  },
  {
   "cell_type": "markdown",
   "id": "6217d827-c7cf-4c41-91db-af3f19954ead",
   "metadata": {},
   "source": [
    "---\n",
    "Histogram individual plays, per year."
   ]
  },
  {
   "cell_type": "code",
   "execution_count": 26,
   "id": "ebafc7d6-c010-4091-9a4e-264641aa71be",
   "metadata": {},
   "outputs": [
    {
     "data": {
      "text/html": [
       "<div>\n",
       "<style scoped>\n",
       "    .dataframe tbody tr th:only-of-type {\n",
       "        vertical-align: middle;\n",
       "    }\n",
       "\n",
       "    .dataframe tbody tr th {\n",
       "        vertical-align: top;\n",
       "    }\n",
       "\n",
       "    .dataframe thead th {\n",
       "        text-align: right;\n",
       "    }\n",
       "</style>\n",
       "<table border=\"1\" class=\"dataframe\">\n",
       "  <thead>\n",
       "    <tr style=\"text-align: right;\">\n",
       "      <th></th>\n",
       "      <th>year</th>\n",
       "      <th>track_name</th>\n",
       "      <th>individual_plays</th>\n",
       "    </tr>\n",
       "  </thead>\n",
       "  <tbody>\n",
       "    <tr>\n",
       "      <th>0</th>\n",
       "      <td>2014</td>\n",
       "      <td>Pompeii</td>\n",
       "      <td>8</td>\n",
       "    </tr>\n",
       "    <tr>\n",
       "      <th>1</th>\n",
       "      <td>2014</td>\n",
       "      <td>Marteria Girl</td>\n",
       "      <td>5</td>\n",
       "    </tr>\n",
       "    <tr>\n",
       "      <th>2</th>\n",
       "      <td>2014</td>\n",
       "      <td>Bangarang (feat. Sirah)</td>\n",
       "      <td>4</td>\n",
       "    </tr>\n",
       "  </tbody>\n",
       "</table>\n",
       "</div>"
      ],
      "text/plain": [
       "   year               track_name  individual_plays\n",
       "0  2014                  Pompeii                 8\n",
       "1  2014            Marteria Girl                 5\n",
       "2  2014  Bangarang (feat. Sirah)                 4"
      ]
     },
     "execution_count": 26,
     "metadata": {},
     "output_type": "execute_result"
    }
   ],
   "source": [
    "plays_by_year = df.groupby(df[\"ts\"].dt.year)[\"master_metadata_track_name\"].value_counts().to_frame()\n",
    "plays_by_year.index.rename([\"year\", \"track_name\"], inplace=True)\n",
    "plays_by_year = plays_by_year.reset_index()\n",
    "plays_by_year.rename({\"count\":\"individual_plays\"},axis=1, inplace=True)\n",
    "plays_by_year.head(3)"
   ]
  },
  {
   "cell_type": "code",
   "execution_count": 27,
   "id": "6ce280fa-a4da-4081-8989-c189f9ce66f7",
   "metadata": {},
   "outputs": [
    {
     "data": {
      "application/vnd.jupyter.widget-view+json": {
       "model_id": "ff1a798cec394771aa4a7b17a023d9c5",
       "version_major": 2,
       "version_minor": 0
      },
      "text/plain": [
       "HBox(children=(Output(), Output()))"
      ]
     },
     "metadata": {},
     "output_type": "display_data"
    }
   ],
   "source": [
    "# pby = plays_by_year[plays_by_year[\"individual_plays\"] < 50]\n",
    "sea = sns.FacetGrid(plays_by_year[[\"year\", \"individual_plays\"]], col=\"year\", col_wrap=3)\n",
    "\n",
    "plot = sea.map_dataframe(sns.histplot, \"individual_plays\", stat=\"percent\", discrete=True)\n",
    "year_counts = plays_by_year[\"individual_plays\"].groupby(plays_by_year[\"year\"]).count().reset_index(name=\"plays\").set_index(\"year\")\n",
    "### Jupyter Setup ###\n",
    "out1 = ipywidgets.widgets.Output()\n",
    "with out1:\n",
    "    display(year_counts)\n",
    "out2 = ipywidgets.widgets.Output()\n",
    "with out2:\n",
    "    display(plot)\n",
    "    plt.show()\n",
    "two_columns = ipywidgets.widgets.HBox([out1, out2])\n",
    "display(two_columns)"
   ]
  },
  {
   "cell_type": "markdown",
   "id": "574bde85-c93a-4ce4-85ce-1e55342a8bbc",
   "metadata": {},
   "source": [
    "---\n",
    "Portion of the top **5 (10, 20)** songs of the month in total plays.\n",
    "> **TODO:** Amount of unique tracks that month"
   ]
  },
  {
   "cell_type": "code",
   "execution_count": 30,
   "id": "2e56343e-6172-477e-8e51-956b43ac3c13",
   "metadata": {},
   "outputs": [
    {
     "name": "stderr",
     "output_type": "stream",
     "text": [
      "  0%|                                                   | 0/108 [00:00<?, ?it/s]\n"
     ]
    },
    {
     "ename": "InvalidIndexError",
     "evalue": "You can only assign a scalar value not a <class 'numpy.float64'>",
     "output_type": "error",
     "traceback": [
      "\u001b[0;31m---------------------------------------------------------------------------\u001b[0m",
      "\u001b[0;31mTypeError\u001b[0m                                 Traceback (most recent call last)",
      "File \u001b[0;32m~/.local/lib/python3.10/site-packages/pandas/core/indexes/base.py:3805\u001b[0m, in \u001b[0;36mIndex.get_loc\u001b[0;34m(self, key)\u001b[0m\n\u001b[1;32m   3804\u001b[0m \u001b[38;5;28;01mtry\u001b[39;00m:\n\u001b[0;32m-> 3805\u001b[0m     \u001b[38;5;28;01mreturn\u001b[39;00m \u001b[38;5;28;43mself\u001b[39;49m\u001b[38;5;241;43m.\u001b[39;49m\u001b[43m_engine\u001b[49m\u001b[38;5;241;43m.\u001b[39;49m\u001b[43mget_loc\u001b[49m\u001b[43m(\u001b[49m\u001b[43mcasted_key\u001b[49m\u001b[43m)\u001b[49m\n\u001b[1;32m   3806\u001b[0m \u001b[38;5;28;01mexcept\u001b[39;00m \u001b[38;5;167;01mKeyError\u001b[39;00m \u001b[38;5;28;01mas\u001b[39;00m err:\n",
      "File \u001b[0;32mindex.pyx:167\u001b[0m, in \u001b[0;36mpandas._libs.index.IndexEngine.get_loc\u001b[0;34m()\u001b[0m\n",
      "File \u001b[0;32mindex.pyx:173\u001b[0m, in \u001b[0;36mpandas._libs.index.IndexEngine.get_loc\u001b[0;34m()\u001b[0m\n",
      "\u001b[0;31mTypeError\u001b[0m: 'slice(None, None, None)' is an invalid key",
      "\nDuring handling of the above exception, another exception occurred:\n",
      "\u001b[0;31mInvalidIndexError\u001b[0m                         Traceback (most recent call last)",
      "File \u001b[0;32m~/.local/lib/python3.10/site-packages/pandas/core/frame.py:4561\u001b[0m, in \u001b[0;36mDataFrame._set_value\u001b[0;34m(self, index, col, value, takeable)\u001b[0m\n\u001b[1;32m   4560\u001b[0m \u001b[38;5;28;01melse\u001b[39;00m:\n\u001b[0;32m-> 4561\u001b[0m     icol \u001b[38;5;241m=\u001b[39m \u001b[38;5;28;43mself\u001b[39;49m\u001b[38;5;241;43m.\u001b[39;49m\u001b[43mcolumns\u001b[49m\u001b[38;5;241;43m.\u001b[39;49m\u001b[43mget_loc\u001b[49m\u001b[43m(\u001b[49m\u001b[43mcol\u001b[49m\u001b[43m)\u001b[49m\n\u001b[1;32m   4562\u001b[0m     iindex \u001b[38;5;241m=\u001b[39m \u001b[38;5;28mself\u001b[39m\u001b[38;5;241m.\u001b[39mindex\u001b[38;5;241m.\u001b[39mget_loc(index)\n",
      "File \u001b[0;32m~/.local/lib/python3.10/site-packages/pandas/core/indexes/base.py:3817\u001b[0m, in \u001b[0;36mIndex.get_loc\u001b[0;34m(self, key)\u001b[0m\n\u001b[1;32m   3813\u001b[0m \u001b[38;5;28;01mexcept\u001b[39;00m \u001b[38;5;167;01mTypeError\u001b[39;00m:\n\u001b[1;32m   3814\u001b[0m     \u001b[38;5;66;03m# If we have a listlike key, _check_indexing_error will raise\u001b[39;00m\n\u001b[1;32m   3815\u001b[0m     \u001b[38;5;66;03m#  InvalidIndexError. Otherwise we fall through and re-raise\u001b[39;00m\n\u001b[1;32m   3816\u001b[0m     \u001b[38;5;66;03m#  the TypeError.\u001b[39;00m\n\u001b[0;32m-> 3817\u001b[0m     \u001b[38;5;28;43mself\u001b[39;49m\u001b[38;5;241;43m.\u001b[39;49m\u001b[43m_check_indexing_error\u001b[49m\u001b[43m(\u001b[49m\u001b[43mkey\u001b[49m\u001b[43m)\u001b[49m\n\u001b[1;32m   3818\u001b[0m     \u001b[38;5;28;01mraise\u001b[39;00m\n",
      "File \u001b[0;32m~/.local/lib/python3.10/site-packages/pandas/core/indexes/base.py:6059\u001b[0m, in \u001b[0;36mIndex._check_indexing_error\u001b[0;34m(self, key)\u001b[0m\n\u001b[1;32m   6056\u001b[0m \u001b[38;5;28;01mif\u001b[39;00m \u001b[38;5;129;01mnot\u001b[39;00m is_scalar(key):\n\u001b[1;32m   6057\u001b[0m     \u001b[38;5;66;03m# if key is not a scalar, directly raise an error (the code below\u001b[39;00m\n\u001b[1;32m   6058\u001b[0m     \u001b[38;5;66;03m# would convert to numpy arrays and raise later any way) - GH29926\u001b[39;00m\n\u001b[0;32m-> 6059\u001b[0m     \u001b[38;5;28;01mraise\u001b[39;00m InvalidIndexError(key)\n",
      "\u001b[0;31mInvalidIndexError\u001b[0m: slice(None, None, None)",
      "\nThe above exception was the direct cause of the following exception:\n",
      "\u001b[0;31mInvalidIndexError\u001b[0m                         Traceback (most recent call last)",
      "\u001b[0;32m/tmp/ipykernel_13088/88939009.py\u001b[0m in \u001b[0;36m?\u001b[0;34m()\u001b[0m\n\u001b[1;32m     14\u001b[0m             \u001b[0ms_top_n\u001b[0m \u001b[0;34m=\u001b[0m \u001b[0mentries\u001b[0m\u001b[0;34m[\u001b[0m\u001b[0;34m\"master_metadata_track_name\"\u001b[0m\u001b[0;34m]\u001b[0m\u001b[0;34m.\u001b[0m\u001b[0mvalue_counts\u001b[0m\u001b[0;34m(\u001b[0m\u001b[0;34m)\u001b[0m\u001b[0;34m.\u001b[0m\u001b[0mhead\u001b[0m\u001b[0;34m(\u001b[0m\u001b[0mn\u001b[0m\u001b[0;34m)\u001b[0m\u001b[0;34m\u001b[0m\u001b[0;34m\u001b[0m\u001b[0m\n\u001b[1;32m     15\u001b[0m             \u001b[0mtop_n_plays\u001b[0m \u001b[0;34m=\u001b[0m \u001b[0ms_top_n\u001b[0m\u001b[0;34m.\u001b[0m\u001b[0msum\u001b[0m\u001b[0;34m(\u001b[0m\u001b[0;34m)\u001b[0m\u001b[0;34m\u001b[0m\u001b[0;34m\u001b[0m\u001b[0m\n\u001b[1;32m     16\u001b[0m             \u001b[0mtop_n_tracks\u001b[0m \u001b[0;34m=\u001b[0m \u001b[0ms_top_n\u001b[0m\u001b[0;34m.\u001b[0m\u001b[0mindex\u001b[0m\u001b[0;34m.\u001b[0m\u001b[0mtolist\u001b[0m\u001b[0;34m(\u001b[0m\u001b[0;34m)\u001b[0m\u001b[0;34m\u001b[0m\u001b[0;34m\u001b[0m\u001b[0m\n\u001b[1;32m     17\u001b[0m             \u001b[0mtop_n_portion\u001b[0m \u001b[0;34m=\u001b[0m \u001b[0mround\u001b[0m\u001b[0;34m(\u001b[0m\u001b[0mtop_n_plays\u001b[0m \u001b[0;34m/\u001b[0m \u001b[0mtotal_plays\u001b[0m \u001b[0;34m*\u001b[0m \u001b[0;36m100\u001b[0m\u001b[0;34m,\u001b[0m \u001b[0;36m2\u001b[0m\u001b[0;34m)\u001b[0m\u001b[0;34m\u001b[0m\u001b[0;34m\u001b[0m\u001b[0m\n\u001b[0;32m---> 18\u001b[0;31m             \u001b[0mdf_top_month\u001b[0m\u001b[0;34m.\u001b[0m\u001b[0mat\u001b[0m\u001b[0;34m[\u001b[0m\u001b[0mdate\u001b[0m\u001b[0;34m]\u001b[0m \u001b[0;34m=\u001b[0m \u001b[0mtop_n_portion\u001b[0m\u001b[0;34m\u001b[0m\u001b[0;34m\u001b[0m\u001b[0m\n\u001b[0m\u001b[1;32m     19\u001b[0m         \u001b[0mdfs\u001b[0m\u001b[0;34m.\u001b[0m\u001b[0mappend\u001b[0m\u001b[0;34m(\u001b[0m\u001b[0mdf_top_month\u001b[0m\u001b[0;34m)\u001b[0m\u001b[0;34m\u001b[0m\u001b[0;34m\u001b[0m\u001b[0m\n\u001b[1;32m     20\u001b[0m \u001b[0;34m\u001b[0m\u001b[0m\n\u001b[1;32m     21\u001b[0m     \u001b[0mdf_top_all_n\u001b[0m \u001b[0;34m=\u001b[0m \u001b[0mpd\u001b[0m\u001b[0;34m.\u001b[0m\u001b[0mconcat\u001b[0m\u001b[0;34m(\u001b[0m\u001b[0mdfs\u001b[0m\u001b[0;34m,\u001b[0m \u001b[0maxis\u001b[0m\u001b[0;34m=\u001b[0m\u001b[0;36m1\u001b[0m\u001b[0;34m)\u001b[0m\u001b[0;34m\u001b[0m\u001b[0;34m\u001b[0m\u001b[0m\n",
      "\u001b[0;32m~/.local/lib/python3.10/site-packages/pandas/core/indexing.py\u001b[0m in \u001b[0;36m?\u001b[0;34m(self, key, value)\u001b[0m\n\u001b[1;32m   2582\u001b[0m \u001b[0;34m\u001b[0m\u001b[0m\n\u001b[1;32m   2583\u001b[0m             \u001b[0mself\u001b[0m\u001b[0;34m.\u001b[0m\u001b[0mobj\u001b[0m\u001b[0;34m.\u001b[0m\u001b[0mloc\u001b[0m\u001b[0;34m[\u001b[0m\u001b[0mkey\u001b[0m\u001b[0;34m]\u001b[0m \u001b[0;34m=\u001b[0m \u001b[0mvalue\u001b[0m\u001b[0;34m\u001b[0m\u001b[0;34m\u001b[0m\u001b[0m\n\u001b[1;32m   2584\u001b[0m             \u001b[0;32mreturn\u001b[0m\u001b[0;34m\u001b[0m\u001b[0;34m\u001b[0m\u001b[0m\n\u001b[1;32m   2585\u001b[0m \u001b[0;34m\u001b[0m\u001b[0m\n\u001b[0;32m-> 2586\u001b[0;31m         \u001b[0;32mreturn\u001b[0m \u001b[0msuper\u001b[0m\u001b[0;34m(\u001b[0m\u001b[0;34m)\u001b[0m\u001b[0;34m.\u001b[0m\u001b[0m__setitem__\u001b[0m\u001b[0;34m(\u001b[0m\u001b[0mkey\u001b[0m\u001b[0;34m,\u001b[0m \u001b[0mvalue\u001b[0m\u001b[0;34m)\u001b[0m\u001b[0;34m\u001b[0m\u001b[0;34m\u001b[0m\u001b[0m\n\u001b[0m",
      "\u001b[0;32m~/.local/lib/python3.10/site-packages/pandas/core/indexing.py\u001b[0m in \u001b[0;36m?\u001b[0;34m(self, key, value)\u001b[0m\n\u001b[1;32m   2538\u001b[0m         \u001b[0mkey\u001b[0m \u001b[0;34m=\u001b[0m \u001b[0mlist\u001b[0m\u001b[0;34m(\u001b[0m\u001b[0mself\u001b[0m\u001b[0;34m.\u001b[0m\u001b[0m_convert_key\u001b[0m\u001b[0;34m(\u001b[0m\u001b[0mkey\u001b[0m\u001b[0;34m)\u001b[0m\u001b[0;34m)\u001b[0m\u001b[0;34m\u001b[0m\u001b[0;34m\u001b[0m\u001b[0m\n\u001b[1;32m   2539\u001b[0m         \u001b[0;32mif\u001b[0m \u001b[0mlen\u001b[0m\u001b[0;34m(\u001b[0m\u001b[0mkey\u001b[0m\u001b[0;34m)\u001b[0m \u001b[0;34m!=\u001b[0m \u001b[0mself\u001b[0m\u001b[0;34m.\u001b[0m\u001b[0mndim\u001b[0m\u001b[0;34m:\u001b[0m\u001b[0;34m\u001b[0m\u001b[0;34m\u001b[0m\u001b[0m\n\u001b[1;32m   2540\u001b[0m             \u001b[0;32mraise\u001b[0m \u001b[0mValueError\u001b[0m\u001b[0;34m(\u001b[0m\u001b[0;34m\"Not enough indexers for scalar access (setting)!\"\u001b[0m\u001b[0;34m)\u001b[0m\u001b[0;34m\u001b[0m\u001b[0;34m\u001b[0m\u001b[0m\n\u001b[1;32m   2541\u001b[0m \u001b[0;34m\u001b[0m\u001b[0m\n\u001b[0;32m-> 2542\u001b[0;31m         \u001b[0mself\u001b[0m\u001b[0;34m.\u001b[0m\u001b[0mobj\u001b[0m\u001b[0;34m.\u001b[0m\u001b[0m_set_value\u001b[0m\u001b[0;34m(\u001b[0m\u001b[0;34m*\u001b[0m\u001b[0mkey\u001b[0m\u001b[0;34m,\u001b[0m \u001b[0mvalue\u001b[0m\u001b[0;34m=\u001b[0m\u001b[0mvalue\u001b[0m\u001b[0;34m,\u001b[0m \u001b[0mtakeable\u001b[0m\u001b[0;34m=\u001b[0m\u001b[0mself\u001b[0m\u001b[0;34m.\u001b[0m\u001b[0m_takeable\u001b[0m\u001b[0;34m)\u001b[0m\u001b[0;34m\u001b[0m\u001b[0;34m\u001b[0m\u001b[0m\n\u001b[0m",
      "\u001b[0;32m~/.local/lib/python3.10/site-packages/pandas/core/frame.py\u001b[0m in \u001b[0;36m?\u001b[0;34m(self, index, col, value, takeable)\u001b[0m\n\u001b[1;32m   4577\u001b[0m \u001b[0;34m\u001b[0m\u001b[0m\n\u001b[1;32m   4578\u001b[0m         \u001b[0;32mexcept\u001b[0m \u001b[0mInvalidIndexError\u001b[0m \u001b[0;32mas\u001b[0m \u001b[0mii_err\u001b[0m\u001b[0;34m:\u001b[0m\u001b[0;34m\u001b[0m\u001b[0;34m\u001b[0m\u001b[0m\n\u001b[1;32m   4579\u001b[0m             \u001b[0;31m# GH48729: Seems like you are trying to assign a value to a\u001b[0m\u001b[0;34m\u001b[0m\u001b[0;34m\u001b[0m\u001b[0m\n\u001b[1;32m   4580\u001b[0m             \u001b[0;31m# row when only scalar options are permitted\u001b[0m\u001b[0;34m\u001b[0m\u001b[0;34m\u001b[0m\u001b[0m\n\u001b[0;32m-> 4581\u001b[0;31m             raise InvalidIndexError(\n\u001b[0m\u001b[1;32m   4582\u001b[0m                 \u001b[0;34mf\"You can only assign a scalar value not a {type(value)}\"\u001b[0m\u001b[0;34m\u001b[0m\u001b[0;34m\u001b[0m\u001b[0m\n\u001b[1;32m   4583\u001b[0m             ) from ii_err\n",
      "\u001b[0;31mInvalidIndexError\u001b[0m: You can only assign a scalar value not a <class 'numpy.float64'>"
     ]
    }
   ],
   "source": [
    "##### config #####\n",
    "calculate = True\n",
    "##################\n",
    "\n",
    "if calculate:\n",
    "    top_n = [5, 10, 20]\n",
    "    dfs = []\n",
    "    dates = df_orig[\"ts\"].dt.strftime(\"%y - %m\").drop_duplicates().tolist()\n",
    "    for n in top_n:\n",
    "        df_top_month = pd.DataFrame(columns=[\"plays\"], index=dates)\n",
    "        for date in tqdm(df_top_month.index):\n",
    "            entries = df_orig[df_orig[\"ts\"].dt.strftime(\"%y - %m\") == date]\n",
    "            total_plays = len(entries)\n",
    "            s_top_n = entries[\"master_metadata_track_name\"].value_counts().head(n)\n",
    "            top_n_plays = s_top_n.sum()\n",
    "            top_n_tracks = s_top_n.index.tolist()\n",
    "            top_n_portion = round(top_n_plays / total_plays * 100, 2)\n",
    "            df_top_month.at[date] = top_n_portion\n",
    "        dfs.append(df_top_month)\n",
    "\n",
    "    df_top_all_n = pd.concat(dfs, axis=1)\n",
    "    df_top_all_n.index = pd.to_datetime(df_top_all_n.index, format=\"%y - %m\")\n",
    "    df_top_all_n.columns = [\"plays5\",\"plays10\", \"plays20\"]\n",
    "    df_top_all_n.to_csv(\"df_top_all_n_niklas.csv\")\n",
    "else:\n",
    "    df_top_all_n = pd.read_csv(\"df_top_all_n_niklas.csv\")"
   ]
  },
  {
   "cell_type": "code",
   "execution_count": 31,
   "id": "02956670-4f3c-404f-ae87-325bc2709a25",
   "metadata": {},
   "outputs": [
    {
     "ename": "NameError",
     "evalue": "name 'df_top_all_n' is not defined",
     "output_type": "error",
     "traceback": [
      "\u001b[0;31m---------------------------------------------------------------------------\u001b[0m",
      "\u001b[0;31mNameError\u001b[0m                                 Traceback (most recent call last)",
      "Cell \u001b[0;32mIn[31], line 2\u001b[0m\n\u001b[1;32m      1\u001b[0m fig, ax \u001b[38;5;241m=\u001b[39m plt\u001b[38;5;241m.\u001b[39msubplots()\n\u001b[0;32m----> 2\u001b[0m sns\u001b[38;5;241m.\u001b[39mlineplot(data\u001b[38;5;241m=\u001b[39m\u001b[43mdf_top_all_n\u001b[49m[[\u001b[38;5;124m\"\u001b[39m\u001b[38;5;124mplays5\u001b[39m\u001b[38;5;124m\"\u001b[39m, \u001b[38;5;124m\"\u001b[39m\u001b[38;5;124mplays10\u001b[39m\u001b[38;5;124m\"\u001b[39m, \u001b[38;5;124m\"\u001b[39m\u001b[38;5;124mplays20\u001b[39m\u001b[38;5;124m\"\u001b[39m]])\n",
      "\u001b[0;31mNameError\u001b[0m: name 'df_top_all_n' is not defined"
     ]
    },
    {
     "data": {
      "image/png": "[encoded data removed]",
      "text/plain": [
       "<Figure size 640x480 with 1 Axes>"
      ]
     },
     "metadata": {},
     "output_type": "display_data"
    }
   ],
   "source": [
    "fig, ax = plt.subplots()\n",
    "sns.lineplot(data=df_top_all_n[[\"plays5\", \"plays10\", \"plays20\"]])"
   ]
  },
  {
   "cell_type": "markdown",
   "id": "848eb425-a4fb-4dab-bd33-530c6bd4128c",
   "metadata": {},
   "source": [
    "---\n",
    "Graphing the five most played song with their respective **plays per month**."
   ]
  },
  {
   "cell_type": "code",
   "execution_count": 32,
   "id": "cbc76ec2-ecc6-45a8-bbce-0597eaf1009c",
   "metadata": {},
   "outputs": [
    {
     "data": {
      "image/png": "[encoded data removed]",
      "text/plain": [
       "<Figure size 640x480 with 1 Axes>"
      ]
     },
     "metadata": {},
     "output_type": "display_data"
    }
   ],
   "source": [
    "top10 = df[\"master_metadata_track_name\"].value_counts().iloc[:5].index.values\n",
    "data = df[df[\"master_metadata_track_name\"].isin(top10)]\n",
    "data = data.groupby([data[\"ts\"].dt.year, data[\"ts\"].dt.month], group_keys=False) \\\n",
    "    [\"master_metadata_track_name\"].value_counts().to_frame().rename_axis([\"year\", \"month\", \"track_name\"]).reset_index(2) \\\n",
    "    .rename({\"count\":\"plays\"}, axis=1).reset_index()\n",
    "data[\"date\"] = pd.to_datetime(data[[\"year\", \"month\"]].assign(DAY=1))\n",
    "data = data.drop([\"year\", \"month\"], axis=1)\n",
    "\n",
    "\n",
    "ax = sns.lineplot(data=data, x=\"date\", y=\"plays\", hue=\"track_name\")\n",
    "sns.move_legend(ax, \"center left\", bbox_to_anchor=(1.1,0.5))"
   ]
  },
  {
   "cell_type": "markdown",
   "id": "026c640d-0958-4590-885f-845d8f70bfb4",
   "metadata": {},
   "source": [
    "---\n",
    "Hearing by Weekday."
   ]
  },
  {
   "cell_type": "code",
   "execution_count": 33,
   "id": "ff5b9778-14ba-4ec6-8481-4eefbada9a9d",
   "metadata": {},
   "outputs": [
    {
     "data": {
      "text/plain": [
       "<Axes: xlabel='weekday', ylabel='count'>"
      ]
     },
     "execution_count": 33,
     "metadata": {},
     "output_type": "execute_result"
    },
    {
     "data": {
      "image/png": "[encoded data removed]",
      "text/plain": [
       "<Figure size 640x480 with 1 Axes>"
      ]
     },
     "metadata": {},
     "output_type": "display_data"
    }
   ],
   "source": [
    "df_weekday_plays = df_orig.groupby(df_orig[\"ts\"].dt.weekday)[\"ts\"].count().to_frame()\n",
    "df_weekday_plays.index.rename(\"weekday\", inplace=True)\n",
    "df_weekday_plays.reset_index(inplace=True)\n",
    "df_weekday_plays.rename({\"ts\":\"count\"}, inplace=True, axis=1)\n",
    "\n",
    "sns.barplot(data=df_weekday_plays, x=\"weekday\", y=\"count\", color=\"lightblue\")"
   ]
  },
  {
   "cell_type": "code",
   "execution_count": 34,
   "id": "3b110a3c-11c3-466a-ab00-315951e9398b",
   "metadata": {},
   "outputs": [
    {
     "data": {
      "text/plain": [
       "<Axes: xlabel='hour', ylabel='count'>"
      ]
     },
     "execution_count": 34,
     "metadata": {},
     "output_type": "execute_result"
    },
    {
     "data": {
      "image/png": "[encoded data removed]",
      "text/plain": [
       "<Figure size 640x480 with 1 Axes>"
      ]
     },
     "metadata": {},
     "output_type": "display_data"
    }
   ],
   "source": [
    "df_weekday_plays = df_orig.groupby(df_orig[\"ts\"].dt.hour)[\"ts\"].count().to_frame()\n",
    "df_weekday_plays.index.rename(\"hour\", inplace=True)\n",
    "df_weekday_plays.reset_index(inplace=True)\n",
    "df_weekday_plays.rename({\"ts\":\"count\"}, inplace=True, axis=1)\n",
    "\n",
    "sns.barplot(data=df_weekday_plays, x=\"hour\", y=\"count\", color=\"lightblue\")"
   ]
  },
  {
   "cell_type": "code",
   "execution_count": 35,
   "id": "1ed87178-df88-4dd6-b3e8-0bce590a32ca",
   "metadata": {},
   "outputs": [
    {
     "name": "stderr",
     "output_type": "stream",
     "text": [
      "/home/voss/.local/lib/python3.10/site-packages/seaborn/axisgrid.py:718: UserWarning: Using the barplot function without specifying `order` is likely to produce an incorrect plot.\n",
      "  warnings.warn(warning)\n"
     ]
    },
    {
     "data": {
      "text/plain": [
       "<seaborn.axisgrid.FacetGrid at 0x792f9dc64040>"
      ]
     },
     "execution_count": 35,
     "metadata": {},
     "output_type": "execute_result"
    },
    {
     "data": {
      "image/png": "[encoded data removed]",
      "text/plain": [
       "<Figure size 2100x300 with 7 Axes>"
      ]
     },
     "metadata": {},
     "output_type": "display_data"
    }
   ],
   "source": [
    "df_weekday_plays = df_orig.groupby([df_orig[\"ts\"].dt.weekday, df_orig[\"ts\"].dt.hour])[\"ts\"].count().to_frame()\n",
    "df_weekday_plays.columns = [\"count\"]\n",
    "df_weekday_plays.index.rename([\"weekday\", \"hour\"], inplace=True)\n",
    "df_weekday_plays = df_weekday_plays.reset_index()\n",
    "\n",
    "sea = sns.FacetGrid(df_weekday_plays, col=\"weekday\")\n",
    "sea.map(sns.barplot, \"hour\", \"count\", color=\"lightblue\")"
   ]
  },
  {
   "cell_type": "markdown",
   "id": "8579d46e-7807-4881-96a2-7eb7fae8dc49",
   "metadata": {},
   "source": [
    "---\n",
    "# Interpretes"
   ]
  },
  {
   "cell_type": "code",
   "execution_count": 36,
   "id": "e0d67cc4-4ddf-41e9-8573-3b0df8000e9e",
   "metadata": {},
   "outputs": [
    {
     "data": {
      "text/html": [
       "<div>\n",
       "<style scoped>\n",
       "    .dataframe tbody tr th:only-of-type {\n",
       "        vertical-align: middle;\n",
       "    }\n",
       "\n",
       "    .dataframe tbody tr th {\n",
       "        vertical-align: top;\n",
       "    }\n",
       "\n",
       "    .dataframe thead th {\n",
       "        text-align: right;\n",
       "    }\n",
       "</style>\n",
       "<table border=\"1\" class=\"dataframe\">\n",
       "  <thead>\n",
       "    <tr style=\"text-align: right;\">\n",
       "      <th></th>\n",
       "      <th>ts</th>\n",
       "      <th>track_name</th>\n",
       "      <th>artist_name</th>\n",
       "    </tr>\n",
       "  </thead>\n",
       "  <tbody>\n",
       "    <tr>\n",
       "      <th>0</th>\n",
       "      <td>2023-05-29 18:08:46+00:00</td>\n",
       "      <td>I Just Can't Wait to Be King</td>\n",
       "      <td>JD McCrary</td>\n",
       "    </tr>\n",
       "    <tr>\n",
       "      <th>1</th>\n",
       "      <td>2023-05-29 18:08:59+00:00</td>\n",
       "      <td>You and Me (But Mostly Me)</td>\n",
       "      <td>Josh Gad</td>\n",
       "    </tr>\n",
       "    <tr>\n",
       "      <th>2</th>\n",
       "      <td>2023-05-29 18:14:00+00:00</td>\n",
       "      <td>Bangkok / One Night In Bangkok</td>\n",
       "      <td>Murray Head</td>\n",
       "    </tr>\n",
       "    <tr>\n",
       "      <th>3</th>\n",
       "      <td>2023-05-29 18:17:00+00:00</td>\n",
       "      <td>The Way I Are</td>\n",
       "      <td>Timbaland</td>\n",
       "    </tr>\n",
       "    <tr>\n",
       "      <th>4</th>\n",
       "      <td>2023-05-29 18:17:18+00:00</td>\n",
       "      <td>Fahr mit mir (4x4) (feat. Tokio Hotel)</td>\n",
       "      <td>Kraftklub</td>\n",
       "    </tr>\n",
       "  </tbody>\n",
       "</table>\n",
       "</div>"
      ],
      "text/plain": [
       "                         ts                              track_name  \\\n",
       "0 2023-05-29 18:08:46+00:00            I Just Can't Wait to Be King   \n",
       "1 2023-05-29 18:08:59+00:00              You and Me (But Mostly Me)   \n",
       "2 2023-05-29 18:14:00+00:00          Bangkok / One Night In Bangkok   \n",
       "3 2023-05-29 18:17:00+00:00                           The Way I Are   \n",
       "4 2023-05-29 18:17:18+00:00  Fahr mit mir (4x4) (feat. Tokio Hotel)   \n",
       "\n",
       "   artist_name  \n",
       "0   JD McCrary  \n",
       "1     Josh Gad  \n",
       "2  Murray Head  \n",
       "3    Timbaland  \n",
       "4    Kraftklub  "
      ]
     },
     "execution_count": 36,
     "metadata": {},
     "output_type": "execute_result"
    }
   ],
   "source": [
    "df_artist = df_orig[[\"ts\", \"master_metadata_track_name\", \"master_metadata_album_artist_name\"]].rename(\\\n",
    "    columns={\"master_metadata_track_name\":\"track_name\",\"master_metadata_album_artist_name\":\"artist_name\"})\n",
    "df_artist.head()"
   ]
  },
  {
   "cell_type": "code",
   "execution_count": 37,
   "id": "469ab337-5543-4dcd-9685-5b9bb2f9fa87",
   "metadata": {},
   "outputs": [
    {
     "data": {
      "text/html": [
       "<div>\n",
       "<style scoped>\n",
       "    .dataframe tbody tr th:only-of-type {\n",
       "        vertical-align: middle;\n",
       "    }\n",
       "\n",
       "    .dataframe tbody tr th {\n",
       "        vertical-align: top;\n",
       "    }\n",
       "\n",
       "    .dataframe thead th {\n",
       "        text-align: right;\n",
       "    }\n",
       "</style>\n",
       "<table border=\"1\" class=\"dataframe\">\n",
       "  <thead>\n",
       "    <tr style=\"text-align: right;\">\n",
       "      <th></th>\n",
       "      <th>ts</th>\n",
       "      <th>artist_name</th>\n",
       "      <th>count</th>\n",
       "      <th>songs</th>\n",
       "      <th>var</th>\n",
       "      <th>std</th>\n",
       "    </tr>\n",
       "  </thead>\n",
       "  <tbody>\n",
       "    <tr>\n",
       "      <th>0</th>\n",
       "      <td>2014</td>\n",
       "      <td>Bastille</td>\n",
       "      <td>60</td>\n",
       "      <td>35</td>\n",
       "      <td>1.92</td>\n",
       "      <td>1.38</td>\n",
       "    </tr>\n",
       "    <tr>\n",
       "      <th>1</th>\n",
       "      <td>2014</td>\n",
       "      <td>Marteria</td>\n",
       "      <td>49</td>\n",
       "      <td>27</td>\n",
       "      <td>1.16</td>\n",
       "      <td>1.08</td>\n",
       "    </tr>\n",
       "    <tr>\n",
       "      <th>2</th>\n",
       "      <td>2014</td>\n",
       "      <td>Michael Jackson</td>\n",
       "      <td>26</td>\n",
       "      <td>19</td>\n",
       "      <td>0.58</td>\n",
       "      <td>0.76</td>\n",
       "    </tr>\n",
       "  </tbody>\n",
       "</table>\n",
       "</div>"
      ],
      "text/plain": [
       "     ts      artist_name  count  songs   var   std\n",
       "0  2014         Bastille     60     35  1.92  1.38\n",
       "1  2014         Marteria     49     27  1.16  1.08\n",
       "2  2014  Michael Jackson     26     19  0.58  0.76"
      ]
     },
     "execution_count": 37,
     "metadata": {},
     "output_type": "execute_result"
    }
   ],
   "source": [
    "n = 10\n",
    "top_n = df_artist.groupby(df_artist[\"ts\"].dt.year)[\"artist_name\"].value_counts().groupby(level=0, group_keys=False).head(n).to_frame().reset_index()\n",
    "top_n[\"songs\"] = np.zeros(len(top_n)).astype(int)\n",
    "top_n[\"var\"] = np.zeros(len(top_n))\n",
    "top_n[\"std\"] = np.zeros(len(top_n))\n",
    "for i, row in top_n.iterrows():\n",
    "    data = df_artist.loc[(df_artist[\"artist_name\"] == row[\"artist_name\"]) & (df_artist[\"ts\"].dt.year == row[\"ts\"])]\n",
    "    individual_tracks = data[\"track_name\"].value_counts()\n",
    "    top_n.at[i, \"songs\"] = len(individual_tracks)\n",
    "    top_n.at[i, \"var\"] = individual_tracks.var()\n",
    "    top_n.at[i, \"std\"] = individual_tracks.std()\n",
    "top_n = top_n.round(2)\n",
    "top_n.head(3)"
   ]
  },
  {
   "cell_type": "code",
   "execution_count": 45,
   "id": "8f43ab60-aa06-45a0-a696-a87df845ad90",
   "metadata": {},
   "outputs": [
    {
     "data": {
      "text/html": [
       "<div>\n",
       "<style scoped>\n",
       "    .dataframe tbody tr th:only-of-type {\n",
       "        vertical-align: middle;\n",
       "    }\n",
       "\n",
       "    .dataframe tbody tr th {\n",
       "        vertical-align: top;\n",
       "    }\n",
       "\n",
       "    .dataframe thead th {\n",
       "        text-align: right;\n",
       "    }\n",
       "</style>\n",
       "<table border=\"1\" class=\"dataframe\">\n",
       "  <thead>\n",
       "    <tr style=\"text-align: right;\">\n",
       "      <th></th>\n",
       "      <th>ts</th>\n",
       "      <th>artist_name</th>\n",
       "      <th>count</th>\n",
       "      <th>songs</th>\n",
       "      <th>var</th>\n",
       "      <th>std</th>\n",
       "    </tr>\n",
       "  </thead>\n",
       "  <tbody>\n",
       "    <tr>\n",
       "      <th>30</th>\n",
       "      <td>2017</td>\n",
       "      <td>Kontra K</td>\n",
       "      <td>8875</td>\n",
       "      <td>158</td>\n",
       "      <td>3941.21</td>\n",
       "      <td>62.78</td>\n",
       "    </tr>\n",
       "    <tr>\n",
       "      <th>31</th>\n",
       "      <td>2017</td>\n",
       "      <td>Bonez MC</td>\n",
       "      <td>2748</td>\n",
       "      <td>85</td>\n",
       "      <td>2995.27</td>\n",
       "      <td>54.73</td>\n",
       "    </tr>\n",
       "    <tr>\n",
       "      <th>32</th>\n",
       "      <td>2017</td>\n",
       "      <td>Gzuz</td>\n",
       "      <td>2666</td>\n",
       "      <td>55</td>\n",
       "      <td>4648.96</td>\n",
       "      <td>68.18</td>\n",
       "    </tr>\n",
       "    <tr>\n",
       "      <th>80</th>\n",
       "      <td>2022</td>\n",
       "      <td>Depeche Mode</td>\n",
       "      <td>2517</td>\n",
       "      <td>245</td>\n",
       "      <td>54.02</td>\n",
       "      <td>7.35</td>\n",
       "    </tr>\n",
       "    <tr>\n",
       "      <th>50</th>\n",
       "      <td>2019</td>\n",
       "      <td>PNL</td>\n",
       "      <td>2268</td>\n",
       "      <td>41</td>\n",
       "      <td>1038.22</td>\n",
       "      <td>32.22</td>\n",
       "    </tr>\n",
       "    <tr>\n",
       "      <th>60</th>\n",
       "      <td>2020</td>\n",
       "      <td>PNL</td>\n",
       "      <td>2202</td>\n",
       "      <td>48</td>\n",
       "      <td>440.54</td>\n",
       "      <td>20.99</td>\n",
       "    </tr>\n",
       "    <tr>\n",
       "      <th>33</th>\n",
       "      <td>2017</td>\n",
       "      <td>AK AUSSERKONTROLLE</td>\n",
       "      <td>2143</td>\n",
       "      <td>62</td>\n",
       "      <td>1276.25</td>\n",
       "      <td>35.72</td>\n",
       "    </tr>\n",
       "    <tr>\n",
       "      <th>90</th>\n",
       "      <td>2023</td>\n",
       "      <td>Depeche Mode</td>\n",
       "      <td>2087</td>\n",
       "      <td>240</td>\n",
       "      <td>59.79</td>\n",
       "      <td>7.73</td>\n",
       "    </tr>\n",
       "    <tr>\n",
       "      <th>40</th>\n",
       "      <td>2018</td>\n",
       "      <td>RAF Camora</td>\n",
       "      <td>1899</td>\n",
       "      <td>79</td>\n",
       "      <td>288.27</td>\n",
       "      <td>16.98</td>\n",
       "    </tr>\n",
       "    <tr>\n",
       "      <th>41</th>\n",
       "      <td>2018</td>\n",
       "      <td>Joshi Mizu</td>\n",
       "      <td>1757</td>\n",
       "      <td>64</td>\n",
       "      <td>596.57</td>\n",
       "      <td>24.42</td>\n",
       "    </tr>\n",
       "    <tr>\n",
       "      <th>34</th>\n",
       "      <td>2017</td>\n",
       "      <td>RAF Camora</td>\n",
       "      <td>1632</td>\n",
       "      <td>98</td>\n",
       "      <td>478.91</td>\n",
       "      <td>21.88</td>\n",
       "    </tr>\n",
       "    <tr>\n",
       "      <th>42</th>\n",
       "      <td>2018</td>\n",
       "      <td>Kontra K</td>\n",
       "      <td>1565</td>\n",
       "      <td>96</td>\n",
       "      <td>336.80</td>\n",
       "      <td>18.35</td>\n",
       "    </tr>\n",
       "    <tr>\n",
       "      <th>70</th>\n",
       "      <td>2021</td>\n",
       "      <td>PNL</td>\n",
       "      <td>1528</td>\n",
       "      <td>46</td>\n",
       "      <td>247.55</td>\n",
       "      <td>15.73</td>\n",
       "    </tr>\n",
       "    <tr>\n",
       "      <th>71</th>\n",
       "      <td>2021</td>\n",
       "      <td>Depeche Mode</td>\n",
       "      <td>1120</td>\n",
       "      <td>212</td>\n",
       "      <td>14.62</td>\n",
       "      <td>3.82</td>\n",
       "    </tr>\n",
       "    <tr>\n",
       "      <th>81</th>\n",
       "      <td>2022</td>\n",
       "      <td>PNL</td>\n",
       "      <td>1088</td>\n",
       "      <td>50</td>\n",
       "      <td>155.17</td>\n",
       "      <td>12.46</td>\n",
       "    </tr>\n",
       "    <tr>\n",
       "      <th>43</th>\n",
       "      <td>2018</td>\n",
       "      <td>Moop Mama</td>\n",
       "      <td>1060</td>\n",
       "      <td>40</td>\n",
       "      <td>202.67</td>\n",
       "      <td>14.24</td>\n",
       "    </tr>\n",
       "    <tr>\n",
       "      <th>44</th>\n",
       "      <td>2018</td>\n",
       "      <td>Bonez MC</td>\n",
       "      <td>869</td>\n",
       "      <td>53</td>\n",
       "      <td>132.17</td>\n",
       "      <td>11.50</td>\n",
       "    </tr>\n",
       "    <tr>\n",
       "      <th>35</th>\n",
       "      <td>2017</td>\n",
       "      <td>LX</td>\n",
       "      <td>865</td>\n",
       "      <td>19</td>\n",
       "      <td>4915.15</td>\n",
       "      <td>70.11</td>\n",
       "    </tr>\n",
       "    <tr>\n",
       "      <th>20</th>\n",
       "      <td>2016</td>\n",
       "      <td>Kontra K</td>\n",
       "      <td>807</td>\n",
       "      <td>58</td>\n",
       "      <td>223.48</td>\n",
       "      <td>14.95</td>\n",
       "    </tr>\n",
       "    <tr>\n",
       "      <th>45</th>\n",
       "      <td>2018</td>\n",
       "      <td>AK AUSSERKONTROLLE</td>\n",
       "      <td>795</td>\n",
       "      <td>56</td>\n",
       "      <td>143.25</td>\n",
       "      <td>11.97</td>\n",
       "    </tr>\n",
       "  </tbody>\n",
       "</table>\n",
       "</div>"
      ],
      "text/plain": [
       "      ts         artist_name  count  songs      var    std\n",
       "30  2017            Kontra K   8875    158  3941.21  62.78\n",
       "31  2017            Bonez MC   2748     85  2995.27  54.73\n",
       "32  2017                Gzuz   2666     55  4648.96  68.18\n",
       "80  2022        Depeche Mode   2517    245    54.02   7.35\n",
       "50  2019                 PNL   2268     41  1038.22  32.22\n",
       "60  2020                 PNL   2202     48   440.54  20.99\n",
       "33  2017  AK AUSSERKONTROLLE   2143     62  1276.25  35.72\n",
       "90  2023        Depeche Mode   2087    240    59.79   7.73\n",
       "40  2018          RAF Camora   1899     79   288.27  16.98\n",
       "41  2018          Joshi Mizu   1757     64   596.57  24.42\n",
       "34  2017          RAF Camora   1632     98   478.91  21.88\n",
       "42  2018            Kontra K   1565     96   336.80  18.35\n",
       "70  2021                 PNL   1528     46   247.55  15.73\n",
       "71  2021        Depeche Mode   1120    212    14.62   3.82\n",
       "81  2022                 PNL   1088     50   155.17  12.46\n",
       "43  2018           Moop Mama   1060     40   202.67  14.24\n",
       "44  2018            Bonez MC    869     53   132.17  11.50\n",
       "35  2017                  LX    865     19  4915.15  70.11\n",
       "20  2016            Kontra K    807     58   223.48  14.95\n",
       "45  2018  AK AUSSERKONTROLLE    795     56   143.25  11.97"
      ]
     },
     "execution_count": 45,
     "metadata": {},
     "output_type": "execute_result"
    }
   ],
   "source": [
    "top_n.sort_values(\"count\", ascending=False)[:20]"
   ]
  },
  {
   "cell_type": "markdown",
   "id": "e6053aad-1d09-4df6-a076-64910440298f",
   "metadata": {},
   "source": [
    "---\n",
    "## Artist stats"
   ]
  },
  {
   "cell_type": "code",
   "execution_count": 40,
   "id": "84484c76-75e9-4d4d-8d1e-d266d4428cb2",
   "metadata": {},
   "outputs": [
    {
     "data": {
      "text/html": [
       "<div>\n",
       "<style scoped>\n",
       "    .dataframe tbody tr th:only-of-type {\n",
       "        vertical-align: middle;\n",
       "    }\n",
       "\n",
       "    .dataframe tbody tr th {\n",
       "        vertical-align: top;\n",
       "    }\n",
       "\n",
       "    .dataframe thead th {\n",
       "        text-align: right;\n",
       "    }\n",
       "</style>\n",
       "<table border=\"1\" class=\"dataframe\">\n",
       "  <thead>\n",
       "    <tr style=\"text-align: right;\">\n",
       "      <th></th>\n",
       "      <th>artist_name</th>\n",
       "      <th>plays</th>\n",
       "      <th>songs</th>\n",
       "      <th>var</th>\n",
       "      <th>std</th>\n",
       "    </tr>\n",
       "  </thead>\n",
       "  <tbody>\n",
       "    <tr>\n",
       "      <th>0</th>\n",
       "      <td>Kontra K</td>\n",
       "      <td>12009</td>\n",
       "      <td>202</td>\n",
       "      <td>5247.393059</td>\n",
       "      <td>72.438892</td>\n",
       "    </tr>\n",
       "    <tr>\n",
       "      <th>1</th>\n",
       "      <td>PNL</td>\n",
       "      <td>7777</td>\n",
       "      <td>54</td>\n",
       "      <td>7326.395877</td>\n",
       "      <td>85.594368</td>\n",
       "    </tr>\n",
       "    <tr>\n",
       "      <th>2</th>\n",
       "      <td>Depeche Mode</td>\n",
       "      <td>7150</td>\n",
       "      <td>306</td>\n",
       "      <td>402.285267</td>\n",
       "      <td>20.057050</td>\n",
       "    </tr>\n",
       "  </tbody>\n",
       "</table>\n",
       "</div>"
      ],
      "text/plain": [
       "    artist_name  plays  songs          var        std\n",
       "0      Kontra K  12009    202  5247.393059  72.438892\n",
       "1           PNL   7777     54  7326.395877  85.594368\n",
       "2  Depeche Mode   7150    306   402.285267  20.057050"
      ]
     },
     "execution_count": 40,
     "metadata": {},
     "output_type": "execute_result"
    }
   ],
   "source": [
    "### config ###\n",
    "calculate = True\n",
    "##############\n",
    "\n",
    "if calculate:\n",
    "    df_art = df_artist[\"artist_name\"].value_counts().to_frame().reset_index().rename(columns={\"count\":\"plays\"})\n",
    "    df_art[\"songs\"] = np.zeros(len(df_art)).astype(int)\n",
    "    df_art[\"var\"] = np.zeros(len(df_art))\n",
    "    df_art[\"std\"] = np.zeros(len(df_art))\n",
    "    for i, row in df_art.iterrows():\n",
    "        data = df_artist.loc[df_artist[\"artist_name\"] == row[\"artist_name\"]]\n",
    "        individual_tracks = data[\"track_name\"].value_counts()\n",
    "        df_art.at[i, \"songs\"] = len(individual_tracks)\n",
    "        df_art.at[i, \"var\"] = individual_tracks.var()\n",
    "        df_art.at[i, \"std\"] = individual_tracks.std()\n",
    "    df_art.to_csv(\"df_art_niklas.csv\")\n",
    "else:\n",
    "    df_art = pd.read_csv(\"df_art.csv\")\n",
    "df_art.head(3)"
   ]
  },
  {
   "cell_type": "markdown",
   "id": "eb43a59d-cfbd-4109-9539-b7bf100207b5",
   "metadata": {},
   "source": [
    "---\n",
    "# Listening time"
   ]
  },
  {
   "cell_type": "code",
   "execution_count": 41,
   "id": "abb0b898-c0e6-47ed-b0b3-50dc2a0b0233",
   "metadata": {},
   "outputs": [
    {
     "data": {
      "text/html": [
       "<div>\n",
       "<style scoped>\n",
       "    .dataframe tbody tr th:only-of-type {\n",
       "        vertical-align: middle;\n",
       "    }\n",
       "\n",
       "    .dataframe tbody tr th {\n",
       "        vertical-align: top;\n",
       "    }\n",
       "\n",
       "    .dataframe thead th {\n",
       "        text-align: right;\n",
       "    }\n",
       "</style>\n",
       "<table border=\"1\" class=\"dataframe\">\n",
       "  <thead>\n",
       "    <tr style=\"text-align: right;\">\n",
       "      <th></th>\n",
       "      <th>ts</th>\n",
       "      <th>ms_played</th>\n",
       "      <th>track_name</th>\n",
       "      <th>artist_name</th>\n",
       "    </tr>\n",
       "  </thead>\n",
       "  <tbody>\n",
       "    <tr>\n",
       "      <th>0</th>\n",
       "      <td>2023-05-29 18:08:46+00:00</td>\n",
       "      <td>202986</td>\n",
       "      <td>I Just Can't Wait to Be King</td>\n",
       "      <td>JD McCrary</td>\n",
       "    </tr>\n",
       "    <tr>\n",
       "      <th>1</th>\n",
       "      <td>2023-05-29 18:08:59+00:00</td>\n",
       "      <td>11392</td>\n",
       "      <td>You and Me (But Mostly Me)</td>\n",
       "      <td>Josh Gad</td>\n",
       "    </tr>\n",
       "    <tr>\n",
       "      <th>2</th>\n",
       "      <td>2023-05-29 18:14:00+00:00</td>\n",
       "      <td>302213</td>\n",
       "      <td>Bangkok / One Night In Bangkok</td>\n",
       "      <td>Murray Head</td>\n",
       "    </tr>\n",
       "    <tr>\n",
       "      <th>3</th>\n",
       "      <td>2023-05-29 18:17:00+00:00</td>\n",
       "      <td>179120</td>\n",
       "      <td>The Way I Are</td>\n",
       "      <td>Timbaland</td>\n",
       "    </tr>\n",
       "    <tr>\n",
       "      <th>4</th>\n",
       "      <td>2023-05-29 18:17:18+00:00</td>\n",
       "      <td>226</td>\n",
       "      <td>Fahr mit mir (4x4) (feat. Tokio Hotel)</td>\n",
       "      <td>Kraftklub</td>\n",
       "    </tr>\n",
       "  </tbody>\n",
       "</table>\n",
       "</div>"
      ],
      "text/plain": [
       "                         ts  ms_played  \\\n",
       "0 2023-05-29 18:08:46+00:00     202986   \n",
       "1 2023-05-29 18:08:59+00:00      11392   \n",
       "2 2023-05-29 18:14:00+00:00     302213   \n",
       "3 2023-05-29 18:17:00+00:00     179120   \n",
       "4 2023-05-29 18:17:18+00:00        226   \n",
       "\n",
       "                               track_name  artist_name  \n",
       "0            I Just Can't Wait to Be King   JD McCrary  \n",
       "1              You and Me (But Mostly Me)     Josh Gad  \n",
       "2          Bangkok / One Night In Bangkok  Murray Head  \n",
       "3                           The Way I Are    Timbaland  \n",
       "4  Fahr mit mir (4x4) (feat. Tokio Hotel)    Kraftklub  "
      ]
     },
     "execution_count": 41,
     "metadata": {},
     "output_type": "execute_result"
    }
   ],
   "source": [
    "df_ms = df_orig[[\"ts\", \"ms_played\", \"master_metadata_track_name\", \"master_metadata_album_artist_name\"]]\n",
    "df_ms = df_ms.rename(columns={\"master_metadata_track_name\":\"track_name\", \"master_metadata_album_artist_name\":\"artist_name\"})\n",
    "df_ms.head()"
   ]
  },
  {
   "cell_type": "markdown",
   "id": "c8b3cd78-04a5-4426-819e-17d94a343ba6",
   "metadata": {},
   "source": [
    "### Basic stats"
   ]
  },
  {
   "cell_type": "code",
   "execution_count": 42,
   "id": "49d0ed41-a85b-4ce2-82be-7517310ade43",
   "metadata": {},
   "outputs": [
    {
     "name": "stdout",
     "output_type": "stream",
     "text": [
      "Time played: 6803.71 hours or 283.49 days \n",
      "\n",
      " Per year: Axes(0.125,0.11;0.775x0.77)\n"
     ]
    },
    {
     "data": {
      "image/png": "[encoded data removed]",
      "text/plain": [
       "<Figure size 640x480 with 1 Axes>"
      ]
     },
     "metadata": {},
     "output_type": "display_data"
    }
   ],
   "source": [
    "time_sum = df_ms[\"ms_played\"].sum()\n",
    "dates = df_ms[\"ts\"].dt.strftime(\"%y - %m\").drop_duplicates().tolist()\n",
    "time_year = df_ms.groupby(df_ms[\"ts\"].dt.year)[\"ms_played\"].sum().apply(lambda x: x/1000/60/60).plot()\n",
    "print(f\"Time played: {np.round(time_sum/1000/60/60, 2)} hours or {np.round(time_sum/1000/60/60/24, 2)} days \\n\\n Per year: {time_year}\")"
   ]
  },
  {
   "cell_type": "code",
   "execution_count": 43,
   "id": "6c6e0a87-2921-4e54-853b-14662702e871",
   "metadata": {},
   "outputs": [
    {
     "data": {
      "text/plain": [
       "<Axes: xlabel='ts,ts'>"
      ]
     },
     "execution_count": 43,
     "metadata": {},
     "output_type": "execute_result"
    },
    {
     "data": {
      "image/png": "[encoded data removed]",
      "text/plain": [
       "<Figure size 640x480 with 1 Axes>"
      ]
     },
     "metadata": {},
     "output_type": "display_data"
    }
   ],
   "source": [
    "time_yearmonth = df_ms.groupby([df_ms[\"ts\"].dt.year, df_ms[\"ts\"].dt.month])[\"ms_played\"].sum().apply(lambda x: x/1000/60/60/24)\n",
    "time_yearmonth.plot()"
   ]
  },
  {
   "cell_type": "markdown",
   "id": "3e5ab7b5-9b3a-4949-af22-746b0f963517",
   "metadata": {},
   "source": [
    "---\n",
    "## Playtime per song"
   ]
  },
  {
   "cell_type": "code",
   "execution_count": 44,
   "id": "008913bc-8301-4d83-854a-3b75dc9b4c71",
   "metadata": {},
   "outputs": [
    {
     "data": {
      "text/plain": [
       "track_name\n",
       "\"we circle through the night, consumed by fire\" - Recorded at Spotify Studios NYC    594700.000000\n",
       "# fuori c'è il sole                                                                    4993.000000\n",
       "#DIY                                                                                 137759.954545\n",
       "#HeyJu (feat. CrispyRob & Vincent Lee)                                                20559.000000\n",
       "#WHERESTHELOVE - Charity Single                                                        2439.000000\n",
       "                                                                                         ...      \n",
       "不許你注定一人                                                                                8624.000000\n",
       "原來她不夠愛我                                                                                8873.000000\n",
       "念念不忘                                                                                  10818.000000\n",
       "羅生門                                                                                   15413.000000\n",
       "高山低谷                                                                                  15661.000000\n",
       "Name: ms_played, Length: 10065, dtype: float64"
      ]
     },
     "execution_count": 44,
     "metadata": {},
     "output_type": "execute_result"
    }
   ],
   "source": [
    "song_playtime = df_ms.groupby(\"track_name\")[\"ms_played\"].mean()\n",
    "song_playtime"
   ]
  },
  {
   "cell_type": "markdown",
   "id": "426b0df2-e4a2-434e-94b6-57b641565b20",
   "metadata": {},
   "source": [
    "---\n",
    "#Ideas\n",
    "- 💡 for every year, number of songs played for that amount\n",
    "- top song percentage\n",
    "- genre breaks\n",
    "- play peaks / lows\n",
    "- top genres\n",
    "- genre percentage\n",
    "- interpret percentage\n",
    "- popularity stats\n",
    "- top interpretes\n",
    "- mean playtime @(month/day/hour)\n",
    "- skipped\n",
    "    - time\n",
    "    - percentage\n",
    "    - heared again?\n",
    "    - skipped early/late -> heared again?\n",
    "    - main genre? -> skipped?\n",
    "- session recognition?\n",
    "- song cluster"
   ]
  },
  {
   "cell_type": "code",
   "execution_count": null,
   "id": "1846cd96-32d0-4574-aae2-d95885ac5dc4",
   "metadata": {
    "collapsed": true,
    "jupyter": {
     "outputs_hidden": true
    }
   },
   "outputs": [],
   "source": []
  },
  {
   "cell_type": "code",
   "execution_count": null,
   "id": "98132ae4-9f3f-4ee1-97b3-0ad8d1265d6a",
   "metadata": {
    "collapsed": true,
    "jupyter": {
     "outputs_hidden": true
    }
   },
   "outputs": [],
   "source": []
  }
 ],
 "metadata": {
  "kernelspec": {
   "display_name": "Python 3 (ipykernel)",
   "language": "python",
   "name": "python3"
  },
  "language_info": {
   "codemirror_mode": {
    "name": "ipython",
    "version": 3
   },
   "file_extension": ".py",
   "mimetype": "text/x-python",
   "name": "python",
   "nbconvert_exporter": "python",
   "pygments_lexer": "ipython3",
   "version": "3.10.12"
  },
  "toc-autonumbering": true,
  "toc-showmarkdowntxt": false
 },
 "nbformat": 4,
 "nbformat_minor": 5
}
