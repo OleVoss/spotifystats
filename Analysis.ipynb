{
 "cells": [
  {
   "cell_type": "markdown",
   "id": "4ae8edb8-c6b5-4917-bb60-36bea10c2fc2",
   "metadata": {},
   "source": [
    "# Spotify Extended History\n",
    "\n",
    "The following notebook is an experimental exploration of Spotify's **Extended History**.\n",
    "The data is requested from Spotify and contains every individual play (by my account) from **October 2015** until **March 2023**."
   ]
  },
  {
   "cell_type": "code",
   "execution_count": 33,
   "id": "04252c9b-6f86-4247-aeea-093c5ce64ece",
   "metadata": {},
   "outputs": [],
   "source": [
    "import pandas as pd\n",
    "import seaborn as sns\n",
    "import glob\n",
    "import os\n",
    "import matplotlib.pyplot as plt\n",
    "import numpy as np\n",
    "from tqdm import tqdm\n",
    "from pathlib import Path\n",
    "import ipywidgets\n",
    "from IPython.display import Markdown, display\n",
    "from dotenv import load_dotenv"
   ]
  },
  {
   "cell_type": "code",
   "execution_count": 84,
   "id": "c95484a3-b42b-4ab2-b187-a5a10489b43f",
   "metadata": {},
   "outputs": [
    {
     "data": {
      "text/html": [
       "<div>\n",
       "<style scoped>\n",
       "    .dataframe tbody tr th:only-of-type {\n",
       "        vertical-align: middle;\n",
       "    }\n",
       "\n",
       "    .dataframe tbody tr th {\n",
       "        vertical-align: top;\n",
       "    }\n",
       "\n",
       "    .dataframe thead th {\n",
       "        text-align: right;\n",
       "    }\n",
       "</style>\n",
       "<table border=\"1\" class=\"dataframe\">\n",
       "  <thead>\n",
       "    <tr style=\"text-align: right;\">\n",
       "      <th></th>\n",
       "      <th>ts</th>\n",
       "      <th>username</th>\n",
       "      <th>platform</th>\n",
       "      <th>ms_played</th>\n",
       "      <th>conn_country</th>\n",
       "      <th>ip_addr_decrypted</th>\n",
       "      <th>user_agent_decrypted</th>\n",
       "      <th>master_metadata_track_name</th>\n",
       "      <th>master_metadata_album_artist_name</th>\n",
       "      <th>master_metadata_album_album_name</th>\n",
       "      <th>...</th>\n",
       "      <th>episode_name</th>\n",
       "      <th>episode_show_name</th>\n",
       "      <th>spotify_episode_uri</th>\n",
       "      <th>reason_start</th>\n",
       "      <th>reason_end</th>\n",
       "      <th>shuffle</th>\n",
       "      <th>skipped</th>\n",
       "      <th>offline</th>\n",
       "      <th>offline_timestamp</th>\n",
       "      <th>incognito_mode</th>\n",
       "    </tr>\n",
       "  </thead>\n",
       "  <tbody>\n",
       "    <tr>\n",
       "      <th>0</th>\n",
       "      <td>2015-10-04T17:25:52Z</td>\n",
       "      <td>thatollom</td>\n",
       "      <td>Android OS 4.4.2 API 19 (THL, thl 5000)</td>\n",
       "      <td>121393</td>\n",
       "      <td>DE</td>\n",
       "      <td>95.91.224.1</td>\n",
       "      <td>unknown</td>\n",
       "      <td>Play Hard (feat. Ne-Yo &amp; Akon)</td>\n",
       "      <td>David Guetta</td>\n",
       "      <td>Nothing but the Beat</td>\n",
       "      <td>...</td>\n",
       "      <td>NaN</td>\n",
       "      <td>NaN</td>\n",
       "      <td>NaN</td>\n",
       "      <td>clickrow</td>\n",
       "      <td>endplay</td>\n",
       "      <td>False</td>\n",
       "      <td>1.0</td>\n",
       "      <td>False</td>\n",
       "      <td>0</td>\n",
       "      <td>False</td>\n",
       "    </tr>\n",
       "    <tr>\n",
       "      <th>6038</th>\n",
       "      <td>2023-05-14T22:12:55Z</td>\n",
       "      <td>thatollom</td>\n",
       "      <td>ios</td>\n",
       "      <td>154381</td>\n",
       "      <td>DE</td>\n",
       "      <td>37.4.229.9</td>\n",
       "      <td>unknown</td>\n",
       "      <td>Dawn of the Dragonstar</td>\n",
       "      <td>Twilight Force</td>\n",
       "      <td>Dawn of the Dragonstar</td>\n",
       "      <td>...</td>\n",
       "      <td>None</td>\n",
       "      <td>None</td>\n",
       "      <td>None</td>\n",
       "      <td>trackdone</td>\n",
       "      <td>endplay</td>\n",
       "      <td>False</td>\n",
       "      <td>1.0</td>\n",
       "      <td>False</td>\n",
       "      <td>1684074699</td>\n",
       "      <td>False</td>\n",
       "    </tr>\n",
       "  </tbody>\n",
       "</table>\n",
       "<p>2 rows × 21 columns</p>\n",
       "</div>"
      ],
      "text/plain": [
       "                        ts   username  \\\n",
       "0     2015-10-04T17:25:52Z  thatollom   \n",
       "6038  2023-05-14T22:12:55Z  thatollom   \n",
       "\n",
       "                                     platform  ms_played conn_country  \\\n",
       "0     Android OS 4.4.2 API 19 (THL, thl 5000)     121393           DE   \n",
       "6038                                      ios     154381           DE   \n",
       "\n",
       "     ip_addr_decrypted user_agent_decrypted      master_metadata_track_name  \\\n",
       "0          95.91.224.1              unknown  Play Hard (feat. Ne-Yo & Akon)   \n",
       "6038        37.4.229.9              unknown          Dawn of the Dragonstar   \n",
       "\n",
       "     master_metadata_album_artist_name master_metadata_album_album_name  ...  \\\n",
       "0                         David Guetta             Nothing but the Beat  ...   \n",
       "6038                    Twilight Force           Dawn of the Dragonstar  ...   \n",
       "\n",
       "     episode_name episode_show_name spotify_episode_uri reason_start  \\\n",
       "0             NaN               NaN                 NaN     clickrow   \n",
       "6038         None              None                None    trackdone   \n",
       "\n",
       "     reason_end shuffle  skipped  offline  offline_timestamp  incognito_mode  \n",
       "0       endplay   False      1.0    False                  0           False  \n",
       "6038    endplay   False      1.0    False         1684074699           False  \n",
       "\n",
       "[2 rows x 21 columns]"
      ]
     },
     "execution_count": 84,
     "metadata": {},
     "output_type": "execute_result"
    }
   ],
   "source": [
    "data_source = \"./data/ole/\"\n",
    "paths = Path(data_source).glob(\"endsong*.json\")\n",
    "df = pd.concat(map(pd.read_json, paths))\n",
    "df.iloc[[0,-1]]"
   ]
  },
  {
   "cell_type": "markdown",
   "id": "9e7c647b-e805-47ab-995b-c12caf76b619",
   "metadata": {},
   "source": [
    "Remove known artists, that cannot be used in a music listening analysis. "
   ]
  },
  {
   "cell_type": "code",
   "execution_count": 85,
   "id": "f9bd022f-47f5-4366-95a0-2e92fd5c2093",
   "metadata": {},
   "outputs": [],
   "source": [
    "df.drop(columns=[\"username\", \"ip_addr_decrypted\", \"user_agent_decrypted\", \"offline_timestamp\", \"incognito_mode\"], inplace=True)\n",
    "df = df.drop(df[df[\"master_metadata_album_artist_name\"] == \"Die drei !!!\"].index)\n",
    "df = df.drop(df[df[\"master_metadata_album_artist_name\"] == \"Rick Riordan\"].index)"
   ]
  },
  {
   "cell_type": "code",
   "execution_count": 86,
   "id": "a6a5b37e-5347-491e-80f8-0f564ce01260",
   "metadata": {},
   "outputs": [],
   "source": [
    "df[\"ts\"] = pd.to_datetime(df[\"ts\"])\n",
    "original_length = len(df)"
   ]
  },
  {
   "cell_type": "code",
   "execution_count": 87,
   "id": "b7752fd2-d92b-4a79-a4ce-c9312b9e3bd0",
   "metadata": {},
   "outputs": [
    {
     "name": "stdout",
     "output_type": "stream",
     "text": [
      "17618 unique tracks have been played\n"
     ]
    }
   ],
   "source": [
    "unique_tracks = df[\"master_metadata_track_name\"].unique()\n",
    "print(len(unique_tracks), \"unique tracks have been played\")"
   ]
  },
  {
   "cell_type": "code",
   "execution_count": 88,
   "id": "da330643-b01b-4085-8743-8a4d9bf5f41e",
   "metadata": {},
   "outputs": [],
   "source": [
    "df.groupby(df[\"master_metadata_track_name\"])[\"spotify_track_uri\"].first().to_frame().to_csv(\"tracks_with_uri_niklas.csv\")"
   ]
  },
  {
   "cell_type": "markdown",
   "id": "ce066b75-61df-4eac-93b1-2bb3b76351e1",
   "metadata": {},
   "source": [
    "---\n",
    "**Data:**\n",
    "- `df` All columns; Only songs that have been played at least 10 times.\n",
    "- `df_orig` All columns.\n",
    "- `unique_tracks` Every track played.\n",
    "\n",
    "**Edit:**\n",
    "Upon further inspection, the 2015 data appear to be characterisec by irregular usage and a general lack of significance and thus will be excluded from the dataset."
   ]
  },
  {
   "cell_type": "code",
   "execution_count": 89,
   "id": "7f1792bb-1877-407d-89cf-a9ff9a3ee05f",
   "metadata": {},
   "outputs": [
    {
     "data": {
      "text/html": [
       "<div>\n",
       "<style scoped>\n",
       "    .dataframe tbody tr th:only-of-type {\n",
       "        vertical-align: middle;\n",
       "    }\n",
       "\n",
       "    .dataframe tbody tr th {\n",
       "        vertical-align: top;\n",
       "    }\n",
       "\n",
       "    .dataframe thead th {\n",
       "        text-align: right;\n",
       "    }\n",
       "</style>\n",
       "<table border=\"1\" class=\"dataframe\">\n",
       "  <thead>\n",
       "    <tr style=\"text-align: right;\">\n",
       "      <th></th>\n",
       "      <th>name</th>\n",
       "      <th>plays</th>\n",
       "    </tr>\n",
       "  </thead>\n",
       "  <tbody>\n",
       "    <tr>\n",
       "      <th>0</th>\n",
       "      <td>T-Shirt Song</td>\n",
       "      <td>199</td>\n",
       "    </tr>\n",
       "    <tr>\n",
       "      <th>1</th>\n",
       "      <td>Nothing</td>\n",
       "      <td>187</td>\n",
       "    </tr>\n",
       "    <tr>\n",
       "      <th>2</th>\n",
       "      <td>Punk Rock Songs</td>\n",
       "      <td>178</td>\n",
       "    </tr>\n",
       "    <tr>\n",
       "      <th>3</th>\n",
       "      <td>Young, Wild &amp; Free (feat. Bruno Mars)</td>\n",
       "      <td>173</td>\n",
       "    </tr>\n",
       "    <tr>\n",
       "      <th>4</th>\n",
       "      <td>Young as the Morning Old as the Sea</td>\n",
       "      <td>169</td>\n",
       "    </tr>\n",
       "  </tbody>\n",
       "</table>\n",
       "</div>"
      ],
      "text/plain": [
       "                                    name  plays\n",
       "0                           T-Shirt Song    199\n",
       "1                                Nothing    187\n",
       "2                        Punk Rock Songs    178\n",
       "3  Young, Wild & Free (feat. Bruno Mars)    173\n",
       "4    Young as the Morning Old as the Sea    169"
      ]
     },
     "execution_count": 89,
     "metadata": {},
     "output_type": "execute_result"
    }
   ],
   "source": [
    "df_top_tracks = df[\"master_metadata_track_name\"].value_counts().to_frame()\n",
    "df_top_tracks = df_top_tracks.reset_index().rename(columns={\"master_metadata_track_name\":\"name\",\"count\":\"plays\"})\n",
    "df_top_tracks.head()"
   ]
  },
  {
   "cell_type": "code",
   "execution_count": 90,
   "id": "d10532b0-2b3f-463d-b252-c160f9d64fad",
   "metadata": {},
   "outputs": [
    {
     "name": "stdout",
     "output_type": "stream",
     "text": [
      "original length: 78415\n",
      " reduced length: 41439\n",
      "      reduction: 52.85%\n"
     ]
    }
   ],
   "source": [
    "top_names = df_top_tracks[df_top_tracks[\"plays\"]>=10][\"name\"]\n",
    "df_orig = df\n",
    "df = df[df[\"master_metadata_track_name\"].isin(top_names)].reset_index(drop=True)\n",
    "# Edit:\n",
    "df = df[df[\"ts\"].dt.year != 2015]\n",
    "\n",
    "print(\"original length:\", original_length)\n",
    "print(\" reduced length:\", len(df))\n",
    "print(\"      reduction:\", str(round(len(df)/original_length*100,2))+\"%\")"
   ]
  },
  {
   "cell_type": "markdown",
   "id": "533aea92-c322-42fa-a2ba-f81a294c5fa0",
   "metadata": {},
   "source": [
    "<div class=\"alert alert-block alert-success\"> \n",
    "    It could be useful to further only include tracks,\n",
    "    that have been played at lead 30% (or 50%) of their length. <br>\n",
    "    Including skipped tracks carries the risk of further distorting the real hearing-bahavior.\n",
    "\n",
    "</div>"
   ]
  },
  {
   "cell_type": "code",
   "execution_count": 91,
   "id": "fb4193fe-9dc9-401a-bcbb-56a286b9067c",
   "metadata": {},
   "outputs": [
    {
     "name": "stdout",
     "output_type": "stream",
     "text": [
      "2.39 % of tracks have been skipped.\n"
     ]
    }
   ],
   "source": [
    "num_skipped = len(df_orig[df_orig[\"skipped\"] == 1])\n",
    "print(round(num_skipped/len(df_orig)*100,2), \"% of tracks have been skipped.\") "
   ]
  },
  {
   "cell_type": "markdown",
   "id": "1263cb09-6b4b-4b1f-9f73-a119625a9ce4",
   "metadata": {},
   "source": [
    "Though only a small percentage of tracks have been skipped, it is unlikeley, that the remaining tracks have been played to the end.\n"
   ]
  },
  {
   "cell_type": "code",
   "execution_count": 70,
   "id": "c79777e5-f78f-44df-b718-d45b9f0b4eec",
   "metadata": {},
   "outputs": [
    {
     "data": {
      "text/html": [
       "<div>\n",
       "<style scoped>\n",
       "    .dataframe tbody tr th:only-of-type {\n",
       "        vertical-align: middle;\n",
       "    }\n",
       "\n",
       "    .dataframe tbody tr th {\n",
       "        vertical-align: top;\n",
       "    }\n",
       "\n",
       "    .dataframe thead th {\n",
       "        text-align: right;\n",
       "    }\n",
       "</style>\n",
       "<table border=\"1\" class=\"dataframe\">\n",
       "  <thead>\n",
       "    <tr style=\"text-align: right;\">\n",
       "      <th></th>\n",
       "      <th>reason_end</th>\n",
       "      <th>proportion</th>\n",
       "    </tr>\n",
       "  </thead>\n",
       "  <tbody>\n",
       "    <tr>\n",
       "      <th>0</th>\n",
       "      <td>trackdone</td>\n",
       "      <td>0.642952</td>\n",
       "    </tr>\n",
       "    <tr>\n",
       "      <th>1</th>\n",
       "      <td>fwdbtn</td>\n",
       "      <td>0.180968</td>\n",
       "    </tr>\n",
       "    <tr>\n",
       "      <th>2</th>\n",
       "      <td>endplay</td>\n",
       "      <td>0.128314</td>\n",
       "    </tr>\n",
       "    <tr>\n",
       "      <th>3</th>\n",
       "      <td>unexpected-exit-while-paused</td>\n",
       "      <td>0.026540</td>\n",
       "    </tr>\n",
       "    <tr>\n",
       "      <th>4</th>\n",
       "      <td>backbtn</td>\n",
       "      <td>0.009750</td>\n",
       "    </tr>\n",
       "    <tr>\n",
       "      <th>5</th>\n",
       "      <td>logout</td>\n",
       "      <td>0.004924</td>\n",
       "    </tr>\n",
       "    <tr>\n",
       "      <th>6</th>\n",
       "      <td>unknown</td>\n",
       "      <td>0.002515</td>\n",
       "    </tr>\n",
       "    <tr>\n",
       "      <th>7</th>\n",
       "      <td>remote</td>\n",
       "      <td>0.001984</td>\n",
       "    </tr>\n",
       "    <tr>\n",
       "      <th>8</th>\n",
       "      <td></td>\n",
       "      <td>0.001426</td>\n",
       "    </tr>\n",
       "    <tr>\n",
       "      <th>9</th>\n",
       "      <td>unexpected-exit</td>\n",
       "      <td>0.000407</td>\n",
       "    </tr>\n",
       "    <tr>\n",
       "      <th>10</th>\n",
       "      <td>trackerror</td>\n",
       "      <td>0.000221</td>\n",
       "    </tr>\n",
       "  </tbody>\n",
       "</table>\n",
       "</div>"
      ],
      "text/plain": [
       "                      reason_end  proportion\n",
       "0                      trackdone    0.642952\n",
       "1                         fwdbtn    0.180968\n",
       "2                        endplay    0.128314\n",
       "3   unexpected-exit-while-paused    0.026540\n",
       "4                        backbtn    0.009750\n",
       "5                         logout    0.004924\n",
       "6                        unknown    0.002515\n",
       "7                         remote    0.001984\n",
       "8                                   0.001426\n",
       "9                unexpected-exit    0.000407\n",
       "10                    trackerror    0.000221"
      ]
     },
     "execution_count": 70,
     "metadata": {},
     "output_type": "execute_result"
    }
   ],
   "source": [
    "reason_end_count = df_orig[\"reason_end\"].value_counts(normalize=True).to_frame().reset_index().rename({\"count\":\"reason_end\"}, axis=1)\n",
    "reason_end_count"
   ]
  },
  {
   "cell_type": "code",
   "execution_count": 71,
   "id": "f6079eed-45c1-47ea-8bb2-365c0d73c526",
   "metadata": {},
   "outputs": [
    {
     "data": {
      "text/plain": [
       "<Axes: xlabel='proportion', ylabel='reason_end'>"
      ]
     },
     "execution_count": 71,
     "metadata": {},
     "output_type": "execute_result"
    },
    {
     "data": {
      "image/png": "[encoded data removed]",
      "text/plain": [
       "<Figure size 640x480 with 1 Axes>"
      ]
     },
     "metadata": {},
     "output_type": "display_data"
    }
   ],
   "source": [
    "sns.barplot(data=reason_end_count, x=\"proportion\", y=\"reason_end\")"
   ]
  },
  {
   "cell_type": "markdown",
   "id": "52ca19ce-e712-4a38-a028-2aea75b73358",
   "metadata": {},
   "source": [
    "---\n",
    "Songs played per year.\n",
    "\n",
    "(only skipped excluded)"
   ]
  },
  {
   "cell_type": "code",
   "execution_count": 72,
   "id": "eb53f9a1-f55c-45ea-9764-b5f94c3295f7",
   "metadata": {},
   "outputs": [
    {
     "data": {
      "image/png": "[encoded data removed]",
      "text/plain": [
       "<Figure size 640x480 with 1 Axes>"
      ]
     },
     "metadata": {},
     "output_type": "display_data"
    }
   ],
   "source": [
    "df_orig.groupby(df_orig[\"ts\"].dt.year)[\"ts\"].count().plot(kind=\"bar\")\n",
    "plt.show()"
   ]
  },
  {
   "cell_type": "markdown",
   "id": "dc4d3e87-a1a6-4833-9d42-6f8116bd4b8d",
   "metadata": {},
   "source": [
    "---\n",
    "Songs per year per quarter."
   ]
  },
  {
   "cell_type": "code",
   "execution_count": 73,
   "id": "9a45a31f-0b34-4189-9d2a-40f091642f8e",
   "metadata": {},
   "outputs": [
    {
     "data": {
      "text/plain": [
       "<Axes: xlabel='ts'>"
      ]
     },
     "execution_count": 73,
     "metadata": {},
     "output_type": "execute_result"
    },
    {
     "data": {
      "image/png": "[encoded data removed]",
      "text/plain": [
       "<Figure size 640x480 with 1 Axes>"
      ]
     },
     "metadata": {},
     "output_type": "display_data"
    }
   ],
   "source": [
    "df_my = df_orig.groupby([df_orig[\"ts\"].dt.year, df_orig[\"ts\"].dt.quarter])[\"ts\"].agg(\"count\").to_frame()\n",
    "df_my.index.sortlevel(0, sort_remaining=True)\n",
    "df_my.unstack().plot(kind=\"bar\", stacked=False)"
   ]
  },
  {
   "cell_type": "markdown",
   "id": "f70883fd-876d-4b22-a876-0725a5c8335c",
   "metadata": {},
   "source": [
    "---\n",
    "Finding the longes heared tracks."
   ]
  },
  {
   "cell_type": "code",
   "execution_count": 74,
   "id": "7d39759c-7851-4e66-8083-00674561808b",
   "metadata": {},
   "outputs": [
    {
     "name": "stderr",
     "output_type": "stream",
     "text": [
      " 65%|█████████████████████████▎             | 1505/2321 [01:38<00:53, 15.23it/s]\n"
     ]
    },
    {
     "ename": "KeyboardInterrupt",
     "evalue": "",
     "output_type": "error",
     "traceback": [
      "\u001b[1;31m---------------------------------------------------------------------------\u001b[0m",
      "\u001b[1;31mKeyboardInterrupt\u001b[0m                         Traceback (most recent call last)",
      "Cell \u001b[1;32mIn[74], line 10\u001b[0m\n\u001b[0;32m      7\u001b[0m df_from_to \u001b[38;5;241m=\u001b[39m pd\u001b[38;5;241m.\u001b[39mDataFrame(columns\u001b[38;5;241m=\u001b[39m[\u001b[38;5;124m\"\u001b[39m\u001b[38;5;124mtrack_name\u001b[39m\u001b[38;5;124m\"\u001b[39m, \u001b[38;5;124m\"\u001b[39m\u001b[38;5;124mplays\u001b[39m\u001b[38;5;124m\"\u001b[39m, \u001b[38;5;124m\"\u001b[39m\u001b[38;5;124mfirst_played\u001b[39m\u001b[38;5;124m\"\u001b[39m, \u001b[38;5;124m\"\u001b[39m\u001b[38;5;124mlast_played\u001b[39m\u001b[38;5;124m\"\u001b[39m, \u001b[38;5;124m\"\u001b[39m\u001b[38;5;124mdays_between\u001b[39m\u001b[38;5;124m\"\u001b[39m, \u001b[38;5;124m\"\u001b[39m\u001b[38;5;124mdays_played\u001b[39m\u001b[38;5;124m\"\u001b[39m])\n\u001b[0;32m      9\u001b[0m \u001b[38;5;28;01mfor\u001b[39;00m song, plays \u001b[38;5;129;01min\u001b[39;00m tqdm(df_playcount\u001b[38;5;241m.\u001b[39miterrows(), total\u001b[38;5;241m=\u001b[39mdf_playcount\u001b[38;5;241m.\u001b[39mshape[\u001b[38;5;241m0\u001b[39m]):\n\u001b[1;32m---> 10\u001b[0m     first_ts \u001b[38;5;241m=\u001b[39m df[\u001b[43mdf\u001b[49m\u001b[43m[\u001b[49m\u001b[38;5;124;43m\"\u001b[39;49m\u001b[38;5;124;43mmaster_metadata_track_name\u001b[39;49m\u001b[38;5;124;43m\"\u001b[39;49m\u001b[43m]\u001b[49m\u001b[43m \u001b[49m\u001b[38;5;241;43m==\u001b[39;49m\u001b[43m \u001b[49m\u001b[43msong\u001b[49m]\u001b[38;5;241m.\u001b[39miloc[\u001b[38;5;241m0\u001b[39m][\u001b[38;5;124m\"\u001b[39m\u001b[38;5;124mts\u001b[39m\u001b[38;5;124m\"\u001b[39m]\n\u001b[0;32m     11\u001b[0m     last_ts \u001b[38;5;241m=\u001b[39m df[df[\u001b[38;5;124m\"\u001b[39m\u001b[38;5;124mmaster_metadata_track_name\u001b[39m\u001b[38;5;124m\"\u001b[39m] \u001b[38;5;241m==\u001b[39m song]\u001b[38;5;241m.\u001b[39miloc[\u001b[38;5;241m-\u001b[39m\u001b[38;5;241m1\u001b[39m][\u001b[38;5;124m\"\u001b[39m\u001b[38;5;124mts\u001b[39m\u001b[38;5;124m\"\u001b[39m]\n\u001b[0;32m     13\u001b[0m     df_ts \u001b[38;5;241m=\u001b[39m df\u001b[38;5;241m.\u001b[39mset_index(\u001b[38;5;124m\"\u001b[39m\u001b[38;5;124mts\u001b[39m\u001b[38;5;124m\"\u001b[39m)\n",
      "File \u001b[1;32m~\\AppData\\Local\\Packages\\PythonSoftwareFoundation.Python.3.10_qbz5n2kfra8p0\\LocalCache\\local-packages\\Python310\\site-packages\\pandas\\core\\ops\\common.py:81\u001b[0m, in \u001b[0;36m_unpack_zerodim_and_defer.<locals>.new_method\u001b[1;34m(self, other)\u001b[0m\n\u001b[0;32m     77\u001b[0m             \u001b[38;5;28;01mreturn\u001b[39;00m \u001b[38;5;28mNotImplemented\u001b[39m\n\u001b[0;32m     79\u001b[0m other \u001b[38;5;241m=\u001b[39m item_from_zerodim(other)\n\u001b[1;32m---> 81\u001b[0m \u001b[38;5;28;01mreturn\u001b[39;00m \u001b[43mmethod\u001b[49m\u001b[43m(\u001b[49m\u001b[38;5;28;43mself\u001b[39;49m\u001b[43m,\u001b[49m\u001b[43m \u001b[49m\u001b[43mother\u001b[49m\u001b[43m)\u001b[49m\n",
      "File \u001b[1;32m~\\AppData\\Local\\Packages\\PythonSoftwareFoundation.Python.3.10_qbz5n2kfra8p0\\LocalCache\\local-packages\\Python310\\site-packages\\pandas\\core\\arraylike.py:40\u001b[0m, in \u001b[0;36mOpsMixin.__eq__\u001b[1;34m(self, other)\u001b[0m\n\u001b[0;32m     38\u001b[0m \u001b[38;5;129m@unpack_zerodim_and_defer\u001b[39m(\u001b[38;5;124m\"\u001b[39m\u001b[38;5;124m__eq__\u001b[39m\u001b[38;5;124m\"\u001b[39m)\n\u001b[0;32m     39\u001b[0m \u001b[38;5;28;01mdef\u001b[39;00m \u001b[38;5;21m__eq__\u001b[39m(\u001b[38;5;28mself\u001b[39m, other):\n\u001b[1;32m---> 40\u001b[0m     \u001b[38;5;28;01mreturn\u001b[39;00m \u001b[38;5;28;43mself\u001b[39;49m\u001b[38;5;241;43m.\u001b[39;49m\u001b[43m_cmp_method\u001b[49m\u001b[43m(\u001b[49m\u001b[43mother\u001b[49m\u001b[43m,\u001b[49m\u001b[43m \u001b[49m\u001b[43moperator\u001b[49m\u001b[38;5;241;43m.\u001b[39;49m\u001b[43meq\u001b[49m\u001b[43m)\u001b[49m\n",
      "File \u001b[1;32m~\\AppData\\Local\\Packages\\PythonSoftwareFoundation.Python.3.10_qbz5n2kfra8p0\\LocalCache\\local-packages\\Python310\\site-packages\\pandas\\core\\series.py:6096\u001b[0m, in \u001b[0;36mSeries._cmp_method\u001b[1;34m(self, other, op)\u001b[0m\n\u001b[0;32m   6093\u001b[0m rvalues \u001b[38;5;241m=\u001b[39m extract_array(other, extract_numpy\u001b[38;5;241m=\u001b[39m\u001b[38;5;28;01mTrue\u001b[39;00m, extract_range\u001b[38;5;241m=\u001b[39m\u001b[38;5;28;01mTrue\u001b[39;00m)\n\u001b[0;32m   6095\u001b[0m \u001b[38;5;28;01mwith\u001b[39;00m np\u001b[38;5;241m.\u001b[39merrstate(\u001b[38;5;28mall\u001b[39m\u001b[38;5;241m=\u001b[39m\u001b[38;5;124m\"\u001b[39m\u001b[38;5;124mignore\u001b[39m\u001b[38;5;124m\"\u001b[39m):\n\u001b[1;32m-> 6096\u001b[0m     res_values \u001b[38;5;241m=\u001b[39m \u001b[43mops\u001b[49m\u001b[38;5;241;43m.\u001b[39;49m\u001b[43mcomparison_op\u001b[49m\u001b[43m(\u001b[49m\u001b[43mlvalues\u001b[49m\u001b[43m,\u001b[49m\u001b[43m \u001b[49m\u001b[43mrvalues\u001b[49m\u001b[43m,\u001b[49m\u001b[43m \u001b[49m\u001b[43mop\u001b[49m\u001b[43m)\u001b[49m\n\u001b[0;32m   6098\u001b[0m \u001b[38;5;28;01mreturn\u001b[39;00m \u001b[38;5;28mself\u001b[39m\u001b[38;5;241m.\u001b[39m_construct_result(res_values, name\u001b[38;5;241m=\u001b[39mres_name)\n",
      "File \u001b[1;32m~\\AppData\\Local\\Packages\\PythonSoftwareFoundation.Python.3.10_qbz5n2kfra8p0\\LocalCache\\local-packages\\Python310\\site-packages\\pandas\\core\\ops\\array_ops.py:293\u001b[0m, in \u001b[0;36mcomparison_op\u001b[1;34m(left, right, op)\u001b[0m\n\u001b[0;32m    290\u001b[0m     \u001b[38;5;28;01mreturn\u001b[39;00m invalid_comparison(lvalues, rvalues, op)\n\u001b[0;32m    292\u001b[0m \u001b[38;5;28;01melif\u001b[39;00m is_object_dtype(lvalues\u001b[38;5;241m.\u001b[39mdtype) \u001b[38;5;129;01mor\u001b[39;00m \u001b[38;5;28misinstance\u001b[39m(rvalues, \u001b[38;5;28mstr\u001b[39m):\n\u001b[1;32m--> 293\u001b[0m     res_values \u001b[38;5;241m=\u001b[39m \u001b[43mcomp_method_OBJECT_ARRAY\u001b[49m\u001b[43m(\u001b[49m\u001b[43mop\u001b[49m\u001b[43m,\u001b[49m\u001b[43m \u001b[49m\u001b[43mlvalues\u001b[49m\u001b[43m,\u001b[49m\u001b[43m \u001b[49m\u001b[43mrvalues\u001b[49m\u001b[43m)\u001b[49m\n\u001b[0;32m    295\u001b[0m \u001b[38;5;28;01melse\u001b[39;00m:\n\u001b[0;32m    296\u001b[0m     res_values \u001b[38;5;241m=\u001b[39m _na_arithmetic_op(lvalues, rvalues, op, is_cmp\u001b[38;5;241m=\u001b[39m\u001b[38;5;28;01mTrue\u001b[39;00m)\n",
      "File \u001b[1;32m~\\AppData\\Local\\Packages\\PythonSoftwareFoundation.Python.3.10_qbz5n2kfra8p0\\LocalCache\\local-packages\\Python310\\site-packages\\pandas\\core\\ops\\array_ops.py:83\u001b[0m, in \u001b[0;36mcomp_method_OBJECT_ARRAY\u001b[1;34m(op, x, y)\u001b[0m\n\u001b[0;32m     81\u001b[0m \u001b[38;5;28;01melse\u001b[39;00m:\n\u001b[0;32m     82\u001b[0m     result \u001b[38;5;241m=\u001b[39m libops\u001b[38;5;241m.\u001b[39mscalar_compare(x\u001b[38;5;241m.\u001b[39mravel(), y, op)\n\u001b[1;32m---> 83\u001b[0m \u001b[38;5;28;01mreturn\u001b[39;00m \u001b[43mresult\u001b[49m\u001b[38;5;241;43m.\u001b[39;49m\u001b[43mreshape\u001b[49m\u001b[43m(\u001b[49m\u001b[43mx\u001b[49m\u001b[38;5;241;43m.\u001b[39;49m\u001b[43mshape\u001b[49m\u001b[43m)\u001b[49m\n",
      "\u001b[1;31mKeyboardInterrupt\u001b[0m: "
     ]
    }
   ],
   "source": [
    "##### config ######\n",
    "calculate = True\n",
    "###################\n",
    "\n",
    "if calculate:\n",
    "    df_playcount = df[\"master_metadata_track_name\"].value_counts().to_frame()\n",
    "    df_from_to = pd.DataFrame(columns=[\"track_name\", \"plays\", \"first_played\", \"last_played\", \"days_between\", \"days_played\"])\n",
    "\n",
    "    for song, plays in tqdm(df_playcount.iterrows(), total=df_playcount.shape[0]):\n",
    "        first_ts = df[df[\"master_metadata_track_name\"] == song].iloc[0][\"ts\"]\n",
    "        last_ts = df[df[\"master_metadata_track_name\"] == song].iloc[-1][\"ts\"]\n",
    "\n",
    "        df_ts = df.set_index(\"ts\")\n",
    "        df_ts_filtered = df_ts[df_ts[\"master_metadata_track_name\"] == song]\n",
    "        days_played = len(df_ts_filtered.groupby(df_ts_filtered.index.date).count())\n",
    "\n",
    "        row = {\n",
    "            \"track_name\": song,\n",
    "            \"plays\": plays.values[0],\n",
    "            \"first_played\": first_ts,\n",
    "            \"last_played\": last_ts,\n",
    "            \"days_between\": (last_ts - first_ts).days,\n",
    "            \"days_played\": days_played,\n",
    "        }\n",
    "        new_df = pd.DataFrame([row])\n",
    "        df_from_to = pd.concat([df_from_to, new_df], ignore_index=True)\n",
    "\n",
    "    df_from_to.to_csv(\"df_from_to_niklas.csv\")\n",
    "else:\n",
    "    df_from_to = pd.read_csv(\"df_from_to_niklas.csv\")\n",
    "\n",
    "df_from_to"
   ]
  },
  {
   "cell_type": "markdown",
   "id": "c14d79c2-ee75-4368-b0a2-eb684535c1d0",
   "metadata": {},
   "source": [
    "---\n",
    "Top five songs per year with individual plays."
   ]
  },
  {
   "cell_type": "code",
   "execution_count": null,
   "id": "459a8b8f-bd85-4b89-9685-6920034d966b",
   "metadata": {},
   "outputs": [],
   "source": [
    "df.groupby(df[\"ts\"].dt.year)[\"master_metadata_track_name\"].value_counts().groupby(level=0, group_keys=False).head(5)"
   ]
  },
  {
   "cell_type": "markdown",
   "id": "6217d827-c7cf-4c41-91db-af3f19954ead",
   "metadata": {},
   "source": [
    "---\n",
    "Histogram individual plays, per year."
   ]
  },
  {
   "cell_type": "code",
   "execution_count": null,
   "id": "ebafc7d6-c010-4091-9a4e-264641aa71be",
   "metadata": {},
   "outputs": [],
   "source": [
    "plays_by_year = df.groupby(df[\"ts\"].dt.year)[\"master_metadata_track_name\"].value_counts().to_frame()\n",
    "plays_by_year.index.rename([\"year\", \"track_name\"], inplace=True)\n",
    "plays_by_year = plays_by_year.reset_index()\n",
    "plays_by_year.rename({\"count\":\"individual_plays\"},axis=1, inplace=True)\n",
    "plays_by_year.head(3)"
   ]
  },
  {
   "cell_type": "code",
   "execution_count": null,
   "id": "6ce280fa-a4da-4081-8989-c189f9ce66f7",
   "metadata": {},
   "outputs": [],
   "source": [
    "# pby = plays_by_year[plays_by_year[\"individual_plays\"] < 50]\n",
    "sea = sns.FacetGrid(plays_by_year[[\"year\", \"individual_plays\"]], col=\"year\", col_wrap=3)\n",
    "\n",
    "plot = sea.map_dataframe(sns.histplot, \"individual_plays\", stat=\"percent\", discrete=True)\n",
    "year_counts = plays_by_year[\"individual_plays\"].groupby(plays_by_year[\"year\"]).count().reset_index(name=\"plays\").set_index(\"year\")\n",
    "### Jupyter Setup ###\n",
    "out1 = ipywidgets.widgets.Output()\n",
    "with out1:\n",
    "    display(year_counts)\n",
    "out2 = ipywidgets.widgets.Output()\n",
    "with out2:\n",
    "    display(plot)\n",
    "    plt.show()\n",
    "two_columns = ipywidgets.widgets.HBox([out1, out2])\n",
    "display(two_columns)"
   ]
  },
  {
   "cell_type": "markdown",
   "id": "574bde85-c93a-4ce4-85ce-1e55342a8bbc",
   "metadata": {},
   "source": [
    "---\n",
    "Portion of the top **5 (10, 20)** songs of the month in total plays.\n",
    "> **TODO:** Amount of unique tracks that month"
   ]
  },
  {
   "cell_type": "code",
   "execution_count": null,
   "id": "2e56343e-6172-477e-8e51-956b43ac3c13",
   "metadata": {},
   "outputs": [],
   "source": [
    "##### config #####\n",
    "calculate = True\n",
    "##################\n",
    "\n",
    "if calculate:\n",
    "    top_n = [5, 10, 20]\n",
    "    dfs = []\n",
    "    dates = df_orig[\"ts\"].dt.strftime(\"%y - %m\").drop_duplicates().tolist()\n",
    "    for n in top_n:\n",
    "        df_top_month = pd.DataFrame(columns=[\"plays\"], index=dates)\n",
    "        for date in tqdm(df_top_month.index):\n",
    "            entries = df_orig[df_orig[\"ts\"].dt.strftime(\"%y - %m\") == date]\n",
    "            total_plays = len(entries)\n",
    "            s_top_n = entries[\"master_metadata_track_name\"].value_counts().head(n)\n",
    "            top_n_plays = s_top_n.sum()\n",
    "            top_n_tracks = s_top_n.index.tolist()\n",
    "            top_n_portion = round(top_n_plays / total_plays * 100, 2)\n",
    "            df_top_month.at[date] = top_n_portion\n",
    "        dfs.append(df_top_month)\n",
    "\n",
    "    df_top_all_n = pd.concat(dfs, axis=1)\n",
    "    df_top_all_n.index = pd.to_datetime(df_top_all_n.index, format=\"%y - %m\")\n",
    "    df_top_all_n.columns = [\"plays5\",\"plays10\", \"plays20\"]\n",
    "    df_top_all_n.to_csv(\"df_top_all_n_niklas.csv\")\n",
    "else:\n",
    "    df_top_all_n = pd.read_csv(\"df_top_all_n_niklas.csv\")"
   ]
  },
  {
   "cell_type": "code",
   "execution_count": null,
   "id": "02956670-4f3c-404f-ae87-325bc2709a25",
   "metadata": {},
   "outputs": [],
   "source": [
    "fig, ax = plt.subplots()\n",
    "sns.lineplot(data=df_top_all_n[[\"plays5\", \"plays10\", \"plays20\"]])"
   ]
  },
  {
   "cell_type": "markdown",
   "id": "848eb425-a4fb-4dab-bd33-530c6bd4128c",
   "metadata": {},
   "source": [
    "---\n",
    "Graphing the five most played song with their respective **plays per month**."
   ]
  },
  {
   "cell_type": "code",
   "execution_count": null,
   "id": "cbc76ec2-ecc6-45a8-bbce-0597eaf1009c",
   "metadata": {},
   "outputs": [],
   "source": [
    "top10 = df[\"master_metadata_track_name\"].value_counts().iloc[:5].index.values\n",
    "data = df[df[\"master_metadata_track_name\"].isin(top10)]\n",
    "data = data.groupby([data[\"ts\"].dt.year, data[\"ts\"].dt.month], group_keys=False) \\\n",
    "    [\"master_metadata_track_name\"].value_counts().to_frame().rename_axis([\"year\", \"month\", \"track_name\"]).reset_index(2) \\\n",
    "    .rename({\"count\":\"plays\"}, axis=1).reset_index()\n",
    "data[\"date\"] = pd.to_datetime(data[[\"year\", \"month\"]].assign(DAY=1))\n",
    "data = data.drop([\"year\", \"month\"], axis=1)\n",
    "\n",
    "\n",
    "ax = sns.lineplot(data=data, x=\"date\", y=\"plays\", hue=\"track_name\")\n",
    "sns.move_legend(ax, \"center left\", bbox_to_anchor=(1.1,0.5))\n",
    "plt.savefig(\"./top_tracks_when.png\", transparent=True)"
   ]
  },
  {
   "cell_type": "markdown",
   "id": "026c640d-0958-4590-885f-845d8f70bfb4",
   "metadata": {},
   "source": [
    "---\n",
    "Hearing by Weekday."
   ]
  },
  {
   "cell_type": "code",
   "execution_count": null,
   "id": "ff5b9778-14ba-4ec6-8481-4eefbada9a9d",
   "metadata": {},
   "outputs": [],
   "source": [
    "df_weekday_plays = df_orig.groupby(df_orig[\"ts\"].dt.weekday)[\"ts\"].count().to_frame()\n",
    "df_weekday_plays.index.rename(\"weekday\", inplace=True)\n",
    "df_weekday_plays.reset_index(inplace=True)\n",
    "df_weekday_plays.rename({\"ts\":\"count\"}, inplace=True, axis=1)\n",
    "\n",
    "sns.barplot(data=df_weekday_plays, x=\"weekday\", y=\"count\", color=\"lightblue\")"
   ]
  },
  {
   "cell_type": "code",
   "execution_count": null,
   "id": "3b110a3c-11c3-466a-ab00-315951e9398b",
   "metadata": {},
   "outputs": [],
   "source": [
    "df_weekday_plays = df_orig.groupby(df_orig[\"ts\"].dt.hour)[\"ts\"].count().to_frame()\n",
    "df_weekday_plays.index.rename(\"hour\", inplace=True)\n",
    "df_weekday_plays.reset_index(inplace=True)\n",
    "df_weekday_plays.rename({\"ts\":\"count\"}, inplace=True, axis=1)\n",
    "\n",
    "sns.barplot(data=df_weekday_plays, x=\"hour\", y=\"count\", color=\"lightblue\")"
   ]
  },
  {
   "cell_type": "code",
   "execution_count": null,
   "id": "1ed87178-df88-4dd6-b3e8-0bce590a32ca",
   "metadata": {},
   "outputs": [],
   "source": [
    "df_weekday_plays = df_orig.groupby([df_orig[\"ts\"].dt.weekday, df_orig[\"ts\"].dt.hour])[\"ts\"].count().to_frame()\n",
    "df_weekday_plays.columns = [\"count\"]\n",
    "df_weekday_plays.index.rename([\"weekday\", \"hour\"], inplace=True)\n",
    "df_weekday_plays = df_weekday_plays.reset_index()\n",
    "\n",
    "sea = sns.FacetGrid(df_weekday_plays, col=\"weekday\")\n",
    "sea.map(sns.barplot, \"hour\", \"count\", color=\"lightblue\")"
   ]
  },
  {
   "cell_type": "markdown",
   "id": "8579d46e-7807-4881-96a2-7eb7fae8dc49",
   "metadata": {},
   "source": [
    "---\n",
    "# Interpretes"
   ]
  },
  {
   "cell_type": "code",
   "execution_count": null,
   "id": "e0d67cc4-4ddf-41e9-8573-3b0df8000e9e",
   "metadata": {},
   "outputs": [],
   "source": [
    "df_artist = df_orig[[\"ts\", \"master_metadata_track_name\", \"master_metadata_album_artist_name\"]].rename(\\\n",
    "    columns={\"master_metadata_track_name\":\"track_name\",\"master_metadata_album_artist_name\":\"artist_name\"})\n",
    "df_artist.head()"
   ]
  },
  {
   "cell_type": "code",
   "execution_count": null,
   "id": "469ab337-5543-4dcd-9685-5b9bb2f9fa87",
   "metadata": {},
   "outputs": [],
   "source": [
    "n = 10\n",
    "top_n = df_artist.groupby(df_artist[\"ts\"].dt.year)[\"artist_name\"].value_counts().groupby(level=0, group_keys=False).head(n).to_frame().reset_index()\n",
    "top_n[\"songs\"] = np.zeros(len(top_n)).astype(int)\n",
    "top_n[\"var\"] = np.zeros(len(top_n))\n",
    "top_n[\"std\"] = np.zeros(len(top_n))\n",
    "for i, row in top_n.iterrows():\n",
    "    data = df_artist.loc[(df_artist[\"artist_name\"] == row[\"artist_name\"]) & (df_artist[\"ts\"].dt.year == row[\"ts\"])]\n",
    "    individual_tracks = data[\"track_name\"].value_counts()\n",
    "    top_n.at[i, \"songs\"] = len(individual_tracks)\n",
    "    top_n.at[i, \"var\"] = individual_tracks.var()\n",
    "    top_n.at[i, \"std\"] = individual_tracks.std()\n",
    "top_n = top_n.round(2)\n",
    "top_n.head(3)"
   ]
  },
  {
   "cell_type": "code",
   "execution_count": null,
   "id": "8f43ab60-aa06-45a0-a696-a87df845ad90",
   "metadata": {},
   "outputs": [],
   "source": [
    "top_n.sort_values(\"count\", ascending=True)[:20]"
   ]
  },
  {
   "cell_type": "markdown",
   "id": "e6053aad-1d09-4df6-a076-64910440298f",
   "metadata": {},
   "source": [
    "---\n",
    "## Artist stats"
   ]
  },
  {
   "cell_type": "code",
   "execution_count": null,
   "id": "84484c76-75e9-4d4d-8d1e-d266d4428cb2",
   "metadata": {},
   "outputs": [],
   "source": [
    "### config ###\n",
    "calculate = True\n",
    "##############\n",
    "\n",
    "if calculate:\n",
    "    df_art = df_artist[\"artist_name\"].value_counts().to_frame().reset_index().rename(columns={\"count\":\"plays\"})\n",
    "    df_art[\"songs\"] = np.zeros(len(df_art)).astype(int)\n",
    "    df_art[\"var\"] = np.zeros(len(df_art))\n",
    "    df_art[\"std\"] = np.zeros(len(df_art))\n",
    "    for i, row in df_art.iterrows():\n",
    "        data = df_artist.loc[df_artist[\"artist_name\"] == row[\"artist_name\"]]\n",
    "        individual_tracks = data[\"track_name\"].value_counts()\n",
    "        df_art.at[i, \"songs\"] = len(individual_tracks)\n",
    "        df_art.at[i, \"var\"] = individual_tracks.var()\n",
    "        df_art.at[i, \"std\"] = individual_tracks.std()\n",
    "    df_art.to_csv(\"df_art_niklas.csv\")\n",
    "else:\n",
    "    df_art = pd.read_csv(\"df_art.csv\")\n",
    "df_art.head(3)"
   ]
  },
  {
   "cell_type": "markdown",
   "id": "eb43a59d-cfbd-4109-9539-b7bf100207b5",
   "metadata": {},
   "source": [
    "---\n",
    "# Listening time"
   ]
  },
  {
   "cell_type": "code",
   "execution_count": 92,
   "id": "abb0b898-c0e6-47ed-b0b3-50dc2a0b0233",
   "metadata": {},
   "outputs": [
    {
     "data": {
      "text/html": [
       "<div>\n",
       "<style scoped>\n",
       "    .dataframe tbody tr th:only-of-type {\n",
       "        vertical-align: middle;\n",
       "    }\n",
       "\n",
       "    .dataframe tbody tr th {\n",
       "        vertical-align: top;\n",
       "    }\n",
       "\n",
       "    .dataframe thead th {\n",
       "        text-align: right;\n",
       "    }\n",
       "</style>\n",
       "<table border=\"1\" class=\"dataframe\">\n",
       "  <thead>\n",
       "    <tr style=\"text-align: right;\">\n",
       "      <th></th>\n",
       "      <th>ts</th>\n",
       "      <th>ms_played</th>\n",
       "      <th>track_name</th>\n",
       "      <th>artist_name</th>\n",
       "    </tr>\n",
       "  </thead>\n",
       "  <tbody>\n",
       "    <tr>\n",
       "      <th>0</th>\n",
       "      <td>2015-10-04 17:25:52+00:00</td>\n",
       "      <td>121393</td>\n",
       "      <td>Play Hard (feat. Ne-Yo &amp; Akon)</td>\n",
       "      <td>David Guetta</td>\n",
       "    </tr>\n",
       "    <tr>\n",
       "      <th>1</th>\n",
       "      <td>2015-10-04 17:26:12+00:00</td>\n",
       "      <td>17666</td>\n",
       "      <td>A Brief Tutorial On Vip Production - Vip</td>\n",
       "      <td>Dubba Jonny</td>\n",
       "    </tr>\n",
       "    <tr>\n",
       "      <th>2</th>\n",
       "      <td>2015-10-04 17:26:24+00:00</td>\n",
       "      <td>16346</td>\n",
       "      <td>No Holds Barred - Excision Remix</td>\n",
       "      <td>Foreign Beggars</td>\n",
       "    </tr>\n",
       "    <tr>\n",
       "      <th>3</th>\n",
       "      <td>2015-10-04 17:26:26+00:00</td>\n",
       "      <td>3065</td>\n",
       "      <td>Clowns - Milo &amp; Otis Trap VIP</td>\n",
       "      <td>KillaGraham</td>\n",
       "    </tr>\n",
       "    <tr>\n",
       "      <th>4</th>\n",
       "      <td>2015-10-04 17:27:00+00:00</td>\n",
       "      <td>36713</td>\n",
       "      <td>Defend Earth - Original Mix</td>\n",
       "      <td>Sub Antix</td>\n",
       "    </tr>\n",
       "  </tbody>\n",
       "</table>\n",
       "</div>"
      ],
      "text/plain": [
       "                         ts  ms_played  \\\n",
       "0 2015-10-04 17:25:52+00:00     121393   \n",
       "1 2015-10-04 17:26:12+00:00      17666   \n",
       "2 2015-10-04 17:26:24+00:00      16346   \n",
       "3 2015-10-04 17:26:26+00:00       3065   \n",
       "4 2015-10-04 17:27:00+00:00      36713   \n",
       "\n",
       "                                 track_name      artist_name  \n",
       "0            Play Hard (feat. Ne-Yo & Akon)     David Guetta  \n",
       "1  A Brief Tutorial On Vip Production - Vip      Dubba Jonny  \n",
       "2          No Holds Barred - Excision Remix  Foreign Beggars  \n",
       "3             Clowns - Milo & Otis Trap VIP      KillaGraham  \n",
       "4               Defend Earth - Original Mix        Sub Antix  "
      ]
     },
     "execution_count": 92,
     "metadata": {},
     "output_type": "execute_result"
    }
   ],
   "source": [
    "df_ms = df_orig[[\"ts\", \"ms_played\", \"master_metadata_track_name\", \"master_metadata_album_artist_name\"]]\n",
    "df_ms = df_ms.rename(columns={\"master_metadata_track_name\":\"track_name\", \"master_metadata_album_artist_name\":\"artist_name\"})\n",
    "df_ms.head()"
   ]
  },
  {
   "cell_type": "markdown",
   "id": "c8b3cd78-04a5-4426-819e-17d94a343ba6",
   "metadata": {},
   "source": [
    "### Basic stats"
   ]
  },
  {
   "cell_type": "code",
   "execution_count": 93,
   "id": "49d0ed41-a85b-4ce2-82be-7517310ade43",
   "metadata": {},
   "outputs": [
    {
     "name": "stdout",
     "output_type": "stream",
     "text": [
      "Time played: 4067.3 hours or 169.47 days \n",
      "\n",
      " Per year: Axes(0.125,0.11;0.775x0.77)\n"
     ]
    },
    {
     "data": {
      "image/png": "[encoded data removed]",
      "text/plain": [
       "<Figure size 640x480 with 1 Axes>"
      ]
     },
     "metadata": {},
     "output_type": "display_data"
    }
   ],
   "source": [
    "time_sum = df_ms[\"ms_played\"].sum()\n",
    "dates = df_ms[\"ts\"].dt.strftime(\"%y - %m\").drop_duplicates().tolist()\n",
    "time_year = df_ms.groupby(df_ms[\"ts\"].dt.year)[\"ms_played\"].sum().apply(lambda x: x/1000/60/60).plot()\n",
    "print(f\"Time played: {np.round(time_sum/1000/60/60, 2)} hours or {np.round(time_sum/1000/60/60/24, 2)} days \\n\\n Per year: {time_year}\")"
   ]
  },
  {
   "cell_type": "code",
   "execution_count": 79,
   "id": "5082a69e-674b-4d14-8e9f-79686555fdcd",
   "metadata": {},
   "outputs": [
    {
     "name": "stdout",
     "output_type": "stream",
     "text": [
      "Time played: 151.65 hours or 6.32 days \n",
      "\n",
      " Per year: Axes(0.125,0.11;0.775x0.77)\n"
     ]
    },
    {
     "data": {
      "image/png": "[encoded data removed]",
      "text/plain": [
       "<Figure size 640x480 with 1 Axes>"
      ]
     },
     "metadata": {},
     "output_type": "display_data"
    }
   ],
   "source": [
    "wed_data = df_ms[df_ms.ts.dt.day == 2]\n",
    "time_sum = wed_data[\"ms_played\"].sum()\n",
    "dates = wed_data[\"ts\"].dt.strftime(\"%y - %m\").drop_duplicates().tolist()\n",
    "time_year = wed_data.groupby([wed_data[\"ts\"].dt.year, wed_data[\"ts\"].dt.month, wed_data[\"ts\"].dt.day])[\"ms_played\"].sum().apply(lambda x: x/1000/60/60).plot()\n",
    "print(f\"Time played: {np.round(time_sum/1000/60/60, 2)} hours or {np.round(time_sum/1000/60/60/24, 2)} days \\n\\n Per year: {time_year}\")"
   ]
  },
  {
   "cell_type": "code",
   "execution_count": 78,
   "id": "6c6e0a87-2921-4e54-853b-14662702e871",
   "metadata": {},
   "outputs": [
    {
     "data": {
      "text/plain": [
       "<Axes: xlabel='ts,ts'>"
      ]
     },
     "execution_count": 78,
     "metadata": {},
     "output_type": "execute_result"
    },
    {
     "data": {
      "image/png": "[encoded data removed]",
      "text/plain": [
       "<Figure size 640x480 with 1 Axes>"
      ]
     },
     "metadata": {},
     "output_type": "display_data"
    }
   ],
   "source": [
    "time_yearmonth = df_ms.groupby([df_ms[\"ts\"].dt.year, df_ms[\"ts\"].dt.month])[\"ms_played\"].sum().apply(lambda x: x/1000/60/60/24)\n",
    "time_yearmonth.plot()"
   ]
  },
  {
   "cell_type": "markdown",
   "id": "3e5ab7b5-9b3a-4949-af22-746b0f963517",
   "metadata": {},
   "source": [
    "---\n",
    "## Playtime per song"
   ]
  },
  {
   "cell_type": "code",
   "execution_count": null,
   "id": "008913bc-8301-4d83-854a-3b75dc9b4c71",
   "metadata": {},
   "outputs": [],
   "source": [
    "song_playtime = df_ms.groupby(\"track_name\")[\"ms_played\"].mean()\n",
    "song_playtime"
   ]
  },
  {
   "cell_type": "markdown",
   "id": "426b0df2-e4a2-434e-94b6-57b641565b20",
   "metadata": {},
   "source": [
    "---\n",
    "#Ideas\n",
    "- 💡 for every year, number of songs played for that amount\n",
    "- top song percentage\n",
    "- genre breaks\n",
    "- play peaks / lows\n",
    "- top genres\n",
    "- genre percentage\n",
    "- interpret percentage\n",
    "- popularity stats\n",
    "- top interpretes\n",
    "- mean playtime @(month/day/hour)\n",
    "- skipped\n",
    "    - time\n",
    "    - percentage\n",
    "    - heared again?\n",
    "    - skipped early/late -> heared again?\n",
    "    - main genre? -> skipped?\n",
    "- session recognition?\n",
    "- song cluster"
   ]
  },
  {
   "cell_type": "code",
   "execution_count": null,
   "id": "1846cd96-32d0-4574-aae2-d95885ac5dc4",
   "metadata": {
    "collapsed": true,
    "jupyter": {
     "outputs_hidden": true
    }
   },
   "outputs": [],
   "source": []
  },
  {
   "cell_type": "code",
   "execution_count": null,
   "id": "98132ae4-9f3f-4ee1-97b3-0ad8d1265d6a",
   "metadata": {
    "collapsed": true,
    "jupyter": {
     "outputs_hidden": true
    }
   },
   "outputs": [],
   "source": []
  }
 ],
 "metadata": {
  "kernelspec": {
   "display_name": "Python 3 (ipykernel)",
   "language": "python",
   "name": "python3"
  },
  "language_info": {
   "codemirror_mode": {
    "name": "ipython",
    "version": 3
   },
   "file_extension": ".py",
   "mimetype": "text/x-python",
   "name": "python",
   "nbconvert_exporter": "python",
   "pygments_lexer": "ipython3",
   "version": "3.10.11"
  },
  "toc-autonumbering": true,
  "toc-showmarkdowntxt": false
 },
 "nbformat": 4,
 "nbformat_minor": 5
}
