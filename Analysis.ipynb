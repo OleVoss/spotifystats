{
 "cells": [
  {
   "cell_type": "markdown",
   "id": "4ae8edb8-c6b5-4917-bb60-36bea10c2fc2",
   "metadata": {},
   "source": [
    "# Spotify Extended History\n",
    "\n",
    "The following notebook is an experimental exploration of Spotify's **Extended History**.\n",
    "The data is requested from Spotify and contains every individual play (by my account) from **October 2015** until **March 2023**."
   ]
  },
  {
   "cell_type": "code",
   "execution_count": 1,
   "id": "04252c9b-6f86-4247-aeea-093c5ce64ece",
   "metadata": {},
   "outputs": [],
   "source": [
    "import pandas as pd\n",
    "import seaborn as sns\n",
    "import glob\n",
    "import os\n",
    "import matplotlib.pyplot as plt\n",
    "import numpy as np\n",
    "import tqdm\n",
    "import ipywidgets\n",
    "from IPython.display import Markdown, display\n",
    "from dotenv import load_dotenv"
   ]
  },
  {
   "cell_type": "code",
   "execution_count": 3,
   "id": "c95484a3-b42b-4ab2-b187-a5a10489b43f",
   "metadata": {},
   "outputs": [
    {
     "data": {
      "text/html": [
       "<div>\n",
       "<style scoped>\n",
       "    .dataframe tbody tr th:only-of-type {\n",
       "        vertical-align: middle;\n",
       "    }\n",
       "\n",
       "    .dataframe tbody tr th {\n",
       "        vertical-align: top;\n",
       "    }\n",
       "\n",
       "    .dataframe thead th {\n",
       "        text-align: right;\n",
       "    }\n",
       "</style>\n",
       "<table border=\"1\" class=\"dataframe\">\n",
       "  <thead>\n",
       "    <tr style=\"text-align: right;\">\n",
       "      <th></th>\n",
       "      <th>ts</th>\n",
       "      <th>username</th>\n",
       "      <th>platform</th>\n",
       "      <th>ms_played</th>\n",
       "      <th>conn_country</th>\n",
       "      <th>ip_addr_decrypted</th>\n",
       "      <th>user_agent_decrypted</th>\n",
       "      <th>master_metadata_track_name</th>\n",
       "      <th>master_metadata_album_artist_name</th>\n",
       "      <th>master_metadata_album_album_name</th>\n",
       "      <th>...</th>\n",
       "      <th>episode_name</th>\n",
       "      <th>episode_show_name</th>\n",
       "      <th>spotify_episode_uri</th>\n",
       "      <th>reason_start</th>\n",
       "      <th>reason_end</th>\n",
       "      <th>shuffle</th>\n",
       "      <th>skipped</th>\n",
       "      <th>offline</th>\n",
       "      <th>offline_timestamp</th>\n",
       "      <th>incognito_mode</th>\n",
       "    </tr>\n",
       "  </thead>\n",
       "  <tbody>\n",
       "    <tr>\n",
       "      <th>0</th>\n",
       "      <td>2015-10-04T17:25:52Z</td>\n",
       "      <td>thatollom</td>\n",
       "      <td>Android OS 4.4.2 API 19 (THL, thl 5000)</td>\n",
       "      <td>121393</td>\n",
       "      <td>DE</td>\n",
       "      <td>95.91.224.1</td>\n",
       "      <td>unknown</td>\n",
       "      <td>Play Hard (feat. Ne-Yo &amp; Akon)</td>\n",
       "      <td>David Guetta</td>\n",
       "      <td>Nothing but the Beat</td>\n",
       "      <td>...</td>\n",
       "      <td>NaN</td>\n",
       "      <td>NaN</td>\n",
       "      <td>NaN</td>\n",
       "      <td>clickrow</td>\n",
       "      <td>endplay</td>\n",
       "      <td>False</td>\n",
       "      <td>1.0</td>\n",
       "      <td>False</td>\n",
       "      <td>0</td>\n",
       "      <td>False</td>\n",
       "    </tr>\n",
       "    <tr>\n",
       "      <th>6038</th>\n",
       "      <td>2023-05-14T22:12:55Z</td>\n",
       "      <td>thatollom</td>\n",
       "      <td>ios</td>\n",
       "      <td>154381</td>\n",
       "      <td>DE</td>\n",
       "      <td>37.4.229.9</td>\n",
       "      <td>unknown</td>\n",
       "      <td>Dawn of the Dragonstar</td>\n",
       "      <td>Twilight Force</td>\n",
       "      <td>Dawn of the Dragonstar</td>\n",
       "      <td>...</td>\n",
       "      <td>None</td>\n",
       "      <td>None</td>\n",
       "      <td>None</td>\n",
       "      <td>trackdone</td>\n",
       "      <td>endplay</td>\n",
       "      <td>False</td>\n",
       "      <td>1.0</td>\n",
       "      <td>False</td>\n",
       "      <td>1684074699</td>\n",
       "      <td>False</td>\n",
       "    </tr>\n",
       "  </tbody>\n",
       "</table>\n",
       "<p>2 rows × 21 columns</p>\n",
       "</div>"
      ],
      "text/plain": [
       "                        ts   username  \\\n",
       "0     2015-10-04T17:25:52Z  thatollom   \n",
       "6038  2023-05-14T22:12:55Z  thatollom   \n",
       "\n",
       "                                     platform  ms_played conn_country  \\\n",
       "0     Android OS 4.4.2 API 19 (THL, thl 5000)     121393           DE   \n",
       "6038                                      ios     154381           DE   \n",
       "\n",
       "     ip_addr_decrypted user_agent_decrypted      master_metadata_track_name  \\\n",
       "0          95.91.224.1              unknown  Play Hard (feat. Ne-Yo & Akon)   \n",
       "6038        37.4.229.9              unknown          Dawn of the Dragonstar   \n",
       "\n",
       "     master_metadata_album_artist_name master_metadata_album_album_name  ...  \\\n",
       "0                         David Guetta             Nothing but the Beat  ...   \n",
       "6038                    Twilight Force           Dawn of the Dragonstar  ...   \n",
       "\n",
       "     episode_name episode_show_name spotify_episode_uri reason_start  \\\n",
       "0             NaN               NaN                 NaN     clickrow   \n",
       "6038         None              None                None    trackdone   \n",
       "\n",
       "     reason_end shuffle  skipped  offline  offline_timestamp  incognito_mode  \n",
       "0       endplay   False      1.0    False                  0           False  \n",
       "6038    endplay   False      1.0    False         1684074699           False  \n",
       "\n",
       "[2 rows x 21 columns]"
      ]
     },
     "execution_count": 3,
     "metadata": {},
     "output_type": "execute_result"
    }
   ],
   "source": [
    "df = pd.concat(map(pd.read_json, [\"data/endsong_0.json\", \"data/endsong_1.json\", \"data/endsong_2.json\", \"data/endsong_3.json\", \"data/endsong_4.json\", \"data/endsong_5.json\"]))\n",
    "df.iloc[[0,-1]]"
   ]
  },
  {
   "cell_type": "markdown",
   "id": "9e7c647b-e805-47ab-995b-c12caf76b619",
   "metadata": {},
   "source": [
    "Remove known artists, that cannot be used in a music listening analysis. "
   ]
  },
  {
   "cell_type": "code",
   "execution_count": 4,
   "id": "f9bd022f-47f5-4366-95a0-2e92fd5c2093",
   "metadata": {},
   "outputs": [],
   "source": [
    "df.drop(columns=[\"username\", \"ip_addr_decrypted\", \"user_agent_decrypted\", \"offline_timestamp\", \"incognito_mode\"], inplace=True)\n",
    "df = df.drop(df[df[\"master_metadata_album_artist_name\"] == \"Die drei !!!\"].index)\n",
    "df = df.drop(df[df[\"master_metadata_album_artist_name\"] == \"Rick Riordan\"].index)"
   ]
  },
  {
   "cell_type": "code",
   "execution_count": 5,
   "id": "a6a5b37e-5347-491e-80f8-0f564ce01260",
   "metadata": {},
   "outputs": [],
   "source": [
    "df[\"ts\"] = pd.to_datetime(df[\"ts\"])\n",
    "original_length = len(df)"
   ]
  },
  {
   "cell_type": "code",
   "execution_count": 6,
   "id": "b7752fd2-d92b-4a79-a4ce-c9312b9e3bd0",
   "metadata": {},
   "outputs": [
    {
     "name": "stdout",
     "output_type": "stream",
     "text": [
      "17618 unique tracks have been played\n"
     ]
    }
   ],
   "source": [
    "unique_tracks = df[\"master_metadata_track_name\"].unique()\n",
    "print(len(unique_tracks), \"unique tracks have been played\")"
   ]
  },
  {
   "cell_type": "code",
   "execution_count": 7,
   "id": "da330643-b01b-4085-8743-8a4d9bf5f41e",
   "metadata": {},
   "outputs": [],
   "source": [
    "df.groupby(df[\"master_metadata_track_name\"])[\"spotify_track_uri\"].first().to_frame().to_csv(\"tracks_with_uri.csv\")"
   ]
  },
  {
   "cell_type": "markdown",
   "id": "ce066b75-61df-4eac-93b1-2bb3b76351e1",
   "metadata": {},
   "source": [
    "---\n",
    "**Data:**\n",
    "- `df` All columns; Only songs that have been played at least 10 times.\n",
    "- `df_orig` All columns.\n",
    "- `unique_tracks` Every track played.\n",
    "\n",
    "**Edit:**\n",
    "Upon further inspection, the 2015 data appear to be characterisec by irregular usage and a general lack of significance and thus will be excluded from the dataset."
   ]
  },
  {
   "cell_type": "code",
   "execution_count": 8,
   "id": "7f1792bb-1877-407d-89cf-a9ff9a3ee05f",
   "metadata": {},
   "outputs": [
    {
     "data": {
      "text/html": [
       "<div>\n",
       "<style scoped>\n",
       "    .dataframe tbody tr th:only-of-type {\n",
       "        vertical-align: middle;\n",
       "    }\n",
       "\n",
       "    .dataframe tbody tr th {\n",
       "        vertical-align: top;\n",
       "    }\n",
       "\n",
       "    .dataframe thead th {\n",
       "        text-align: right;\n",
       "    }\n",
       "</style>\n",
       "<table border=\"1\" class=\"dataframe\">\n",
       "  <thead>\n",
       "    <tr style=\"text-align: right;\">\n",
       "      <th></th>\n",
       "      <th>name</th>\n",
       "      <th>plays</th>\n",
       "    </tr>\n",
       "  </thead>\n",
       "  <tbody>\n",
       "    <tr>\n",
       "      <th>0</th>\n",
       "      <td>T-Shirt Song</td>\n",
       "      <td>199</td>\n",
       "    </tr>\n",
       "    <tr>\n",
       "      <th>1</th>\n",
       "      <td>Nothing</td>\n",
       "      <td>187</td>\n",
       "    </tr>\n",
       "    <tr>\n",
       "      <th>2</th>\n",
       "      <td>Punk Rock Songs</td>\n",
       "      <td>178</td>\n",
       "    </tr>\n",
       "    <tr>\n",
       "      <th>3</th>\n",
       "      <td>Young, Wild &amp; Free (feat. Bruno Mars)</td>\n",
       "      <td>173</td>\n",
       "    </tr>\n",
       "    <tr>\n",
       "      <th>4</th>\n",
       "      <td>Young as the Morning Old as the Sea</td>\n",
       "      <td>169</td>\n",
       "    </tr>\n",
       "  </tbody>\n",
       "</table>\n",
       "</div>"
      ],
      "text/plain": [
       "                                    name  plays\n",
       "0                           T-Shirt Song    199\n",
       "1                                Nothing    187\n",
       "2                        Punk Rock Songs    178\n",
       "3  Young, Wild & Free (feat. Bruno Mars)    173\n",
       "4    Young as the Morning Old as the Sea    169"
      ]
     },
     "execution_count": 8,
     "metadata": {},
     "output_type": "execute_result"
    }
   ],
   "source": [
    "df_top_tracks = df[\"master_metadata_track_name\"].value_counts().to_frame()\n",
    "df_top_tracks = df_top_tracks.reset_index().rename(columns={\"master_metadata_track_name\":\"name\",\"count\":\"plays\"})\n",
    "df_top_tracks.head()"
   ]
  },
  {
   "cell_type": "code",
   "execution_count": 10,
   "id": "d10532b0-2b3f-463d-b252-c160f9d64fad",
   "metadata": {},
   "outputs": [
    {
     "name": "stdout",
     "output_type": "stream",
     "text": [
      "original length: 78415\n",
      " reduced length: 41439\n",
      "      reduction: 52.85%\n"
     ]
    }
   ],
   "source": [
    "top_names = df_top_tracks[df_top_tracks[\"plays\"]>=10][\"name\"]\n",
    "df_orig = df\n",
    "df = df[df[\"master_metadata_track_name\"].isin(top_names)].reset_index(drop=True)\n",
    "# Edit:\n",
    "df = df[df[\"ts\"].dt.year != 2015]\n",
    "\n",
    "print(\"original length:\", original_length)\n",
    "print(\" reduced length:\", len(df))\n",
    "print(\"      reduction:\", str(round(len(df)/original_length*100,2))+\"%\")"
   ]
  },
  {
   "cell_type": "markdown",
   "id": "533aea92-c322-42fa-a2ba-f81a294c5fa0",
   "metadata": {},
   "source": [
    "<div class=\"alert alert-block alert-success\"> \n",
    "    It could be useful to further only include tracks,\n",
    "    that have been played at lead 30% (or 50%) of their length. <br>\n",
    "    Including skipped tracks carries the risk of further distorting the real hearing-bahavior.\n",
    "\n",
    "</div>"
   ]
  },
  {
   "cell_type": "code",
   "execution_count": 11,
   "id": "fb4193fe-9dc9-401a-bcbb-56a286b9067c",
   "metadata": {},
   "outputs": [
    {
     "name": "stdout",
     "output_type": "stream",
     "text": [
      "1.62 % of tracks have been skipped.\n"
     ]
    }
   ],
   "source": [
    "num_skipped = len(df_orig[df_orig[\"skipped\"] == 1])\n",
    "print(round(num_skipped/len(df_orig)*100,2), \"% of tracks have been skipped.\") "
   ]
  },
  {
   "cell_type": "markdown",
   "id": "1263cb09-6b4b-4b1f-9f73-a119625a9ce4",
   "metadata": {},
   "source": [
    "Though only a small percentage of tracks have been skipped, it is unlikeley, that the remaining tracks have been played to the end.\n"
   ]
  },
  {
   "cell_type": "code",
   "execution_count": 12,
   "id": "c79777e5-f78f-44df-b718-d45b9f0b4eec",
   "metadata": {},
   "outputs": [
    {
     "data": {
      "text/html": [
       "<div>\n",
       "<style scoped>\n",
       "    .dataframe tbody tr th:only-of-type {\n",
       "        vertical-align: middle;\n",
       "    }\n",
       "\n",
       "    .dataframe tbody tr th {\n",
       "        vertical-align: top;\n",
       "    }\n",
       "\n",
       "    .dataframe thead th {\n",
       "        text-align: right;\n",
       "    }\n",
       "</style>\n",
       "<table border=\"1\" class=\"dataframe\">\n",
       "  <thead>\n",
       "    <tr style=\"text-align: right;\">\n",
       "      <th></th>\n",
       "      <th>reason_end</th>\n",
       "      <th>proportion</th>\n",
       "    </tr>\n",
       "  </thead>\n",
       "  <tbody>\n",
       "    <tr>\n",
       "      <th>0</th>\n",
       "      <td>trackdone</td>\n",
       "      <td>0.577379</td>\n",
       "    </tr>\n",
       "    <tr>\n",
       "      <th>1</th>\n",
       "      <td>fwdbtn</td>\n",
       "      <td>0.170660</td>\n",
       "    </tr>\n",
       "    <tr>\n",
       "      <th>2</th>\n",
       "      <td>endplay</td>\n",
       "      <td>0.140809</td>\n",
       "    </tr>\n",
       "    <tr>\n",
       "      <th>3</th>\n",
       "      <td>logout</td>\n",
       "      <td>0.040155</td>\n",
       "    </tr>\n",
       "    <tr>\n",
       "      <th>4</th>\n",
       "      <td>unexpected-exit-while-paused</td>\n",
       "      <td>0.025290</td>\n",
       "    </tr>\n",
       "    <tr>\n",
       "      <th>5</th>\n",
       "      <td>unexpected-exit</td>\n",
       "      <td>0.014672</td>\n",
       "    </tr>\n",
       "    <tr>\n",
       "      <th>6</th>\n",
       "      <td>backbtn</td>\n",
       "      <td>0.011969</td>\n",
       "    </tr>\n",
       "    <tr>\n",
       "      <th>7</th>\n",
       "      <td>unknown</td>\n",
       "      <td>0.011438</td>\n",
       "    </tr>\n",
       "    <tr>\n",
       "      <th>8</th>\n",
       "      <td>playbtn</td>\n",
       "      <td>0.003740</td>\n",
       "    </tr>\n",
       "    <tr>\n",
       "      <th>9</th>\n",
       "      <td>remote</td>\n",
       "      <td>0.003258</td>\n",
       "    </tr>\n",
       "    <tr>\n",
       "      <th>10</th>\n",
       "      <td>trackerror</td>\n",
       "      <td>0.000338</td>\n",
       "    </tr>\n",
       "    <tr>\n",
       "      <th>11</th>\n",
       "      <td>clickrow</td>\n",
       "      <td>0.000217</td>\n",
       "    </tr>\n",
       "    <tr>\n",
       "      <th>12</th>\n",
       "      <td></td>\n",
       "      <td>0.000072</td>\n",
       "    </tr>\n",
       "  </tbody>\n",
       "</table>\n",
       "</div>"
      ],
      "text/plain": [
       "                      reason_end  proportion\n",
       "0                      trackdone    0.577379\n",
       "1                         fwdbtn    0.170660\n",
       "2                        endplay    0.140809\n",
       "3                         logout    0.040155\n",
       "4   unexpected-exit-while-paused    0.025290\n",
       "5                unexpected-exit    0.014672\n",
       "6                        backbtn    0.011969\n",
       "7                        unknown    0.011438\n",
       "8                        playbtn    0.003740\n",
       "9                         remote    0.003258\n",
       "10                    trackerror    0.000338\n",
       "11                      clickrow    0.000217\n",
       "12                                  0.000072"
      ]
     },
     "execution_count": 12,
     "metadata": {},
     "output_type": "execute_result"
    }
   ],
   "source": [
    "reason_end_count = df_orig[\"reason_end\"].value_counts(normalize=True).to_frame().reset_index().rename({\"count\":\"reason_end\"}, axis=1)\n",
    "reason_end_count"
   ]
  },
  {
   "cell_type": "code",
   "execution_count": 13,
   "id": "f6079eed-45c1-47ea-8bb2-365c0d73c526",
   "metadata": {},
   "outputs": [
    {
     "data": {
      "text/plain": [
       "<Axes: xlabel='proportion', ylabel='reason_end'>"
      ]
     },
     "execution_count": 13,
     "metadata": {},
     "output_type": "execute_result"
    },
    {
     "data": {
      "image/png": "[encoded data removed]",
      "text/plain": [
       "<Figure size 640x480 with 1 Axes>"
      ]
     },
     "metadata": {},
     "output_type": "display_data"
    }
   ],
   "source": [
    "sns.barplot(data=reason_end_count, x=\"proportion\", y=\"reason_end\")"
   ]
  },
  {
   "cell_type": "markdown",
   "id": "52ca19ce-e712-4a38-a028-2aea75b73358",
   "metadata": {},
   "source": [
    "---\n",
    "Songs played per year.\n",
    "\n",
    "(only skipped excluded)"
   ]
  },
  {
   "cell_type": "code",
   "execution_count": 14,
   "id": "eb53f9a1-f55c-45ea-9764-b5f94c3295f7",
   "metadata": {},
   "outputs": [
    {
     "data": {
      "image/png": "[encoded data removed]",
      "text/plain": [
       "<Figure size 640x480 with 1 Axes>"
      ]
     },
     "metadata": {},
     "output_type": "display_data"
    }
   ],
   "source": [
    "df_orig.groupby(df_orig[\"ts\"].dt.year)[\"ts\"].count().plot(kind=\"bar\")\n",
    "plt.show()"
   ]
  },
  {
   "cell_type": "markdown",
   "id": "dc4d3e87-a1a6-4833-9d42-6f8116bd4b8d",
   "metadata": {},
   "source": [
    "---\n",
    "Songs per year per quarter."
   ]
  },
  {
   "cell_type": "code",
   "execution_count": 15,
   "id": "9a45a31f-0b34-4189-9d2a-40f091642f8e",
   "metadata": {},
   "outputs": [
    {
     "data": {
      "text/plain": [
       "<Axes: xlabel='ts'>"
      ]
     },
     "execution_count": 15,
     "metadata": {},
     "output_type": "execute_result"
    },
    {
     "data": {
      "image/png": "[encoded data removed]",
      "text/plain": [
       "<Figure size 640x480 with 1 Axes>"
      ]
     },
     "metadata": {},
     "output_type": "display_data"
    }
   ],
   "source": [
    "df_my = df_orig.groupby([df_orig[\"ts\"].dt.year, df_orig[\"ts\"].dt.quarter])[\"ts\"].agg(\"count\").to_frame()\n",
    "df_my.index.sortlevel(0, sort_remaining=True)\n",
    "df_my.unstack().plot(kind=\"bar\", stacked=False)"
   ]
  },
  {
   "cell_type": "markdown",
   "id": "f70883fd-876d-4b22-a876-0725a5c8335c",
   "metadata": {},
   "source": [
    "---\n",
    "Finding the longes heared tracks."
   ]
  },
  {
   "cell_type": "code",
   "execution_count": 16,
   "id": "7d39759c-7851-4e66-8083-00674561808b",
   "metadata": {},
   "outputs": [
    {
     "data": {
      "text/html": [
       "<div>\n",
       "<style scoped>\n",
       "    .dataframe tbody tr th:only-of-type {\n",
       "        vertical-align: middle;\n",
       "    }\n",
       "\n",
       "    .dataframe tbody tr th {\n",
       "        vertical-align: top;\n",
       "    }\n",
       "\n",
       "    .dataframe thead th {\n",
       "        text-align: right;\n",
       "    }\n",
       "</style>\n",
       "<table border=\"1\" class=\"dataframe\">\n",
       "  <thead>\n",
       "    <tr style=\"text-align: right;\">\n",
       "      <th></th>\n",
       "      <th>Unnamed: 0</th>\n",
       "      <th>track_name</th>\n",
       "      <th>plays</th>\n",
       "      <th>first_played</th>\n",
       "      <th>last_played</th>\n",
       "      <th>days_between</th>\n",
       "      <th>days_played</th>\n",
       "    </tr>\n",
       "  </thead>\n",
       "  <tbody>\n",
       "    <tr>\n",
       "      <th>0</th>\n",
       "      <td>0</td>\n",
       "      <td>T-Shirt Song</td>\n",
       "      <td>201</td>\n",
       "      <td>2018-01-14 21:02:25+00:00</td>\n",
       "      <td>2022-09-23 16:51:53+00:00</td>\n",
       "      <td>1712</td>\n",
       "      <td>92</td>\n",
       "    </tr>\n",
       "    <tr>\n",
       "      <th>1</th>\n",
       "      <td>1</td>\n",
       "      <td>Punk Rock Songs</td>\n",
       "      <td>195</td>\n",
       "      <td>2021-11-08 05:54:24+00:00</td>\n",
       "      <td>2023-04-24 09:46:14+00:00</td>\n",
       "      <td>532</td>\n",
       "      <td>128</td>\n",
       "    </tr>\n",
       "    <tr>\n",
       "      <th>2</th>\n",
       "      <td>2</td>\n",
       "      <td>Nothing</td>\n",
       "      <td>194</td>\n",
       "      <td>2021-10-13 12:28:43+00:00</td>\n",
       "      <td>2023-05-11 17:40:42+00:00</td>\n",
       "      <td>575</td>\n",
       "      <td>100</td>\n",
       "    </tr>\n",
       "    <tr>\n",
       "      <th>3</th>\n",
       "      <td>3</td>\n",
       "      <td>Young, Wild &amp; Free (feat. Bruno Mars)</td>\n",
       "      <td>182</td>\n",
       "      <td>2016-01-24 11:15:06+00:00</td>\n",
       "      <td>2022-02-17 15:23:58+00:00</td>\n",
       "      <td>2216</td>\n",
       "      <td>89</td>\n",
       "    </tr>\n",
       "    <tr>\n",
       "      <th>4</th>\n",
       "      <td>4</td>\n",
       "      <td>Young as the Morning Old as the Sea</td>\n",
       "      <td>179</td>\n",
       "      <td>2016-10-09 10:48:16+00:00</td>\n",
       "      <td>2021-11-23 14:41:52+00:00</td>\n",
       "      <td>1871</td>\n",
       "      <td>76</td>\n",
       "    </tr>\n",
       "    <tr>\n",
       "      <th>...</th>\n",
       "      <td>...</td>\n",
       "      <td>...</td>\n",
       "      <td>...</td>\n",
       "      <td>...</td>\n",
       "      <td>...</td>\n",
       "      <td>...</td>\n",
       "      <td>...</td>\n",
       "    </tr>\n",
       "    <tr>\n",
       "      <th>1325</th>\n",
       "      <td>1325</td>\n",
       "      <td>Die Young</td>\n",
       "      <td>9</td>\n",
       "      <td>2019-09-14 19:36:20+00:00</td>\n",
       "      <td>2023-01-30 13:03:05+00:00</td>\n",
       "      <td>1233</td>\n",
       "      <td>7</td>\n",
       "    </tr>\n",
       "    <tr>\n",
       "      <th>1326</th>\n",
       "      <td>1326</td>\n",
       "      <td>104,481</td>\n",
       "      <td>8</td>\n",
       "      <td>2017-05-06 08:22:35+00:00</td>\n",
       "      <td>2021-05-20 06:01:29+00:00</td>\n",
       "      <td>1474</td>\n",
       "      <td>8</td>\n",
       "    </tr>\n",
       "    <tr>\n",
       "      <th>1327</th>\n",
       "      <td>1327</td>\n",
       "      <td>Kalle macht den Song</td>\n",
       "      <td>5</td>\n",
       "      <td>2016-11-14 18:18:16+00:00</td>\n",
       "      <td>2020-10-07 05:45:08+00:00</td>\n",
       "      <td>1422</td>\n",
       "      <td>5</td>\n",
       "    </tr>\n",
       "    <tr>\n",
       "      <th>1328</th>\n",
       "      <td>1328</td>\n",
       "      <td>Vergleiche a la Boss</td>\n",
       "      <td>4</td>\n",
       "      <td>2017-05-06 08:22:35+00:00</td>\n",
       "      <td>2020-10-07 05:27:00+00:00</td>\n",
       "      <td>1249</td>\n",
       "      <td>4</td>\n",
       "    </tr>\n",
       "    <tr>\n",
       "      <th>1329</th>\n",
       "      <td>1329</td>\n",
       "      <td>Gruppenzwang</td>\n",
       "      <td>3</td>\n",
       "      <td>2019-01-05 14:18:11+00:00</td>\n",
       "      <td>2020-10-07 09:50:00+00:00</td>\n",
       "      <td>640</td>\n",
       "      <td>3</td>\n",
       "    </tr>\n",
       "  </tbody>\n",
       "</table>\n",
       "<p>1330 rows × 7 columns</p>\n",
       "</div>"
      ],
      "text/plain": [
       "      Unnamed: 0                             track_name  plays  \\\n",
       "0              0                           T-Shirt Song    201   \n",
       "1              1                        Punk Rock Songs    195   \n",
       "2              2                                Nothing    194   \n",
       "3              3  Young, Wild & Free (feat. Bruno Mars)    182   \n",
       "4              4    Young as the Morning Old as the Sea    179   \n",
       "...          ...                                    ...    ...   \n",
       "1325        1325                              Die Young      9   \n",
       "1326        1326                                104,481      8   \n",
       "1327        1327                   Kalle macht den Song      5   \n",
       "1328        1328                   Vergleiche a la Boss      4   \n",
       "1329        1329                           Gruppenzwang      3   \n",
       "\n",
       "                   first_played                last_played  days_between  \\\n",
       "0     2018-01-14 21:02:25+00:00  2022-09-23 16:51:53+00:00          1712   \n",
       "1     2021-11-08 05:54:24+00:00  2023-04-24 09:46:14+00:00           532   \n",
       "2     2021-10-13 12:28:43+00:00  2023-05-11 17:40:42+00:00           575   \n",
       "3     2016-01-24 11:15:06+00:00  2022-02-17 15:23:58+00:00          2216   \n",
       "4     2016-10-09 10:48:16+00:00  2021-11-23 14:41:52+00:00          1871   \n",
       "...                         ...                        ...           ...   \n",
       "1325  2019-09-14 19:36:20+00:00  2023-01-30 13:03:05+00:00          1233   \n",
       "1326  2017-05-06 08:22:35+00:00  2021-05-20 06:01:29+00:00          1474   \n",
       "1327  2016-11-14 18:18:16+00:00  2020-10-07 05:45:08+00:00          1422   \n",
       "1328  2017-05-06 08:22:35+00:00  2020-10-07 05:27:00+00:00          1249   \n",
       "1329  2019-01-05 14:18:11+00:00  2020-10-07 09:50:00+00:00           640   \n",
       "\n",
       "      days_played  \n",
       "0              92  \n",
       "1             128  \n",
       "2             100  \n",
       "3              89  \n",
       "4              76  \n",
       "...           ...  \n",
       "1325            7  \n",
       "1326            8  \n",
       "1327            5  \n",
       "1328            4  \n",
       "1329            3  \n",
       "\n",
       "[1330 rows x 7 columns]"
      ]
     },
     "execution_count": 16,
     "metadata": {},
     "output_type": "execute_result"
    }
   ],
   "source": [
    "##### config ######\n",
    "calculate = False\n",
    "###################\n",
    "\n",
    "if calculate:\n",
    "    df_playcount = df[\"master_metadata_track_name\"].value_counts().to_frame()\n",
    "    df_from_to = pd.DataFrame(columns=[\"track_name\", \"plays\", \"first_played\", \"last_played\", \"days_between\", \"days_played\"])\n",
    "\n",
    "    for song, plays in tqdm.notebook.tqdm(df_playcount.iterrows(), total=df_playcount.shape[0]):\n",
    "        first_ts = df[df[\"master_metadata_track_name\"] == song].iloc[0][\"ts\"]\n",
    "        last_ts = df[df[\"master_metadata_track_name\"] == song].iloc[-1][\"ts\"]\n",
    "\n",
    "        df_ts = df.set_index(\"ts\")\n",
    "        df_ts_filtered = df_ts[df_ts[\"master_metadata_track_name\"] == song]\n",
    "        days_played = len(df_ts_filtered.groupby(df_ts_filtered.index.date).count())\n",
    "\n",
    "        row = {\n",
    "            \"track_name\": song,\n",
    "            \"plays\": plays.values[0],\n",
    "            \"first_played\": first_ts,\n",
    "            \"last_played\": last_ts,\n",
    "            \"days_between\": (last_ts - first_ts).days,\n",
    "            \"days_played\": days_played,\n",
    "        }\n",
    "        new_df = pd.DataFrame([row])\n",
    "        df_from_to = pd.concat([df_from_to, new_df], ignore_index=True)\n",
    "\n",
    "    df_from_to.to_csv(\"df_from_to.csv\")\n",
    "else:\n",
    "    df_from_to = pd.read_csv(\"df_from_to.csv\")\n",
    "\n",
    "df_from_to"
   ]
  },
  {
   "cell_type": "markdown",
   "id": "c14d79c2-ee75-4368-b0a2-eb684535c1d0",
   "metadata": {},
   "source": [
    "---\n",
    "Top five songs per year with individual plays."
   ]
  },
  {
   "cell_type": "code",
   "execution_count": 17,
   "id": "459a8b8f-bd85-4b89-9685-6920034d966b",
   "metadata": {},
   "outputs": [
    {
     "data": {
      "text/plain": [
       "ts    master_metadata_track_name                        \n",
       "2016  Rasta Got Soul                                         74\n",
       "      Young, Wild & Free (feat. Bruno Mars)                  66\n",
       "      No Money                                               50\n",
       "      I Took A Pill In Ibiza - Seeb Remix                    46\n",
       "      Stimme                                                 45\n",
       "2017  Young as the Morning Old as the Sea                   113\n",
       "      Everyday (feat. Rod Stewart, Miguel & Mark Ronson)    101\n",
       "      Catch & Release (Deepend remix)                        90\n",
       "      Xenogenesis                                            87\n",
       "      Semi-Automatic                                         73\n",
       "2018  Fast Forward                                          107\n",
       "      T-Shirt Song                                          104\n",
       "      The Heart from Your Hate                               95\n",
       "      Freeze Me                                              94\n",
       "      Alles probiert                                         94\n",
       "2019  Blood // Water                                         96\n",
       "      T-Shirt Song                                           63\n",
       "      Fuck Away the Pain                                     61\n",
       "      Best Friends                                           61\n",
       "      Bells                                                  61\n",
       "2020  Happy                                                  47\n",
       "      Afraid No More                                         45\n",
       "      Storm                                                  43\n",
       "      High Hopes                                             42\n",
       "      Rude                                                   40\n",
       "2021  Monsters (feat. blackbear)                             92\n",
       "      Some Kind of Disaster                                  66\n",
       "      acting like that (feat. Machine Gun Kelly)             65\n",
       "      Nothing                                                63\n",
       "      L.O.V.E.                                               59\n",
       "2022  Memories (with WILLOW)                                136\n",
       "      Dear God                                              133\n",
       "      Punk Rock Songs                                       131\n",
       "      Nothing                                               122\n",
       "      What You Make It                                       81\n",
       "2023  To Let A Good Thing Die                                18\n",
       "      Relax, Take It Easy                                    16\n",
       "      Better Than Gold                                       12\n",
       "      El Mismo Sol                                           10\n",
       "      Punk Rock Songs                                         9\n",
       "Name: count, dtype: int64"
      ]
     },
     "execution_count": 17,
     "metadata": {},
     "output_type": "execute_result"
    }
   ],
   "source": [
    "df.groupby(df[\"ts\"].dt.year)[\"master_metadata_track_name\"].value_counts().groupby(level=0, group_keys=False).head(5)"
   ]
  },
  {
   "cell_type": "markdown",
   "id": "6217d827-c7cf-4c41-91db-af3f19954ead",
   "metadata": {},
   "source": [
    "---\n",
    "Histogram individual plays, per year."
   ]
  },
  {
   "cell_type": "code",
   "execution_count": 18,
   "id": "ebafc7d6-c010-4091-9a4e-264641aa71be",
   "metadata": {},
   "outputs": [
    {
     "data": {
      "text/html": [
       "<div>\n",
       "<style scoped>\n",
       "    .dataframe tbody tr th:only-of-type {\n",
       "        vertical-align: middle;\n",
       "    }\n",
       "\n",
       "    .dataframe tbody tr th {\n",
       "        vertical-align: top;\n",
       "    }\n",
       "\n",
       "    .dataframe thead th {\n",
       "        text-align: right;\n",
       "    }\n",
       "</style>\n",
       "<table border=\"1\" class=\"dataframe\">\n",
       "  <thead>\n",
       "    <tr style=\"text-align: right;\">\n",
       "      <th></th>\n",
       "      <th>year</th>\n",
       "      <th>track_name</th>\n",
       "      <th>individual_plays</th>\n",
       "    </tr>\n",
       "  </thead>\n",
       "  <tbody>\n",
       "    <tr>\n",
       "      <th>0</th>\n",
       "      <td>2016</td>\n",
       "      <td>Rasta Got Soul</td>\n",
       "      <td>74</td>\n",
       "    </tr>\n",
       "    <tr>\n",
       "      <th>1</th>\n",
       "      <td>2016</td>\n",
       "      <td>Young, Wild &amp; Free (feat. Bruno Mars)</td>\n",
       "      <td>66</td>\n",
       "    </tr>\n",
       "    <tr>\n",
       "      <th>2</th>\n",
       "      <td>2016</td>\n",
       "      <td>No Money</td>\n",
       "      <td>50</td>\n",
       "    </tr>\n",
       "  </tbody>\n",
       "</table>\n",
       "</div>"
      ],
      "text/plain": [
       "   year                             track_name  individual_plays\n",
       "0  2016                         Rasta Got Soul                74\n",
       "1  2016  Young, Wild & Free (feat. Bruno Mars)                66\n",
       "2  2016                               No Money                50"
      ]
     },
     "execution_count": 18,
     "metadata": {},
     "output_type": "execute_result"
    }
   ],
   "source": [
    "plays_by_year = df.groupby(df[\"ts\"].dt.year)[\"master_metadata_track_name\"].value_counts().to_frame()\n",
    "plays_by_year.index.rename([\"year\", \"track_name\"], inplace=True)\n",
    "plays_by_year = plays_by_year.reset_index()\n",
    "plays_by_year.rename({\"count\":\"individual_plays\"},axis=1, inplace=True)\n",
    "plays_by_year.head(3)"
   ]
  },
  {
   "cell_type": "code",
   "execution_count": 20,
   "id": "6ce280fa-a4da-4081-8989-c189f9ce66f7",
   "metadata": {},
   "outputs": [
    {
     "data": {
      "application/vnd.jupyter.widget-view+json": {
       "model_id": "01fa2efa281e44e9adf8488aa608d823",
       "version_major": 2,
       "version_minor": 0
      },
      "text/plain": [
       "HBox(children=(Output(), Output()))"
      ]
     },
     "metadata": {},
     "output_type": "display_data"
    }
   ],
   "source": [
    "# pby = plays_by_year[plays_by_year[\"individual_plays\"] < 50]\n",
    "sea = sns.FacetGrid(plays_by_year[[\"year\", \"individual_plays\"]], col=\"year\", col_wrap=3)\n",
    "\n",
    "plot = sea.map_dataframe(sns.histplot, \"individual_plays\", stat=\"percent\", discrete=True)\n",
    "year_counts = plays_by_year[\"individual_plays\"].groupby(plays_by_year[\"year\"]).count().reset_index(name=\"plays\").set_index(\"year\")\n",
    "### Jupyter Setup ###\n",
    "out1 = ipywidgets.widgets.Output()\n",
    "with out1:\n",
    "    display(year_counts)\n",
    "out2 = ipywidgets.widgets.Output()\n",
    "with out2:\n",
    "    display(plot)\n",
    "    plt.show()\n",
    "two_columns = ipywidgets.widgets.HBox([out1, out2])\n",
    "display(two_columns)"
   ]
  },
  {
   "cell_type": "markdown",
   "id": "574bde85-c93a-4ce4-85ce-1e55342a8bbc",
   "metadata": {},
   "source": [
    "---\n",
    "Portion of the top **5 (10, 20)** songs of the month in total plays.\n",
    "> **TODO:** Amount of unique tracks that month"
   ]
  },
  {
   "cell_type": "code",
   "execution_count": 21,
   "id": "2e56343e-6172-477e-8e51-956b43ac3c13",
   "metadata": {},
   "outputs": [],
   "source": [
    "##### config #####\n",
    "calculate = False\n",
    "##################\n",
    "\n",
    "if calculate:\n",
    "    top_n = [5, 10, 20]\n",
    "    dfs = []\n",
    "    dates = df_orig[\"ts\"].dt.strftime(\"%y - %m\").drop_duplicates().tolist()\n",
    "    for n in top_n:\n",
    "        df_top_month = pd.DataFrame(columns=[\"plays\"], index=dates)\n",
    "        for date in tqdm.notebook.tqdm(df_top_month.index):\n",
    "            entries = df_orig[df_orig[\"ts\"].dt.strftime(\"%y - %m\") == date]\n",
    "            total_plays = len(entries)\n",
    "            s_top_n = entries[\"master_metadata_track_name\"].value_counts().head(n)\n",
    "            top_n_plays = s_top_n.sum()\n",
    "            top_n_tracks = s_top_n.index.tolist()\n",
    "            top_n_portion = round(top_n_plays / total_plays * 100, 2)\n",
    "            df_top_month.at[date] = top_n_portion\n",
    "        dfs.append(df_top_month)\n",
    "\n",
    "    df_top_all_n = pd.concat(dfs, axis=1)\n",
    "    df_top_all_n.index = pd.to_datetime(df_top_all_n.index, format=\"%y - %m\")\n",
    "    df_top_all_n.columns = [\"plays5\",\"plays10\", \"plays20\"]\n",
    "    df_top_all_n.to_csv(\"df_top_all_n.csv\")\n",
    "else:\n",
    "    df_top_all_n = pd.read_csv(\"df_top_all_n.csv\")"
   ]
  },
  {
   "cell_type": "code",
   "execution_count": 22,
   "id": "02956670-4f3c-404f-ae87-325bc2709a25",
   "metadata": {},
   "outputs": [
    {
     "data": {
      "text/plain": [
       "<Axes: >"
      ]
     },
     "execution_count": 22,
     "metadata": {},
     "output_type": "execute_result"
    },
    {
     "data": {
      "image/png": "[encoded data removed]",
      "text/plain": [
       "<Figure size 640x480 with 1 Axes>"
      ]
     },
     "metadata": {},
     "output_type": "display_data"
    }
   ],
   "source": [
    "fig, ax = plt.subplots()\n",
    "sns.lineplot(data=df_top_all_n[[\"plays5\", \"plays10\", \"plays20\"]])"
   ]
  },
  {
   "cell_type": "markdown",
   "id": "848eb425-a4fb-4dab-bd33-530c6bd4128c",
   "metadata": {},
   "source": [
    "---\n",
    "Graphing the five most played song with their respective **plays per month**."
   ]
  },
  {
   "cell_type": "code",
   "execution_count": 23,
   "id": "cbc76ec2-ecc6-45a8-bbce-0597eaf1009c",
   "metadata": {},
   "outputs": [
    {
     "data": {
      "image/png": "[encoded data removed]",
      "text/plain": [
       "<Figure size 640x480 with 1 Axes>"
      ]
     },
     "metadata": {},
     "output_type": "display_data"
    }
   ],
   "source": [
    "top10 = df[\"master_metadata_track_name\"].value_counts().iloc[:5].index.values\n",
    "data = df[df[\"master_metadata_track_name\"].isin(top10)]\n",
    "data = data.groupby([data[\"ts\"].dt.year, data[\"ts\"].dt.month], group_keys=False) \\\n",
    "    [\"master_metadata_track_name\"].value_counts().to_frame().rename_axis([\"year\", \"month\", \"track_name\"]).reset_index(2) \\\n",
    "    .rename({\"count\":\"plays\"}, axis=1).reset_index()\n",
    "data[\"date\"] = pd.to_datetime(data[[\"year\", \"month\"]].assign(DAY=1))\n",
    "data = data.drop([\"year\", \"month\"], axis=1)\n",
    "\n",
    "\n",
    "ax = sns.lineplot(data=data, x=\"date\", y=\"plays\", hue=\"track_name\")\n",
    "sns.move_legend(ax, \"center left\", bbox_to_anchor=(1.1,0.5))"
   ]
  },
  {
   "cell_type": "markdown",
   "id": "026c640d-0958-4590-885f-845d8f70bfb4",
   "metadata": {},
   "source": [
    "---\n",
    "Hearing by Weekday."
   ]
  },
  {
   "cell_type": "code",
   "execution_count": 24,
   "id": "ff5b9778-14ba-4ec6-8481-4eefbada9a9d",
   "metadata": {},
   "outputs": [
    {
     "data": {
      "text/plain": [
       "<Axes: xlabel='weekday', ylabel='count'>"
      ]
     },
     "execution_count": 24,
     "metadata": {},
     "output_type": "execute_result"
    },
    {
     "data": {
      "image/png": "[encoded data removed]",
      "text/plain": [
       "<Figure size 640x480 with 1 Axes>"
      ]
     },
     "metadata": {},
     "output_type": "display_data"
    }
   ],
   "source": [
    "df_weekday_plays = df_orig.groupby(df_orig[\"ts\"].dt.weekday)[\"ts\"].count().to_frame()\n",
    "df_weekday_plays.index.rename(\"weekday\", inplace=True)\n",
    "df_weekday_plays.reset_index(inplace=True)\n",
    "df_weekday_plays.rename({\"ts\":\"count\"}, inplace=True, axis=1)\n",
    "\n",
    "sns.barplot(data=df_weekday_plays, x=\"weekday\", y=\"count\", color=\"lightblue\")"
   ]
  },
  {
   "cell_type": "code",
   "execution_count": 25,
   "id": "3b110a3c-11c3-466a-ab00-315951e9398b",
   "metadata": {},
   "outputs": [
    {
     "data": {
      "text/plain": [
       "<Axes: xlabel='hour', ylabel='count'>"
      ]
     },
     "execution_count": 25,
     "metadata": {},
     "output_type": "execute_result"
    },
    {
     "data": {
      "image/png": "[encoded data removed]",
      "text/plain": [
       "<Figure size 640x480 with 1 Axes>"
      ]
     },
     "metadata": {},
     "output_type": "display_data"
    }
   ],
   "source": [
    "df_weekday_plays = df_orig.groupby(df_orig[\"ts\"].dt.hour)[\"ts\"].count().to_frame()\n",
    "df_weekday_plays.index.rename(\"hour\", inplace=True)\n",
    "df_weekday_plays.reset_index(inplace=True)\n",
    "df_weekday_plays.rename({\"ts\":\"count\"}, inplace=True, axis=1)\n",
    "\n",
    "sns.barplot(data=df_weekday_plays, x=\"hour\", y=\"count\", color=\"lightblue\")"
   ]
  },
  {
   "cell_type": "code",
   "execution_count": 26,
   "id": "1ed87178-df88-4dd6-b3e8-0bce590a32ca",
   "metadata": {},
   "outputs": [
    {
     "name": "stderr",
     "output_type": "stream",
     "text": [
      "/home/olevoss/.local/lib/python3.11/site-packages/seaborn/axisgrid.py:712: UserWarning: Using the barplot function without specifying `order` is likely to produce an incorrect plot.\n",
      "  warnings.warn(warning)\n"
     ]
    },
    {
     "data": {
      "text/plain": [
       "<seaborn.axisgrid.FacetGrid at 0x7f9130553cd0>"
      ]
     },
     "execution_count": 26,
     "metadata": {},
     "output_type": "execute_result"
    },
    {
     "data": {
      "image/png": "[encoded data removed]",
      "text/plain": [
       "<Figure size 2100x300 with 7 Axes>"
      ]
     },
     "metadata": {},
     "output_type": "display_data"
    }
   ],
   "source": [
    "df_weekday_plays = df_orig.groupby([df_orig[\"ts\"].dt.weekday, df_orig[\"ts\"].dt.hour])[\"ts\"].count().to_frame()\n",
    "df_weekday_plays.columns = [\"count\"]\n",
    "df_weekday_plays.index.rename([\"weekday\", \"hour\"], inplace=True)\n",
    "df_weekday_plays = df_weekday_plays.reset_index()\n",
    "\n",
    "sea = sns.FacetGrid(df_weekday_plays, col=\"weekday\")\n",
    "sea.map(sns.barplot, \"hour\", \"count\", color=\"lightblue\")"
   ]
  },
  {
   "cell_type": "markdown",
   "id": "8579d46e-7807-4881-96a2-7eb7fae8dc49",
   "metadata": {},
   "source": [
    "---\n",
    "# Interpretes"
   ]
  },
  {
   "cell_type": "code",
   "execution_count": 27,
   "id": "e0d67cc4-4ddf-41e9-8573-3b0df8000e9e",
   "metadata": {},
   "outputs": [
    {
     "data": {
      "text/html": [
       "<div>\n",
       "<style scoped>\n",
       "    .dataframe tbody tr th:only-of-type {\n",
       "        vertical-align: middle;\n",
       "    }\n",
       "\n",
       "    .dataframe tbody tr th {\n",
       "        vertical-align: top;\n",
       "    }\n",
       "\n",
       "    .dataframe thead th {\n",
       "        text-align: right;\n",
       "    }\n",
       "</style>\n",
       "<table border=\"1\" class=\"dataframe\">\n",
       "  <thead>\n",
       "    <tr style=\"text-align: right;\">\n",
       "      <th></th>\n",
       "      <th>ts</th>\n",
       "      <th>track_name</th>\n",
       "      <th>artist_name</th>\n",
       "    </tr>\n",
       "  </thead>\n",
       "  <tbody>\n",
       "    <tr>\n",
       "      <th>199</th>\n",
       "      <td>2016-01-24 11:15:06+00:00</td>\n",
       "      <td>Young, Wild &amp; Free (feat. Bruno Mars)</td>\n",
       "      <td>Snoop Dogg</td>\n",
       "    </tr>\n",
       "    <tr>\n",
       "      <th>200</th>\n",
       "      <td>2016-01-24 11:23:01+00:00</td>\n",
       "      <td>Fast Car</td>\n",
       "      <td>Jonas Blue</td>\n",
       "    </tr>\n",
       "    <tr>\n",
       "      <th>201</th>\n",
       "      <td>2016-01-24 11:24:10+00:00</td>\n",
       "      <td>Übertriebener Rap</td>\n",
       "      <td>257ers</td>\n",
       "    </tr>\n",
       "    <tr>\n",
       "      <th>202</th>\n",
       "      <td>2016-01-24 11:26:32+00:00</td>\n",
       "      <td>Baby du riechst</td>\n",
       "      <td>257ers</td>\n",
       "    </tr>\n",
       "    <tr>\n",
       "      <th>203</th>\n",
       "      <td>2016-01-24 11:27:07+00:00</td>\n",
       "      <td>Funeral</td>\n",
       "      <td>Heretic Klick</td>\n",
       "    </tr>\n",
       "  </tbody>\n",
       "</table>\n",
       "</div>"
      ],
      "text/plain": [
       "                           ts                             track_name  \\\n",
       "199 2016-01-24 11:15:06+00:00  Young, Wild & Free (feat. Bruno Mars)   \n",
       "200 2016-01-24 11:23:01+00:00                               Fast Car   \n",
       "201 2016-01-24 11:24:10+00:00                      Übertriebener Rap   \n",
       "202 2016-01-24 11:26:32+00:00                        Baby du riechst   \n",
       "203 2016-01-24 11:27:07+00:00                                Funeral   \n",
       "\n",
       "       artist_name  \n",
       "199     Snoop Dogg  \n",
       "200     Jonas Blue  \n",
       "201         257ers  \n",
       "202         257ers  \n",
       "203  Heretic Klick  "
      ]
     },
     "execution_count": 27,
     "metadata": {},
     "output_type": "execute_result"
    }
   ],
   "source": [
    "df_artist = df_orig[[\"ts\", \"master_metadata_track_name\", \"master_metadata_album_artist_name\"]].rename(\\\n",
    "    columns={\"master_metadata_track_name\":\"track_name\",\"master_metadata_album_artist_name\":\"artist_name\"})\n",
    "df_artist.head()"
   ]
  },
  {
   "cell_type": "code",
   "execution_count": 28,
   "id": "469ab337-5543-4dcd-9685-5b9bb2f9fa87",
   "metadata": {},
   "outputs": [
    {
     "data": {
      "text/html": [
       "<div>\n",
       "<style scoped>\n",
       "    .dataframe tbody tr th:only-of-type {\n",
       "        vertical-align: middle;\n",
       "    }\n",
       "\n",
       "    .dataframe tbody tr th {\n",
       "        vertical-align: top;\n",
       "    }\n",
       "\n",
       "    .dataframe thead th {\n",
       "        text-align: right;\n",
       "    }\n",
       "</style>\n",
       "<table border=\"1\" class=\"dataframe\">\n",
       "  <thead>\n",
       "    <tr style=\"text-align: right;\">\n",
       "      <th></th>\n",
       "      <th>ts</th>\n",
       "      <th>artist_name</th>\n",
       "      <th>count</th>\n",
       "      <th>songs</th>\n",
       "      <th>var</th>\n",
       "      <th>std</th>\n",
       "    </tr>\n",
       "  </thead>\n",
       "  <tbody>\n",
       "    <tr>\n",
       "      <th>0</th>\n",
       "      <td>2016</td>\n",
       "      <td>Trailerpark</td>\n",
       "      <td>190</td>\n",
       "      <td>17</td>\n",
       "      <td>107.90</td>\n",
       "      <td>10.39</td>\n",
       "    </tr>\n",
       "    <tr>\n",
       "      <th>1</th>\n",
       "      <td>2016</td>\n",
       "      <td>257ers</td>\n",
       "      <td>89</td>\n",
       "      <td>16</td>\n",
       "      <td>43.20</td>\n",
       "      <td>6.57</td>\n",
       "    </tr>\n",
       "    <tr>\n",
       "      <th>2</th>\n",
       "      <td>2016</td>\n",
       "      <td>Charlie Puth</td>\n",
       "      <td>77</td>\n",
       "      <td>4</td>\n",
       "      <td>195.58</td>\n",
       "      <td>13.99</td>\n",
       "    </tr>\n",
       "  </tbody>\n",
       "</table>\n",
       "</div>"
      ],
      "text/plain": [
       "     ts   artist_name  count  songs     var    std\n",
       "0  2016   Trailerpark    190     17  107.90  10.39\n",
       "1  2016        257ers     89     16   43.20   6.57\n",
       "2  2016  Charlie Puth     77      4  195.58  13.99"
      ]
     },
     "execution_count": 28,
     "metadata": {},
     "output_type": "execute_result"
    }
   ],
   "source": [
    "n = 10\n",
    "top_n = df_artist.groupby(df_artist[\"ts\"].dt.year)[\"artist_name\"].value_counts().groupby(level=0, group_keys=False).head(n).to_frame().reset_index()\n",
    "top_n[\"songs\"] = np.zeros(len(top_n)).astype(int)\n",
    "top_n[\"var\"] = np.zeros(len(top_n))\n",
    "top_n[\"std\"] = np.zeros(len(top_n))\n",
    "for i, row in top_n.iterrows():\n",
    "    data = df_artist.loc[(df_artist[\"artist_name\"] == row[\"artist_name\"]) & (df_artist[\"ts\"].dt.year == row[\"ts\"])]\n",
    "    individual_tracks = data[\"track_name\"].value_counts()\n",
    "    top_n.at[i, \"songs\"] = len(individual_tracks)\n",
    "    top_n.at[i, \"var\"] = individual_tracks.var()\n",
    "    top_n.at[i, \"std\"] = individual_tracks.std()\n",
    "top_n = top_n.round(2)\n",
    "top_n.head(3)"
   ]
  },
  {
   "cell_type": "code",
   "execution_count": 32,
   "id": "8f43ab60-aa06-45a0-a696-a87df845ad90",
   "metadata": {},
   "outputs": [
    {
     "data": {
      "text/html": [
       "<div>\n",
       "<style scoped>\n",
       "    .dataframe tbody tr th:only-of-type {\n",
       "        vertical-align: middle;\n",
       "    }\n",
       "\n",
       "    .dataframe tbody tr th {\n",
       "        vertical-align: top;\n",
       "    }\n",
       "\n",
       "    .dataframe thead th {\n",
       "        text-align: right;\n",
       "    }\n",
       "</style>\n",
       "<table border=\"1\" class=\"dataframe\">\n",
       "  <thead>\n",
       "    <tr style=\"text-align: right;\">\n",
       "      <th></th>\n",
       "      <th>ts</th>\n",
       "      <th>artist_name</th>\n",
       "      <th>count</th>\n",
       "      <th>songs</th>\n",
       "      <th>var</th>\n",
       "      <th>std</th>\n",
       "    </tr>\n",
       "  </thead>\n",
       "  <tbody>\n",
       "    <tr>\n",
       "      <th>63</th>\n",
       "      <td>2022</td>\n",
       "      <td>Confetti</td>\n",
       "      <td>134</td>\n",
       "      <td>2</td>\n",
       "      <td>8712.00</td>\n",
       "      <td>93.34</td>\n",
       "    </tr>\n",
       "    <tr>\n",
       "      <th>4</th>\n",
       "      <td>2016</td>\n",
       "      <td>Snoop Dogg</td>\n",
       "      <td>67</td>\n",
       "      <td>2</td>\n",
       "      <td>2112.50</td>\n",
       "      <td>45.96</td>\n",
       "    </tr>\n",
       "    <tr>\n",
       "      <th>66</th>\n",
       "      <td>2022</td>\n",
       "      <td>Aim Vision</td>\n",
       "      <td>113</td>\n",
       "      <td>4</td>\n",
       "      <td>1242.92</td>\n",
       "      <td>35.26</td>\n",
       "    </tr>\n",
       "    <tr>\n",
       "      <th>55</th>\n",
       "      <td>2021</td>\n",
       "      <td>All Time Low</td>\n",
       "      <td>221</td>\n",
       "      <td>5</td>\n",
       "      <td>1203.20</td>\n",
       "      <td>34.69</td>\n",
       "    </tr>\n",
       "    <tr>\n",
       "      <th>62</th>\n",
       "      <td>2022</td>\n",
       "      <td>YUNGBLUD</td>\n",
       "      <td>199</td>\n",
       "      <td>15</td>\n",
       "      <td>1171.92</td>\n",
       "      <td>34.23</td>\n",
       "    </tr>\n",
       "    <tr>\n",
       "      <th>23</th>\n",
       "      <td>2018</td>\n",
       "      <td>RAF Camora</td>\n",
       "      <td>335</td>\n",
       "      <td>8</td>\n",
       "      <td>841.84</td>\n",
       "      <td>29.01</td>\n",
       "    </tr>\n",
       "    <tr>\n",
       "      <th>20</th>\n",
       "      <td>2018</td>\n",
       "      <td>Trettmann</td>\n",
       "      <td>473</td>\n",
       "      <td>11</td>\n",
       "      <td>762.20</td>\n",
       "      <td>27.61</td>\n",
       "    </tr>\n",
       "    <tr>\n",
       "      <th>22</th>\n",
       "      <td>2018</td>\n",
       "      <td>Bukahara</td>\n",
       "      <td>421</td>\n",
       "      <td>20</td>\n",
       "      <td>604.26</td>\n",
       "      <td>24.58</td>\n",
       "    </tr>\n",
       "    <tr>\n",
       "      <th>30</th>\n",
       "      <td>2019</td>\n",
       "      <td>grandson</td>\n",
       "      <td>520</td>\n",
       "      <td>18</td>\n",
       "      <td>524.58</td>\n",
       "      <td>22.90</td>\n",
       "    </tr>\n",
       "    <tr>\n",
       "      <th>25</th>\n",
       "      <td>2018</td>\n",
       "      <td>Bonez MC</td>\n",
       "      <td>283</td>\n",
       "      <td>10</td>\n",
       "      <td>511.79</td>\n",
       "      <td>22.62</td>\n",
       "    </tr>\n",
       "    <tr>\n",
       "      <th>18</th>\n",
       "      <td>2017</td>\n",
       "      <td>Ed Sheeran</td>\n",
       "      <td>223</td>\n",
       "      <td>6</td>\n",
       "      <td>482.97</td>\n",
       "      <td>21.98</td>\n",
       "    </tr>\n",
       "    <tr>\n",
       "      <th>61</th>\n",
       "      <td>2022</td>\n",
       "      <td>Schmyt</td>\n",
       "      <td>204</td>\n",
       "      <td>7</td>\n",
       "      <td>363.81</td>\n",
       "      <td>19.07</td>\n",
       "    </tr>\n",
       "    <tr>\n",
       "      <th>26</th>\n",
       "      <td>2018</td>\n",
       "      <td>Gzuz</td>\n",
       "      <td>216</td>\n",
       "      <td>12</td>\n",
       "      <td>325.64</td>\n",
       "      <td>18.05</td>\n",
       "    </tr>\n",
       "    <tr>\n",
       "      <th>17</th>\n",
       "      <td>2017</td>\n",
       "      <td>Trettmann</td>\n",
       "      <td>232</td>\n",
       "      <td>11</td>\n",
       "      <td>263.09</td>\n",
       "      <td>16.22</td>\n",
       "    </tr>\n",
       "    <tr>\n",
       "      <th>67</th>\n",
       "      <td>2022</td>\n",
       "      <td>Labrinth</td>\n",
       "      <td>88</td>\n",
       "      <td>3</td>\n",
       "      <td>258.33</td>\n",
       "      <td>16.07</td>\n",
       "    </tr>\n",
       "    <tr>\n",
       "      <th>21</th>\n",
       "      <td>2018</td>\n",
       "      <td>Von Wegen Lisbeth</td>\n",
       "      <td>458</td>\n",
       "      <td>18</td>\n",
       "      <td>246.14</td>\n",
       "      <td>15.69</td>\n",
       "    </tr>\n",
       "    <tr>\n",
       "      <th>27</th>\n",
       "      <td>2018</td>\n",
       "      <td>Panic! At The Disco</td>\n",
       "      <td>150</td>\n",
       "      <td>18</td>\n",
       "      <td>217.65</td>\n",
       "      <td>14.75</td>\n",
       "    </tr>\n",
       "    <tr>\n",
       "      <th>10</th>\n",
       "      <td>2017</td>\n",
       "      <td>Alligatoah</td>\n",
       "      <td>894</td>\n",
       "      <td>34</td>\n",
       "      <td>200.40</td>\n",
       "      <td>14.16</td>\n",
       "    </tr>\n",
       "    <tr>\n",
       "      <th>12</th>\n",
       "      <td>2017</td>\n",
       "      <td>Panic! At The Disco</td>\n",
       "      <td>554</td>\n",
       "      <td>20</td>\n",
       "      <td>200.01</td>\n",
       "      <td>14.14</td>\n",
       "    </tr>\n",
       "    <tr>\n",
       "      <th>68</th>\n",
       "      <td>2022</td>\n",
       "      <td>youareslowlykillingme</td>\n",
       "      <td>82</td>\n",
       "      <td>2</td>\n",
       "      <td>200.00</td>\n",
       "      <td>14.14</td>\n",
       "    </tr>\n",
       "  </tbody>\n",
       "</table>\n",
       "</div>"
      ],
      "text/plain": [
       "      ts            artist_name  count  songs      var    std\n",
       "63  2022               Confetti    134      2  8712.00  93.34\n",
       "4   2016             Snoop Dogg     67      2  2112.50  45.96\n",
       "66  2022             Aim Vision    113      4  1242.92  35.26\n",
       "55  2021           All Time Low    221      5  1203.20  34.69\n",
       "62  2022               YUNGBLUD    199     15  1171.92  34.23\n",
       "23  2018             RAF Camora    335      8   841.84  29.01\n",
       "20  2018              Trettmann    473     11   762.20  27.61\n",
       "22  2018               Bukahara    421     20   604.26  24.58\n",
       "30  2019               grandson    520     18   524.58  22.90\n",
       "25  2018               Bonez MC    283     10   511.79  22.62\n",
       "18  2017             Ed Sheeran    223      6   482.97  21.98\n",
       "61  2022                 Schmyt    204      7   363.81  19.07\n",
       "26  2018                   Gzuz    216     12   325.64  18.05\n",
       "17  2017              Trettmann    232     11   263.09  16.22\n",
       "67  2022               Labrinth     88      3   258.33  16.07\n",
       "21  2018      Von Wegen Lisbeth    458     18   246.14  15.69\n",
       "27  2018    Panic! At The Disco    150     18   217.65  14.75\n",
       "10  2017             Alligatoah    894     34   200.40  14.16\n",
       "12  2017    Panic! At The Disco    554     20   200.01  14.14\n",
       "68  2022  youareslowlykillingme     82      2   200.00  14.14"
      ]
     },
     "execution_count": 32,
     "metadata": {},
     "output_type": "execute_result"
    }
   ],
   "source": [
    "top_n.sort_values(\"std\", ascending=False)[:20]"
   ]
  },
  {
   "cell_type": "markdown",
   "id": "e6053aad-1d09-4df6-a076-64910440298f",
   "metadata": {},
   "source": [
    "---\n",
    "## Artist stats"
   ]
  },
  {
   "cell_type": "code",
   "execution_count": 122,
   "id": "84484c76-75e9-4d4d-8d1e-d266d4428cb2",
   "metadata": {},
   "outputs": [
    {
     "data": {
      "text/html": [
       "<div>\n",
       "<style scoped>\n",
       "    .dataframe tbody tr th:only-of-type {\n",
       "        vertical-align: middle;\n",
       "    }\n",
       "\n",
       "    .dataframe tbody tr th {\n",
       "        vertical-align: top;\n",
       "    }\n",
       "\n",
       "    .dataframe thead th {\n",
       "        text-align: right;\n",
       "    }\n",
       "</style>\n",
       "<table border=\"1\" class=\"dataframe\">\n",
       "  <thead>\n",
       "    <tr style=\"text-align: right;\">\n",
       "      <th></th>\n",
       "      <th>artist_name</th>\n",
       "      <th>plays</th>\n",
       "      <th>songs</th>\n",
       "      <th>var</th>\n",
       "      <th>std</th>\n",
       "    </tr>\n",
       "  </thead>\n",
       "  <tbody>\n",
       "    <tr>\n",
       "      <th>0</th>\n",
       "      <td>Alligatoah</td>\n",
       "      <td>2109</td>\n",
       "      <td>118</td>\n",
       "      <td>446.966609</td>\n",
       "      <td>21.141585</td>\n",
       "    </tr>\n",
       "    <tr>\n",
       "      <th>1</th>\n",
       "      <td>Bukahara</td>\n",
       "      <td>1454</td>\n",
       "      <td>59</td>\n",
       "      <td>810.233197</td>\n",
       "      <td>28.464595</td>\n",
       "    </tr>\n",
       "    <tr>\n",
       "      <th>2</th>\n",
       "      <td>Trailerpark</td>\n",
       "      <td>1326</td>\n",
       "      <td>35</td>\n",
       "      <td>379.751261</td>\n",
       "      <td>19.487208</td>\n",
       "    </tr>\n",
       "  </tbody>\n",
       "</table>\n",
       "</div>"
      ],
      "text/plain": [
       "   artist_name  plays  songs         var        std\n",
       "0   Alligatoah   2109    118  446.966609  21.141585\n",
       "1     Bukahara   1454     59  810.233197  28.464595\n",
       "2  Trailerpark   1326     35  379.751261  19.487208"
      ]
     },
     "execution_count": 122,
     "metadata": {},
     "output_type": "execute_result"
    }
   ],
   "source": [
    "df_art = df_artist[\"artist_name\"].value_counts().to_frame().reset_index().rename(columns={\"count\":\"plays\"})\n",
    "df_art[\"songs\"] = np.zeros(len(df_art)).astype(int)\n",
    "df_art[\"var\"] = np.zeros(len(df_art))\n",
    "df_art[\"std\"] = np.zeros(len(df_art))\n",
    "for i, row in df_art.iterrows():\n",
    "    data = df_artist.loc[df_artist[\"artist_name\"] == row[\"artist_name\"]]\n",
    "    individual_tracks = data[\"track_name\"].value_counts()\n",
    "    df_art.at[i, \"songs\"] = len(individual_tracks)\n",
    "    df_art.at[i, \"var\"] = individual_tracks.var()\n",
    "    df_art.at[i, \"std\"] = individual_tracks.std()\n",
    "df_art.to_csv(\"df_art.csv\")\n",
    "df_art.head(3)"
   ]
  },
  {
   "cell_type": "markdown",
   "id": "426b0df2-e4a2-434e-94b6-57b641565b20",
   "metadata": {},
   "source": [
    "---\n",
    "#Ideas\n",
    "- 💡 for every year, number of songs played for that amount\n",
    "- top song percentage\n",
    "- genre breaks\n",
    "- play peaks / lows\n",
    "- top genres\n",
    "- genre percentage\n",
    "- interpret percentage\n",
    "- top interpretes\n",
    "- mean playtime @(month/day/hour)\n",
    "- skipped\n",
    "    - time\n",
    "    - percentage\n",
    "    - heared again?\n",
    "    - skipped early/late -> heared again?\n",
    "    - main genre? -> skipped?\n",
    "- session recognition?\n",
    "- song cluster"
   ]
  },
  {
   "cell_type": "code",
   "execution_count": null,
   "id": "1846cd96-32d0-4574-aae2-d95885ac5dc4",
   "metadata": {
    "collapsed": true,
    "jupyter": {
     "outputs_hidden": true
    }
   },
   "outputs": [],
   "source": []
  },
  {
   "cell_type": "code",
   "execution_count": null,
   "id": "98132ae4-9f3f-4ee1-97b3-0ad8d1265d6a",
   "metadata": {
    "collapsed": true,
    "jupyter": {
     "outputs_hidden": true
    }
   },
   "outputs": [],
   "source": []
  }
 ],
 "metadata": {
  "kernelspec": {
   "display_name": "Python 3 (ipykernel)",
   "language": "python",
   "name": "python3"
  },
  "language_info": {
   "codemirror_mode": {
    "name": "ipython",
    "version": 3
   },
   "file_extension": ".py",
   "mimetype": "text/x-python",
   "name": "python",
   "nbconvert_exporter": "python",
   "pygments_lexer": "ipython3",
   "version": "3.11.2"
  },
  "toc-autonumbering": true,
  "toc-showmarkdowntxt": false
 },
 "nbformat": 4,
 "nbformat_minor": 5
}
